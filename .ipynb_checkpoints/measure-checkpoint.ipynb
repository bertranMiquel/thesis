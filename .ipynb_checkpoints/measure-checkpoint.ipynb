{
 "cells": [
  {
   "cell_type": "code",
   "execution_count": 3,
   "metadata": {},
   "outputs": [],
   "source": [
    "import pandas as pd\n",
    "import glob\n",
    "import numpy as np"
   ]
  },
  {
   "cell_type": "code",
   "execution_count": 37,
   "metadata": {},
   "outputs": [],
   "source": [
    "def read_k_mers(path):\n",
    "    list_of_names = glob.glob(path + '/*.csv')\n",
    "    k_mers = pd.DataFrame()\n",
    "\n",
    "    for i in range(len(list_of_names)):\n",
    "        print(list_of_names[i])\n",
    "        k = list_of_names[i][list_of_names[i].find(\"\\\\\")+1 : list_of_names[i].find(\"_mers.csv\")]\n",
    "\n",
    "        temp_df = pd.DataFrame()\n",
    "        temp_df = pd.read_csv(list_of_names[i]).rename(columns={str(k) + '_mers':'k_mers'})\n",
    "        temp_df['k'] = int(k)\n",
    "\n",
    "        k_mers = pd.concat([k_mers, temp_df])\n",
    "\n",
    "    return k_mers\n",
    "\n",
    "def count_species(specie1, specie2, k_mers):\n",
    "    species = [specie1, specie2]\n",
    "\n",
    "    k_mers = k_mers[k_mers['Specie_Scaffold'].str.contains('|'.join(species), case=False)]\n",
    "    \n",
    "    both = (k_mers['Specie_Scaffold'].str.contains(species[0], case=False)) & (k_mers['Specie_Scaffold'].str.contains(species[1], case=False))\n",
    "    \n",
    "    if not k_mers[both].empty == True:\n",
    "\n",
    "        k_mers.loc[both == False, 'Dim'] = 'One'\n",
    "        k_mers.loc[both == True, 'Dim'] = 'Both'\n",
    "        \n",
    "        k_mers = (k_mers.groupby(['k', 'Dim'], as_index=False)['Scaffolds']\n",
    "                    .count()\n",
    "                    .pivot(index='k', columns='Dim', values='Scaffolds')\n",
    "                    .reset_index())   \n",
    "        \n",
    "        k_mers['ratio'] = (1 - (k_mers['Both'] / (k_mers['Both'] + k_mers['One']) ) ) * (1 - (1/(k_mers['k']**2))) \n",
    "\n",
    "        return 1 - np.nanprod(np.array(k_mers['ratio']))\n",
    "    else: return 0\n"
   ]
  },
  {
   "cell_type": "code",
   "execution_count": 5,
   "metadata": {},
   "outputs": [
    {
     "name": "stdout",
     "output_type": "stream",
     "text": [
      "../Data/Intermediate/k_mers/Scaffold/15_mers\\10_mers.csv\n",
      "../Data/Intermediate/k_mers/Scaffold/15_mers\\11_mers.csv\n",
      "../Data/Intermediate/k_mers/Scaffold/15_mers\\12_mers.csv\n",
      "../Data/Intermediate/k_mers/Scaffold/15_mers\\13_mers.csv\n",
      "../Data/Intermediate/k_mers/Scaffold/15_mers\\14_mers.csv\n",
      "../Data/Intermediate/k_mers/Scaffold/15_mers\\15_mers.csv\n",
      "../Data/Intermediate/k_mers/Scaffold/15_mers\\16_mers.csv\n",
      "../Data/Intermediate/k_mers/Scaffold/15_mers\\17_mers.csv\n",
      "../Data/Intermediate/k_mers/Scaffold/15_mers\\18_mers.csv\n",
      "../Data/Intermediate/k_mers/Scaffold/15_mers\\19_mers.csv\n",
      "../Data/Intermediate/k_mers/Scaffold/15_mers\\20_mers.csv\n",
      "../Data/Intermediate/k_mers/Scaffold/15_mers\\21_mers.csv\n",
      "../Data/Intermediate/k_mers/Scaffold/15_mers\\22_mers.csv\n",
      "../Data/Intermediate/k_mers/Scaffold/15_mers\\23_mers.csv\n",
      "../Data/Intermediate/k_mers/Scaffold/15_mers\\24_mers.csv\n",
      "../Data/Intermediate/k_mers/Scaffold/15_mers\\25_mers.csv\n",
      "../Data/Intermediate/k_mers/Scaffold/15_mers\\3_mers.csv\n",
      "../Data/Intermediate/k_mers/Scaffold/15_mers\\4_mers.csv\n",
      "../Data/Intermediate/k_mers/Scaffold/15_mers\\5_mers.csv\n",
      "../Data/Intermediate/k_mers/Scaffold/15_mers\\6_mers.csv\n",
      "../Data/Intermediate/k_mers/Scaffold/15_mers\\7_mers.csv\n",
      "../Data/Intermediate/k_mers/Scaffold/15_mers\\8_mers.csv\n",
      "../Data/Intermediate/k_mers/Scaffold/15_mers\\9_mers.csv\n"
     ]
    }
   ],
   "source": [
    "k_mers = read_k_mers('../Data/Intermediate/k_mers/Scaffold/15_mers')"
   ]
  },
  {
   "cell_type": "markdown",
   "metadata": {},
   "source": [
    "Get the species"
   ]
  },
  {
   "cell_type": "code",
   "execution_count": 6,
   "metadata": {},
   "outputs": [],
   "source": [
    "filepath = '../Data/Raw/Tables_Filtered_IK_format.xlsx'\n",
    "\n",
    "# Load Excel file using Pandas with `sheet_name=None`\n",
    "df_dict = pd.read_excel(filepath, sheet_name=None)"
   ]
  },
  {
   "cell_type": "code",
   "execution_count": 7,
   "metadata": {},
   "outputs": [],
   "source": [
    "# Data cleaning for each specie\n",
    "df_species = pd.DataFrame()\n",
    "\n",
    "species = df_dict.keys()\n",
    "\n",
    "for s in species:\n",
    "    aux = df_dict.get(s)\n",
    "    aux['Specie'] = s\n",
    "    df_species = pd.concat([df_species, aux])"
   ]
  },
  {
   "cell_type": "code",
   "execution_count": 55,
   "metadata": {},
   "outputs": [
    {
     "data": {
      "text/plain": [
       "['Aadvark',\n",
       " 'Alligator M',\n",
       " 'Alligator S',\n",
       " 'Anolis',\n",
       " 'Chelonia',\n",
       " 'Chrysemys',\n",
       " 'Croco',\n",
       " 'Danio',\n",
       " 'Devil',\n",
       " 'Dog',\n",
       " 'Fugu',\n",
       " 'Gecko',\n",
       " 'Gorilla',\n",
       " 'Human',\n",
       " 'KCobra',\n",
       " 'Koala',\n",
       " 'Monodelphis',\n",
       " 'Mouse',\n",
       " 'Orca',\n",
       " 'Ostrich',\n",
       " 'Papio',\n",
       " 'Pelodiscus',\n",
       " 'Pigeon',\n",
       " 'Platypus',\n",
       " 'Pogona',\n",
       " 'Python',\n",
       " 'Thamnophis',\n",
       " 'Xenopus',\n",
       " 'Xlaevis',\n",
       " 'Xtropicalis']"
      ]
     },
     "execution_count": 55,
     "metadata": {},
     "output_type": "execute_result"
    }
   ],
   "source": [
    "species = sorted(df_species['Specie'].unique())\n",
    "species"
   ]
  },
  {
   "cell_type": "code",
   "execution_count": 58,
   "metadata": {},
   "outputs": [
    {
     "name": "stdout",
     "output_type": "stream",
     "text": [
      "{'Specie1': 'Aadvark', 'Specie2': 'Alligator M', 'Ratio': 0.6541319557554488}\n",
      "{'Specie1': 'Aadvark', 'Specie2': 'Alligator S', 'Ratio': 0.6526252277568851}\n",
      "{'Specie1': 'Aadvark', 'Specie2': 'Anolis', 'Ratio': 0.6085354590779724}\n",
      "{'Specie1': 'Aadvark', 'Specie2': 'Chelonia', 'Ratio': 0.7282318929316582}\n",
      "{'Specie1': 'Aadvark', 'Specie2': 'Chrysemys', 'Ratio': 0.7609131249985307}\n",
      "{'Specie1': 'Aadvark', 'Specie2': 'Croco', 'Ratio': 0.6601124353429406}\n",
      "{'Specie1': 'Aadvark', 'Specie2': 'Danio', 'Ratio': 0.3040625298067393}\n"
     ]
    },
    {
     "ename": "KeyboardInterrupt",
     "evalue": "",
     "output_type": "error",
     "traceback": [
      "\u001b[1;31m---------------------------------------------------------------------------\u001b[0m",
      "\u001b[1;31mKeyboardInterrupt\u001b[0m                         Traceback (most recent call last)",
      "Cell \u001b[1;32mIn[58], line 11\u001b[0m\n\u001b[0;32m      5\u001b[0m \u001b[38;5;28;01mfor\u001b[39;00m index_sp2 \u001b[38;5;129;01min\u001b[39;00m \u001b[38;5;28mrange\u001b[39m(index_sp1\u001b[38;5;241m+\u001b[39m\u001b[38;5;241m1\u001b[39m, \u001b[38;5;28mlen\u001b[39m(species)):\n\u001b[0;32m      6\u001b[0m     sp2 \u001b[38;5;241m=\u001b[39m species[index_sp2]\n\u001b[0;32m      8\u001b[0m     current \u001b[38;5;241m=\u001b[39m { \n\u001b[0;32m      9\u001b[0m                 \u001b[38;5;124m'\u001b[39m\u001b[38;5;124mSpecie1\u001b[39m\u001b[38;5;124m'\u001b[39m: sp1,\n\u001b[0;32m     10\u001b[0m                 \u001b[38;5;124m'\u001b[39m\u001b[38;5;124mSpecie2\u001b[39m\u001b[38;5;124m'\u001b[39m: sp2,\n\u001b[1;32m---> 11\u001b[0m                 \u001b[38;5;124m'\u001b[39m\u001b[38;5;124mRatio\u001b[39m\u001b[38;5;124m'\u001b[39m: \u001b[43mcount_species\u001b[49m\u001b[43m(\u001b[49m\u001b[43msp1\u001b[49m\u001b[43m,\u001b[49m\u001b[43m \u001b[49m\u001b[43msp2\u001b[49m\u001b[43m,\u001b[49m\u001b[43m \u001b[49m\u001b[43mk_mers\u001b[49m\u001b[43m)\u001b[49m\n\u001b[0;32m     12\u001b[0m             }\n\u001b[0;32m     13\u001b[0m     \u001b[38;5;28mprint\u001b[39m(current)\n\u001b[0;32m     15\u001b[0m     metric\u001b[38;5;241m.\u001b[39mappend(current)\n",
      "Cell \u001b[1;32mIn[37], line 20\u001b[0m, in \u001b[0;36mcount_species\u001b[1;34m(specie1, specie2, k_mers)\u001b[0m\n\u001b[0;32m     17\u001b[0m \u001b[38;5;28;01mdef\u001b[39;00m \u001b[38;5;21mcount_species\u001b[39m(specie1, specie2, k_mers):\n\u001b[0;32m     18\u001b[0m     species \u001b[38;5;241m=\u001b[39m [specie1, specie2]\n\u001b[1;32m---> 20\u001b[0m     k_mers \u001b[38;5;241m=\u001b[39m k_mers[\u001b[43mk_mers\u001b[49m\u001b[43m[\u001b[49m\u001b[38;5;124;43m'\u001b[39;49m\u001b[38;5;124;43mSpecie_Scaffold\u001b[39;49m\u001b[38;5;124;43m'\u001b[39;49m\u001b[43m]\u001b[49m\u001b[38;5;241;43m.\u001b[39;49m\u001b[43mstr\u001b[49m\u001b[38;5;241;43m.\u001b[39;49m\u001b[43mcontains\u001b[49m\u001b[43m(\u001b[49m\u001b[38;5;124;43m'\u001b[39;49m\u001b[38;5;124;43m|\u001b[39;49m\u001b[38;5;124;43m'\u001b[39;49m\u001b[38;5;241;43m.\u001b[39;49m\u001b[43mjoin\u001b[49m\u001b[43m(\u001b[49m\u001b[43mspecies\u001b[49m\u001b[43m)\u001b[49m\u001b[43m,\u001b[49m\u001b[43m \u001b[49m\u001b[43mcase\u001b[49m\u001b[38;5;241;43m=\u001b[39;49m\u001b[38;5;28;43;01mFalse\u001b[39;49;00m\u001b[43m)\u001b[49m]\n\u001b[0;32m     22\u001b[0m     both \u001b[38;5;241m=\u001b[39m (k_mers[\u001b[38;5;124m'\u001b[39m\u001b[38;5;124mSpecie_Scaffold\u001b[39m\u001b[38;5;124m'\u001b[39m]\u001b[38;5;241m.\u001b[39mstr\u001b[38;5;241m.\u001b[39mcontains(species[\u001b[38;5;241m0\u001b[39m], case\u001b[38;5;241m=\u001b[39m\u001b[38;5;28;01mFalse\u001b[39;00m)) \u001b[38;5;241m&\u001b[39m (k_mers[\u001b[38;5;124m'\u001b[39m\u001b[38;5;124mSpecie_Scaffold\u001b[39m\u001b[38;5;124m'\u001b[39m]\u001b[38;5;241m.\u001b[39mstr\u001b[38;5;241m.\u001b[39mcontains(species[\u001b[38;5;241m1\u001b[39m], case\u001b[38;5;241m=\u001b[39m\u001b[38;5;28;01mFalse\u001b[39;00m))\n\u001b[0;32m     24\u001b[0m     \u001b[38;5;28;01mif\u001b[39;00m \u001b[38;5;129;01mnot\u001b[39;00m k_mers[both]\u001b[38;5;241m.\u001b[39mempty \u001b[38;5;241m==\u001b[39m \u001b[38;5;28;01mTrue\u001b[39;00m:\n",
      "File \u001b[1;32m~\\anaconda3\\envs\\thesis\\lib\\site-packages\\pandas\\core\\strings\\accessor.py:125\u001b[0m, in \u001b[0;36mforbid_nonstring_types.<locals>._forbid_nonstring_types.<locals>.wrapper\u001b[1;34m(self, *args, **kwargs)\u001b[0m\n\u001b[0;32m    120\u001b[0m     msg \u001b[38;5;241m=\u001b[39m (\n\u001b[0;32m    121\u001b[0m         \u001b[38;5;124mf\u001b[39m\u001b[38;5;124m\"\u001b[39m\u001b[38;5;124mCannot use .str.\u001b[39m\u001b[38;5;132;01m{\u001b[39;00mfunc_name\u001b[38;5;132;01m}\u001b[39;00m\u001b[38;5;124m with values of \u001b[39m\u001b[38;5;124m\"\u001b[39m\n\u001b[0;32m    122\u001b[0m         \u001b[38;5;124mf\u001b[39m\u001b[38;5;124m\"\u001b[39m\u001b[38;5;124minferred dtype \u001b[39m\u001b[38;5;124m'\u001b[39m\u001b[38;5;132;01m{\u001b[39;00m\u001b[38;5;28mself\u001b[39m\u001b[38;5;241m.\u001b[39m_inferred_dtype\u001b[38;5;132;01m}\u001b[39;00m\u001b[38;5;124m'\u001b[39m\u001b[38;5;124m.\u001b[39m\u001b[38;5;124m\"\u001b[39m\n\u001b[0;32m    123\u001b[0m     )\n\u001b[0;32m    124\u001b[0m     \u001b[38;5;28;01mraise\u001b[39;00m \u001b[38;5;167;01mTypeError\u001b[39;00m(msg)\n\u001b[1;32m--> 125\u001b[0m \u001b[38;5;28;01mreturn\u001b[39;00m func(\u001b[38;5;28mself\u001b[39m, \u001b[38;5;241m*\u001b[39margs, \u001b[38;5;241m*\u001b[39m\u001b[38;5;241m*\u001b[39mkwargs)\n",
      "File \u001b[1;32m~\\anaconda3\\envs\\thesis\\lib\\site-packages\\pandas\\core\\strings\\accessor.py:1222\u001b[0m, in \u001b[0;36mStringMethods.contains\u001b[1;34m(self, pat, case, flags, na, regex)\u001b[0m\n\u001b[0;32m   1214\u001b[0m \u001b[38;5;28;01mif\u001b[39;00m regex \u001b[38;5;129;01mand\u001b[39;00m re\u001b[38;5;241m.\u001b[39mcompile(pat)\u001b[38;5;241m.\u001b[39mgroups:\n\u001b[0;32m   1215\u001b[0m     warnings\u001b[38;5;241m.\u001b[39mwarn(\n\u001b[0;32m   1216\u001b[0m         \u001b[38;5;124m\"\u001b[39m\u001b[38;5;124mThis pattern is interpreted as a regular expression, and has \u001b[39m\u001b[38;5;124m\"\u001b[39m\n\u001b[0;32m   1217\u001b[0m         \u001b[38;5;124m\"\u001b[39m\u001b[38;5;124mmatch groups. To actually get the groups, use str.extract.\u001b[39m\u001b[38;5;124m\"\u001b[39m,\n\u001b[0;32m   1218\u001b[0m         \u001b[38;5;167;01mUserWarning\u001b[39;00m,\n\u001b[0;32m   1219\u001b[0m         stacklevel\u001b[38;5;241m=\u001b[39mfind_stack_level(),\n\u001b[0;32m   1220\u001b[0m     )\n\u001b[1;32m-> 1222\u001b[0m result \u001b[38;5;241m=\u001b[39m \u001b[38;5;28;43mself\u001b[39;49m\u001b[38;5;241;43m.\u001b[39;49m\u001b[43m_data\u001b[49m\u001b[38;5;241;43m.\u001b[39;49m\u001b[43marray\u001b[49m\u001b[38;5;241;43m.\u001b[39;49m\u001b[43m_str_contains\u001b[49m\u001b[43m(\u001b[49m\u001b[43mpat\u001b[49m\u001b[43m,\u001b[49m\u001b[43m \u001b[49m\u001b[43mcase\u001b[49m\u001b[43m,\u001b[49m\u001b[43m \u001b[49m\u001b[43mflags\u001b[49m\u001b[43m,\u001b[49m\u001b[43m \u001b[49m\u001b[43mna\u001b[49m\u001b[43m,\u001b[49m\u001b[43m \u001b[49m\u001b[43mregex\u001b[49m\u001b[43m)\u001b[49m\n\u001b[0;32m   1223\u001b[0m \u001b[38;5;28;01mreturn\u001b[39;00m \u001b[38;5;28mself\u001b[39m\u001b[38;5;241m.\u001b[39m_wrap_result(result, fill_value\u001b[38;5;241m=\u001b[39mna, returns_string\u001b[38;5;241m=\u001b[39m\u001b[38;5;28;01mFalse\u001b[39;00m)\n",
      "File \u001b[1;32m~\\anaconda3\\envs\\thesis\\lib\\site-packages\\pandas\\core\\strings\\object_array.py:131\u001b[0m, in \u001b[0;36mObjectStringArrayMixin._str_contains\u001b[1;34m(self, pat, case, flags, na, regex)\u001b[0m\n\u001b[0;32m    129\u001b[0m         upper_pat \u001b[38;5;241m=\u001b[39m pat\u001b[38;5;241m.\u001b[39mupper()\n\u001b[0;32m    130\u001b[0m         f \u001b[38;5;241m=\u001b[39m \u001b[38;5;28;01mlambda\u001b[39;00m x: upper_pat \u001b[38;5;129;01min\u001b[39;00m x\u001b[38;5;241m.\u001b[39mupper()\n\u001b[1;32m--> 131\u001b[0m \u001b[38;5;28;01mreturn\u001b[39;00m \u001b[38;5;28;43mself\u001b[39;49m\u001b[38;5;241;43m.\u001b[39;49m\u001b[43m_str_map\u001b[49m\u001b[43m(\u001b[49m\u001b[43mf\u001b[49m\u001b[43m,\u001b[49m\u001b[43m \u001b[49m\u001b[43mna\u001b[49m\u001b[43m,\u001b[49m\u001b[43m \u001b[49m\u001b[43mdtype\u001b[49m\u001b[38;5;241;43m=\u001b[39;49m\u001b[43mnp\u001b[49m\u001b[38;5;241;43m.\u001b[39;49m\u001b[43mdtype\u001b[49m\u001b[43m(\u001b[49m\u001b[38;5;124;43m\"\u001b[39;49m\u001b[38;5;124;43mbool\u001b[39;49m\u001b[38;5;124;43m\"\u001b[39;49m\u001b[43m)\u001b[49m\u001b[43m)\u001b[49m\n",
      "File \u001b[1;32m~\\anaconda3\\envs\\thesis\\lib\\site-packages\\pandas\\core\\strings\\object_array.py:71\u001b[0m, in \u001b[0;36mObjectStringArrayMixin._str_map\u001b[1;34m(self, f, na_value, dtype, convert)\u001b[0m\n\u001b[0;32m     69\u001b[0m map_convert \u001b[38;5;241m=\u001b[39m convert \u001b[38;5;129;01mand\u001b[39;00m \u001b[38;5;129;01mnot\u001b[39;00m np\u001b[38;5;241m.\u001b[39mall(mask)\n\u001b[0;32m     70\u001b[0m \u001b[38;5;28;01mtry\u001b[39;00m:\n\u001b[1;32m---> 71\u001b[0m     result \u001b[38;5;241m=\u001b[39m \u001b[43mlib\u001b[49m\u001b[38;5;241;43m.\u001b[39;49m\u001b[43mmap_infer_mask\u001b[49m\u001b[43m(\u001b[49m\u001b[43marr\u001b[49m\u001b[43m,\u001b[49m\u001b[43m \u001b[49m\u001b[43mf\u001b[49m\u001b[43m,\u001b[49m\u001b[43m \u001b[49m\u001b[43mmask\u001b[49m\u001b[38;5;241;43m.\u001b[39;49m\u001b[43mview\u001b[49m\u001b[43m(\u001b[49m\u001b[43mnp\u001b[49m\u001b[38;5;241;43m.\u001b[39;49m\u001b[43muint8\u001b[49m\u001b[43m)\u001b[49m\u001b[43m,\u001b[49m\u001b[43m \u001b[49m\u001b[43mmap_convert\u001b[49m\u001b[43m)\u001b[49m\n\u001b[0;32m     72\u001b[0m \u001b[38;5;28;01mexcept\u001b[39;00m (\u001b[38;5;167;01mTypeError\u001b[39;00m, \u001b[38;5;167;01mAttributeError\u001b[39;00m) \u001b[38;5;28;01mas\u001b[39;00m err:\n\u001b[0;32m     73\u001b[0m     \u001b[38;5;66;03m# Reraise the exception if callable `f` got wrong number of args.\u001b[39;00m\n\u001b[0;32m     74\u001b[0m     \u001b[38;5;66;03m# The user may want to be warned by this, instead of getting NaN\u001b[39;00m\n\u001b[0;32m     75\u001b[0m     p_err \u001b[38;5;241m=\u001b[39m (\n\u001b[0;32m     76\u001b[0m         \u001b[38;5;124mr\u001b[39m\u001b[38;5;124m\"\u001b[39m\u001b[38;5;124m((takes)|(missing)) (?(2)from \u001b[39m\u001b[38;5;124m\\\u001b[39m\u001b[38;5;124md+ to )?\u001b[39m\u001b[38;5;124m\\\u001b[39m\u001b[38;5;124md+ \u001b[39m\u001b[38;5;124m\"\u001b[39m\n\u001b[0;32m     77\u001b[0m         \u001b[38;5;124mr\u001b[39m\u001b[38;5;124m\"\u001b[39m\u001b[38;5;124m(?(3)required )positional arguments?\u001b[39m\u001b[38;5;124m\"\u001b[39m\n\u001b[0;32m     78\u001b[0m     )\n",
      "File \u001b[1;32m~\\anaconda3\\envs\\thesis\\lib\\site-packages\\pandas\\_libs\\lib.pyx:2822\u001b[0m, in \u001b[0;36mpandas._libs.lib.map_infer_mask\u001b[1;34m()\u001b[0m\n",
      "File \u001b[1;32m~\\anaconda3\\envs\\thesis\\lib\\site-packages\\pandas\\core\\strings\\object_array.py:124\u001b[0m, in \u001b[0;36mObjectStringArrayMixin._str_contains.<locals>.<lambda>\u001b[1;34m(x)\u001b[0m\n\u001b[0;32m    120\u001b[0m         flags \u001b[38;5;241m|\u001b[39m\u001b[38;5;241m=\u001b[39m re\u001b[38;5;241m.\u001b[39mIGNORECASE\n\u001b[0;32m    122\u001b[0m     pat \u001b[38;5;241m=\u001b[39m re\u001b[38;5;241m.\u001b[39mcompile(pat, flags\u001b[38;5;241m=\u001b[39mflags)\n\u001b[1;32m--> 124\u001b[0m     f \u001b[38;5;241m=\u001b[39m \u001b[38;5;28;01mlambda\u001b[39;00m x: pat\u001b[38;5;241m.\u001b[39msearch(x) \u001b[38;5;129;01mis\u001b[39;00m \u001b[38;5;129;01mnot\u001b[39;00m \u001b[38;5;28;01mNone\u001b[39;00m\n\u001b[0;32m    125\u001b[0m \u001b[38;5;28;01melse\u001b[39;00m:\n\u001b[0;32m    126\u001b[0m     \u001b[38;5;28;01mif\u001b[39;00m case:\n",
      "\u001b[1;31mKeyboardInterrupt\u001b[0m: "
     ]
    }
   ],
   "source": [
    "metric = []\n",
    "\n",
    "for index_sp1 in range(len(species)-1):\n",
    "    sp1 = species[index_sp1]\n",
    "    for index_sp2 in range(index_sp1+1, len(species)):\n",
    "        sp2 = species[index_sp2]\n",
    "\n",
    "        current = { \n",
    "                    'Specie1': sp1,\n",
    "                    'Specie2': sp2,\n",
    "                    'Ratio': count_species(sp1, sp2, k_mers)\n",
    "                }\n",
    "        print(current)\n",
    "        \n",
    "        metric.append(current)\n",
    "metric = pd.DataFrame(metric)\n",
    "\n",
    "# Mirar Danio"
   ]
  },
  {
   "cell_type": "code",
   "execution_count": 57,
   "metadata": {},
   "outputs": [],
   "source": [
    "(metric.pivot(index='Specie1', columns='Specie2', values='Ratio')\n",
    "         .to_excel('../Data/Results/metric.xlsx', sheet_name='k^2'))"
   ]
  },
  {
   "cell_type": "code",
   "execution_count": 80,
   "metadata": {},
   "outputs": [
    {
     "data": {
      "text/plain": [
       "0          \n",
       "1          \n",
       "2          \n",
       "3          \n",
       "4          \n",
       "         ..\n",
       "187638     \n",
       "187639     \n",
       "187640     \n",
       "187641     \n",
       "187642     \n",
       "Name: Dim, Length: 4335939, dtype: object"
      ]
     },
     "execution_count": 80,
     "metadata": {},
     "output_type": "execute_result"
    }
   ],
   "source": [
    "k_mers['Dim']"
   ]
  },
  {
   "cell_type": "code",
   "execution_count": 84,
   "metadata": {},
   "outputs": [
    {
     "ename": "AttributeError",
     "evalue": "'DataFrame' object has no attribute 'Iloc'",
     "output_type": "error",
     "traceback": [
      "\u001b[1;31m---------------------------------------------------------------------------\u001b[0m",
      "\u001b[1;31mAttributeError\u001b[0m                            Traceback (most recent call last)",
      "Cell \u001b[1;32mIn[84], line 2\u001b[0m\n\u001b[0;32m      1\u001b[0m \u001b[39mfor\u001b[39;00m each \u001b[39min\u001b[39;00m (k_mers[\u001b[39m'\u001b[39m\u001b[39mSpecie_Scaffold\u001b[39m\u001b[39m'\u001b[39m]\u001b[39m.\u001b[39mstr\u001b[39m.\u001b[39mcontains(species[\u001b[39m0\u001b[39m], case\u001b[39m=\u001b[39m\u001b[39mFalse\u001b[39;00m)) \u001b[39m&\u001b[39m (k_mers[\u001b[39m'\u001b[39m\u001b[39mSpecie_Scaffold\u001b[39m\u001b[39m'\u001b[39m]\u001b[39m.\u001b[39mstr\u001b[39m.\u001b[39mcontains(species[\u001b[39m1\u001b[39m], case\u001b[39m=\u001b[39m\u001b[39mFalse\u001b[39;00m)) \u001b[39m==\u001b[39m \u001b[39mTrue\u001b[39;00m :\n\u001b[1;32m----> 2\u001b[0m     k_mers\u001b[39m.\u001b[39;49mIloc[\u001b[39m7\u001b[39m, each] \u001b[39m=\u001b[39m \u001b[39m'\u001b[39m\u001b[39mBoth\u001b[39m\u001b[39m'\u001b[39m\n",
      "File \u001b[1;32mc:\\Users\\bertr\\anaconda3\\envs\\thesis\\lib\\site-packages\\pandas\\core\\generic.py:5575\u001b[0m, in \u001b[0;36mNDFrame.__getattr__\u001b[1;34m(self, name)\u001b[0m\n\u001b[0;32m   5568\u001b[0m \u001b[39mif\u001b[39;00m (\n\u001b[0;32m   5569\u001b[0m     name \u001b[39mnot\u001b[39;00m \u001b[39min\u001b[39;00m \u001b[39mself\u001b[39m\u001b[39m.\u001b[39m_internal_names_set\n\u001b[0;32m   5570\u001b[0m     \u001b[39mand\u001b[39;00m name \u001b[39mnot\u001b[39;00m \u001b[39min\u001b[39;00m \u001b[39mself\u001b[39m\u001b[39m.\u001b[39m_metadata\n\u001b[0;32m   5571\u001b[0m     \u001b[39mand\u001b[39;00m name \u001b[39mnot\u001b[39;00m \u001b[39min\u001b[39;00m \u001b[39mself\u001b[39m\u001b[39m.\u001b[39m_accessors\n\u001b[0;32m   5572\u001b[0m     \u001b[39mand\u001b[39;00m \u001b[39mself\u001b[39m\u001b[39m.\u001b[39m_info_axis\u001b[39m.\u001b[39m_can_hold_identifiers_and_holds_name(name)\n\u001b[0;32m   5573\u001b[0m ):\n\u001b[0;32m   5574\u001b[0m     \u001b[39mreturn\u001b[39;00m \u001b[39mself\u001b[39m[name]\n\u001b[1;32m-> 5575\u001b[0m \u001b[39mreturn\u001b[39;00m \u001b[39mobject\u001b[39;49m\u001b[39m.\u001b[39;49m\u001b[39m__getattribute__\u001b[39;49m(\u001b[39mself\u001b[39;49m, name)\n",
      "\u001b[1;31mAttributeError\u001b[0m: 'DataFrame' object has no attribute 'Iloc'"
     ]
    }
   ],
   "source": [
    "for each in (k_mers['Specie_Scaffold'].str.contains(species[0], case=False)) & (k_mers['Specie_Scaffold'].str.contains(species[1], case=False)) == True :\n",
    "    k_mers.Iloc[7, each] = 'Both'\n"
   ]
  },
  {
   "cell_type": "code",
   "execution_count": 27,
   "metadata": {},
   "outputs": [
    {
     "name": "stdout",
     "output_type": "stream",
     "text": [
      "<class 'pandas.core.frame.DataFrame'>\n",
      "RangeIndex: 23 entries, 0 to 22\n",
      "Data columns (total 3 columns):\n",
      " #   Column  Non-Null Count  Dtype  \n",
      "---  ------  --------------  -----  \n",
      " 0   k       23 non-null     int64  \n",
      " 1   Both    4 non-null      float64\n",
      " 2   One     23 non-null     float64\n",
      "dtypes: float64(2), int64(1)\n",
      "memory usage: 680.0 bytes\n"
     ]
    }
   ],
   "source": [
    "k_mers.info()"
   ]
  },
  {
   "cell_type": "code",
   "execution_count": 66,
   "metadata": {},
   "outputs": [
    {
     "name": "stderr",
     "output_type": "stream",
     "text": [
      "C:\\Users\\bertr\\AppData\\Local\\Temp\\ipykernel_20128\\4012499346.py:4: SettingWithCopyWarning: \n",
      "A value is trying to be set on a copy of a slice from a DataFrame.\n",
      "Try using .loc[row_indexer,col_indexer] = value instead\n",
      "\n",
      "See the caveats in the documentation: https://pandas.pydata.org/pandas-docs/stable/user_guide/indexing.html#returning-a-view-versus-a-copy\n",
      "  k_mers_mod['Dim'] = np.where((k_mers_mod['Specie_Scaffold'].str.contains(species[0], case=False)) & (k_mers_mod['Specie_Scaffold'].str.contains(species[1], case=False)), 'Both', 'One')\n"
     ]
    },
    {
     "ename": "KeyError",
     "evalue": "'Both'",
     "output_type": "error",
     "traceback": [
      "\u001b[1;31m---------------------------------------------------------------------------\u001b[0m",
      "\u001b[1;31mKeyError\u001b[0m                                  Traceback (most recent call last)",
      "File \u001b[1;32mc:\\Users\\bertr\\anaconda3\\envs\\thesis\\lib\\site-packages\\pandas\\core\\indexes\\base.py:3629\u001b[0m, in \u001b[0;36mIndex.get_loc\u001b[1;34m(self, key, method, tolerance)\u001b[0m\n\u001b[0;32m   3628\u001b[0m \u001b[39mtry\u001b[39;00m:\n\u001b[1;32m-> 3629\u001b[0m     \u001b[39mreturn\u001b[39;00m \u001b[39mself\u001b[39;49m\u001b[39m.\u001b[39;49m_engine\u001b[39m.\u001b[39;49mget_loc(casted_key)\n\u001b[0;32m   3630\u001b[0m \u001b[39mexcept\u001b[39;00m \u001b[39mKeyError\u001b[39;00m \u001b[39mas\u001b[39;00m err:\n",
      "File \u001b[1;32mc:\\Users\\bertr\\anaconda3\\envs\\thesis\\lib\\site-packages\\pandas\\_libs\\index.pyx:136\u001b[0m, in \u001b[0;36mpandas._libs.index.IndexEngine.get_loc\u001b[1;34m()\u001b[0m\n",
      "File \u001b[1;32mc:\\Users\\bertr\\anaconda3\\envs\\thesis\\lib\\site-packages\\pandas\\_libs\\index.pyx:163\u001b[0m, in \u001b[0;36mpandas._libs.index.IndexEngine.get_loc\u001b[1;34m()\u001b[0m\n",
      "File \u001b[1;32mpandas\\_libs\\hashtable_class_helper.pxi:5198\u001b[0m, in \u001b[0;36mpandas._libs.hashtable.PyObjectHashTable.get_item\u001b[1;34m()\u001b[0m\n",
      "File \u001b[1;32mpandas\\_libs\\hashtable_class_helper.pxi:5206\u001b[0m, in \u001b[0;36mpandas._libs.hashtable.PyObjectHashTable.get_item\u001b[1;34m()\u001b[0m\n",
      "\u001b[1;31mKeyError\u001b[0m: 'Both'",
      "\nThe above exception was the direct cause of the following exception:\n",
      "\u001b[1;31mKeyError\u001b[0m                                  Traceback (most recent call last)",
      "Cell \u001b[1;32mIn[66], line 12\u001b[0m\n\u001b[0;32m      4\u001b[0m k_mers_mod[\u001b[39m'\u001b[39m\u001b[39mDim\u001b[39m\u001b[39m'\u001b[39m] \u001b[39m=\u001b[39m np\u001b[39m.\u001b[39mwhere((k_mers_mod[\u001b[39m'\u001b[39m\u001b[39mSpecie_Scaffold\u001b[39m\u001b[39m'\u001b[39m]\u001b[39m.\u001b[39mstr\u001b[39m.\u001b[39mcontains(species[\u001b[39m0\u001b[39m], case\u001b[39m=\u001b[39m\u001b[39mFalse\u001b[39;00m)) \u001b[39m&\u001b[39m (k_mers_mod[\u001b[39m'\u001b[39m\u001b[39mSpecie_Scaffold\u001b[39m\u001b[39m'\u001b[39m]\u001b[39m.\u001b[39mstr\u001b[39m.\u001b[39mcontains(species[\u001b[39m1\u001b[39m], case\u001b[39m=\u001b[39m\u001b[39mFalse\u001b[39;00m)), \u001b[39m'\u001b[39m\u001b[39mBoth\u001b[39m\u001b[39m'\u001b[39m, \u001b[39m'\u001b[39m\u001b[39mOne\u001b[39m\u001b[39m'\u001b[39m)\n\u001b[0;32m      7\u001b[0m k_mers_group \u001b[39m=\u001b[39m (k_mers_mod\u001b[39m.\u001b[39mgroupby([\u001b[39m'\u001b[39m\u001b[39mk\u001b[39m\u001b[39m'\u001b[39m, \u001b[39m'\u001b[39m\u001b[39mDim\u001b[39m\u001b[39m'\u001b[39m], as_index\u001b[39m=\u001b[39m\u001b[39mFalse\u001b[39;00m)[\u001b[39m'\u001b[39m\u001b[39mScaffolds\u001b[39m\u001b[39m'\u001b[39m] \u001b[39m#, 'Dim'\u001b[39;00m\n\u001b[0;32m      8\u001b[0m             \u001b[39m.\u001b[39mcount()\n\u001b[0;32m      9\u001b[0m             \u001b[39m.\u001b[39mpivot(index\u001b[39m=\u001b[39m\u001b[39m'\u001b[39m\u001b[39mk\u001b[39m\u001b[39m'\u001b[39m, columns\u001b[39m=\u001b[39m\u001b[39m'\u001b[39m\u001b[39mDim\u001b[39m\u001b[39m'\u001b[39m, values\u001b[39m=\u001b[39m\u001b[39m'\u001b[39m\u001b[39mScaffolds\u001b[39m\u001b[39m'\u001b[39m)\n\u001b[0;32m     10\u001b[0m             \u001b[39m.\u001b[39mreset_index())   \n\u001b[1;32m---> 12\u001b[0m k_mers_group[\u001b[39m'\u001b[39m\u001b[39mratio\u001b[39m\u001b[39m'\u001b[39m] \u001b[39m=\u001b[39m (\u001b[39m1\u001b[39m \u001b[39m-\u001b[39m (k_mers_mod[\u001b[39m'\u001b[39;49m\u001b[39mBoth\u001b[39;49m\u001b[39m'\u001b[39;49m] \u001b[39m/\u001b[39m (k_mers_mod[\u001b[39m'\u001b[39m\u001b[39mBoth\u001b[39m\u001b[39m'\u001b[39m] \u001b[39m+\u001b[39m k_mers_mod[\u001b[39m'\u001b[39m\u001b[39mOne\u001b[39m\u001b[39m'\u001b[39m]) ) ) \u001b[39m*\u001b[39m (\u001b[39m1\u001b[39m \u001b[39m-\u001b[39m (\u001b[39m1\u001b[39m\u001b[39m/\u001b[39m(k_mers_mod[\u001b[39m'\u001b[39m\u001b[39mk\u001b[39m\u001b[39m'\u001b[39m]\u001b[39m*\u001b[39m\u001b[39m*\u001b[39m\u001b[39m2\u001b[39m)))\n",
      "File \u001b[1;32mc:\\Users\\bertr\\anaconda3\\envs\\thesis\\lib\\site-packages\\pandas\\core\\frame.py:3505\u001b[0m, in \u001b[0;36mDataFrame.__getitem__\u001b[1;34m(self, key)\u001b[0m\n\u001b[0;32m   3503\u001b[0m \u001b[39mif\u001b[39;00m \u001b[39mself\u001b[39m\u001b[39m.\u001b[39mcolumns\u001b[39m.\u001b[39mnlevels \u001b[39m>\u001b[39m \u001b[39m1\u001b[39m:\n\u001b[0;32m   3504\u001b[0m     \u001b[39mreturn\u001b[39;00m \u001b[39mself\u001b[39m\u001b[39m.\u001b[39m_getitem_multilevel(key)\n\u001b[1;32m-> 3505\u001b[0m indexer \u001b[39m=\u001b[39m \u001b[39mself\u001b[39;49m\u001b[39m.\u001b[39;49mcolumns\u001b[39m.\u001b[39;49mget_loc(key)\n\u001b[0;32m   3506\u001b[0m \u001b[39mif\u001b[39;00m is_integer(indexer):\n\u001b[0;32m   3507\u001b[0m     indexer \u001b[39m=\u001b[39m [indexer]\n",
      "File \u001b[1;32mc:\\Users\\bertr\\anaconda3\\envs\\thesis\\lib\\site-packages\\pandas\\core\\indexes\\base.py:3631\u001b[0m, in \u001b[0;36mIndex.get_loc\u001b[1;34m(self, key, method, tolerance)\u001b[0m\n\u001b[0;32m   3629\u001b[0m     \u001b[39mreturn\u001b[39;00m \u001b[39mself\u001b[39m\u001b[39m.\u001b[39m_engine\u001b[39m.\u001b[39mget_loc(casted_key)\n\u001b[0;32m   3630\u001b[0m \u001b[39mexcept\u001b[39;00m \u001b[39mKeyError\u001b[39;00m \u001b[39mas\u001b[39;00m err:\n\u001b[1;32m-> 3631\u001b[0m     \u001b[39mraise\u001b[39;00m \u001b[39mKeyError\u001b[39;00m(key) \u001b[39mfrom\u001b[39;00m \u001b[39merr\u001b[39;00m\n\u001b[0;32m   3632\u001b[0m \u001b[39mexcept\u001b[39;00m \u001b[39mTypeError\u001b[39;00m:\n\u001b[0;32m   3633\u001b[0m     \u001b[39m# If we have a listlike key, _check_indexing_error will raise\u001b[39;00m\n\u001b[0;32m   3634\u001b[0m     \u001b[39m#  InvalidIndexError. Otherwise we fall through and re-raise\u001b[39;00m\n\u001b[0;32m   3635\u001b[0m     \u001b[39m#  the TypeError.\u001b[39;00m\n\u001b[0;32m   3636\u001b[0m     \u001b[39mself\u001b[39m\u001b[39m.\u001b[39m_check_indexing_error(key)\n",
      "\u001b[1;31mKeyError\u001b[0m: 'Both'"
     ]
    }
   ],
   "source": [
    "species = [sp1, sp2]\n",
    "\n",
    "k_mers_mod = k_mers[k_mers['Specie_Scaffold'].str.contains('|'.join(species), case=False)]\n",
    "k_mers_mod['Dim'] = np.where((k_mers_mod['Specie_Scaffold'].str.contains(species[0], case=False)) & (k_mers_mod['Specie_Scaffold'].str.contains(species[1], case=False)), 'Both', 'One')\n",
    "\n",
    "\n",
    "k_mers_group = (k_mers_mod.groupby(['k', 'Dim'], as_index=False)['Scaffolds'] #, 'Dim'\n",
    "            .count()\n",
    "            .pivot(index='k', columns='Dim', values='Scaffolds')\n",
    "            .reset_index())   \n",
    "\n",
    "k_mers_group['ratio'] = (1 - (k_mers_mod['Both'] / (k_mers_mod['Both'] + k_mers_mod['One']) ) ) * (1 - (1/(k_mers_mod['k']**2))) \n"
   ]
  },
  {
   "cell_type": "code",
   "execution_count": 60,
   "metadata": {},
   "outputs": [
    {
     "data": {
      "text/html": [
       "<div>\n",
       "<style scoped>\n",
       "    .dataframe tbody tr th:only-of-type {\n",
       "        vertical-align: middle;\n",
       "    }\n",
       "\n",
       "    .dataframe tbody tr th {\n",
       "        vertical-align: top;\n",
       "    }\n",
       "\n",
       "    .dataframe thead th {\n",
       "        text-align: right;\n",
       "    }\n",
       "</style>\n",
       "<table border=\"1\" class=\"dataframe\">\n",
       "  <thead>\n",
       "    <tr style=\"text-align: right;\">\n",
       "      <th>Dim</th>\n",
       "      <th>k</th>\n",
       "      <th>One</th>\n",
       "    </tr>\n",
       "  </thead>\n",
       "  <tbody>\n",
       "    <tr>\n",
       "      <th>0</th>\n",
       "      <td>3</td>\n",
       "      <td>10698</td>\n",
       "    </tr>\n",
       "    <tr>\n",
       "      <th>1</th>\n",
       "      <td>4</td>\n",
       "      <td>10594</td>\n",
       "    </tr>\n",
       "    <tr>\n",
       "      <th>2</th>\n",
       "      <td>5</td>\n",
       "      <td>10504</td>\n",
       "    </tr>\n",
       "    <tr>\n",
       "      <th>3</th>\n",
       "      <td>6</td>\n",
       "      <td>10426</td>\n",
       "    </tr>\n",
       "    <tr>\n",
       "      <th>4</th>\n",
       "      <td>7</td>\n",
       "      <td>10360</td>\n",
       "    </tr>\n",
       "    <tr>\n",
       "      <th>5</th>\n",
       "      <td>8</td>\n",
       "      <td>10300</td>\n",
       "    </tr>\n",
       "    <tr>\n",
       "      <th>6</th>\n",
       "      <td>9</td>\n",
       "      <td>10251</td>\n",
       "    </tr>\n",
       "    <tr>\n",
       "      <th>7</th>\n",
       "      <td>10</td>\n",
       "      <td>10210</td>\n",
       "    </tr>\n",
       "    <tr>\n",
       "      <th>8</th>\n",
       "      <td>11</td>\n",
       "      <td>10173</td>\n",
       "    </tr>\n",
       "    <tr>\n",
       "      <th>9</th>\n",
       "      <td>12</td>\n",
       "      <td>10139</td>\n",
       "    </tr>\n",
       "    <tr>\n",
       "      <th>10</th>\n",
       "      <td>13</td>\n",
       "      <td>10106</td>\n",
       "    </tr>\n",
       "    <tr>\n",
       "      <th>11</th>\n",
       "      <td>14</td>\n",
       "      <td>10076</td>\n",
       "    </tr>\n",
       "    <tr>\n",
       "      <th>12</th>\n",
       "      <td>15</td>\n",
       "      <td>10047</td>\n",
       "    </tr>\n",
       "    <tr>\n",
       "      <th>13</th>\n",
       "      <td>16</td>\n",
       "      <td>10019</td>\n",
       "    </tr>\n",
       "    <tr>\n",
       "      <th>14</th>\n",
       "      <td>17</td>\n",
       "      <td>9993</td>\n",
       "    </tr>\n",
       "    <tr>\n",
       "      <th>15</th>\n",
       "      <td>18</td>\n",
       "      <td>9968</td>\n",
       "    </tr>\n",
       "    <tr>\n",
       "      <th>16</th>\n",
       "      <td>19</td>\n",
       "      <td>9944</td>\n",
       "    </tr>\n",
       "    <tr>\n",
       "      <th>17</th>\n",
       "      <td>20</td>\n",
       "      <td>9920</td>\n",
       "    </tr>\n",
       "    <tr>\n",
       "      <th>18</th>\n",
       "      <td>21</td>\n",
       "      <td>9896</td>\n",
       "    </tr>\n",
       "    <tr>\n",
       "      <th>19</th>\n",
       "      <td>22</td>\n",
       "      <td>9872</td>\n",
       "    </tr>\n",
       "    <tr>\n",
       "      <th>20</th>\n",
       "      <td>23</td>\n",
       "      <td>9849</td>\n",
       "    </tr>\n",
       "    <tr>\n",
       "      <th>21</th>\n",
       "      <td>24</td>\n",
       "      <td>9826</td>\n",
       "    </tr>\n",
       "    <tr>\n",
       "      <th>22</th>\n",
       "      <td>25</td>\n",
       "      <td>9803</td>\n",
       "    </tr>\n",
       "  </tbody>\n",
       "</table>\n",
       "</div>"
      ],
      "text/plain": [
       "Dim   k    One\n",
       "0     3  10698\n",
       "1     4  10594\n",
       "2     5  10504\n",
       "3     6  10426\n",
       "4     7  10360\n",
       "5     8  10300\n",
       "6     9  10251\n",
       "7    10  10210\n",
       "8    11  10173\n",
       "9    12  10139\n",
       "10   13  10106\n",
       "11   14  10076\n",
       "12   15  10047\n",
       "13   16  10019\n",
       "14   17   9993\n",
       "15   18   9968\n",
       "16   19   9944\n",
       "17   20   9920\n",
       "18   21   9896\n",
       "19   22   9872\n",
       "20   23   9849\n",
       "21   24   9826\n",
       "22   25   9803"
      ]
     },
     "execution_count": 60,
     "metadata": {},
     "output_type": "execute_result"
    }
   ],
   "source": [
    "k_mers_group"
   ]
  },
  {
   "cell_type": "code",
   "execution_count": 50,
   "metadata": {},
   "outputs": [],
   "source": [
    "k_mers_mod.to_csv('../Data/Intermediate/k_mers_mod.csv')"
   ]
  },
  {
   "cell_type": "code",
   "execution_count": 34,
   "metadata": {},
   "outputs": [
    {
     "ename": "KeyError",
     "evalue": "'Both'",
     "output_type": "error",
     "traceback": [
      "\u001b[1;31m---------------------------------------------------------------------------\u001b[0m",
      "\u001b[1;31mKeyError\u001b[0m                                  Traceback (most recent call last)",
      "File \u001b[1;32mc:\\Users\\bertr\\anaconda3\\envs\\thesis\\lib\\site-packages\\pandas\\core\\indexes\\base.py:3629\u001b[0m, in \u001b[0;36mIndex.get_loc\u001b[1;34m(self, key, method, tolerance)\u001b[0m\n\u001b[0;32m   3628\u001b[0m \u001b[39mtry\u001b[39;00m:\n\u001b[1;32m-> 3629\u001b[0m     \u001b[39mreturn\u001b[39;00m \u001b[39mself\u001b[39;49m\u001b[39m.\u001b[39;49m_engine\u001b[39m.\u001b[39;49mget_loc(casted_key)\n\u001b[0;32m   3630\u001b[0m \u001b[39mexcept\u001b[39;00m \u001b[39mKeyError\u001b[39;00m \u001b[39mas\u001b[39;00m err:\n",
      "File \u001b[1;32mc:\\Users\\bertr\\anaconda3\\envs\\thesis\\lib\\site-packages\\pandas\\_libs\\index.pyx:136\u001b[0m, in \u001b[0;36mpandas._libs.index.IndexEngine.get_loc\u001b[1;34m()\u001b[0m\n",
      "File \u001b[1;32mc:\\Users\\bertr\\anaconda3\\envs\\thesis\\lib\\site-packages\\pandas\\_libs\\index.pyx:163\u001b[0m, in \u001b[0;36mpandas._libs.index.IndexEngine.get_loc\u001b[1;34m()\u001b[0m\n",
      "File \u001b[1;32mpandas\\_libs\\hashtable_class_helper.pxi:5198\u001b[0m, in \u001b[0;36mpandas._libs.hashtable.PyObjectHashTable.get_item\u001b[1;34m()\u001b[0m\n",
      "File \u001b[1;32mpandas\\_libs\\hashtable_class_helper.pxi:5206\u001b[0m, in \u001b[0;36mpandas._libs.hashtable.PyObjectHashTable.get_item\u001b[1;34m()\u001b[0m\n",
      "\u001b[1;31mKeyError\u001b[0m: 'Both'",
      "\nThe above exception was the direct cause of the following exception:\n",
      "\u001b[1;31mKeyError\u001b[0m                                  Traceback (most recent call last)",
      "Cell \u001b[1;32mIn[34], line 1\u001b[0m\n\u001b[1;32m----> 1\u001b[0m k_mers_group[\u001b[39m'\u001b[39m\u001b[39mratio\u001b[39m\u001b[39m'\u001b[39m] \u001b[39m=\u001b[39m (\u001b[39m1\u001b[39m \u001b[39m-\u001b[39m (k_mers_group[\u001b[39m'\u001b[39;49m\u001b[39mBoth\u001b[39;49m\u001b[39m'\u001b[39;49m] \u001b[39m/\u001b[39m (k_mers_group[\u001b[39m'\u001b[39m\u001b[39mBoth\u001b[39m\u001b[39m'\u001b[39m] \u001b[39m+\u001b[39m k_mers_group[\u001b[39m'\u001b[39m\u001b[39mOne\u001b[39m\u001b[39m'\u001b[39m]) ) ) \u001b[39m*\u001b[39m (\u001b[39m1\u001b[39m \u001b[39m-\u001b[39m (\u001b[39m1\u001b[39m\u001b[39m/\u001b[39m(k_mers_group[\u001b[39m'\u001b[39m\u001b[39mk\u001b[39m\u001b[39m'\u001b[39m]\u001b[39m*\u001b[39m\u001b[39m*\u001b[39m\u001b[39m2\u001b[39m)))\n",
      "File \u001b[1;32mc:\\Users\\bertr\\anaconda3\\envs\\thesis\\lib\\site-packages\\pandas\\core\\frame.py:3505\u001b[0m, in \u001b[0;36mDataFrame.__getitem__\u001b[1;34m(self, key)\u001b[0m\n\u001b[0;32m   3503\u001b[0m \u001b[39mif\u001b[39;00m \u001b[39mself\u001b[39m\u001b[39m.\u001b[39mcolumns\u001b[39m.\u001b[39mnlevels \u001b[39m>\u001b[39m \u001b[39m1\u001b[39m:\n\u001b[0;32m   3504\u001b[0m     \u001b[39mreturn\u001b[39;00m \u001b[39mself\u001b[39m\u001b[39m.\u001b[39m_getitem_multilevel(key)\n\u001b[1;32m-> 3505\u001b[0m indexer \u001b[39m=\u001b[39m \u001b[39mself\u001b[39;49m\u001b[39m.\u001b[39;49mcolumns\u001b[39m.\u001b[39;49mget_loc(key)\n\u001b[0;32m   3506\u001b[0m \u001b[39mif\u001b[39;00m is_integer(indexer):\n\u001b[0;32m   3507\u001b[0m     indexer \u001b[39m=\u001b[39m [indexer]\n",
      "File \u001b[1;32mc:\\Users\\bertr\\anaconda3\\envs\\thesis\\lib\\site-packages\\pandas\\core\\indexes\\base.py:3631\u001b[0m, in \u001b[0;36mIndex.get_loc\u001b[1;34m(self, key, method, tolerance)\u001b[0m\n\u001b[0;32m   3629\u001b[0m     \u001b[39mreturn\u001b[39;00m \u001b[39mself\u001b[39m\u001b[39m.\u001b[39m_engine\u001b[39m.\u001b[39mget_loc(casted_key)\n\u001b[0;32m   3630\u001b[0m \u001b[39mexcept\u001b[39;00m \u001b[39mKeyError\u001b[39;00m \u001b[39mas\u001b[39;00m err:\n\u001b[1;32m-> 3631\u001b[0m     \u001b[39mraise\u001b[39;00m \u001b[39mKeyError\u001b[39;00m(key) \u001b[39mfrom\u001b[39;00m \u001b[39merr\u001b[39;00m\n\u001b[0;32m   3632\u001b[0m \u001b[39mexcept\u001b[39;00m \u001b[39mTypeError\u001b[39;00m:\n\u001b[0;32m   3633\u001b[0m     \u001b[39m# If we have a listlike key, _check_indexing_error will raise\u001b[39;00m\n\u001b[0;32m   3634\u001b[0m     \u001b[39m#  InvalidIndexError. Otherwise we fall through and re-raise\u001b[39;00m\n\u001b[0;32m   3635\u001b[0m     \u001b[39m#  the TypeError.\u001b[39;00m\n\u001b[0;32m   3636\u001b[0m     \u001b[39mself\u001b[39m\u001b[39m.\u001b[39m_check_indexing_error(key)\n",
      "\u001b[1;31mKeyError\u001b[0m: 'Both'"
     ]
    }
   ],
   "source": [
    "k_mers_group['ratio'] = (1 - (k_mers_group['Both'] / (k_mers_group['Both'] + k_mers_group['One']) ) ) * (1 - (1/(k_mers_group['k']**2))) \n"
   ]
  },
  {
   "cell_type": "code",
   "execution_count": 40,
   "metadata": {},
   "outputs": [
    {
     "name": "stdout",
     "output_type": "stream",
     "text": [
      "<class 'pandas.core.frame.DataFrame'>\n",
      "RangeIndex: 23 entries, 0 to 22\n",
      "Data columns (total 2 columns):\n",
      " #   Column  Non-Null Count  Dtype\n",
      "---  ------  --------------  -----\n",
      " 0   k       23 non-null     int64\n",
      " 1   One     23 non-null     int64\n",
      "dtypes: int64(2)\n",
      "memory usage: 496.0 bytes\n"
     ]
    }
   ],
   "source": [
    "k_mers_group.info()"
   ]
  },
  {
   "cell_type": "code",
   "execution_count": null,
   "metadata": {},
   "outputs": [],
   "source": [
    "metric[metric['Specie1'].str.contais('human', case=False) & metric['Specie2'].str.contais('gorilla', case=False)]"
   ]
  },
  {
   "cell_type": "code",
   "execution_count": 38,
   "metadata": {},
   "outputs": [
    {
     "name": "stdout",
     "output_type": "stream",
     "text": [
      "../Data/Intermediate/k_mers/Scaffold\\10_mers.csv\n",
      "../Data/Intermediate/k_mers/Scaffold\\11_mers.csv\n",
      "../Data/Intermediate/k_mers/Scaffold\\12_mers.csv\n",
      "../Data/Intermediate/k_mers/Scaffold\\13_mers.csv\n",
      "../Data/Intermediate/k_mers/Scaffold\\14_mers.csv\n",
      "../Data/Intermediate/k_mers/Scaffold\\15_mers.csv\n",
      "../Data/Intermediate/k_mers/Scaffold\\16_mers.csv\n",
      "../Data/Intermediate/k_mers/Scaffold\\17_mers.csv\n",
      "../Data/Intermediate/k_mers/Scaffold\\18_mers.csv\n",
      "../Data/Intermediate/k_mers/Scaffold\\19_mers.csv\n",
      "../Data/Intermediate/k_mers/Scaffold\\20_mers.csv\n",
      "../Data/Intermediate/k_mers/Scaffold\\21_mers.csv\n",
      "../Data/Intermediate/k_mers/Scaffold\\22_mers.csv\n",
      "../Data/Intermediate/k_mers/Scaffold\\23_mers.csv\n",
      "../Data/Intermediate/k_mers/Scaffold\\24_mers.csv\n",
      "../Data/Intermediate/k_mers/Scaffold\\25_mers.csv\n",
      "../Data/Intermediate/k_mers/Scaffold\\26_mers.csv\n",
      "../Data/Intermediate/k_mers/Scaffold\\27_mers.csv\n",
      "../Data/Intermediate/k_mers/Scaffold\\28_mers.csv\n",
      "../Data/Intermediate/k_mers/Scaffold\\29_mers.csv\n",
      "../Data/Intermediate/k_mers/Scaffold\\30_mers.csv\n",
      "../Data/Intermediate/k_mers/Scaffold\\31_mers.csv\n",
      "../Data/Intermediate/k_mers/Scaffold\\32_mers.csv\n",
      "../Data/Intermediate/k_mers/Scaffold\\33_mers.csv\n",
      "../Data/Intermediate/k_mers/Scaffold\\34_mers.csv\n",
      "../Data/Intermediate/k_mers/Scaffold\\35_mers.csv\n",
      "../Data/Intermediate/k_mers/Scaffold\\36_mers.csv\n",
      "../Data/Intermediate/k_mers/Scaffold\\37_mers.csv\n",
      "../Data/Intermediate/k_mers/Scaffold\\38_mers.csv\n",
      "../Data/Intermediate/k_mers/Scaffold\\39_mers.csv\n",
      "../Data/Intermediate/k_mers/Scaffold\\3_mers.csv\n",
      "../Data/Intermediate/k_mers/Scaffold\\40_mers.csv\n",
      "../Data/Intermediate/k_mers/Scaffold\\41_mers.csv\n",
      "../Data/Intermediate/k_mers/Scaffold\\42_mers.csv\n",
      "../Data/Intermediate/k_mers/Scaffold\\43_mers.csv\n",
      "../Data/Intermediate/k_mers/Scaffold\\44_mers.csv\n",
      "../Data/Intermediate/k_mers/Scaffold\\45_mers.csv\n",
      "../Data/Intermediate/k_mers/Scaffold\\46_mers.csv\n",
      "../Data/Intermediate/k_mers/Scaffold\\47_mers.csv\n",
      "../Data/Intermediate/k_mers/Scaffold\\48_mers.csv\n",
      "../Data/Intermediate/k_mers/Scaffold\\49_mers.csv\n",
      "../Data/Intermediate/k_mers/Scaffold\\4_mers.csv\n",
      "../Data/Intermediate/k_mers/Scaffold\\50_mers.csv\n",
      "../Data/Intermediate/k_mers/Scaffold\\51_mers.csv\n",
      "../Data/Intermediate/k_mers/Scaffold\\52_mers.csv\n",
      "../Data/Intermediate/k_mers/Scaffold\\53_mers.csv\n",
      "../Data/Intermediate/k_mers/Scaffold\\54_mers.csv\n",
      "../Data/Intermediate/k_mers/Scaffold\\55_mers.csv\n",
      "../Data/Intermediate/k_mers/Scaffold\\56_mers.csv\n",
      "../Data/Intermediate/k_mers/Scaffold\\57_mers.csv\n",
      "../Data/Intermediate/k_mers/Scaffold\\58_mers.csv\n",
      "../Data/Intermediate/k_mers/Scaffold\\59_mers.csv\n",
      "../Data/Intermediate/k_mers/Scaffold\\5_mers.csv\n",
      "../Data/Intermediate/k_mers/Scaffold\\60_mers.csv\n",
      "../Data/Intermediate/k_mers/Scaffold\\61_mers.csv\n",
      "../Data/Intermediate/k_mers/Scaffold\\62_mers.csv\n",
      "../Data/Intermediate/k_mers/Scaffold\\63_mers.csv\n",
      "../Data/Intermediate/k_mers/Scaffold\\64_mers.csv\n",
      "../Data/Intermediate/k_mers/Scaffold\\65_mers.csv\n",
      "../Data/Intermediate/k_mers/Scaffold\\66_mers.csv\n",
      "../Data/Intermediate/k_mers/Scaffold\\67_mers.csv\n",
      "../Data/Intermediate/k_mers/Scaffold\\68_mers.csv\n",
      "../Data/Intermediate/k_mers/Scaffold\\69_mers.csv\n",
      "../Data/Intermediate/k_mers/Scaffold\\6_mers.csv\n",
      "../Data/Intermediate/k_mers/Scaffold\\70_mers.csv\n",
      "../Data/Intermediate/k_mers/Scaffold\\71_mers.csv\n",
      "../Data/Intermediate/k_mers/Scaffold\\72_mers.csv\n",
      "../Data/Intermediate/k_mers/Scaffold\\73_mers.csv\n",
      "../Data/Intermediate/k_mers/Scaffold\\74_mers.csv\n",
      "../Data/Intermediate/k_mers/Scaffold\\75_mers.csv\n",
      "../Data/Intermediate/k_mers/Scaffold\\76_mers.csv\n",
      "../Data/Intermediate/k_mers/Scaffold\\77_mers.csv\n",
      "../Data/Intermediate/k_mers/Scaffold\\78_mers.csv\n",
      "../Data/Intermediate/k_mers/Scaffold\\79_mers.csv\n",
      "../Data/Intermediate/k_mers/Scaffold\\7_mers.csv\n",
      "../Data/Intermediate/k_mers/Scaffold\\80_mers.csv\n",
      "../Data/Intermediate/k_mers/Scaffold\\81_mers.csv\n",
      "../Data/Intermediate/k_mers/Scaffold\\82_mers.csv\n",
      "../Data/Intermediate/k_mers/Scaffold\\83_mers.csv\n",
      "../Data/Intermediate/k_mers/Scaffold\\84_mers.csv\n",
      "../Data/Intermediate/k_mers/Scaffold\\8_mers.csv\n",
      "../Data/Intermediate/k_mers/Scaffold\\9_mers.csv\n"
     ]
    }
   ],
   "source": [
    "# assign dataset names\n",
    "list_of_names = glob.glob('../Data/Intermediate/k_mers/Scaffold/*.csv')\n",
    " \n",
    "# create empty list\n",
    "dataframes = pd.DataFrame()\n",
    " \n",
    "# append datasets into the list\n",
    "for i in range(len(list_of_names)):\n",
    "    print(list_of_names[i])\n",
    "    k = list_of_names[i][list_of_names[i].find(\"\\\\\")+1 : list_of_names[i].find(\"_mers.csv\")]\n",
    "    temp_df = pd.read_csv(list_of_names[i]).rename(columns={str(k) + '_mers':'k_mers'})\n",
    "    \n",
    "    # Keep only some species\n",
    "    species=['human', 'gorilla'] #aadvark, kcobra\n",
    "    temp_df[temp_df['Specie_Scaffold'].str.contains('|'.join(species), case=False)]\n",
    "    \n",
    "    temp_df['k'] = int(k)\n",
    "    temp_df['Dim'] = np.where((temp_df['Specie_Scaffold'].str.contains(species[0], case=False)) & (temp_df['Specie_Scaffold'].str.contains(species[1], case=False)), 'Both', 'One')\n",
    "\n",
    "    temp_df = (temp_df.groupby(['k', 'Dim'], as_index=False)['Scaffolds']\n",
    "                .count()\n",
    "                .pivot(index='k', columns='Dim', values='Scaffolds')\n",
    "                .reset_index())\n",
    "                #.sort_values('k'))\n",
    "    dataframes = pd.concat([dataframes, temp_df])\n",
    "\n",
    "dataframes['k'] = dataframes['k'].astype(int)\n",
    "dataframes.sort_values('k', inplace=True)"
   ]
  },
  {
   "cell_type": "code",
   "execution_count": 209,
   "metadata": {},
   "outputs": [],
   "source": [
    "temp_df = pd.read_csv(list_of_names[i]).rename(columns={str(k) + '_mers':'k_mers'})\n",
    "\n",
    "# Keep only some species\n",
    "species=['human', 'gorilla']\n",
    "temp_df[temp_df['Specie_Scaffold'].str.contains('|'.join(species), case=False)]\n",
    "\n",
    "temp_df['k'] = int(k)\n",
    "temp_df['Dim'] = np.where((temp_df['Specie_Scaffold'].str.contains(species[0], case=False)) & (temp_df['Specie_Scaffold'].str.contains(species[1], case=False)), 'Both', 'One')\n"
   ]
  },
  {
   "cell_type": "code",
   "execution_count": 206,
   "metadata": {},
   "outputs": [
    {
     "data": {
      "text/plain": [
       "<AxesSubplot:title={'center':'Human and Gorilla scaffolds by number of coincidences'}, xlabel='k'>"
      ]
     },
     "execution_count": 206,
     "metadata": {},
     "output_type": "execute_result"
    },
    {
     "data": {
      "image/png": "[encoded data removed]",
      "text/plain": [
       "<Figure size 640x480 with 1 Axes>"
      ]
     },
     "metadata": {},
     "output_type": "display_data"
    }
   ],
   "source": [
    "dataframes.plot.line(x = 'k', y = ['One', 'Both'], title = 'Human and Gorilla scaffolds by number of coincidences')"
   ]
  },
  {
   "cell_type": "code",
   "execution_count": 42,
   "metadata": {},
   "outputs": [],
   "source": [
    "dataframes['ratio'] = (1 - (dataframes['Both'] / (dataframes['Both'] + dataframes['One']) ) ) * (1 - (1/(dataframes['k']**2))) "
   ]
  },
  {
   "cell_type": "code",
   "execution_count": 43,
   "metadata": {},
   "outputs": [
    {
     "data": {
      "text/html": [
       "<div>\n",
       "<style scoped>\n",
       "    .dataframe tbody tr th:only-of-type {\n",
       "        vertical-align: middle;\n",
       "    }\n",
       "\n",
       "    .dataframe tbody tr th {\n",
       "        vertical-align: top;\n",
       "    }\n",
       "\n",
       "    .dataframe thead th {\n",
       "        text-align: right;\n",
       "    }\n",
       "</style>\n",
       "<table border=\"1\" class=\"dataframe\">\n",
       "  <thead>\n",
       "    <tr style=\"text-align: right;\">\n",
       "      <th>Dim</th>\n",
       "      <th>k</th>\n",
       "      <th>Both</th>\n",
       "      <th>One</th>\n",
       "      <th>ratio</th>\n",
       "    </tr>\n",
       "  </thead>\n",
       "  <tbody>\n",
       "    <tr>\n",
       "      <th>0</th>\n",
       "      <td>3</td>\n",
       "      <td>11273</td>\n",
       "      <td>115759</td>\n",
       "      <td>0.810008</td>\n",
       "    </tr>\n",
       "    <tr>\n",
       "      <th>0</th>\n",
       "      <td>4</td>\n",
       "      <td>10506</td>\n",
       "      <td>135737</td>\n",
       "      <td>0.870151</td>\n",
       "    </tr>\n",
       "    <tr>\n",
       "      <th>0</th>\n",
       "      <td>5</td>\n",
       "      <td>9822</td>\n",
       "      <td>149708</td>\n",
       "      <td>0.900894</td>\n",
       "    </tr>\n",
       "    <tr>\n",
       "      <th>0</th>\n",
       "      <td>6</td>\n",
       "      <td>9186</td>\n",
       "      <td>160185</td>\n",
       "      <td>0.919493</td>\n",
       "    </tr>\n",
       "    <tr>\n",
       "      <th>0</th>\n",
       "      <td>7</td>\n",
       "      <td>8599</td>\n",
       "      <td>168342</td>\n",
       "      <td>0.931986</td>\n",
       "    </tr>\n",
       "    <tr>\n",
       "      <th>...</th>\n",
       "      <td>...</td>\n",
       "      <td>...</td>\n",
       "      <td>...</td>\n",
       "      <td>...</td>\n",
       "    </tr>\n",
       "    <tr>\n",
       "      <th>0</th>\n",
       "      <td>80</td>\n",
       "      <td>235</td>\n",
       "      <td>160605</td>\n",
       "      <td>0.998383</td>\n",
       "    </tr>\n",
       "    <tr>\n",
       "      <th>0</th>\n",
       "      <td>81</td>\n",
       "      <td>223</td>\n",
       "      <td>160152</td>\n",
       "      <td>0.998457</td>\n",
       "    </tr>\n",
       "    <tr>\n",
       "      <th>0</th>\n",
       "      <td>82</td>\n",
       "      <td>211</td>\n",
       "      <td>159702</td>\n",
       "      <td>0.998532</td>\n",
       "    </tr>\n",
       "    <tr>\n",
       "      <th>0</th>\n",
       "      <td>83</td>\n",
       "      <td>199</td>\n",
       "      <td>159256</td>\n",
       "      <td>0.998607</td>\n",
       "    </tr>\n",
       "    <tr>\n",
       "      <th>0</th>\n",
       "      <td>84</td>\n",
       "      <td>189</td>\n",
       "      <td>158811</td>\n",
       "      <td>0.998670</td>\n",
       "    </tr>\n",
       "  </tbody>\n",
       "</table>\n",
       "<p>82 rows × 4 columns</p>\n",
       "</div>"
      ],
      "text/plain": [
       "Dim   k   Both     One     ratio\n",
       "0     3  11273  115759  0.810008\n",
       "0     4  10506  135737  0.870151\n",
       "0     5   9822  149708  0.900894\n",
       "0     6   9186  160185  0.919493\n",
       "0     7   8599  168342  0.931986\n",
       "..   ..    ...     ...       ...\n",
       "0    80    235  160605  0.998383\n",
       "0    81    223  160152  0.998457\n",
       "0    82    211  159702  0.998532\n",
       "0    83    199  159256  0.998607\n",
       "0    84    189  158811  0.998670\n",
       "\n",
       "[82 rows x 4 columns]"
      ]
     },
     "execution_count": 43,
     "metadata": {},
     "output_type": "execute_result"
    }
   ],
   "source": [
    "dataframes\n"
   ]
  },
  {
   "cell_type": "code",
   "execution_count": 120,
   "metadata": {},
   "outputs": [
    {
     "data": {
      "text/plain": [
       "815911"
      ]
     },
     "execution_count": 120,
     "metadata": {},
     "output_type": "execute_result"
    }
   ],
   "source": [
    "np.sum(np.array(dataframes['Both']))\n",
    "# One : 13924269\n",
    "# Both : 815911"
   ]
  },
  {
   "cell_type": "code",
   "execution_count": 44,
   "metadata": {},
   "outputs": [
    {
     "data": {
      "text/plain": [
       "0.7742193955397942"
      ]
     },
     "execution_count": 44,
     "metadata": {},
     "output_type": "execute_result"
    }
   ],
   "source": [
    "1 - np.nanprod(np.array(dataframes['ratio']))\n",
    "#gorilla = 0.9920312727837575, 0.7742193955397942\n",
    "#aadvark = 0.9690926583457345, 0.4539702974413118\n"
   ]
  },
  {
   "cell_type": "code",
   "execution_count": null,
   "metadata": {},
   "outputs": [],
   "source": []
  }
 ],
 "metadata": {
  "kernelspec": {
   "display_name": "thesis",
   "language": "python",
   "name": "thesis"
  },
  "language_info": {
   "codemirror_mode": {
    "name": "ipython",
    "version": 3
   },
   "file_extension": ".py",
   "mimetype": "text/x-python",
   "name": "python",
   "nbconvert_exporter": "python",
   "pygments_lexer": "ipython3",
   "version": "3.10.8"
  },
  "vscode": {
   "interpreter": {
    "hash": "0e92abe02844fb54062d758795a97b84494055d25efe9d020733c23e9f9966e7"
   }
  }
 },
 "nbformat": 4,
 "nbformat_minor": 4
}
