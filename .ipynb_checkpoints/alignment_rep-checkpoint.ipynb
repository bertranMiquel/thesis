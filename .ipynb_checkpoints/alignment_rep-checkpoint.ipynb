{
 "cells": [
  {
   "cell_type": "code",
   "execution_count": 1,
   "metadata": {},
   "outputs": [
    {
     "name": "stderr",
     "output_type": "stream",
     "text": [
      "C:\\Users\\bertr\\AppData\\Local\\Temp\\ipykernel_38164\\3269977046.py:3: UserWarning: \n",
      "The dash_html_components package is deprecated. Please replace\n",
      "`import dash_html_components as html` with `from dash import html`\n",
      "  import dash_html_components as html\n"
     ]
    }
   ],
   "source": [
    "import dash\n",
    "import dash_bio as dashbio\n",
    "from dash import html\n",
    "import urllib.request as urlreq\n",
    "from dash.dependencies import Input, Output"
   ]
  },
  {
   "cell_type": "code",
   "execution_count": null,
   "metadata": {},
   "outputs": [
    {
     "ename": "SyntaxError",
     "evalue": "invalid syntax (3148546296.py, line 2)",
     "output_type": "error",
     "traceback": [
      "\u001b[1;36m  Cell \u001b[1;32mIn[1], line 2\u001b[1;36m\u001b[0m\n\u001b[1;33m    [BTG;FMOD;PRELP;OPTC;ATP;-;-;ZC;SNRPE;SOX;ETNK;-;REN;-;GOLT;PLEKHA;PPP;PIK;MDM;LRRN;NFASC;CNTN;-;CNTN;TMEM;RBBP;DSTYK;TMCC;NUAK;KLHDC;LEMD;CDK;MFSD;ELK;SLC;NUCKS;RAB;SLC;PM;SLC;-;-;RAB;CTSE;-;-;AVPR;FAM],\u001b[0m\n\u001b[1;37m        ^\u001b[0m\n\u001b[1;31mSyntaxError\u001b[0m\u001b[1;31m:\u001b[0m invalid syntax\n"
     ]
    }
   ],
   "source": [
    "'''\n",
    "alignment_data_no_quotes = [\n",
    "    [BTG;FMOD;PRELP;OPTC;ATP;-;-;ZC;SNRPE;SOX;ETNK;-;REN;-;GOLT;PLEKHA;PPP;PIK;MDM;LRRN;NFASC;CNTN;-;CNTN;TMEM;RBBP;DSTYK;TMCC;NUAK;KLHDC;LEMD;CDK;MFSD;ELK;SLC;NUCKS;RAB;SLC;PM;SLC;-;-;RAB;CTSE;-;-;AVPR;FAM],\n",
    "    [BTG;FMOD;PRELP;OPTC;ATP;LAX;ZBED;ZC;SNRPE;SOX;ETNK;ETNK;REN;KISS;GOLT;PLEKHA;PPP;PIK;MDM;LRRN;NFASC;NFASC;NFASC;CNTN;TMEM;RBBP;DSTYK;TMCC;NUAK;KLHDC;LEMD;CDK;MFSD;ELK;SLC;NUCKS;RAB;SLC;PM;SLC;SLC;SLC;RAB;CTSE;CTSE;C;AVPR;FAM]\n",
    "]\n",
    "'''\n"
   ]
  },
  {
   "cell_type": "code",
   "execution_count": 1,
   "metadata": {},
   "outputs": [],
   "source": [
    "'''\n",
    "alignment_data = [    [        \"BTG\", \"FMOD\", \"PRELP\", \"OPTC\", \"ATP\", \"-\", \"-\", \"ZC\", \"SNRPE\", \"SOX\",        \"ETNK\", \"-\", \"REN\", \"-\", \"GOLT\", \"PLEKHA\", \"PPP\", \"PIK\", \"MDM\", \"LRRN\",        \"NFASC\", \"CNTN\", \"-\", \"CNTN\", \"TMEM\", \"RBBP\", \"DSTYK\", \"TMCC\", \"NUAK\",        \"KLHDC\", \"LEMD\", \"CDK\", \"MFSD\", \"ELK\", \"SLC\", \"NUCKS\", \"RAB\", \"SLC\", \"PM\",        \"SLC\", \"-\", \"-\", \"RAB\", \"CTSE\", \"-\", \"-\", \"AVPR\", \"FAM\"    ],\n",
    "    [        \"BTG\", \"FMOD\", \"PRELP\", \"OPTC\", \"ATP\", \"LAX\", \"ZBED\", \"ZC\", \"SNRPE\",        \"SOX\", \"ETNK\", \"ETNK\", \"REN\", \"KISS\", \"GOLT\", \"PLEKHA\", \"PPP\", \"PIK\",        \"MDM\", \"LRRN\", \"NFASC\", \"NFASC\", \"NFASC\", \"CNTN\", \"TMEM\", \"RBBP\", \"DSTYK\",        \"TMCC\", \"NUAK\", \"KLHDC\", \"LEMD\", \"CDK\", \"MFSD\", \"ELK\", \"SLC\", \"NUCKS\",        \"RAB\", \"SLC\", \"PM\", \"SLC\", \"SLC\", \"SLC\", \"RAB\", \"CTSE\", \"CTSE\", \"C\",        \"AVPR\", \"FAM\"]]\n",
    "'''"
   ]
  },
  {
   "cell_type": "code",
   "execution_count": 10,
   "metadata": {},
   "outputs": [],
   "source": [
    "'''\n",
    "import pandas as pd\n",
    "data = pd.read_csv(\"../Data/Raw/alignment_test.csv\")\n",
    "'''"
   ]
  },
  {
   "cell_type": "code",
   "execution_count": 1,
   "metadata": {},
   "outputs": [],
   "source": [
    "'''\n",
    "data=[{'id': 'Sequence 1', 'sequence': 'BTGFMODPRELPOPTCATP--ZCSNRPESOXETNK-REN-GOLTPLEKHAPPPPIKMDMLRRNNFASCCNTN-CNTNTMEMRBBPDSTYKTMCCNUAKKLHDCLEMDCDKMFSDELKSLCNUCKSRABSLCPMSLC--RABCTSE--AVPRFAM'},\n",
    "      {'id': 'Sequence 2', 'sequence': 'BTGFMODPRELPOPTCATPLAXZBEDZCSNRPESOXETNKETNKRENKISSGOLTPLEKHAPPPPIKMDMLRRNNFASCNFASCNFASCCNTNTMEMRBBPDSTYKTMCCNUAKKLHDCLEMDCDKMFSDELKSLCNUCKSRABSLCPMSLCSLCSLCRABCTSECTSECAVPRFAM'}]\n",
    "'''"
   ]
  },
  {
   "cell_type": "code",
   "execution_count": 1,
   "metadata": {},
   "outputs": [],
   "source": [
    "data = open(\"C:/Users/bertr/LRZ Sync+Share/Thesis/Data/Raw/test.fasta\", \"r\")\n",
    "record = data.read()\n",
    "data.close()"
   ]
  },
  {
   "cell_type": "code",
   "execution_count": 2,
   "metadata": {},
   "outputs": [
    {
     "name": "stdout",
     "output_type": "stream",
     "text": [
      "Dash is running on http://127.0.0.1:8050/\n",
      "\n",
      " * Serving Flask app '__main__'\n",
      " * Debug mode: off\n"
     ]
    },
    {
     "name": "stderr",
     "output_type": "stream",
     "text": [
      "WARNING: This is a development server. Do not use it in a production deployment. Use a production WSGI server instead.\n",
      " * Running on http://127.0.0.1:8050\n",
      "Press CTRL+C to quit\n"
     ]
    }
   ],
   "source": [
    "\n",
    "\n",
    "\n",
    "app = dash.Dash(__name__)\n",
    "\n",
    "app.layout = html.Div([\n",
    "    dashbio.AlignmentChart(\n",
    "        id='my-default-alignment-viewer',\n",
    "        data=record,\n",
    "        height=900,\n",
    "        tilewidth=30,\n",
    "    ),\n",
    "    html.Div(id='default-alignment-viewer-output')\n",
    "])\n",
    "\n",
    "@app.callback(\n",
    "    Output('default-alignment-viewer-output', 'children'),\n",
    "    Input('my-default-alignment-viewer', 'eventDatum')\n",
    ")\n",
    "def update_output(value):\n",
    "    if value is None:\n",
    "        return 'No data.'\n",
    "    return str(value)\n",
    "\n",
    "if __name__ == '__main__':\n",
    "    app.run_server(debug=False)"
   ]
  }
 ],
 "metadata": {
  "kernelspec": {
   "display_name": "thesis",
   "language": "python",
   "name": "thesis"
  },
  "language_info": {
   "codemirror_mode": {
    "name": "ipython",
    "version": 3
   },
   "file_extension": ".py",
   "mimetype": "text/x-python",
   "name": "python",
   "nbconvert_exporter": "python",
   "pygments_lexer": "ipython3",
   "version": "3.9.15"
  },
  "vscode": {
   "interpreter": {
    "hash": "5109d816b82be14675a6b11f8e0f0d2e80f029176ed3710d54e125caa8520dfd"
   }
  }
 },
 "nbformat": 4,
 "nbformat_minor": 4
}
