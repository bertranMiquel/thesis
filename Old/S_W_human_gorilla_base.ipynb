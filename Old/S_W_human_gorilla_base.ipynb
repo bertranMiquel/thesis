{
 "cells": [
  {
   "cell_type": "markdown",
   "id": "a31f76ba",
   "metadata": {},
   "source": [
    "# Smith-Waterman genome application\n",
    "\n",
    "We will apply the Smith-Waterman algorithm to two specific sequences. In this example, we align the NC_000017.11 human scaffold with the whole gorilla genome."
   ]
  },
  {
   "cell_type": "code",
   "execution_count": 1,
   "id": "382bd29a-d482-4e45-a546-6d3846e8dc8f",
   "metadata": {},
   "outputs": [],
   "source": [
    "import pandas as pd\n",
    "import time\n",
    "import numpy as np\n",
    "from datetime import datetime as dt\n",
    "from ipynb.fs.full.smith_waterman import *"
   ]
  },
  {
   "cell_type": "code",
   "execution_count": 3,
   "id": "30f73479-33b7-4b56-86e6-92209e1b807c",
   "metadata": {},
   "outputs": [],
   "source": [
    "human = pd.read_excel('C:/Users/bertr/LRZ Sync+Share/Syntheny-Graph (Pirmin Schlicke)/Code/Data/Tables_Filtered_IK.xlsx', 'Human')\n",
    "gorilla = pd.read_excel('C:/Users/bertr/LRZ Sync+Share/Syntheny-Graph (Pirmin Schlicke)/Code/Data/Tables_Filtered_IK.xlsx', 'Gorilla')\n",
    "\n",
    "# 1 min 40 s approx"
   ]
  },
  {
   "cell_type": "code",
   "execution_count": 4,
   "id": "2f5178ab",
   "metadata": {},
   "outputs": [],
   "source": [
    "# Only consider the gene classes\n",
    "human['Gene'] = human['Locus'].str.split('(\\d+)').str[0]\n",
    "human.reset_index(inplace= True) # creates a column which will refers to the row number of the original file, hence we can identify the position of the gene\n",
    "\n",
    "gorilla['Gene'] = gorilla['Locus'].str.split('(\\d+)').str[0]\n",
    "gorilla.reset_index(inplace = True)\n",
    "\n",
    "# Filter out the genes we are not interested in\n",
    "human = human[human['Gene'].str.contains('LOC') == False]\n",
    "gorilla = gorilla[gorilla['Gene'].str.contains('LOC') == False]\n",
    "\n",
    "#human['Origin'] = 'Human'\n",
    "#gorilla['Origin'] = 'Gorilla'"
   ]
  },
  {
   "cell_type": "markdown",
   "id": "2f8c35ec",
   "metadata": {},
   "source": [
    "### Smith-Waterman  \n",
    "Prepare a dataset to implement S-W algorithm. For doing so, we will try to implement a small one, comparing two random scaffolds from human and gorilla."
   ]
  },
  {
   "cell_type": "code",
   "execution_count": 6,
   "id": "32dfecbf",
   "metadata": {},
   "outputs": [],
   "source": [
    "sw_human = human.loc[human['Replicon Accession'].str.contains('NC_000017.11')]\n",
    "#sw_human = human.loc[human['Replicon Accession'].str.contains('NC_000020.11'), ['Gene', '#Replicon Name', 'Replicon Accession']] # length: 611\n",
    "sw_gorilla_scaffold = gorilla.loc[gorilla['Replicon Accession'].str.contains('NC_018435.2')]\n",
    "#sw_gorilla_scaffold = gorilla.loc[gorilla['Replicon Accession'].str.contains('NC_018440.2'), 'Gene'] # length: 739\n",
    "#sw_gorilla = gorilla.loc[gorilla['Gene'].str.contains('LOC') == False]\n",
    "#sw_human.to_csv('C:/Users/bertr/LRZ Sync+Share/Thesis/Data/Intermidiate/sw_human.csv')\n",
    "#sw_gorilla.to_csv('C:/Users/bertr/LRZ Sync+Share/Thesis/Data/Intermidiate/sw_gorilla.csv')"
   ]
  },
  {
   "cell_type": "code",
   "execution_count": 14,
   "id": "b9027cbd",
   "metadata": {},
   "outputs": [
    {
     "ename": "TypeError",
     "evalue": "can only concatenate str (not \"list\") to str",
     "output_type": "error",
     "traceback": [
      "\u001b[1;31m---------------------------------------------------------------------------\u001b[0m",
      "\u001b[1;31mTypeError\u001b[0m                                 Traceback (most recent call last)",
      "\u001b[1;32mc:\\Users\\bertr\\LRZ Sync+Share\\Thesis\\Code\\S_W_human_gorilla_base.ipynb Cell 7\u001b[0m in \u001b[0;36m<cell line: 19>\u001b[1;34m()\u001b[0m\n\u001b[0;32m     <a href='vscode-notebook-cell:/c%3A/Users/bertr/LRZ%20Sync%2BShare/Thesis/Code/S_W_human_gorilla_base.ipynb#W6sZmlsZQ%3D%3D?line=15'>16</a>\u001b[0m output_1, output_2 \u001b[39m=\u001b[39m smith_waterman(file_1, file_2)\n\u001b[0;32m     <a href='vscode-notebook-cell:/c%3A/Users/bertr/LRZ%20Sync%2BShare/Thesis/Code/S_W_human_gorilla_base.ipynb#W6sZmlsZQ%3D%3D?line=16'>17</a>\u001b[0m toc \u001b[39m=\u001b[39m time\u001b[39m.\u001b[39mperf_counter()\n\u001b[1;32m---> <a href='vscode-notebook-cell:/c%3A/Users/bertr/LRZ%20Sync%2BShare/Thesis/Code/S_W_human_gorilla_base.ipynb#W6sZmlsZQ%3D%3D?line=18'>19</a>\u001b[0m \u001b[39mprint\u001b[39m(file_1_name \u001b[39m+\u001b[39;49m \u001b[39m'\u001b[39;49m\u001b[39m length: \u001b[39;49m\u001b[39m'\u001b[39;49m \u001b[39m+\u001b[39;49m \u001b[39mstr\u001b[39;49m(\u001b[39mlen\u001b[39;49m(file_1)) \u001b[39m+\u001b[39;49m \u001b[39m'\u001b[39;49m\u001b[39m \u001b[39;49m\u001b[39m'\u001b[39;49m \u001b[39m+\u001b[39;49m output_1 \u001b[39m+\u001b[39m \u001b[39m'\u001b[39m\u001b[39m\\n\u001b[39;00m\u001b[39m'\u001b[39m \u001b[39m+\u001b[39m file_2_name \u001b[39m+\u001b[39m \u001b[39m'\u001b[39m\u001b[39m length: \u001b[39m\u001b[39m'\u001b[39m \u001b[39m+\u001b[39m \u001b[39mstr\u001b[39m(\u001b[39mlen\u001b[39m(file_2)) \u001b[39m+\u001b[39m \u001b[39m'\u001b[39m\u001b[39m \u001b[39m\u001b[39m'\u001b[39m \u001b[39m+\u001b[39m output_2)\n\u001b[0;32m     <a href='vscode-notebook-cell:/c%3A/Users/bertr/LRZ%20Sync%2BShare/Thesis/Code/S_W_human_gorilla_base.ipynb#W6sZmlsZQ%3D%3D?line=19'>20</a>\u001b[0m \u001b[39mprint\u001b[39m(\u001b[39mf\u001b[39m\u001b[39m\"\u001b[39m\u001b[39mComputed in \u001b[39m\u001b[39m{\u001b[39;00mtoc \u001b[39m-\u001b[39m tic\u001b[39m:\u001b[39;00m\u001b[39m0.4f\u001b[39m\u001b[39m}\u001b[39;00m\u001b[39m seconds\u001b[39m\u001b[39m\"\u001b[39m)\n\u001b[0;32m     <a href='vscode-notebook-cell:/c%3A/Users/bertr/LRZ%20Sync%2BShare/Thesis/Code/S_W_human_gorilla_base.ipynb#W6sZmlsZQ%3D%3D?line=20'>21</a>\u001b[0m \u001b[39mprint\u001b[39m(\u001b[39mf\u001b[39m\u001b[39m\"\u001b[39m\u001b[39mLength of the common sequence: \u001b[39m\u001b[39m\"\u001b[39m \u001b[39m+\u001b[39m \u001b[39mstr\u001b[39m(\u001b[39mlen\u001b[39m(output_1)))\n",
      "\u001b[1;31mTypeError\u001b[0m: can only concatenate str (not \"list\") to str"
     ]
    }
   ],
   "source": [
    "#if __name__ == \"__main__\":\n",
    "\n",
    "# Reading the two required fasta sequences\n",
    "#file_1_name, file_1 = fasta_reader(\"Sequence1.fasta\")\n",
    "#file_2_name, file_2  = fasta_reader(\"Sequence2.fasta\")\n",
    "\n",
    "file_1 = sw_human['Gene'].array\n",
    "file_1_name = 'human_NC_000017.11'\n",
    "file_2 = sw_gorilla_scaffold['Gene'].array\n",
    "file_2_name = 'gorilla_NC_018435.2'\n",
    "\n",
    "output_1, output_2  = [], []\n",
    "\n",
    "# Executing the Smith Waterman local alignment algorithm\n",
    "tic = time.perf_counter()\n",
    "output_1, output_2 = smith_waterman(file_1, file_2)\n",
    "toc = time.perf_counter()\n",
    "\n",
    "print(file_1_name + ' length: ' + str(len(file_1)) + ' ' + output_1 + '\\n' + file_2_name + ' length: ' + str(len(file_2)) + ' ' + output_2)\n",
    "print(f\"Computed in {toc - tic:0.4f} seconds\")\n",
    "print(f\"Length of the common sequence: \" + str(len(output_1)))\n",
    "\n",
    "\n",
    "#human_NC_000017.11 DCDCDCDC\n",
    "#gorilla_NC_018435.2 DCDCDCDC\n",
    "#Computed in 28.7334 seconds\n",
    "\n",
    "# human_NC_000017.11 length: 1318  CODHPRCMAFSPVMAFNIMEGDOLGMRMNXNMMITRBAAHLHBCSUTEAHWYEAHWYKRCOYMPPNIANPTIPCLSFRACSPLIRFPRPDCLTRDWRDWFNIPRESFNIPRESDYMSAPRNTRHPDACVOCIHGMSGMSRRSRSTMSGSMSGSTNMLTTEMHAFAPHAFAPHULCCDCCPARROROROROROROROROROROATAPSAPSAVPRTVPRTKPHSSNTCSNTCXATCMEPEAGTIGSGEAGTIPBCNPBCNKKMACKKMACKKMACPPPTAPTAFEZZFEZZBYCYFKNAEBUSNPSSNPSPBBYMTGGLNTMSXOLAPLEPBRRADEMLCXCDNYMZMTOMVDPTLGBMSPDLPKNIMENRHCCPGCLSFNRNFPONEGAPSATMACACNIFIKCLSPFZFNZPSUFNZPMICSPEBARPUNNIAPRCXHDLREDSIMPRLNDCSWLPIAMAFMAFMNPTIPAAIKAAIKCDNXTDEMDEMCCLSFAXFAXOXBFTKETXOLAKESANRCLCBCLSCLSCELCRGSARGSAGLDLVDACALVDFHPPARABAGPENDTCPLENDLCCLSXBYFIEFIESPGLRUENPACADTCKMEMTMEMTKNTKNTRCSLPMEMTNGLNMEPSCMEMTFGFBNRHCBTBZCLSRLOPFSFNTFSFNTPNESFIEDCUDPMUDPMXOSRXFTASTASGBHSPTAPTPTPTPARWBNFEHANDMDKMEMTAANBYCDHCDHCDHCDHCBANCKCPPARTBORTNC-YCUGXOLAXOLAEXOLAEXOLASEHREPPMAVMEMTSCROBBKRUACTCSAFPSAFPFRGNARCLSFEGHRAFDOABRKLPRFNRLEDNLEDNHYMCDCCEYDPSDSFMKIPKIPKIPNTNXTSPAFCPSUSRHDGSGPLGNRVCRSAGHYMHYMHYMHYMHYMHYMOCSMRPDAMEMTTRIPASIHSHANDHANDFNZPAMPAMDCOYMPAGHRA-CALESHXOCTRDCSHPMPTKETTKETTRDC\n",
    "# gorilla            length: 17433 CODHPRCBNLFRSPVMAFNIMEGDOLGMRMNXNMMITRBAAHLHBCSUTEAHWY-KRCOYMPPNIANPTIPCLSFRACSPLIRFPRPDCLTRDW-FNIPRESFNIPRESDYMSAPRNTRHPDACVOCIHGMS-RRSRSTMSGSMSGSTNMLTTEMHAFAP-HULC-PAR----------ATAPSAPSAVPRTVPRTKPHSSNTC-XATCMEPEAGTIGSG-PBCN-KKMAC--P-PTA-FEZZ--YFKNAEBUSNPSSNPSPBBYMTGGLNTMSXOLAPLEPBRRADEMLCXCDNYMZMTOMVDPTLGBMSPDLPKNIMENRHCCPGCLSFNRNFPONEGAPSATMACACNIFIKCLSPFZFNZ-FNZPMICSPEBARPUNNIAPRCXHDLREDSIMPRLNDCSWLPIALPIAMAFMNPTIPAAIK-CDNXTDEM-CCLSFAX-OXBFTKETXOLAKESANRCLCBCLSCLS-RGSARGSAGLDLVDACALVDFHPPARABAGPENDTCPLENDLCCLSXBYFIE-SPGLRUENPACADTCK--KNT-RCSLPMEMTNGLNMEPSCMEMTFGFBNRHCBTBZ-RLOPFSFNTFSFNTPNESFIEDCUDPM-XOSRXFTAS-GBHSPTAPT--PARWBNFEHANDMDKMEMTAAN-DHCDHCDHCBANCKBANCKCPPARTBORTNCBORTNCYCUGXOLAXOLAEXOLA-SEHREPPMAVMEMTSCROBBKRUACTCSAFP-FRGNARCLSFEGHRAFDOABRKLPRFNRLEDN-HYMCDCCEYDPSDSFMKIPKIP--XTSPAFCPSUSRHDGSGPLGNRVCRSAGHYMHYM-----MRPDAMEMTTRIPASIHSHAND-FNZPAM-DCOYMPAGHRAPAGHRACALESH-TRDCSHPMPTKET-TRDC\n",
    "# Computed in 471.4808 seconds\n"
   ]
  },
  {
   "cell_type": "code",
   "execution_count": 13,
   "id": "8fd26311",
   "metadata": {},
   "outputs": [
    {
     "ename": "TypeError",
     "evalue": "can only concatenate str (not \"list\") to str",
     "output_type": "error",
     "traceback": [
      "\u001b[1;31m---------------------------------------------------------------------------\u001b[0m",
      "\u001b[1;31mTypeError\u001b[0m                                 Traceback (most recent call last)",
      "\u001b[1;32mc:\\Users\\bertr\\LRZ Sync+Share\\Thesis\\Code\\S_W_human_gorilla_base.ipynb Cell 8\u001b[0m in \u001b[0;36m<cell line: 1>\u001b[1;34m()\u001b[0m\n\u001b[1;32m----> <a href='vscode-notebook-cell:/c%3A/Users/bertr/LRZ%20Sync%2BShare/Thesis/Code/S_W_human_gorilla_base.ipynb#X10sZmlsZQ%3D%3D?line=0'>1</a>\u001b[0m \u001b[39mprint\u001b[39m(file_1_name \u001b[39m+\u001b[39;49m output_1 \u001b[39m+\u001b[39m \u001b[39m'\u001b[39m\u001b[39m\\n\u001b[39;00m\u001b[39m'\u001b[39m \u001b[39m+\u001b[39m file_2_name \u001b[39m+\u001b[39m \u001b[39m'\u001b[39m\u001b[39m \u001b[39m\u001b[39m'\u001b[39m \u001b[39m+\u001b[39m output_2)\n",
      "\u001b[1;31mTypeError\u001b[0m: can only concatenate str (not \"list\") to str"
     ]
    }
   ],
   "source": [
    "print(file_1_name + output_1 + '\\n' + file_2_name + ' ' + output_2)"
   ]
  }
 ],
 "metadata": {
  "kernelspec": {
   "display_name": "thesis",
   "language": "python",
   "name": "thesis"
  },
  "language_info": {
   "codemirror_mode": {
    "name": "ipython",
    "version": 3
   },
   "file_extension": ".py",
   "mimetype": "text/x-python",
   "name": "python",
   "nbconvert_exporter": "python",
   "pygments_lexer": "ipython3",
   "version": "3.10.6"
  },
  "vscode": {
   "interpreter": {
    "hash": "5109d816b82be14675a6b11f8e0f0d2e80f029176ed3710d54e125caa8520dfd"
   }
  }
 },
 "nbformat": 4,
 "nbformat_minor": 5
}
