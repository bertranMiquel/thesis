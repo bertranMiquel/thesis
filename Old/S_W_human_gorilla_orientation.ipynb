{
 "cells": [
  {
   "cell_type": "markdown",
   "id": "a31f76ba",
   "metadata": {},
   "source": [
    "# Smith-Waterman genome application\n",
    "\n",
    "We will apply the Smith-Waterman algorithm to two specific sequences. In this example, we align the NC_000017.11 Seq 1 scaffold with the whole gorilla genome."
   ]
  },
  {
   "cell_type": "code",
   "execution_count": 1,
   "id": "382bd29a-d482-4e45-a546-6d3846e8dc8f",
   "metadata": {},
   "outputs": [],
   "source": [
    "import pandas as pd\n",
    "import time\n",
    "import numpy as np\n",
    "from datetime import datetime as dt"
   ]
  },
  {
   "cell_type": "code",
   "execution_count": 71,
   "id": "460d27b6",
   "metadata": {},
   "outputs": [],
   "source": [
    "# -*- coding: utf-8 -*-\n",
    "\n",
    "\"\"\"\n",
    "\n",
    "LIFE97011 - Computing\n",
    "Python Programming - Assessed Exercise No. 3\n",
    "Task: Smith Waterman local alignment\n",
    "@Author: Slaviana Pavlovich\n",
    "\n",
    "\"\"\"\n",
    "\n",
    "# Importing Python packages\n",
    "from enum import IntEnum\n",
    "import numpy as np\n",
    "\n",
    "# Assigning the constants for the scores\n",
    "class Score(IntEnum):\n",
    "    # order by value it should be\n",
    "    MATCH = 10      \n",
    "    CONS_GAP = -1   # Want to penalize worst a first gap than a secong gap\n",
    "    FIRST_GAP = -4\n",
    "    MISMATCH = -5\n",
    "    #INV = 0\n",
    "\n",
    "# Match: 10 , First_gap: -4, cons_gap: -1, mismatch: -5\n",
    "\n",
    "# Assigning the constant values for the traceback\n",
    "class Trace(IntEnum):\n",
    "    STOP = 0\n",
    "    LEFT = 1 \n",
    "    UP = 2\n",
    "    DIAGONAL = 3\n",
    "\n",
    "def excel_reader(specie):\n",
    "    data = pd.read_excel('../Data/Raw/Tables_Filtered_IK.xlsx', specie)\n",
    "    \n",
    "    data['Gene'] = data['Locus'].str.split('(\\d+)').str[0] + data['Strand']\n",
    "    data['Gene_non_or'] = data['Locus'].str.split('(\\d+)').str[0]\n",
    "    data.reset_index(inplace= True)\n",
    "\n",
    "    data = data[data['Gene'].str.contains('LOC') == False]  \n",
    "\n",
    "    return data\n",
    "\n",
    "# Implementing the Smith Waterman local alignment\n",
    "def smith_waterman(seq_1, seq_2):\n",
    "\n",
    "    # Data structure:\n",
    "    # 0: index\n",
    "    # 1: gen + orientation\n",
    "    # 2: gen\n",
    "\n",
    "    row = len(seq_1) + 1\n",
    "    col = len(seq_2) + 1\n",
    "    matrix = np.zeros(shape=(row, col), dtype= int)  \n",
    "    tracing_matrix = np.zeros(shape=(row, col), dtype= int)  \n",
    "\n",
    "    # Initialising the variables to find the highest scoring cell\n",
    "    max_score = -1\n",
    "    max_index = (-1, -1)\n",
    "\n",
    "    diagonal_score = 0\n",
    "    vertical_score = 0\n",
    "    horizontal_score = 0\n",
    "    \n",
    "    # Calculating the scores for all cells in the matrix\n",
    "\n",
    "    for i in range(1, row):\n",
    "        for j in range(1, col):\n",
    "            \n",
    "            # Calculating the diagonal score (match score)\n",
    "            match_value = Score.MATCH if seq_1.iloc[i - 1, 2] == seq_2.iloc[j - 1, 2] else Score.MISMATCH\n",
    "                #Score.INV if seq_1.iloc[i - 1, 2] == seq_2.iloc[j - 1, 2] else  --> No sense, it will make sense if the overall is inversed and then one of them is turned around. So, first, check the overall waz and then compare them.\n",
    "                \n",
    "            diagonal_score = matrix[i - 1, j - 1] + match_value\n",
    "\n",
    "            # Calculating the vertical gap score, penalizing consecutive gaps\n",
    "            if matrix[i - 1, j] == vertical_score:\n",
    "                vertical_score = matrix[i - 1, j] + Score.CONS_GAP\n",
    "            else: vertical_score = matrix[i - 1, j] + Score.FIRST_GAP\n",
    "            \n",
    "            # Calculating the vertical gap score, penalizing consecutive gaps\n",
    "            if matrix[i, j - 1] == horizontal_score:\n",
    "                horizontal_score = matrix[i, j - 1] + Score.CONS_GAP\n",
    "            else: horizontal_score = matrix[i, j - 1] + Score.FIRST_GAP\n",
    "            \n",
    "            # Taking the highest score \n",
    "            matrix[i, j] = max(0, diagonal_score, vertical_score, horizontal_score)\n",
    "            \n",
    "            # Tracking where the cell's value is coming from    \n",
    "            if matrix[i, j] == 0: \n",
    "                tracing_matrix[i, j] = Trace.STOP\n",
    "                \n",
    "            elif matrix[i, j] == horizontal_score: \n",
    "                tracing_matrix[i, j] = Trace.LEFT\n",
    "                \n",
    "            elif matrix[i, j] == vertical_score: \n",
    "                tracing_matrix[i, j] = Trace.UP\n",
    "                \n",
    "            elif matrix[i, j] == diagonal_score: \n",
    "                tracing_matrix[i, j] = Trace.DIAGONAL \n",
    "                \n",
    "            # Tracking the cell with the maximum score\n",
    "            # If we want different strings, here we can define a threshold and keep track of all the higher values\n",
    "            if matrix[i, j] >= max_score:\n",
    "                max_index = (i,j)\n",
    "                max_score = matrix[i, j]\n",
    "\n",
    "\n",
    "    # Initialising the variables for tracing\n",
    "    aligned_seq_1 = [ ]\n",
    "    aligned_seq_2 = [ ]\n",
    "    index_seq_1 = [ ]\n",
    "    index_seq_2 = [ ]\n",
    "    (max_i, max_j) = max_index\n",
    "\n",
    "    # Tracing and computing the pathway with the local alignment\n",
    "    #if max_score > 3 * Score.MATCH\n",
    "    while tracing_matrix[max_i, max_j] != Trace.STOP:\n",
    "        if tracing_matrix[max_i, max_j] == Trace.DIAGONAL:\n",
    "            aligned_seq_1.insert(0, seq_1.iloc[max_i - 1, 2])\n",
    "            aligned_seq_2.insert(0, seq_2.iloc[max_j - 1, 2])\n",
    "\n",
    "            index_seq_1.insert(0, seq_1.iloc[max_i - 1, 0])\n",
    "            index_seq_2.insert(0, seq_2.iloc[max_j - 1, 0])\n",
    "\n",
    "            max_i = max_i - 1\n",
    "            max_j = max_j - 1\n",
    "            \n",
    "\n",
    "        elif tracing_matrix[max_i, max_j] == Trace.UP:\n",
    "            aligned_seq_1.insert(0, seq_1.iloc[max_i - 1, 2])\n",
    "            aligned_seq_2.insert(0, '-')\n",
    "\n",
    "            index_seq_1.insert(0, seq_1.iloc[max_i - 1, 0])\n",
    "            index_seq_2.insert(0, '-')\n",
    "\n",
    "            max_i = max_i - 1    \n",
    "            \n",
    "\n",
    "        elif tracing_matrix[max_i, max_j] == Trace.LEFT:\n",
    "            aligned_seq_1.insert(0, '-')\n",
    "            aligned_seq_2.insert(0, seq_2.iloc[max_j - 1, 2])\n",
    "\n",
    "            index_seq_1.insert(0, '-')\n",
    "            index_seq_2.insert(0, seq_2.iloc[max_j - 1, 0])\n",
    "            \n",
    "            max_j = max_j - 1\n",
    "\n",
    "    return aligned_seq_1, aligned_seq_2, index_seq_1, index_seq_2, max_score, max_index, max_i, max_j, matrix\n",
    "\n",
    "def duplicate(all):\n",
    "    for i in range(1, len(all)):\n",
    "        if all.loc[i, 'Result'] == 'Gap':\n",
    "            if (all.loc[i-1, 'Result'] == 'Match') | (all.loc[i-1, 'Result'] == 'Inversion'):\n",
    "                if (all.loc[i-1,'Seq 1 Gene'] == all.loc[i,'Seq 1 Gene']) | (all.loc[i-1,'Seq 2 Gene'] == all.loc[i,'Seq 2 Gene']):\n",
    "                    all.loc[i, 'Result'] = 'Duplicate'\n",
    "\n",
    "                    # Check for consecutives duplicates\n",
    "                    j = i+1\n",
    "                    while((j<len(all)) & (all.loc[j, 'Result'] == 'Gap') & (all.loc[i,'Seq 1 Gene'] == all.loc[j,'Seq 1 Gene']) & (all.loc[i,'Seq 2 Gene'] == all.loc[j,'Seq 2 Gene'])):\n",
    "                        all.loc[j, 'Result'] = 'Duplicate'\n",
    "                        j+=1\n",
    "                    i=j-1\n",
    "    return all\n",
    "\n",
    "def merge(seq_1, seq_2, aligned_seq_1, index_seq_1, aligned_seq_2, index_seq_2):\n",
    "    align_seq_1 = pd.DataFrame({'Original Position' : index_seq_1, 'Gene': aligned_seq_1}).merge(seq_1[['index', '#Replicon Name', 'Replicon Accession', 'Strand']], left_on = 'Original Position', right_on = 'index', how = 'left')\n",
    "    align_seq_2 = pd.DataFrame({'Original Position' : index_seq_2, 'Gene': aligned_seq_2}).merge(seq_2[['index', '#Replicon Name', 'Replicon Accession', 'Strand']], left_on = 'Original Position', right_on = 'index', how = 'left')\n",
    "\n",
    "    align_seq_1.rename(columns={'Original Position': 'Seq 1 Original Position', 'Gene' : 'Seq 1 Gene', '#Replicon Name': 'Seq 1 Replicon Name', 'Replicon Accession' : 'Seq 1 Replicon Accession', 'Strand': 'Seq 1 Orientation'}, inplace = True)\n",
    "    align_seq_2.rename(columns={'Original Position': 'Seq 2 Original Position', 'Gene' : 'Seq 2 Gene', '#Replicon Name': 'Seq 2 Replicon Name', 'Replicon Accession' : 'Seq 2 Replicon Accession', 'Strand': 'Seq 2 Orientation'}, inplace = True)\n",
    "\n",
    "    all = align_seq_1.loc[:, align_seq_1.columns != 'index'].merge(align_seq_2.loc[:, align_seq_2.columns != 'index'], right_index = True, left_index = True)\n",
    "\n",
    "    all['Result'] = np.where(all['Seq 1 Gene'] == all['Seq 2 Gene'],  \n",
    "                    np.where(all['Seq 1 Orientation'] == all['Seq 2 Orientation'], 'Match', 'Inversion'),\n",
    "                    np.where(((all['Seq 1 Gene'] == '-') | (all['Seq 2 Gene'] == '-')),\n",
    "                      'Gap', 'Mismatch'))\n",
    "    \n",
    "    all = all.reindex(\n",
    "            columns = ['Seq 1 Original Position', 'Seq 1 Replicon Name',\n",
    "            'Seq 1 Replicon Accession', 'Seq 1 Orientation', 'Seq 1 Gene', 'Result', 'Seq 2 Gene', 'Seq 2 Orientation',\n",
    "            'Seq 2 Replicon Accession', 'Seq 2 Replicon Name', 'Seq 2 Original Position'])\n",
    "\n",
    "    return all\n"
   ]
  },
  {
   "cell_type": "code",
   "execution_count": 3,
   "id": "35133435",
   "metadata": {},
   "outputs": [],
   "source": [
    "human = excel_reader('Human')\n",
    "gorilla = excel_reader('Gorilla')"
   ]
  },
  {
   "cell_type": "code",
   "execution_count": 4,
   "id": "5b09380d",
   "metadata": {},
   "outputs": [
    {
     "data": {
      "text/plain": [
       "array(['NT_113891.3', 'NT_113949.2', 'NT_167244.2', 'NT_167245.2',\n",
       "       'NT_167246.2', 'NT_167247.2', 'NT_167248.2', 'NT_167249.2',\n",
       "       'NT_167250.2', 'NT_167251.2', 'NT_187368.1', 'NT_187515.1',\n",
       "       'NT_187516.1', 'NT_187517.1', 'NT_187518.1', 'NT_187519.1',\n",
       "       'NT_187520.1', 'NT_187522.1', 'NT_187526.1', 'NT_187527.1',\n",
       "       'NT_187528.1', 'NT_187529.1', 'NT_187532.1', 'NT_187533.1',\n",
       "       'NT_187534.1', 'NT_187539.1', 'NT_187540.1', 'NT_187546.1',\n",
       "       'NT_187547.1', 'NT_187548.1', 'NT_187550.1', 'NT_187551.1',\n",
       "       'NT_187552.1', 'NT_187553.1', 'NT_187556.1', 'NT_187558.1',\n",
       "       'NT_187559.1', 'NT_187561.1', 'NT_187562.1', 'NT_187564.1',\n",
       "       'NT_187565.1', 'NT_187569.1', 'NT_187570.1', 'NT_187571.1',\n",
       "       'NT_187573.1', 'NT_187574.1', 'NT_187576.1', 'NT_187577.1',\n",
       "       'NT_187578.1', 'NT_187580.1', 'NT_187583.1', 'NT_187584.1',\n",
       "       'NT_187585.1', 'NT_187586.1', 'NT_187587.1', 'NT_187588.1',\n",
       "       'NT_187589.1', 'NT_187590.1', 'NT_187592.1', 'NT_187593.1',\n",
       "       'NT_187596.1', 'NT_187598.1', 'NT_187599.1', 'NT_187601.1',\n",
       "       'NT_187602.1', 'NT_187603.1', 'NT_187604.1', 'NT_187605.1',\n",
       "       'NT_187606.1', 'NT_187607.1', 'NT_187608.1', 'NT_187609.1',\n",
       "       'NT_187610.1', 'NT_187611.1', 'NT_187612.1', 'NT_187613.1',\n",
       "       'NT_187614.1', 'NT_187617.1', 'NT_187619.1', 'NT_187620.1',\n",
       "       'NT_187621.1', 'NT_187622.1', 'NT_187623.1', 'NT_187624.1',\n",
       "       'NT_187625.1', 'NT_187626.1', 'NT_187627.1', 'NT_187629.1',\n",
       "       'NT_187630.1', 'NT_187631.1', 'NT_187633.1', 'NT_187634.1',\n",
       "       'NT_187635.1', 'NT_187636.1', 'NT_187637.1', 'NT_187638.1',\n",
       "       'NT_187639.1', 'NT_187640.1', 'NT_187641.1', 'NT_187642.1',\n",
       "       'NT_187643.1', 'NT_187644.1', 'NT_187645.1', 'NT_187646.1',\n",
       "       'NT_187649.1', 'NT_187650.1', 'NT_187651.1', 'NT_187652.1',\n",
       "       'NT_187653.1', 'NT_187654.1', 'NT_187656.1', 'NT_187657.1',\n",
       "       'NT_187658.1', 'NT_187659.1', 'NT_187660.1', 'NT_187661.1',\n",
       "       'NT_187662.1', 'NT_187663.1', 'NT_187664.1', 'NT_187666.1',\n",
       "       'NT_187667.1', 'NT_187668.1', 'NT_187669.1', 'NT_187670.1',\n",
       "       'NT_187671.1', 'NT_187672.1', 'NT_187673.1', 'NT_187674.1',\n",
       "       'NT_187675.1', 'NT_187676.1', 'NT_187677.1', 'NT_187678.1',\n",
       "       'NT_187680.1', 'NT_187681.1', 'NT_187682.1', 'NT_187683.1',\n",
       "       'NT_187684.1', 'NT_187685.1', 'NT_187686.1', 'NT_187687.1',\n",
       "       'NT_187688.1', 'NT_187689.1', 'NT_187690.1', 'NT_187691.1',\n",
       "       'NT_187692.1', 'NT_187693.1', 'NW_003315905.1', 'NW_003315906.1',\n",
       "       'NW_003315907.2', 'NW_003315908.1', 'NW_003315909.1',\n",
       "       'NW_003315913.1', 'NW_003315914.1', 'NW_003315917.2',\n",
       "       'NW_003315922.2', 'NW_003315929.1', 'NW_003315930.1',\n",
       "       'NW_003315934.1', 'NW_003315935.1', 'NW_003315939.2',\n",
       "       'NW_003315942.2', 'NW_003315943.1', 'NW_003315944.2',\n",
       "       'NW_003315945.1', 'NW_003315946.1', 'NW_003315952.3',\n",
       "       'NW_003315953.2', 'NW_003315956.1', 'NW_003315960.1',\n",
       "       'NW_003315961.1', 'NW_003315962.1', 'NW_003315963.1',\n",
       "       'NW_003315964.2', 'NW_003315965.1', 'NW_003315969.2',\n",
       "       'NW_003315970.2', 'NW_003315971.2', 'NW_003315972.2',\n",
       "       'NW_003571033.2', 'NW_003571049.1', 'NW_003571050.1',\n",
       "       'NW_003571054.1', 'NW_003571055.2', 'NW_003571056.2',\n",
       "       'NW_003571057.2', 'NW_003571058.2', 'NW_003571059.2',\n",
       "       'NW_003571060.1', 'NW_003571061.2', 'NW_003871060.2',\n",
       "       'NW_003871073.1', 'NW_003871074.1', 'NW_003871091.1',\n",
       "       'NW_003871092.1', 'NW_003871093.1', 'NW_004504305.1',\n",
       "       'NW_009646194.1', 'NW_009646195.1', 'NW_009646196.1',\n",
       "       'NW_009646197.1', 'NW_009646201.1', 'NW_009646202.1',\n",
       "       'NW_009646203.1', 'NW_009646206.1', 'NW_009646207.1',\n",
       "       'NW_009646208.1', 'NW_011332687.1', 'NW_011332688.1',\n",
       "       'NW_011332690.1', 'NW_011332691.1', 'NW_011332695.1',\n",
       "       'NW_011332696.1', 'NW_011332697.1', 'NW_011332698.1',\n",
       "       'NW_011332699.1', 'NW_011332701.1', 'NW_012132914.1',\n",
       "       'NW_012132916.1', 'NW_012132919.1', 'NW_012132920.1',\n",
       "       'NW_013171799.1', 'NW_013171801.1', 'NW_013171802.1',\n",
       "       'NW_013171807.1', 'NW_013171808.1', 'NW_013171809.1',\n",
       "       'NW_013171811.1', 'NW_013171812.1', 'NW_013171813.1',\n",
       "       'NW_013171814.1', 'NW_014040926.1', 'NW_014040927.1',\n",
       "       'NW_014040928.1', 'NW_014040929.1', 'NW_014040930.1',\n",
       "       'NW_014040931.1', 'NW_015148966.1', 'NW_015148968.1',\n",
       "       'NW_015148969.1', 'NW_015495298.1', 'NW_015495299.1',\n",
       "       'NW_015495300.1', 'NW_015495301.1', 'NW_016107298.1',\n",
       "       'NW_016107299.1', 'NW_016107300.1', 'NW_016107301.1',\n",
       "       'NW_016107302.1', 'NW_016107303.1', 'NW_016107304.1',\n",
       "       'NW_016107305.1', 'NW_016107306.1', 'NW_016107307.1',\n",
       "       'NW_016107308.1', 'NW_016107309.1', 'NW_016107310.1',\n",
       "       'NW_016107311.1', 'NW_016107312.1', 'NW_016107313.1',\n",
       "       'NW_016107314.1', 'NW_017363813.1', 'NW_017363814.1',\n",
       "       'NW_017363815.1', 'NW_017363816.1', 'NW_017363817.1',\n",
       "       'NW_017363819.1', 'NW_017852928.1', 'NW_017852929.1',\n",
       "       'NW_017852930.1', 'NW_017852933.1', 'NC_000001.11', 'NC_000002.12',\n",
       "       'NC_000003.12', 'NC_000004.12', 'NC_000005.10', 'NC_000006.12',\n",
       "       'NC_000007.14', 'NC_000008.11', 'NC_000009.12', 'NC_000010.11',\n",
       "       'NC_000011.10', 'NC_000012.12', 'NC_000013.11', 'NC_000014.9',\n",
       "       'NC_000015.10', 'NC_000016.10', 'NC_000017.11', 'NC_000018.10',\n",
       "       'NC_000019.10', 'NC_000020.11', 'NC_000021.9', 'NC_000022.11',\n",
       "       'NC_000023.11', 'NC_000024.10', 'NC_012920.1'], dtype=object)"
      ]
     },
     "execution_count": 4,
     "metadata": {},
     "output_type": "execute_result"
    }
   ],
   "source": [
    "human['Replicon Accession'].unique()"
   ]
  },
  {
   "cell_type": "code",
   "execution_count": 5,
   "id": "f216ae3c-c7a8-43b1-87a4-0aee0b484bae",
   "metadata": {},
   "outputs": [
    {
     "data": {
      "text/plain": [
       "\"\\n# To load all of them at once and afterwards accessing one by one, this might be an option.\\n#https://towardsdatascience.com/a-simple-trick-to-load-multiple-excel-worksheets-in-pandas-3fae4124345b\\n# Define filepath\\nfilepath = 'C:/Users/bertr/LRZ Sync+Share/Syntheny-Graph (Pirmin Schlicke)/Tables_Filtered_IK.xlsx'\\n\\n# Load Excel file using Pandas with `sheet_name=None`\\ndf_dict = pd.read_excel(filepath, sheet_name=None)\\n\\n# Preview\\ndf_dict\\n\\n# Get a specific one\\nhuman = df_dict.get('Human')\\n\""
      ]
     },
     "execution_count": 5,
     "metadata": {},
     "output_type": "execute_result"
    }
   ],
   "source": [
    "'''\n",
    "# To load all of them at once and afterwards accessing one by one, this might be an option.\n",
    "#https://towardsdatascience.com/a-simple-trick-to-load-multiple-excel-worksheets-in-pandas-3fae4124345b\n",
    "# Define filepath\n",
    "filepath = 'C:/Users/bertr/LRZ Sync+Share/Syntheny-Graph (Pirmin Schlicke)/Tables_Filtered_IK.xlsx'\n",
    "\n",
    "# Load Excel file using Pandas with `sheet_name=None`\n",
    "df_dict = pd.read_excel(filepath, sheet_name=None)\n",
    "\n",
    "# Preview\n",
    "df_dict\n",
    "\n",
    "# Get a specific one\n",
    "human = df_dict.get('Human')\n",
    "'''"
   ]
  },
  {
   "cell_type": "markdown",
   "id": "2f8c35ec",
   "metadata": {},
   "source": [
    "### Smith-Waterman  \n",
    "Prepare a dataset to implement S-W algorithm. For doing so, we will try to implement a small one, comparing two random scaffolds from human and gorilla."
   ]
  },
  {
   "cell_type": "code",
   "execution_count": 6,
   "id": "32dfecbf",
   "metadata": {},
   "outputs": [],
   "source": [
    "accession = 'NC_000002.12'\n",
    "sw_human = human.loc[human['Replicon Accession'].str.contains(accession), ['index', 'Gene', 'Gene_non_or']]\n",
    "#sw_human = human.loc[human['Replicon Accession'].str.contains('NC_000020.11'), ['Gene', '#Replicon Name', 'Replicon Accession']] # length: 611\n",
    "#sw_gorilla = gorilla.loc[gorilla['Replicon Accession'].str.contains('NC_018435.2'), ['index', 'Gene', 'Gene_non_or']]\n",
    "#sw_gorilla_scaffold = gorilla.loc[gorilla['Replicon Accession'].str.contains('NC_018440.2'), 'Gene'] # length: 739\n",
    "sw_gorilla = gorilla.loc[:,['index', 'Gene', 'Gene_non_or']]\n",
    "#sw_human.to_csv('C:/Users/bertr/LRZ Sync+Share/Thesis/Data/Intermidiate/sw_human.csv')\n",
    "#sw_gorilla.to_csv('C:/Users/bertr/LRZ Sync+Share/Thesis/Data/Intermidiate/sw_gorilla.csv')"
   ]
  },
  {
   "cell_type": "code",
   "execution_count": 31,
   "id": "093a59d9",
   "metadata": {},
   "outputs": [
    {
     "name": "stdout",
     "output_type": "stream",
     "text": [
      "<class 'pandas.core.frame.DataFrame'>\n",
      "Int64Index: 17433 entries, 2 to 22043\n",
      "Data columns (total 3 columns):\n",
      " #   Column       Non-Null Count  Dtype \n",
      "---  ------       --------------  ----- \n",
      " 0   index        17433 non-null  int64 \n",
      " 1   Gene         17433 non-null  object\n",
      " 2   Gene_non_or  17433 non-null  object\n",
      "dtypes: int64(1), object(2)\n",
      "memory usage: 544.8+ KB\n"
     ]
    }
   ],
   "source": [
    "seq_2.info()"
   ]
  },
  {
   "cell_type": "code",
   "execution_count": 42,
   "id": "07f515bb",
   "metadata": {},
   "outputs": [
    {
     "data": {
      "text/html": [
       "<div>\n",
       "<style scoped>\n",
       "    .dataframe tbody tr th:only-of-type {\n",
       "        vertical-align: middle;\n",
       "    }\n",
       "\n",
       "    .dataframe tbody tr th {\n",
       "        vertical-align: top;\n",
       "    }\n",
       "\n",
       "    .dataframe thead th {\n",
       "        text-align: right;\n",
       "    }\n",
       "</style>\n",
       "<table border=\"1\" class=\"dataframe\">\n",
       "  <thead>\n",
       "    <tr style=\"text-align: right;\">\n",
       "      <th></th>\n",
       "      <th>index</th>\n",
       "      <th>Gene</th>\n",
       "      <th>Gene_non_or</th>\n",
       "    </tr>\n",
       "  </thead>\n",
       "  <tbody>\n",
       "    <tr>\n",
       "      <th>2890</th>\n",
       "      <td>2890</td>\n",
       "      <td>MAL+</td>\n",
       "      <td>MAL</td>\n",
       "    </tr>\n",
       "    <tr>\n",
       "      <th>2891</th>\n",
       "      <td>2891</td>\n",
       "      <td>MRPS-</td>\n",
       "      <td>MRPS</td>\n",
       "    </tr>\n",
       "    <tr>\n",
       "      <th>2892</th>\n",
       "      <td>2892</td>\n",
       "      <td>ZNF-</td>\n",
       "      <td>ZNF</td>\n",
       "    </tr>\n",
       "    <tr>\n",
       "      <th>2893</th>\n",
       "      <td>2893</td>\n",
       "      <td>ZNF+</td>\n",
       "      <td>ZNF</td>\n",
       "    </tr>\n",
       "    <tr>\n",
       "      <th>2895</th>\n",
       "      <td>2895</td>\n",
       "      <td>PROM+</td>\n",
       "      <td>PROM</td>\n",
       "    </tr>\n",
       "    <tr>\n",
       "      <th>...</th>\n",
       "      <td>...</td>\n",
       "      <td>...</td>\n",
       "      <td>...</td>\n",
       "    </tr>\n",
       "    <tr>\n",
       "      <th>4213</th>\n",
       "      <td>4213</td>\n",
       "      <td>D+</td>\n",
       "      <td>D</td>\n",
       "    </tr>\n",
       "    <tr>\n",
       "      <th>4214</th>\n",
       "      <td>4214</td>\n",
       "      <td>GAL+</td>\n",
       "      <td>GAL</td>\n",
       "    </tr>\n",
       "    <tr>\n",
       "      <th>4215</th>\n",
       "      <td>4215</td>\n",
       "      <td>NEU+</td>\n",
       "      <td>NEU</td>\n",
       "    </tr>\n",
       "    <tr>\n",
       "      <th>4216</th>\n",
       "      <td>4216</td>\n",
       "      <td>PDCD-</td>\n",
       "      <td>PDCD</td>\n",
       "    </tr>\n",
       "    <tr>\n",
       "      <th>4217</th>\n",
       "      <td>4217</td>\n",
       "      <td>RTP+</td>\n",
       "      <td>RTP</td>\n",
       "    </tr>\n",
       "  </tbody>\n",
       "</table>\n",
       "<p>1137 rows × 3 columns</p>\n",
       "</div>"
      ],
      "text/plain": [
       "      index   Gene Gene_non_or\n",
       "2890   2890   MAL+         MAL\n",
       "2891   2891  MRPS-        MRPS\n",
       "2892   2892   ZNF-         ZNF\n",
       "2893   2893   ZNF+         ZNF\n",
       "2895   2895  PROM+        PROM\n",
       "...     ...    ...         ...\n",
       "4213   4213     D+           D\n",
       "4214   4214   GAL+         GAL\n",
       "4215   4215   NEU+         NEU\n",
       "4216   4216  PDCD-        PDCD\n",
       "4217   4217   RTP+         RTP\n",
       "\n",
       "[1137 rows x 3 columns]"
      ]
     },
     "execution_count": 42,
     "metadata": {},
     "output_type": "execute_result"
    }
   ],
   "source": [
    "seq_2.loc[(seq_2['index'] >= 2890) & (seq_2['index'] <=  4217)]"
   ]
  },
  {
   "cell_type": "code",
   "execution_count": 63,
   "id": "d023e2b3",
   "metadata": {},
   "outputs": [],
   "source": [
    "seq_2_reduced = pd.concat([seq_2.loc[(seq_2['index'] <= 2890), :], seq_2.loc[(seq_2['index'] >=  4217), :]])"
   ]
  },
  {
   "cell_type": "code",
   "execution_count": 65,
   "id": "fe928796",
   "metadata": {},
   "outputs": [],
   "source": [
    "seq_1_reduced = seq_1.loc[seq_1['index'] < 5640]"
   ]
  },
  {
   "cell_type": "code",
   "execution_count": 67,
   "id": "dd416c0b",
   "metadata": {},
   "outputs": [
    {
     "data": {
      "text/plain": [
       "5639"
      ]
     },
     "execution_count": 67,
     "metadata": {},
     "output_type": "execute_result"
    }
   ],
   "source": [
    "seq_1_reduced['index'].max()"
   ]
  },
  {
   "cell_type": "code",
   "execution_count": 73,
   "id": "b9027cbd",
   "metadata": {},
   "outputs": [],
   "source": [
    "seq_1 = seq_1_reduced   #sw_human   \n",
    "seq_1_name = 'human_' + accession\n",
    "seq_2 =  seq_2_reduced  #sw_gorilla \n",
    "seq_2_name = 'gorilla_reduced'\n",
    "\n",
    "# Executing the Smith Waterman local alignment algorithm\n",
    "tic = time.perf_counter()\n",
    "aligned_seq_1, aligned_seq_2, index_seq_1, index_seq_2, max_score, max_index, max_i, max_j, matrix = smith_waterman(seq_1, seq_2)\n",
    "toc = time.perf_counter()\n"
   ]
  },
  {
   "cell_type": "markdown",
   "id": "b68fb176",
   "metadata": {},
   "source": [
    "Modification of S-W to keep indexes"
   ]
  },
  {
   "cell_type": "code",
   "execution_count": 74,
   "id": "c41d6115",
   "metadata": {},
   "outputs": [
    {
     "name": "stdout",
     "output_type": "stream",
     "text": [
      "Computed in 00:15:11\n"
     ]
    }
   ],
   "source": [
    "#print(f\"Computed in {toc - tic:0.4f} seconds\")\n",
    "d = toc - tic\n",
    "print('Computed in %s'%time.strftime('%H:%M:%S', time.gmtime(d)))"
   ]
  },
  {
   "cell_type": "code",
   "execution_count": 75,
   "id": "d65581a1",
   "metadata": {},
   "outputs": [
    {
     "name": "stderr",
     "output_type": "stream",
     "text": [
      "C:\\Users\\bertr\\AppData\\Local\\Temp\\ipykernel_3472\\3184555009.py:14: FutureWarning: The frame.append method is deprecated and will be removed from pandas in a future version. Use pandas.concat instead.\n",
      "  summary = summary.append(params)\n",
      "C:\\Users\\bertr\\AppData\\Local\\Temp\\ipykernel_3472\\3184555009.py:30: FutureWarning: The frame.append method is deprecated and will be removed from pandas in a future version. Use pandas.concat instead.\n",
      "  summary = summary.append(kpi)\n"
     ]
    }
   ],
   "source": [
    "all = merge(human, gorilla, aligned_seq_1, index_seq_1, aligned_seq_2, index_seq_2)\n",
    "\n",
    "all = duplicate(all)\n",
    "\n",
    "summary = pd.DataFrame({\n",
    "    'Description' : ['Sequence 1', 'Length Sequence 1', 'Sequence 2', 'Length Sequence 2', 'Score', '', 'Aligned sequence 1 initial position', 'Aligned sequence 1 final position', 'Aligned sequence 1 length', '', 'Aligned sequence 2 initial position', 'Aligned sequence 2 final position', 'Aligned sequence 2 length'],\n",
    "    'Value': [seq_1_name, len(seq_1), seq_2_name, len(seq_2), max_score, '', index_seq_1[0], index_seq_1[-1], index_seq_1[-1] - index_seq_1[0], '', index_seq_2[0], index_seq_2[-1], index_seq_2[-1] - index_seq_2[0]]\n",
    "})\n",
    "\n",
    "#Parameters\n",
    "params = pd.DataFrame({\n",
    "    'Description': ['', 'Parameters', 'Match', 'Mismatch', 'First gap', 'Second gap'], \n",
    "    'Value': ['', '', Score.MATCH, Score.MISMATCH, Score.FIRST_GAP, Score.CONS_GAP]})\n",
    "\n",
    "summary = summary.append(params)\n",
    "\n",
    "aligned_seq_1_df = pd.DataFrame(aligned_seq_1)\n",
    "aligned_seq_2_df = pd.DataFrame(aligned_seq_2)\n",
    "\n",
    "#KPIs\n",
    "result_perc = all.groupby('Result')['Result'].count() / all.shape[0]\n",
    "perc_align_seq_1 = aligned_seq_1_df[aligned_seq_1_df[0] != '-'].count()[0] / len(seq_1)\n",
    "perc_align_seq_2 = aligned_seq_2_df[aligned_seq_2_df[0] != '-'].count()[0] / len(seq_2)\n",
    "\n",
    "\n",
    "kpi = pd.DataFrame({\n",
    "    'Description': ['','KPIs','% Covered Target sequence', '% Covered Query sequence', '% Matching', 'Number of consecutive genes'], #include where duplicates occur\n",
    "    'Value': ['','', perc_align_seq_2, perc_align_seq_1, result_perc['Match'], len(all)]\n",
    "})\n",
    "\n",
    "summary = summary.append(kpi)\n",
    "\n",
    "# Might be interesting to include the image of the aligned part\n",
    "\n",
    "with pd.ExcelWriter('../Data/S_W_Intermediate/' + seq_1_name + '_' + seq_2_name + '_{}.xlsx'.format(dt.now().strftime('%Y%m%d_%H%M%S'))) as writer:\n",
    "    summary.to_excel(writer, sheet_name = 'Summary', index = False, header=False)\n",
    "    all.to_excel(writer, sheet_name = 'Comparison', index = False)\n"
   ]
  },
  {
   "cell_type": "code",
   "execution_count": 10,
   "id": "0199ec43",
   "metadata": {},
   "outputs": [
    {
     "data": {
      "text/plain": [
       "876"
      ]
     },
     "execution_count": 10,
     "metadata": {},
     "output_type": "execute_result"
    }
   ],
   "source": [
    "aligned_seq_1_df[aligned_seq_1_df[0] != '-'].count()[0]"
   ]
  },
  {
   "cell_type": "code",
   "execution_count": 11,
   "id": "057e3d2c",
   "metadata": {},
   "outputs": [
    {
     "data": {
      "text/plain": [
       "1423"
      ]
     },
     "execution_count": 11,
     "metadata": {},
     "output_type": "execute_result"
    }
   ],
   "source": [
    "len(seq_1)"
   ]
  },
  {
   "cell_type": "code",
   "execution_count": 25,
   "id": "130884f2",
   "metadata": {},
   "outputs": [],
   "source": [
    "import torch\n",
    "\n",
    "filter = torch.nn.MaxPool2d(kernel_size=3, stride=3, return_indices=True)\n",
    "unpool = torch.nn.MaxUnpool2d(3, stride=3)\n",
    "input = torch.tensor(matrix.astype(float)).unsqueeze(0)\n",
    "output, indices = filter(input)\n",
    "max_matrix = unpool(output, indices, output_size = np.shape(matrix)).squeeze()"
   ]
  },
  {
   "cell_type": "code",
   "execution_count": 13,
   "id": "efbef4a3",
   "metadata": {},
   "outputs": [],
   "source": [
    "max_matrix = pd.DataFrame(max_matrix.numpy())"
   ]
  },
  {
   "cell_type": "code",
   "execution_count": 14,
   "id": "686358ef",
   "metadata": {},
   "outputs": [
    {
     "data": {
      "text/html": [
       "<div>\n",
       "<style scoped>\n",
       "    .dataframe tbody tr th:only-of-type {\n",
       "        vertical-align: middle;\n",
       "    }\n",
       "\n",
       "    .dataframe tbody tr th {\n",
       "        vertical-align: top;\n",
       "    }\n",
       "\n",
       "    .dataframe thead th {\n",
       "        text-align: right;\n",
       "    }\n",
       "</style>\n",
       "<table border=\"1\" class=\"dataframe\">\n",
       "  <thead>\n",
       "    <tr style=\"text-align: right;\">\n",
       "      <th></th>\n",
       "      <th>0</th>\n",
       "      <th>1</th>\n",
       "      <th>2</th>\n",
       "      <th>3</th>\n",
       "      <th>4</th>\n",
       "      <th>5</th>\n",
       "      <th>6</th>\n",
       "      <th>7</th>\n",
       "      <th>8</th>\n",
       "      <th>9</th>\n",
       "      <th>...</th>\n",
       "      <th>17424</th>\n",
       "      <th>17425</th>\n",
       "      <th>17426</th>\n",
       "      <th>17427</th>\n",
       "      <th>17428</th>\n",
       "      <th>17429</th>\n",
       "      <th>17430</th>\n",
       "      <th>17431</th>\n",
       "      <th>17432</th>\n",
       "      <th>17433</th>\n",
       "    </tr>\n",
       "  </thead>\n",
       "  <tbody>\n",
       "    <tr>\n",
       "      <th>0</th>\n",
       "      <td>0.0</td>\n",
       "      <td>0.0</td>\n",
       "      <td>0.0</td>\n",
       "      <td>0.0</td>\n",
       "      <td>0.0</td>\n",
       "      <td>0.0</td>\n",
       "      <td>0.0</td>\n",
       "      <td>0.0</td>\n",
       "      <td>0.0</td>\n",
       "      <td>0.0</td>\n",
       "      <td>...</td>\n",
       "      <td>0.0</td>\n",
       "      <td>0.0</td>\n",
       "      <td>0.0</td>\n",
       "      <td>0.0</td>\n",
       "      <td>0.0</td>\n",
       "      <td>0.0</td>\n",
       "      <td>0.0</td>\n",
       "      <td>0.0</td>\n",
       "      <td>0.0</td>\n",
       "      <td>0.0</td>\n",
       "    </tr>\n",
       "    <tr>\n",
       "      <th>1</th>\n",
       "      <td>0.0</td>\n",
       "      <td>0.0</td>\n",
       "      <td>0.0</td>\n",
       "      <td>0.0</td>\n",
       "      <td>0.0</td>\n",
       "      <td>0.0</td>\n",
       "      <td>20.0</td>\n",
       "      <td>0.0</td>\n",
       "      <td>0.0</td>\n",
       "      <td>7.0</td>\n",
       "      <td>...</td>\n",
       "      <td>0.0</td>\n",
       "      <td>0.0</td>\n",
       "      <td>0.0</td>\n",
       "      <td>0.0</td>\n",
       "      <td>0.0</td>\n",
       "      <td>0.0</td>\n",
       "      <td>0.0</td>\n",
       "      <td>0.0</td>\n",
       "      <td>0.0</td>\n",
       "      <td>0.0</td>\n",
       "    </tr>\n",
       "    <tr>\n",
       "      <th>2</th>\n",
       "      <td>0.0</td>\n",
       "      <td>0.0</td>\n",
       "      <td>0.0</td>\n",
       "      <td>0.0</td>\n",
       "      <td>0.0</td>\n",
       "      <td>0.0</td>\n",
       "      <td>0.0</td>\n",
       "      <td>0.0</td>\n",
       "      <td>0.0</td>\n",
       "      <td>0.0</td>\n",
       "      <td>...</td>\n",
       "      <td>0.0</td>\n",
       "      <td>0.0</td>\n",
       "      <td>0.0</td>\n",
       "      <td>0.0</td>\n",
       "      <td>0.0</td>\n",
       "      <td>0.0</td>\n",
       "      <td>0.0</td>\n",
       "      <td>0.0</td>\n",
       "      <td>0.0</td>\n",
       "      <td>0.0</td>\n",
       "    </tr>\n",
       "    <tr>\n",
       "      <th>3</th>\n",
       "      <td>0.0</td>\n",
       "      <td>0.0</td>\n",
       "      <td>0.0</td>\n",
       "      <td>0.0</td>\n",
       "      <td>0.0</td>\n",
       "      <td>0.0</td>\n",
       "      <td>0.0</td>\n",
       "      <td>0.0</td>\n",
       "      <td>0.0</td>\n",
       "      <td>0.0</td>\n",
       "      <td>...</td>\n",
       "      <td>0.0</td>\n",
       "      <td>0.0</td>\n",
       "      <td>0.0</td>\n",
       "      <td>0.0</td>\n",
       "      <td>0.0</td>\n",
       "      <td>0.0</td>\n",
       "      <td>0.0</td>\n",
       "      <td>0.0</td>\n",
       "      <td>0.0</td>\n",
       "      <td>0.0</td>\n",
       "    </tr>\n",
       "    <tr>\n",
       "      <th>4</th>\n",
       "      <td>0.0</td>\n",
       "      <td>0.0</td>\n",
       "      <td>0.0</td>\n",
       "      <td>0.0</td>\n",
       "      <td>0.0</td>\n",
       "      <td>0.0</td>\n",
       "      <td>20.0</td>\n",
       "      <td>0.0</td>\n",
       "      <td>0.0</td>\n",
       "      <td>7.0</td>\n",
       "      <td>...</td>\n",
       "      <td>0.0</td>\n",
       "      <td>0.0</td>\n",
       "      <td>0.0</td>\n",
       "      <td>0.0</td>\n",
       "      <td>0.0</td>\n",
       "      <td>0.0</td>\n",
       "      <td>0.0</td>\n",
       "      <td>0.0</td>\n",
       "      <td>0.0</td>\n",
       "      <td>0.0</td>\n",
       "    </tr>\n",
       "    <tr>\n",
       "      <th>...</th>\n",
       "      <td>...</td>\n",
       "      <td>...</td>\n",
       "      <td>...</td>\n",
       "      <td>...</td>\n",
       "      <td>...</td>\n",
       "      <td>...</td>\n",
       "      <td>...</td>\n",
       "      <td>...</td>\n",
       "      <td>...</td>\n",
       "      <td>...</td>\n",
       "      <td>...</td>\n",
       "      <td>...</td>\n",
       "      <td>...</td>\n",
       "      <td>...</td>\n",
       "      <td>...</td>\n",
       "      <td>...</td>\n",
       "      <td>...</td>\n",
       "      <td>...</td>\n",
       "      <td>...</td>\n",
       "      <td>...</td>\n",
       "      <td>...</td>\n",
       "    </tr>\n",
       "    <tr>\n",
       "      <th>1419</th>\n",
       "      <td>0.0</td>\n",
       "      <td>0.0</td>\n",
       "      <td>0.0</td>\n",
       "      <td>0.0</td>\n",
       "      <td>0.0</td>\n",
       "      <td>0.0</td>\n",
       "      <td>0.0</td>\n",
       "      <td>0.0</td>\n",
       "      <td>0.0</td>\n",
       "      <td>0.0</td>\n",
       "      <td>...</td>\n",
       "      <td>0.0</td>\n",
       "      <td>0.0</td>\n",
       "      <td>0.0</td>\n",
       "      <td>0.0</td>\n",
       "      <td>0.0</td>\n",
       "      <td>0.0</td>\n",
       "      <td>0.0</td>\n",
       "      <td>0.0</td>\n",
       "      <td>0.0</td>\n",
       "      <td>0.0</td>\n",
       "    </tr>\n",
       "    <tr>\n",
       "      <th>1420</th>\n",
       "      <td>0.0</td>\n",
       "      <td>0.0</td>\n",
       "      <td>0.0</td>\n",
       "      <td>0.0</td>\n",
       "      <td>0.0</td>\n",
       "      <td>0.0</td>\n",
       "      <td>0.0</td>\n",
       "      <td>0.0</td>\n",
       "      <td>0.0</td>\n",
       "      <td>0.0</td>\n",
       "      <td>...</td>\n",
       "      <td>0.0</td>\n",
       "      <td>0.0</td>\n",
       "      <td>0.0</td>\n",
       "      <td>0.0</td>\n",
       "      <td>0.0</td>\n",
       "      <td>0.0</td>\n",
       "      <td>0.0</td>\n",
       "      <td>0.0</td>\n",
       "      <td>0.0</td>\n",
       "      <td>0.0</td>\n",
       "    </tr>\n",
       "    <tr>\n",
       "      <th>1421</th>\n",
       "      <td>0.0</td>\n",
       "      <td>0.0</td>\n",
       "      <td>0.0</td>\n",
       "      <td>0.0</td>\n",
       "      <td>0.0</td>\n",
       "      <td>0.0</td>\n",
       "      <td>0.0</td>\n",
       "      <td>0.0</td>\n",
       "      <td>0.0</td>\n",
       "      <td>0.0</td>\n",
       "      <td>...</td>\n",
       "      <td>0.0</td>\n",
       "      <td>0.0</td>\n",
       "      <td>0.0</td>\n",
       "      <td>0.0</td>\n",
       "      <td>0.0</td>\n",
       "      <td>0.0</td>\n",
       "      <td>0.0</td>\n",
       "      <td>0.0</td>\n",
       "      <td>0.0</td>\n",
       "      <td>0.0</td>\n",
       "    </tr>\n",
       "    <tr>\n",
       "      <th>1422</th>\n",
       "      <td>0.0</td>\n",
       "      <td>0.0</td>\n",
       "      <td>0.0</td>\n",
       "      <td>0.0</td>\n",
       "      <td>0.0</td>\n",
       "      <td>0.0</td>\n",
       "      <td>0.0</td>\n",
       "      <td>0.0</td>\n",
       "      <td>0.0</td>\n",
       "      <td>0.0</td>\n",
       "      <td>...</td>\n",
       "      <td>0.0</td>\n",
       "      <td>0.0</td>\n",
       "      <td>0.0</td>\n",
       "      <td>0.0</td>\n",
       "      <td>0.0</td>\n",
       "      <td>0.0</td>\n",
       "      <td>0.0</td>\n",
       "      <td>0.0</td>\n",
       "      <td>0.0</td>\n",
       "      <td>0.0</td>\n",
       "    </tr>\n",
       "    <tr>\n",
       "      <th>1423</th>\n",
       "      <td>0.0</td>\n",
       "      <td>0.0</td>\n",
       "      <td>0.0</td>\n",
       "      <td>0.0</td>\n",
       "      <td>0.0</td>\n",
       "      <td>0.0</td>\n",
       "      <td>0.0</td>\n",
       "      <td>0.0</td>\n",
       "      <td>0.0</td>\n",
       "      <td>0.0</td>\n",
       "      <td>...</td>\n",
       "      <td>0.0</td>\n",
       "      <td>0.0</td>\n",
       "      <td>0.0</td>\n",
       "      <td>0.0</td>\n",
       "      <td>0.0</td>\n",
       "      <td>0.0</td>\n",
       "      <td>0.0</td>\n",
       "      <td>0.0</td>\n",
       "      <td>0.0</td>\n",
       "      <td>0.0</td>\n",
       "    </tr>\n",
       "  </tbody>\n",
       "</table>\n",
       "<p>1424 rows × 17434 columns</p>\n",
       "</div>"
      ],
      "text/plain": [
       "      0      1      2      3      4      5      6      7      8      9      \\\n",
       "0       0.0    0.0    0.0    0.0    0.0    0.0    0.0    0.0    0.0    0.0   \n",
       "1       0.0    0.0    0.0    0.0    0.0    0.0   20.0    0.0    0.0    7.0   \n",
       "2       0.0    0.0    0.0    0.0    0.0    0.0    0.0    0.0    0.0    0.0   \n",
       "3       0.0    0.0    0.0    0.0    0.0    0.0    0.0    0.0    0.0    0.0   \n",
       "4       0.0    0.0    0.0    0.0    0.0    0.0   20.0    0.0    0.0    7.0   \n",
       "...     ...    ...    ...    ...    ...    ...    ...    ...    ...    ...   \n",
       "1419    0.0    0.0    0.0    0.0    0.0    0.0    0.0    0.0    0.0    0.0   \n",
       "1420    0.0    0.0    0.0    0.0    0.0    0.0    0.0    0.0    0.0    0.0   \n",
       "1421    0.0    0.0    0.0    0.0    0.0    0.0    0.0    0.0    0.0    0.0   \n",
       "1422    0.0    0.0    0.0    0.0    0.0    0.0    0.0    0.0    0.0    0.0   \n",
       "1423    0.0    0.0    0.0    0.0    0.0    0.0    0.0    0.0    0.0    0.0   \n",
       "\n",
       "      ...  17424  17425  17426  17427  17428  17429  17430  17431  17432  \\\n",
       "0     ...    0.0    0.0    0.0    0.0    0.0    0.0    0.0    0.0    0.0   \n",
       "1     ...    0.0    0.0    0.0    0.0    0.0    0.0    0.0    0.0    0.0   \n",
       "2     ...    0.0    0.0    0.0    0.0    0.0    0.0    0.0    0.0    0.0   \n",
       "3     ...    0.0    0.0    0.0    0.0    0.0    0.0    0.0    0.0    0.0   \n",
       "4     ...    0.0    0.0    0.0    0.0    0.0    0.0    0.0    0.0    0.0   \n",
       "...   ...    ...    ...    ...    ...    ...    ...    ...    ...    ...   \n",
       "1419  ...    0.0    0.0    0.0    0.0    0.0    0.0    0.0    0.0    0.0   \n",
       "1420  ...    0.0    0.0    0.0    0.0    0.0    0.0    0.0    0.0    0.0   \n",
       "1421  ...    0.0    0.0    0.0    0.0    0.0    0.0    0.0    0.0    0.0   \n",
       "1422  ...    0.0    0.0    0.0    0.0    0.0    0.0    0.0    0.0    0.0   \n",
       "1423  ...    0.0    0.0    0.0    0.0    0.0    0.0    0.0    0.0    0.0   \n",
       "\n",
       "      17433  \n",
       "0       0.0  \n",
       "1       0.0  \n",
       "2       0.0  \n",
       "3       0.0  \n",
       "4       0.0  \n",
       "...     ...  \n",
       "1419    0.0  \n",
       "1420    0.0  \n",
       "1421    0.0  \n",
       "1422    0.0  \n",
       "1423    0.0  \n",
       "\n",
       "[1424 rows x 17434 columns]"
      ]
     },
     "execution_count": 14,
     "metadata": {},
     "output_type": "execute_result"
    }
   ],
   "source": [
    "max_matrix"
   ]
  },
  {
   "cell_type": "code",
   "execution_count": 15,
   "id": "3f9ec30a",
   "metadata": {},
   "outputs": [
    {
     "data": {
      "text/plain": [
       "(array([   2,    2,    2, ..., 1421, 1421, 1421], dtype=int64),\n",
       " array([ 345,  417, 2456, ..., 8292, 8295, 8298], dtype=int64))"
      ]
     },
     "execution_count": 15,
     "metadata": {},
     "output_type": "execute_result"
    }
   ],
   "source": [
    "np.where(max_matrix > Score.MATCH)"
   ]
  },
  {
   "cell_type": "markdown",
   "id": "265ed33c",
   "metadata": {},
   "source": [
    "Analyse the S-W matrix to see if there exist other alingments, in this case (human NC_000017.11 scaffold vs gorilla)"
   ]
  },
  {
   "cell_type": "code",
   "execution_count": 16,
   "id": "cdb8fb69",
   "metadata": {},
   "outputs": [],
   "source": [
    "#matrix.tofile('S_W_Intermediate/matrix.csv', sep = ',')"
   ]
  },
  {
   "cell_type": "markdown",
   "id": "01d3d173",
   "metadata": {},
   "source": [
    "Matrix to big to analyse element wise -> alternative, create a heatmap to see if there exist other regions where there are matches, i.e., exist positive values"
   ]
  },
  {
   "cell_type": "code",
   "execution_count": 76,
   "id": "a1551112",
   "metadata": {},
   "outputs": [
    {
     "data": {
      "text/plain": [
       "<AxesSubplot:>"
      ]
     },
     "execution_count": 76,
     "metadata": {},
     "output_type": "execute_result"
    },
    {
     "data": {
      "image/png": "[encoded data removed]",
      "text/plain": [
       "<Figure size 432x288 with 2 Axes>"
      ]
     },
     "metadata": {
      "needs_background": "light"
     },
     "output_type": "display_data"
    }
   ],
   "source": [
    "import seaborn as sns\n",
    "sns.heatmap(matrix)"
   ]
  },
  {
   "cell_type": "code",
   "execution_count": 18,
   "id": "e07556cc",
   "metadata": {},
   "outputs": [],
   "source": [
    "index_seq_1_filt = np.array(index_seq_1)[index_seq_1 != '-']\n",
    "index_seq_2_filt = np.array(index_seq_1)[index_seq_2 != '-']"
   ]
  },
  {
   "cell_type": "code",
   "execution_count": 19,
   "id": "b4cbaa22",
   "metadata": {},
   "outputs": [
    {
     "data": {
      "text/plain": [
       "<AxesSubplot:>"
      ]
     },
     "execution_count": 19,
     "metadata": {},
     "output_type": "execute_result"
    },
    {
     "data": {
      "image/png": "[encoded data removed]",
      "text/plain": [
       "<Figure size 432x288 with 2 Axes>"
      ]
     },
     "metadata": {
      "needs_background": "light"
     },
     "output_type": "display_data"
    }
   ],
   "source": [
    "hm =matrix[:, max_j : max_index[1] + 200]\n",
    "sns.heatmap(hm)"
   ]
  },
  {
   "cell_type": "code",
   "execution_count": 20,
   "id": "e3445e31",
   "metadata": {},
   "outputs": [
    {
     "data": {
      "text/plain": [
       "1422"
      ]
     },
     "execution_count": 20,
     "metadata": {},
     "output_type": "execute_result"
    }
   ],
   "source": [
    "max_index[0]"
   ]
  },
  {
   "cell_type": "code",
   "execution_count": 28,
   "id": "29dace6a",
   "metadata": {},
   "outputs": [
    {
     "data": {
      "text/plain": [
       "<AxesSubplot:>"
      ]
     },
     "execution_count": 28,
     "metadata": {},
     "output_type": "execute_result"
    },
    {
     "data": {
      "image/png": "[encoded data removed]",
      "text/plain": [
       "<Figure size 432x288 with 2 Axes>"
      ]
     },
     "metadata": {
      "needs_background": "light"
     },
     "output_type": "display_data"
    }
   ],
   "source": [
    "matrix_wout = matrix[:max_i, :]\n",
    "sns.heatmap(matrix_wout)"
   ]
  }
 ],
 "metadata": {
  "kernelspec": {
   "display_name": "Python 3.10.6",
   "language": "python",
   "name": "python3"
  },
  "language_info": {
   "codemirror_mode": {
    "name": "ipython",
    "version": 3
   },
   "file_extension": ".py",
   "mimetype": "text/x-python",
   "name": "python",
   "nbconvert_exporter": "python",
   "pygments_lexer": "ipython3",
   "version": "3.10.6"
  },
  "vscode": {
   "interpreter": {
    "hash": "0e92abe02844fb54062d758795a97b84494055d25efe9d020733c23e9f9966e7"
   }
  }
 },
 "nbformat": 4,
 "nbformat_minor": 5
}
