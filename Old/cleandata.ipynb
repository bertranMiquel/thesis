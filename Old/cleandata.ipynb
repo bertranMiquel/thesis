{
 "cells": [
  {
   "cell_type": "code",
   "execution_count": 1,
   "metadata": {},
   "outputs": [],
   "source": [
    "import swco\n",
    "import pandas as pd\n",
    "import numpy as np"
   ]
  },
  {
   "cell_type": "code",
   "execution_count": 2,
   "metadata": {},
   "outputs": [],
   "source": [
    "specie = pd.read_csv('../Data/Raw/xenopus_genome.csv')\n",
    "specie['Specie'] = 'Xenopus'"
   ]
  },
  {
   "cell_type": "code",
   "execution_count": 3,
   "metadata": {},
   "outputs": [],
   "source": [
    "specie.rename(columns=str.capitalize, inplace=True)\n",
    "specie.rename(columns={'#name': '#Replicon Name', 'Accession': 'Replicon Accession'}, inplace=True)"
   ]
  },
  {
   "cell_type": "code",
   "execution_count": 4,
   "metadata": {},
   "outputs": [
    {
     "data": {
      "text/html": [
       "<div>\n",
       "<style scoped>\n",
       "    .dataframe tbody tr th:only-of-type {\n",
       "        vertical-align: middle;\n",
       "    }\n",
       "\n",
       "    .dataframe tbody tr th {\n",
       "        vertical-align: top;\n",
       "    }\n",
       "\n",
       "    .dataframe thead th {\n",
       "        text-align: right;\n",
       "    }\n",
       "</style>\n",
       "<table border=\"1\" class=\"dataframe\">\n",
       "  <thead>\n",
       "    <tr style=\"text-align: right;\">\n",
       "      <th></th>\n",
       "      <th>#Replicon Name</th>\n",
       "      <th>Replicon Accession</th>\n",
       "      <th>Start</th>\n",
       "      <th>Stop</th>\n",
       "      <th>Strand</th>\n",
       "      <th>Geneid</th>\n",
       "      <th>Locus</th>\n",
       "      <th>Locus tag</th>\n",
       "      <th>Protein product</th>\n",
       "      <th>Length</th>\n",
       "      <th>Protein name</th>\n",
       "      <th>Specie</th>\n",
       "    </tr>\n",
       "  </thead>\n",
       "  <tbody>\n",
       "    <tr>\n",
       "      <th>0</th>\n",
       "      <td>chromosome 3S</td>\n",
       "      <td>NC_054376.1</td>\n",
       "      <td>30597323</td>\n",
       "      <td>30612731</td>\n",
       "      <td>-</td>\n",
       "      <td>447357</td>\n",
       "      <td>tmem230.S</td>\n",
       "      <td>-</td>\n",
       "      <td>XP_041443592.1</td>\n",
       "      <td>120</td>\n",
       "      <td>transmembrane protein 230 S homeolog isoform X1</td>\n",
       "      <td>Xenopus</td>\n",
       "    </tr>\n",
       "    <tr>\n",
       "      <th>1</th>\n",
       "      <td>chromosome 3S</td>\n",
       "      <td>NC_054376.1</td>\n",
       "      <td>30618052</td>\n",
       "      <td>30623260</td>\n",
       "      <td>-</td>\n",
       "      <td>394328</td>\n",
       "      <td>pcna.S</td>\n",
       "      <td>-</td>\n",
       "      <td>NP_001081011.1</td>\n",
       "      <td>261</td>\n",
       "      <td>proliferating cell nuclear antigen</td>\n",
       "      <td>Xenopus</td>\n",
       "    </tr>\n",
       "    <tr>\n",
       "      <th>2</th>\n",
       "      <td>chromosome 3S</td>\n",
       "      <td>NC_054376.1</td>\n",
       "      <td>30635896</td>\n",
       "      <td>30669314</td>\n",
       "      <td>+</td>\n",
       "      <td>108712764</td>\n",
       "      <td>cds2.S</td>\n",
       "      <td>-</td>\n",
       "      <td>XP_018110653.1</td>\n",
       "      <td>457</td>\n",
       "      <td>phosphatidate cytidylyltransferase 2</td>\n",
       "      <td>Xenopus</td>\n",
       "    </tr>\n",
       "    <tr>\n",
       "      <th>3</th>\n",
       "      <td>chromosome 3S</td>\n",
       "      <td>NC_054376.1</td>\n",
       "      <td>30698793</td>\n",
       "      <td>30740604</td>\n",
       "      <td>+</td>\n",
       "      <td>108712765</td>\n",
       "      <td>arhgap25.S</td>\n",
       "      <td>-</td>\n",
       "      <td>XP_018110655.1</td>\n",
       "      <td>656</td>\n",
       "      <td>rho GTPase-activating protein 25 isoform X1</td>\n",
       "      <td>Xenopus</td>\n",
       "    </tr>\n",
       "    <tr>\n",
       "      <th>4</th>\n",
       "      <td>chromosome 3S</td>\n",
       "      <td>NC_054376.1</td>\n",
       "      <td>30698793</td>\n",
       "      <td>30740604</td>\n",
       "      <td>+</td>\n",
       "      <td>108712765</td>\n",
       "      <td>arhgap25.S</td>\n",
       "      <td>-</td>\n",
       "      <td>XP_018110656.1</td>\n",
       "      <td>653</td>\n",
       "      <td>rho GTPase-activating protein 25 isoform X2</td>\n",
       "      <td>Xenopus</td>\n",
       "    </tr>\n",
       "  </tbody>\n",
       "</table>\n",
       "</div>"
      ],
      "text/plain": [
       "  #Replicon Name Replicon Accession     Start      Stop Strand     Geneid  \\\n",
       "0  chromosome 3S        NC_054376.1  30597323  30612731      -     447357   \n",
       "1  chromosome 3S        NC_054376.1  30618052  30623260      -     394328   \n",
       "2  chromosome 3S        NC_054376.1  30635896  30669314      +  108712764   \n",
       "3  chromosome 3S        NC_054376.1  30698793  30740604      +  108712765   \n",
       "4  chromosome 3S        NC_054376.1  30698793  30740604      +  108712765   \n",
       "\n",
       "        Locus Locus tag Protein product  Length  \\\n",
       "0   tmem230.S         -  XP_041443592.1     120   \n",
       "1      pcna.S         -  NP_001081011.1     261   \n",
       "2      cds2.S         -  XP_018110653.1     457   \n",
       "3  arhgap25.S         -  XP_018110655.1     656   \n",
       "4  arhgap25.S         -  XP_018110656.1     653   \n",
       "\n",
       "                                      Protein name   Specie  \n",
       "0  transmembrane protein 230 S homeolog isoform X1  Xenopus  \n",
       "1               proliferating cell nuclear antigen  Xenopus  \n",
       "2             phosphatidate cytidylyltransferase 2  Xenopus  \n",
       "3      rho GTPase-activating protein 25 isoform X1  Xenopus  \n",
       "4      rho GTPase-activating protein 25 isoform X2  Xenopus  "
      ]
     },
     "execution_count": 4,
     "metadata": {},
     "output_type": "execute_result"
    }
   ],
   "source": [
    "specie.head()"
   ]
  },
  {
   "cell_type": "code",
   "execution_count": 5,
   "metadata": {},
   "outputs": [],
   "source": [
    "specie = swco.preprocessing(specie)\n",
    "specie = swco.cons_duplicates_pre(specie)"
   ]
  },
  {
   "cell_type": "code",
   "execution_count": 6,
   "metadata": {},
   "outputs": [
    {
     "name": "stdout",
     "output_type": "stream",
     "text": [
      "<class 'pandas.core.frame.DataFrame'>\n",
      "RangeIndex: 22464 entries, 0 to 22463\n",
      "Data columns (total 17 columns):\n",
      " #   Column              Non-Null Count  Dtype \n",
      "---  ------              --------------  ----- \n",
      " 0   Change              22464 non-null  int32 \n",
      " 1   #Replicon Name      22464 non-null  object\n",
      " 2   Replicon Accession  22464 non-null  object\n",
      " 3   Start               22464 non-null  int64 \n",
      " 4   Stop                22464 non-null  int64 \n",
      " 5   Strand              22464 non-null  object\n",
      " 6   Geneid              22464 non-null  int64 \n",
      " 7   Locus               22464 non-null  object\n",
      " 8   Locus tag           22464 non-null  object\n",
      " 9   Protein product     22464 non-null  object\n",
      " 10  Length              22464 non-null  int64 \n",
      " 11  Protein name        22464 non-null  object\n",
      " 12  Specie              22464 non-null  object\n",
      " 13  Gene_non_or         22464 non-null  object\n",
      " 14  Gene                22464 non-null  object\n",
      " 15  Specie_Scaffold     22464 non-null  object\n",
      " 16  New                 22464 non-null  int32 \n",
      "dtypes: int32(2), int64(4), object(11)\n",
      "memory usage: 2.7+ MB\n"
     ]
    }
   ],
   "source": [
    "specie.info()"
   ]
  },
  {
   "cell_type": "code",
   "execution_count": 7,
   "metadata": {},
   "outputs": [],
   "source": [
    "specie.rename(columns={'Change':'Index'}, inplace=True)\n",
    "del specie['New']"
   ]
  },
  {
   "cell_type": "code",
   "execution_count": 8,
   "metadata": {},
   "outputs": [
    {
     "name": "stdout",
     "output_type": "stream",
     "text": [
      "<class 'pandas.core.frame.DataFrame'>\n",
      "RangeIndex: 22464 entries, 0 to 22463\n",
      "Data columns (total 16 columns):\n",
      " #   Column              Non-Null Count  Dtype \n",
      "---  ------              --------------  ----- \n",
      " 0   Index               22464 non-null  int32 \n",
      " 1   #Replicon Name      22464 non-null  object\n",
      " 2   Replicon Accession  22464 non-null  object\n",
      " 3   Start               22464 non-null  int64 \n",
      " 4   Stop                22464 non-null  int64 \n",
      " 5   Strand              22464 non-null  object\n",
      " 6   Geneid              22464 non-null  int64 \n",
      " 7   Locus               22464 non-null  object\n",
      " 8   Locus tag           22464 non-null  object\n",
      " 9   Protein product     22464 non-null  object\n",
      " 10  Length              22464 non-null  int64 \n",
      " 11  Protein name        22464 non-null  object\n",
      " 12  Specie              22464 non-null  object\n",
      " 13  Gene_non_or         22464 non-null  object\n",
      " 14  Gene                22464 non-null  object\n",
      " 15  Specie_Scaffold     22464 non-null  object\n",
      "dtypes: int32(1), int64(4), object(11)\n",
      "memory usage: 2.7+ MB\n"
     ]
    }
   ],
   "source": [
    "specie.info()"
   ]
  },
  {
   "cell_type": "code",
   "execution_count": 9,
   "metadata": {},
   "outputs": [],
   "source": [
    "specie.to_csv('../Data/Intermediate/xenopus_genome_proc.csv', index=False)"
   ]
  },
  {
   "cell_type": "code",
   "execution_count": null,
   "metadata": {},
   "outputs": [],
   "source": []
  }
 ],
 "metadata": {
  "kernelspec": {
   "display_name": "Python 3.10.8",
   "language": "python",
   "name": "python3"
  },
  "language_info": {
   "codemirror_mode": {
    "name": "ipython",
    "version": 3
   },
   "file_extension": ".py",
   "mimetype": "text/x-python",
   "name": "python",
   "nbconvert_exporter": "python",
   "pygments_lexer": "ipython3",
   "version": "3.10.8 | packaged by conda-forge | (main, Nov  4 2022, 13:42:51) [MSC v.1916 64 bit (AMD64)]"
  },
  "orig_nbformat": 4,
  "vscode": {
   "interpreter": {
    "hash": "0e92abe02844fb54062d758795a97b84494055d25efe9d020733c23e9f9966e7"
   }
  }
 },
 "nbformat": 4,
 "nbformat_minor": 2
}
