{
 "cells": [
  {
   "cell_type": "markdown",
   "id": "a31f76ba",
   "metadata": {},
   "source": [
    "# Smith-Waterman genome application\n",
    "\n",
    "We will apply the Smith-Waterman algorithm to two specific sequences. In this example, we align the NC_000017.11 human scaffold with the whole gorilla genome."
   ]
  },
  {
   "cell_type": "code",
   "execution_count": 46,
   "id": "382bd29a-d482-4e45-a546-6d3846e8dc8f",
   "metadata": {},
   "outputs": [],
   "source": [
    "import pandas as pd\n",
    "import time\n",
    "import numpy as np\n",
    "from datetime import datetime as dt\n",
    "from ipynb.fs.full.smith_waterman import *"
   ]
  },
  {
   "cell_type": "code",
   "execution_count": 47,
   "id": "30f73479-33b7-4b56-86e6-92209e1b807c",
   "metadata": {},
   "outputs": [],
   "source": [
    "human = pd.read_excel('C:/Users/bertr/LRZ Sync+Share/Syntheny-Graph (Pirmin Schlicke)/Tables_Filtered_IK.xlsx', 'Human')\n",
    "gorilla = pd.read_excel('C:/Users/bertr/LRZ Sync+Share/Syntheny-Graph (Pirmin Schlicke)/Tables_Filtered_IK.xlsx', 'Gorilla')\n",
    "\n",
    "# 1 min 40 s approx"
   ]
  },
  {
   "cell_type": "code",
   "execution_count": 48,
   "id": "f216ae3c-c7a8-43b1-87a4-0aee0b484bae",
   "metadata": {},
   "outputs": [
    {
     "data": {
      "text/plain": [
       "\"\\n#https://towardsdatascience.com/a-simple-trick-to-load-multiple-excel-worksheets-in-pandas-3fae4124345b\\n# Define filepath\\nfilepath = 'C:/Users/bertr/LRZ Sync+Share/Syntheny-Graph (Pirmin Schlicke)/Tables_Filtered_IK.xlsx'\\n\\n# Load Excel file using Pandas with `sheet_name=None`\\ndf_dict = pd.read_excel(filepath, sheet_name=None)\\n\\n# Preview\\ndf_dict\\n\\n# Get a specific one\\nhuman = df_dict.get('Human')\\n\""
      ]
     },
     "execution_count": 48,
     "metadata": {},
     "output_type": "execute_result"
    }
   ],
   "source": [
    "'''\n",
    "# To load all of them at once and afterwards accessing one by one, this might be an option.\n",
    "#https://towardsdatascience.com/a-simple-trick-to-load-multiple-excel-worksheets-in-pandas-3fae4124345b\n",
    "# Define filepath\n",
    "filepath = 'C:/Users/bertr/LRZ Sync+Share/Syntheny-Graph (Pirmin Schlicke)/Tables_Filtered_IK.xlsx'\n",
    "\n",
    "# Load Excel file using Pandas with `sheet_name=None`\n",
    "df_dict = pd.read_excel(filepath, sheet_name=None)\n",
    "\n",
    "# Preview\n",
    "df_dict\n",
    "\n",
    "# Get a specific one\n",
    "human = df_dict.get('Human')\n",
    "'''"
   ]
  },
  {
   "cell_type": "code",
   "execution_count": 49,
   "id": "2f5178ab",
   "metadata": {},
   "outputs": [],
   "source": [
    "# Only consider the gene classes\n",
    "human['Gene'] = human['Locus'].str.split('(\\d+)').str[0]\n",
    "human.reset_index(inplace= True) # creates a column which will refers to the row number of the original file, hence we can identify the position of the gene\n",
    "\n",
    "gorilla['Gene'] = gorilla['Locus'].str.split('(\\d+)').str[0]\n",
    "gorilla.reset_index(inplace = True)\n",
    "\n",
    "# Filter out the genes we are not interested in\n",
    "human = human[human['Gene'].str.contains('LOC') == False]\n",
    "gorilla = gorilla[gorilla['Gene'].str.contains('LOC') == False]\n",
    "\n",
    "#human['Origin'] = 'Human'\n",
    "#gorilla['Origin'] = 'Gorilla'"
   ]
  },
  {
   "cell_type": "markdown",
   "id": "2f8c35ec",
   "metadata": {},
   "source": [
    "### Smith-Waterman  \n",
    "Prepare a dataset to implement S-W algorithm. For doing so, we will try to implement a small one, comparing two random scaffolds from human and gorilla."
   ]
  },
  {
   "cell_type": "code",
   "execution_count": 50,
   "id": "32dfecbf",
   "metadata": {},
   "outputs": [],
   "source": [
    "sw_human = human.loc[human['Replicon Accession'].str.contains('NC_000017.11'), ['index', 'Gene']]\n",
    "#sw_human = human.loc[human['Replicon Accession'].str.contains('NC_000020.11'), ['Gene', '#Replicon Name', 'Replicon Accession']] # length: 611\n",
    "#sw_gorilla_scaffold = gorilla.loc[gorilla['Replicon Accession'].str.contains('NC_018435.2'), ['Gene', '#Replicon Name', 'Replicon Accession']].reset_index()\n",
    "#sw_gorilla_scaffold = gorilla.loc[gorilla['Replicon Accession'].str.contains('NC_018440.2'), 'Gene'] # length: 739\n",
    "sw_gorilla = gorilla.loc[gorilla['Gene'].str.contains('LOC') == False, ['index', 'Gene']]\n",
    "#sw_human.to_csv('C:/Users/bertr/LRZ Sync+Share/Thesis/Data/Intermidiate/sw_human.csv')\n",
    "#sw_gorilla.to_csv('C:/Users/bertr/LRZ Sync+Share/Thesis/Data/Intermidiate/sw_gorilla.csv')"
   ]
  },
  {
   "cell_type": "code",
   "execution_count": 52,
   "id": "b9027cbd",
   "metadata": {},
   "outputs": [
    {
     "data": {
      "text/plain": [
       "'\\n# Reading the two required fasta sequences\\nfile_1_name, file_1 = fasta_reader(\"Sequence1.fasta\")\\nfile_2_name, file_2  = fasta_reader(\"Sequence2.fasta\")\\n\\nfile_1 = sw_human[\\'Gene\\'].array\\nfile_1_name = \\'human_NC_000020.11\\'\\nfile_2 = sw_gorilla_scaffold[\\'Gene\\'].array\\nfile_2_name = \\'gorilla\\'\\n# Executing the Smith Waterman local alignment algorithm\\ntic = time.perf_counter()\\noutput_1, output_2 = smith_waterman(file_1, file_2)\\ntoc = time.perf_counter()\\n\\nprint(file_1_name + \\' length: \\' + str(len(file_1)) + \\' \\' + output_1 + \\'\\n\\' + file_2_name + \\' length: \\' + str(len(file_2)) + \\' \\' + output_2)\\nprint(f\"Computed in {toc - tic:0.4f} seconds\")\\nprint(f\"Length of the common sequence: \" + str(len(output_1)))\\n'"
      ]
     },
     "execution_count": 52,
     "metadata": {},
     "output_type": "execute_result"
    }
   ],
   "source": [
    "#if __name__ == \"__main__\":\n",
    "'''\n",
    "# Reading the two required fasta sequences\n",
    "file_1_name, file_1 = fasta_reader(\"Sequence1.fasta\")\n",
    "file_2_name, file_2  = fasta_reader(\"Sequence2.fasta\")\n",
    "\n",
    "file_1 = sw_human['Gene'].array\n",
    "file_1_name = 'human_NC_000020.11'\n",
    "file_2 = sw_gorilla_scaffold['Gene'].array\n",
    "file_2_name = 'gorilla'\n",
    "# Executing the Smith Waterman local alignment algorithm\n",
    "tic = time.perf_counter()\n",
    "output_1, output_2 = smith_waterman(file_1, file_2)\n",
    "toc = time.perf_counter()\n",
    "\n",
    "print(file_1_name + ' length: ' + str(len(file_1)) + ' ' + output_1 + '\\n' + file_2_name + ' length: ' + str(len(file_2)) + ' ' + output_2)\n",
    "print(f\"Computed in {toc - tic:0.4f} seconds\")\n",
    "print(f\"Length of the common sequence: \" + str(len(output_1)))\n",
    "'''\n",
    "\n",
    "#human_NC_000017.11 DCDCDCDC\n",
    "#gorilla_NC_018435.2 DCDCDCDC\n",
    "#Computed in 28.7334 seconds\n",
    "\n",
    "# human_NC_000017.11 length: 1318  CODHPRCMAFSPVMAFNIMEGDOLGMRMNXNMMITRBAAHLHBCSUTEAHWYEAHWYKRCOYMPPNIANPTIPCLSFRACSPLIRFPRPDCLTRDWRDWFNIPRESFNIPRESDYMSAPRNTRHPDACVOCIHGMSGMSRRSRSTMSGSMSGSTNMLTTEMHAFAPHAFAPHULCCDCCPARROROROROROROROROROROATAPSAPSAVPRTVPRTKPHSSNTCSNTCXATCMEPEAGTIGSGEAGTIPBCNPBCNKKMACKKMACKKMACPPPTAPTAFEZZFEZZBYCYFKNAEBUSNPSSNPSPBBYMTGGLNTMSXOLAPLEPBRRADEMLCXCDNYMZMTOMVDPTLGBMSPDLPKNIMENRHCCPGCLSFNRNFPONEGAPSATMACACNIFIKCLSPFZFNZPSUFNZPMICSPEBARPUNNIAPRCXHDLREDSIMPRLNDCSWLPIAMAFMAFMNPTIPAAIKAAIKCDNXTDEMDEMCCLSFAXFAXOXBFTKETXOLAKESANRCLCBCLSCLSCELCRGSARGSAGLDLVDACALVDFHPPARABAGPENDTCPLENDLCCLSXBYFIEFIESPGLRUENPACADTCKMEMTMEMTKNTKNTRCSLPMEMTNGLNMEPSCMEMTFGFBNRHCBTBZCLSRLOPFSFNTFSFNTPNESFIEDCUDPMUDPMXOSRXFTASTASGBHSPTAPTPTPTPARWBNFEHANDMDKMEMTAANBYCDHCDHCDHCDHCBANCKCPPARTBORTNC-YCUGXOLAXOLAEXOLAEXOLASEHREPPMAVMEMTSCROBBKRUACTCSAFPSAFPFRGNARCLSFEGHRAFDOABRKLPRFNRLEDNLEDNHYMCDCCEYDPSDSFMKIPKIPKIPNTNXTSPAFCPSUSRHDGSGPLGNRVCRSAGHYMHYMHYMHYMHYMHYMOCSMRPDAMEMTTRIPASIHSHANDHANDFNZPAMPAMDCOYMPAGHRA-CALESHXOCTRDCSHPMPTKETTKETTRDC\n",
    "# gorilla            length: 17433 CODHPRCBNLFRSPVMAFNIMEGDOLGMRMNXNMMITRBAAHLHBCSUTEAHWY-KRCOYMPPNIANPTIPCLSFRACSPLIRFPRPDCLTRDW-FNIPRESFNIPRESDYMSAPRNTRHPDACVOCIHGMS-RRSRSTMSGSMSGSTNMLTTEMHAFAP-HULC-PAR----------ATAPSAPSAVPRTVPRTKPHSSNTC-XATCMEPEAGTIGSG-PBCN-KKMAC--P-PTA-FEZZ--YFKNAEBUSNPSSNPSPBBYMTGGLNTMSXOLAPLEPBRRADEMLCXCDNYMZMTOMVDPTLGBMSPDLPKNIMENRHCCPGCLSFNRNFPONEGAPSATMACACNIFIKCLSPFZFNZ-FNZPMICSPEBARPUNNIAPRCXHDLREDSIMPRLNDCSWLPIALPIAMAFMNPTIPAAIK-CDNXTDEM-CCLSFAX-OXBFTKETXOLAKESANRCLCBCLSCLS-RGSARGSAGLDLVDACALVDFHPPARABAGPENDTCPLENDLCCLSXBYFIE-SPGLRUENPACADTCK--KNT-RCSLPMEMTNGLNMEPSCMEMTFGFBNRHCBTBZ-RLOPFSFNTFSFNTPNESFIEDCUDPM-XOSRXFTAS-GBHSPTAPT--PARWBNFEHANDMDKMEMTAAN-DHCDHCDHCBANCKBANCKCPPARTBORTNCBORTNCYCUGXOLAXOLAEXOLA-SEHREPPMAVMEMTSCROBBKRUACTCSAFP-FRGNARCLSFEGHRAFDOABRKLPRFNRLEDN-HYMCDCCEYDPSDSFMKIPKIP--XTSPAFCPSUSRHDGSGPLGNRVCRSAGHYMHYM-----MRPDAMEMTTRIPASIHSHAND-FNZPAM-DCOYMPAGHRAPAGHRACALESH-TRDCSHPMPTKET-TRDC\n",
    "# Computed in 471.4808 seconds\n",
    "\n",
    "# Print where is ubicated, separate genes, length of the common chain, not only one unique common gene, identify the differences"
   ]
  },
  {
   "cell_type": "code",
   "execution_count": 53,
   "id": "d7d63981",
   "metadata": {},
   "outputs": [],
   "source": [
    "#sw_human.to_csv('S_W_Intermediate/sw_human.csv')\n",
    "#sw_gorilla.to_csv('S_W_Intermediate/sw_gorilla.csv')"
   ]
  },
  {
   "cell_type": "code",
   "execution_count": 54,
   "id": "48705409",
   "metadata": {},
   "outputs": [],
   "source": [
    "# Assigning the constants for the scores\n",
    "class Score(IntEnum):\n",
    "    MATCH = 1\n",
    "    MISMATCH = -1\n",
    "    GAP = -1\n",
    "\n",
    "# Assigning the constant values for the traceback\n",
    "class Trace(IntEnum):\n",
    "    STOP = 0\n",
    "    LEFT = 1 \n",
    "    UP = 2\n",
    "    DIAGONAL = 3"
   ]
  },
  {
   "cell_type": "code",
   "execution_count": 55,
   "id": "8bf2ed30",
   "metadata": {},
   "outputs": [
    {
     "data": {
      "text/plain": [
       "'\\nOLD VERSION\\n\\nseq1 = sw_human[\\'Gene\\'].array\\nseq2 = sw_gorilla_scaffold[\\'Gene\\'].array\\n\\nrow = len(seq1) + 1\\ncol = len(seq2) + 1\\nmatrix = np.zeros(shape=(row, col), dtype= int)  \\ntracing_matrix = np.zeros(shape=(row, col), dtype= int)  \\n\\n# Initialising the variables to find the highest scoring cell\\nmax_score = -1\\nmax_index = (-1, -1)\\n\\n# Calculating the scores for all cells in the matrix\\n\\nfor i in range(1, row):\\n    for j in range(1, col):\\n        # Calculating the diagonal score (match score)\\n        match_value = Score.MATCH if seq1[i - 1] == seq2[j - 1] else Score.MISMATCH\\n        diagonal_score = matrix[i - 1, j - 1] + match_value\\n        \\n        # Calculating the vertical gap score\\n        vertical_score = matrix[i - 1, j] + Score.GAP\\n        \\n        # Calculating the horizontal gap score\\n        horizontal_score = matrix[i, j - 1] + Score.GAP\\n        \\n        # Taking the highest score \\n        matrix[i, j] = max(0, diagonal_score, vertical_score, horizontal_score)\\n        \\n        # Tracking where the cell\\'s value is coming from    \\n        if matrix[i, j] == 0: \\n            tracing_matrix[i, j] = Trace.STOP\\n            \\n        elif matrix[i, j] == horizontal_score: \\n            tracing_matrix[i, j] = Trace.LEFT\\n            \\n        elif matrix[i, j] == vertical_score: \\n            tracing_matrix[i, j] = Trace.UP\\n            \\n        elif matrix[i, j] == diagonal_score: \\n            tracing_matrix[i, j] = Trace.DIAGONAL \\n            \\n        # Tracking the cell with the maximum score\\n        #If we want different strings, here we can define a threshold and keep track of all the higher values\\n        if matrix[i, j] >= max_score:\\n            max_index = (i,j)\\n            max_score = matrix[i, j]\\n\\n\\n# Initialising the variables for tracing\\naligned_seq1 = [[ ]] #\"\"\\naligned_seq2 = [[ ]] #\"\"   \\ncurrent_aligned_seq1 = [ ] #\"\"   \\ncurrent_aligned_seq2 = [ ] #\"\" ´\\ncurrent_index_seq1 = [ ]\\ncurrent_index_seq2 = [ ]\\nindex_seq1 = [ ]\\nindex_seq2 = [ ]\\n(max_i, max_j) = max_index\\n\\n# Tracing and computing the pathway with the local alignment\\nwhile tracing_matrix[max_i, max_j] != Trace.STOP:\\n    if tracing_matrix[max_i, max_j] == Trace.DIAGONAL:\\n        current_aligned_seq1.append(seq1[max_i - 1])\\n        current_aligned_seq2.append(seq2[max_j - 1])\\n        current_index_seq1.append(max_i)\\n        current_index_seq2.append(max_j)\\n        max_i = max_i - 1\\n        max_j = max_j - 1\\n        \\n    elif tracing_matrix[max_i, max_j] == Trace.UP:\\n        current_aligned_seq1.append(seq1[max_i - 1])\\n        current_aligned_seq2.append(\\'-\\')\\n        current_index_seq1.append(max_i)\\n        current_index_seq2.append(\\'-\\')\\n        max_i = max_i - 1    \\n        \\n    elif tracing_matrix[max_i, max_j] == Trace.LEFT:\\n        current_aligned_seq1.append(\\'-\\')\\n        current_aligned_seq2.append(seq2[max_j - 1])\\n        current_index_seq1.append(\\'-\\')\\n        current_index_seq2.append(max_j)\\n        max_j = max_j - 1\\n        \\n    aligned_seq1 = aligned_seq1 + current_aligned_seq1\\n    aligned_seq2 = aligned_seq2 + current_aligned_seq2\\n    index_seq1 += current_index_seq1 \\n    index_seq2 += current_index_seq2\\n\\n\\n# Reversing the order of the sequences\\naligned_seq1 = aligned_seq1[::-1] , index_seq1[::-1]\\naligned_seq2 = aligned_seq2[::-1], index_seq2[::-1]\\n        \\n'"
      ]
     },
     "execution_count": 55,
     "metadata": {},
     "output_type": "execute_result"
    }
   ],
   "source": [
    "'''\n",
    "OLD VERSION\n",
    "\n",
    "seq1 = sw_human['Gene'].array\n",
    "seq2 = sw_gorilla_scaffold['Gene'].array\n",
    "\n",
    "row = len(seq1) + 1\n",
    "col = len(seq2) + 1\n",
    "matrix = np.zeros(shape=(row, col), dtype= int)  \n",
    "tracing_matrix = np.zeros(shape=(row, col), dtype= int)  \n",
    "\n",
    "# Initialising the variables to find the highest scoring cell\n",
    "max_score = -1\n",
    "max_index = (-1, -1)\n",
    "\n",
    "# Calculating the scores for all cells in the matrix\n",
    "\n",
    "for i in range(1, row):\n",
    "    for j in range(1, col):\n",
    "        # Calculating the diagonal score (match score)\n",
    "        match_value = Score.MATCH if seq1[i - 1] == seq2[j - 1] else Score.MISMATCH\n",
    "        diagonal_score = matrix[i - 1, j - 1] + match_value\n",
    "        \n",
    "        # Calculating the vertical gap score\n",
    "        vertical_score = matrix[i - 1, j] + Score.GAP\n",
    "        \n",
    "        # Calculating the horizontal gap score\n",
    "        horizontal_score = matrix[i, j - 1] + Score.GAP\n",
    "        \n",
    "        # Taking the highest score \n",
    "        matrix[i, j] = max(0, diagonal_score, vertical_score, horizontal_score)\n",
    "        \n",
    "        # Tracking where the cell's value is coming from    \n",
    "        if matrix[i, j] == 0: \n",
    "            tracing_matrix[i, j] = Trace.STOP\n",
    "            \n",
    "        elif matrix[i, j] == horizontal_score: \n",
    "            tracing_matrix[i, j] = Trace.LEFT\n",
    "            \n",
    "        elif matrix[i, j] == vertical_score: \n",
    "            tracing_matrix[i, j] = Trace.UP\n",
    "            \n",
    "        elif matrix[i, j] == diagonal_score: \n",
    "            tracing_matrix[i, j] = Trace.DIAGONAL \n",
    "            \n",
    "        # Tracking the cell with the maximum score\n",
    "        #If we want different strings, here we can define a threshold and keep track of all the higher values\n",
    "        if matrix[i, j] >= max_score:\n",
    "            max_index = (i,j)\n",
    "            max_score = matrix[i, j]\n",
    "\n",
    "\n",
    "# Initialising the variables for tracing\n",
    "aligned_seq1 = [[ ]] #\"\"\n",
    "aligned_seq2 = [[ ]] #\"\"   \n",
    "current_aligned_seq1 = [ ] #\"\"   \n",
    "current_aligned_seq2 = [ ] #\"\" ´\n",
    "current_index_seq1 = [ ]\n",
    "current_index_seq2 = [ ]\n",
    "index_seq1 = [ ]\n",
    "index_seq2 = [ ]\n",
    "(max_i, max_j) = max_index\n",
    "\n",
    "# Tracing and computing the pathway with the local alignment\n",
    "while tracing_matrix[max_i, max_j] != Trace.STOP:\n",
    "    if tracing_matrix[max_i, max_j] == Trace.DIAGONAL:\n",
    "        current_aligned_seq1.append(seq1[max_i - 1])\n",
    "        current_aligned_seq2.append(seq2[max_j - 1])\n",
    "        current_index_seq1.append(max_i)\n",
    "        current_index_seq2.append(max_j)\n",
    "        max_i = max_i - 1\n",
    "        max_j = max_j - 1\n",
    "        \n",
    "    elif tracing_matrix[max_i, max_j] == Trace.UP:\n",
    "        current_aligned_seq1.append(seq1[max_i - 1])\n",
    "        current_aligned_seq2.append('-')\n",
    "        current_index_seq1.append(max_i)\n",
    "        current_index_seq2.append('-')\n",
    "        max_i = max_i - 1    \n",
    "        \n",
    "    elif tracing_matrix[max_i, max_j] == Trace.LEFT:\n",
    "        current_aligned_seq1.append('-')\n",
    "        current_aligned_seq2.append(seq2[max_j - 1])\n",
    "        current_index_seq1.append('-')\n",
    "        current_index_seq2.append(max_j)\n",
    "        max_j = max_j - 1\n",
    "        \n",
    "    aligned_seq1 = aligned_seq1 + current_aligned_seq1\n",
    "    aligned_seq2 = aligned_seq2 + current_aligned_seq2\n",
    "    index_seq1 += current_index_seq1 \n",
    "    index_seq2 += current_index_seq2\n",
    "\n",
    "\n",
    "# Reversing the order of the sequences\n",
    "aligned_seq1 = aligned_seq1[::-1] , index_seq1[::-1]\n",
    "aligned_seq2 = aligned_seq2[::-1], index_seq2[::-1]\n",
    "        \n",
    "'''"
   ]
  },
  {
   "cell_type": "markdown",
   "id": "b68fb176",
   "metadata": {},
   "source": [
    "Modification of S-W to keep indexes"
   ]
  },
  {
   "cell_type": "code",
   "execution_count": 56,
   "id": "67b411fd",
   "metadata": {},
   "outputs": [],
   "source": [
    "#Modification of S-W to compute it directly in a dataframe with all the indexes; not just an array of genes\n",
    "\n",
    "tic = time.perf_counter()\n",
    "\n",
    "seq1 = sw_human     # 0: index ; 1: Gene\n",
    "seq2 = sw_gorilla\n",
    "\n",
    "row = len(seq1) + 1\n",
    "col = len(seq2) + 1\n",
    "matrix = np.zeros(shape=(row, col), dtype= int)  \n",
    "tracing_matrix = np.zeros(shape=(row, col), dtype= int)  \n",
    "\n",
    "# Initialising the variables to find the highest scoring cell\n",
    "max_score = -1\n",
    "max_index = (-1, -1)\n",
    "\n",
    "# Calculating the scores for all cells in the matrix\n",
    "\n",
    "for i in range(1, row):\n",
    "    for j in range(1, col):\n",
    "        # Calculating the diagonal score (match score)\n",
    "        match_value = Score.MATCH if seq1.iloc[i - 1, 1] == seq2.iloc[j - 1, 1] else Score.MISMATCH\n",
    "        diagonal_score = matrix[i - 1, j - 1] + match_value\n",
    "        \n",
    "        # Calculating the vertical gap score\n",
    "        vertical_score = matrix[i - 1, j] + Score.GAP\n",
    "        \n",
    "        # Calculating the horizontal gap score\n",
    "        horizontal_score = matrix[i, j - 1] + Score.GAP\n",
    "        \n",
    "        # Taking the highest score \n",
    "        matrix[i, j] = max(0, diagonal_score, vertical_score, horizontal_score)\n",
    "        \n",
    "        # Tracking where the cell's value is coming from    \n",
    "        if matrix[i, j] == 0: \n",
    "            tracing_matrix[i, j] = Trace.STOP\n",
    "            \n",
    "        elif matrix[i, j] == horizontal_score: \n",
    "            tracing_matrix[i, j] = Trace.LEFT\n",
    "            \n",
    "        elif matrix[i, j] == vertical_score: \n",
    "            tracing_matrix[i, j] = Trace.UP\n",
    "            \n",
    "        elif matrix[i, j] == diagonal_score: \n",
    "            tracing_matrix[i, j] = Trace.DIAGONAL \n",
    "            \n",
    "        # Tracking the cell with the maximum score\n",
    "        #If we want different strings, here we can define a threshold and keep track of all the higher values\n",
    "        if matrix[i, j] >= max_score:\n",
    "            max_index = (i,j)\n",
    "            max_score = matrix[i, j]\n",
    "\n",
    "\n",
    "# Initialising the variables for tracing\n",
    "aligned_seq1 = [[ ]] #\"\"\n",
    "aligned_seq2 = [[ ]] #\"\"   \n",
    "current_aligned_seq1 = [ ] #\"\"   \n",
    "current_aligned_seq2 = [ ] #\"\" ´\n",
    "current_index_seq1 = [ ]\n",
    "current_index_seq2 = [ ]\n",
    "index_seq1 = [ ]\n",
    "index_seq2 = [ ]\n",
    "(max_i, max_j) = max_index\n",
    "\n",
    "# Tracing and computing the pathway with the local alignment\n",
    "while tracing_matrix[max_i, max_j] != Trace.STOP:\n",
    "    if tracing_matrix[max_i, max_j] == Trace.DIAGONAL:\n",
    "        current_aligned_seq1.append(seq1.iloc[max_i - 1, 1])\n",
    "        current_aligned_seq2.append(seq2.iloc[max_j - 1, 1])\n",
    "        current_index_seq1.append(seq1.iloc[max_i - 1, 0])\n",
    "        current_index_seq2.append(seq2.iloc[max_j - 1, 0])\n",
    "        max_i = max_i - 1\n",
    "        max_j = max_j - 1\n",
    "        \n",
    "    elif tracing_matrix[max_i, max_j] == Trace.UP:\n",
    "        current_aligned_seq1.append(seq1.iloc[max_i - 1, 1])\n",
    "        current_aligned_seq2.append('-')\n",
    "        current_index_seq1.append(seq1.iloc[max_i - 1, 0])\n",
    "        current_index_seq2.append('-')\n",
    "        max_i = max_i - 1    \n",
    "        \n",
    "    elif tracing_matrix[max_i, max_j] == Trace.LEFT:\n",
    "        current_aligned_seq1.append('-')\n",
    "        current_aligned_seq2.append(seq2.iloc[max_j - 1, 1])\n",
    "        current_index_seq1.append('-')\n",
    "        current_index_seq2.append(seq2.iloc[max_j - 1, 0])\n",
    "        max_j = max_j - 1\n",
    "    \n",
    "    # Is this needed? Ask\n",
    "    #aligned_seq1 = aligned_seq1 + current_aligned_seq1\n",
    "    #aligned_seq2 = aligned_seq2 + current_aligned_seq2\n",
    "    #index_seq1 += current_index_seq1 \n",
    "    #index_seq2 += current_index_seq2\n",
    "\n",
    "\n",
    "# Reversing the order of the sequences\n",
    "#aligned_seq1 = aligned_seq1[::-1] , index_seq1[::-1]\n",
    "#aligned_seq2 = aligned_seq2[::-1], index_seq2[::-1]\n",
    "\n",
    "toc = time.perf_counter()"
   ]
  },
  {
   "cell_type": "code",
   "execution_count": 57,
   "id": "c41d6115",
   "metadata": {},
   "outputs": [
    {
     "name": "stdout",
     "output_type": "stream",
     "text": [
      "Computed in 1731.1633 seconds\n"
     ]
    }
   ],
   "source": [
    "print(f\"Computed in {toc - tic:0.4f} seconds\")"
   ]
  },
  {
   "cell_type": "markdown",
   "id": "7f0c1d9f",
   "metadata": {},
   "source": [
    "Idea: Once we have it in array format, we can make computations regarding the % of similarity"
   ]
  },
  {
   "cell_type": "code",
   "execution_count": 58,
   "id": "d65581a1",
   "metadata": {},
   "outputs": [],
   "source": [
    "align_seq1 = pd.DataFrame({'Original Position' : current_index_seq1[::-1], 'Gene': current_aligned_seq1[::-1]}).merge(human[['index', '#Replicon Name', 'Replicon Accession']], left_on = 'Original Position', right_on = 'index', how = 'left')\n",
    "align_seq2 = pd.DataFrame({'Original Position' : current_index_seq2[::-1], 'Gene': current_aligned_seq2[::-1]}).merge(gorilla[['index', '#Replicon Name', 'Replicon Accession']], left_on = 'Original Position', right_on = 'index', how = 'left')\n",
    "\n",
    "align_seq1.rename(columns={'Original Position': 'Human Original Position', 'Gene' : 'Human Gene', '#Replicon Name': 'Human Replicon Name', 'Replicon Accession' : 'Human Replicon Accession'}, inplace = True)\n",
    "align_seq2.rename(columns={'Original Position': 'Gorilla Original Position', 'Gene' : 'Gorilla Gene', '#Replicon Name': 'Gorilla Replicon Name', 'Replicon Accession' : 'Gorilla Replicon Accession'}, inplace = True)\n",
    "all = align_seq1.loc[:, align_seq1.columns != 'index'].merge(align_seq2.loc[:, align_seq2.columns != 'index'], right_index = True, left_index = True)\n",
    "all = all.reindex(\n",
    "    columns = ['Human Original Position', 'Human Replicon Name',\n",
    "    'Human Replicon Accession', 'Human Gene', 'Gorilla Gene', 'Gorilla Original Position',\n",
    "    'Gorilla Replicon Name', 'Gorilla Replicon Accession'])\n",
    "\n",
    "writer = pd.ExcelWriter('S_W_Intermediate/output_current_{}.xlsx'.format(dt.now().strftime('%Y%m%d_%H%M%S')))\n",
    "all.to_excel(writer)\n",
    "#align_seq1.to_excel(writer, sheet_name = 'human_NC_000017.11')\n",
    "#align_seq2.to_excel(writer, sheet_name = 'gorilla')\n",
    "writer.save()"
   ]
  },
  {
   "cell_type": "code",
   "execution_count": 59,
   "id": "50c2eeae",
   "metadata": {},
   "outputs": [
    {
     "data": {
      "text/plain": [
       "\"\\nwriter = pd.ExcelWriter('S_W_Results/output_{}.xlsx'.format(dt.now().strftime('%Y%m%d_%H%M%S')))\\npd.DataFrame(aligned_seq1).to_excel(writer, sheet_name = file_1_name, index = False, header = False)\\npd.DataFrame(aligned_seq2).to_excel(writer, sheet_name = file_2_name, index = False, header = False)\\nwriter.save()\\n\""
      ]
     },
     "execution_count": 59,
     "metadata": {},
     "output_type": "execute_result"
    }
   ],
   "source": [
    "'''\n",
    "writer = pd.ExcelWriter('S_W_Results/output_{}.xlsx'.format(dt.now().strftime('%Y%m%d_%H%M%S')))\n",
    "pd.DataFrame(aligned_seq1).to_excel(writer, sheet_name = file_1_name, index = False, header = False)\n",
    "pd.DataFrame(aligned_seq2).to_excel(writer, sheet_name = file_2_name, index = False, header = False)\n",
    "writer.save()\n",
    "'''"
   ]
  },
  {
   "cell_type": "markdown",
   "id": "265ed33c",
   "metadata": {},
   "source": [
    "Analyse the S-W matrix to see if there exist other alingments, in this case (human NC_000017.11 scaffold vs gorilla)"
   ]
  },
  {
   "cell_type": "code",
   "execution_count": 72,
   "id": "cdb8fb69",
   "metadata": {},
   "outputs": [],
   "source": [
    "matrix.tofile('S_W_Intermediate/matrix.csv', sep = ',')"
   ]
  },
  {
   "cell_type": "markdown",
   "id": "01d3d173",
   "metadata": {},
   "source": [
    "Matrix to big to analyse element wise -> alternative, create a heatmap to see if there exist other regions where there are matches, i.e., exist positive values"
   ]
  },
  {
   "cell_type": "code",
   "execution_count": 85,
   "id": "a1551112",
   "metadata": {},
   "outputs": [
    {
     "data": {
      "text/plain": [
       "<AxesSubplot:>"
      ]
     },
     "execution_count": 85,
     "metadata": {},
     "output_type": "execute_result"
    },
    {
     "data": {
      "image/png": "[encoded data removed]",
      "text/plain": [
       "<Figure size 432x288 with 2 Axes>"
      ]
     },
     "metadata": {
      "needs_background": "light"
     },
     "output_type": "display_data"
    }
   ],
   "source": [
    "import seaborn as sns\n",
    "sns.heatmap(matrix, vmax = 100)"
   ]
  },
  {
   "cell_type": "code",
   "execution_count": 77,
   "id": "b15826c5",
   "metadata": {},
   "outputs": [
    {
     "data": {
      "text/plain": [
       "134623"
      ]
     },
     "execution_count": 77,
     "metadata": {},
     "output_type": "execute_result"
    }
   ],
   "source": [
    "np.count_nonzero(matrix)"
   ]
  },
  {
   "cell_type": "code",
   "execution_count": 83,
   "id": "b75dc853",
   "metadata": {},
   "outputs": [
    {
     "data": {
      "text/plain": [
       "(1319, 17434)"
      ]
     },
     "execution_count": 83,
     "metadata": {},
     "output_type": "execute_result"
    }
   ],
   "source": [
    "np.shape(matrix)"
   ]
  },
  {
   "cell_type": "code",
   "execution_count": 84,
   "id": "4e76c2a9",
   "metadata": {},
   "outputs": [
    {
     "data": {
      "text/plain": [
       "22995446"
      ]
     },
     "execution_count": 84,
     "metadata": {},
     "output_type": "execute_result"
    }
   ],
   "source": [
    "17434*1319"
   ]
  }
 ],
 "metadata": {
  "kernelspec": {
   "display_name": "Python 3.7.9 64-bit",
   "language": "python",
   "name": "python3"
  },
  "language_info": {
   "codemirror_mode": {
    "name": "ipython",
    "version": 3
   },
   "file_extension": ".py",
   "mimetype": "text/x-python",
   "name": "python",
   "nbconvert_exporter": "python",
   "pygments_lexer": "ipython3",
   "version": "3.7.9"
  },
  "vscode": {
   "interpreter": {
    "hash": "5109d816b82be14675a6b11f8e0f0d2e80f029176ed3710d54e125caa8520dfd"
   }
  }
 },
 "nbformat": 4,
 "nbformat_minor": 5
}
