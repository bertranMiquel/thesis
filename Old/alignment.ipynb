{
 "cells": [
  {
   "cell_type": "code",
   "execution_count": 1,
   "metadata": {},
   "outputs": [],
   "source": [
    "import pandas as pd\n",
    "import time\n",
    "import numpy as np\n",
    "from enum import IntEnum\n",
    "from datetime import datetime as dt\n",
    "import os\n",
    "import seaborn as sns\n",
    "import xlsxwriter\n",
    "from matplotlib import pyplot as plt\n",
    "import feather\n",
    "import pathlib as Path\n",
    "import logging\n",
    "\n",
    "logging.basicConfig(\n",
    "    format='%(asctime)s - %(message)s',\n",
    "    datefmt='%Y-%m-%d %H:%M:%S',\n",
    "    level=logging.INFO,\n",
    ")\n",
    "\n",
    "# Import the functions from the other scripts\n",
    "import read_k_mers as rkm\n",
    "import k_mers_metric as kmm\n",
    "import count_k_mers as ckm\n",
    "import swco\n",
    "import metric as me\n",
    "import alignment as al\n",
    "import annotation_length\n",
    "import read_annotations as ra\n",
    "\n",
    "%load_ext autoreload\n",
    "%autoreload 2"
   ]
  },
  {
   "cell_type": "code",
   "execution_count": 2,
   "metadata": {},
   "outputs": [],
   "source": [
    "# Read the annotations of all the species\n",
    "# These annotations are all ready preprocessed (filtered, deduplicated and enriched with features)\n",
    "# Read them after the add_features step\n",
    "#df_annotations = ra.read_annotations('../Data/Intermediate/Dmitrii/interim/feature_enriched/', species=['Golden spiny mouse', 'Human'])\n",
    "df_annotations = pd.read_feather('../Data/Intermediate/interim/feature_enriched/df_annotations.feather')"
   ]
  },
  {
   "cell_type": "code",
   "execution_count": 12,
   "metadata": {},
   "outputs": [
    {
     "data": {
      "text/plain": [
       "526948"
      ]
     },
     "execution_count": 12,
     "metadata": {},
     "output_type": "execute_result"
    }
   ],
   "source": [
    "df_annotations.protein_product.nunique()"
   ]
  },
  {
   "cell_type": "code",
   "execution_count": 13,
   "metadata": {},
   "outputs": [
    {
     "data": {
      "text/plain": [
       "526948"
      ]
     },
     "execution_count": 13,
     "metadata": {},
     "output_type": "execute_result"
    }
   ],
   "source": [
    "gene_id_check = df_annotations[['gene_id', 'protein_product']].drop_duplicates()\n",
    "gene_id_check.protein_product.count()"
   ]
  },
  {
   "cell_type": "code",
   "execution_count": 7,
   "metadata": {},
   "outputs": [
    {
     "data": {
      "text/html": [
       "<div>\n",
       "<style scoped>\n",
       "    .dataframe tbody tr th:only-of-type {\n",
       "        vertical-align: middle;\n",
       "    }\n",
       "\n",
       "    .dataframe tbody tr th {\n",
       "        vertical-align: top;\n",
       "    }\n",
       "\n",
       "    .dataframe thead th {\n",
       "        text-align: right;\n",
       "    }\n",
       "</style>\n",
       "<table border=\"1\" class=\"dataframe\">\n",
       "  <thead>\n",
       "    <tr style=\"text-align: right;\">\n",
       "      <th></th>\n",
       "      <th>index</th>\n",
       "      <th>replicon_accession</th>\n",
       "      <th>start</th>\n",
       "      <th>stop</th>\n",
       "      <th>strand</th>\n",
       "      <th>gene_id</th>\n",
       "      <th>locus</th>\n",
       "      <th>protein_product</th>\n",
       "      <th>protein_name</th>\n",
       "      <th>replicon_length</th>\n",
       "      <th>replicon_name</th>\n",
       "      <th>species</th>\n",
       "      <th>strict_locus</th>\n",
       "      <th>relaxed_locus</th>\n",
       "      <th>species_gcf_id</th>\n",
       "    </tr>\n",
       "  </thead>\n",
       "  <tbody>\n",
       "    <tr>\n",
       "      <th>27349</th>\n",
       "      <td>27349</td>\n",
       "      <td>NC_000002.12</td>\n",
       "      <td>88857361</td>\n",
       "      <td>88857683</td>\n",
       "      <td>-</td>\n",
       "      <td>3514</td>\n",
       "      <td>IGKC</td>\n",
       "      <td>&lt;NA&gt;</td>\n",
       "      <td>&lt;NA&gt;</td>\n",
       "      <td>242193529</td>\n",
       "      <td>2</td>\n",
       "      <td>Human</td>\n",
       "      <td>IGKC</td>\n",
       "      <td>IGKC</td>\n",
       "      <td>GCF_000001405</td>\n",
       "    </tr>\n",
       "    <tr>\n",
       "      <th>27350</th>\n",
       "      <td>27350</td>\n",
       "      <td>NC_000002.12</td>\n",
       "      <td>88860568</td>\n",
       "      <td>88860605</td>\n",
       "      <td>-</td>\n",
       "      <td>28946</td>\n",
       "      <td>IGKJ5</td>\n",
       "      <td>&lt;NA&gt;</td>\n",
       "      <td>&lt;NA&gt;</td>\n",
       "      <td>242193529</td>\n",
       "      <td>2</td>\n",
       "      <td>Human</td>\n",
       "      <td>IGKJ</td>\n",
       "      <td>IGKJ</td>\n",
       "      <td>GCF_000001405</td>\n",
       "    </tr>\n",
       "    <tr>\n",
       "      <th>27351</th>\n",
       "      <td>27351</td>\n",
       "      <td>NC_000002.12</td>\n",
       "      <td>88860886</td>\n",
       "      <td>88860923</td>\n",
       "      <td>-</td>\n",
       "      <td>28947</td>\n",
       "      <td>IGKJ4</td>\n",
       "      <td>&lt;NA&gt;</td>\n",
       "      <td>&lt;NA&gt;</td>\n",
       "      <td>242193529</td>\n",
       "      <td>2</td>\n",
       "      <td>Human</td>\n",
       "      <td>IGKJ</td>\n",
       "      <td>IGKJ</td>\n",
       "      <td>GCF_000001405</td>\n",
       "    </tr>\n",
       "    <tr>\n",
       "      <th>27352</th>\n",
       "      <td>27352</td>\n",
       "      <td>NC_000002.12</td>\n",
       "      <td>88861221</td>\n",
       "      <td>88861258</td>\n",
       "      <td>-</td>\n",
       "      <td>28948</td>\n",
       "      <td>IGKJ3</td>\n",
       "      <td>&lt;NA&gt;</td>\n",
       "      <td>&lt;NA&gt;</td>\n",
       "      <td>242193529</td>\n",
       "      <td>2</td>\n",
       "      <td>Human</td>\n",
       "      <td>IGKJ</td>\n",
       "      <td>IGKJ</td>\n",
       "      <td>GCF_000001405</td>\n",
       "    </tr>\n",
       "    <tr>\n",
       "      <th>27353</th>\n",
       "      <td>27353</td>\n",
       "      <td>NC_000002.12</td>\n",
       "      <td>88861525</td>\n",
       "      <td>88861563</td>\n",
       "      <td>-</td>\n",
       "      <td>28949</td>\n",
       "      <td>IGKJ2</td>\n",
       "      <td>&lt;NA&gt;</td>\n",
       "      <td>&lt;NA&gt;</td>\n",
       "      <td>242193529</td>\n",
       "      <td>2</td>\n",
       "      <td>Human</td>\n",
       "      <td>IGKJ</td>\n",
       "      <td>IGKJ</td>\n",
       "      <td>GCF_000001405</td>\n",
       "    </tr>\n",
       "    <tr>\n",
       "      <th>...</th>\n",
       "      <td>...</td>\n",
       "      <td>...</td>\n",
       "      <td>...</td>\n",
       "      <td>...</td>\n",
       "      <td>...</td>\n",
       "      <td>...</td>\n",
       "      <td>...</td>\n",
       "      <td>...</td>\n",
       "      <td>...</td>\n",
       "      <td>...</td>\n",
       "      <td>...</td>\n",
       "      <td>...</td>\n",
       "      <td>...</td>\n",
       "      <td>...</td>\n",
       "      <td>...</td>\n",
       "    </tr>\n",
       "    <tr>\n",
       "      <th>2278300</th>\n",
       "      <td>160994</td>\n",
       "      <td>NC_052566.1</td>\n",
       "      <td>138778</td>\n",
       "      <td>139080</td>\n",
       "      <td>+</td>\n",
       "      <td>431524</td>\n",
       "      <td>VH26L1</td>\n",
       "      <td>&lt;NA&gt;</td>\n",
       "      <td>Ig mu chain C region-like isoform X3</td>\n",
       "      <td>554126</td>\n",
       "      <td>35</td>\n",
       "      <td>Chicken</td>\n",
       "      <td>VH</td>\n",
       "      <td>VH26L</td>\n",
       "      <td>GCF_016699485</td>\n",
       "    </tr>\n",
       "    <tr>\n",
       "      <th>2278301</th>\n",
       "      <td>160995</td>\n",
       "      <td>NC_052566.1</td>\n",
       "      <td>144497</td>\n",
       "      <td>144805</td>\n",
       "      <td>+</td>\n",
       "      <td>431524</td>\n",
       "      <td>VH26L1</td>\n",
       "      <td>&lt;NA&gt;</td>\n",
       "      <td>Ig mu chain C region-like isoform X3</td>\n",
       "      <td>554126</td>\n",
       "      <td>35</td>\n",
       "      <td>Chicken</td>\n",
       "      <td>VH</td>\n",
       "      <td>VH26L</td>\n",
       "      <td>GCF_016699485</td>\n",
       "    </tr>\n",
       "    <tr>\n",
       "      <th>2278302</th>\n",
       "      <td>160996</td>\n",
       "      <td>NC_052566.1</td>\n",
       "      <td>151876</td>\n",
       "      <td>152202</td>\n",
       "      <td>+</td>\n",
       "      <td>431524</td>\n",
       "      <td>VH26L1</td>\n",
       "      <td>&lt;NA&gt;</td>\n",
       "      <td>Ig mu chain C region-like isoform X3</td>\n",
       "      <td>554126</td>\n",
       "      <td>35</td>\n",
       "      <td>Chicken</td>\n",
       "      <td>VH</td>\n",
       "      <td>VH26L</td>\n",
       "      <td>GCF_016699485</td>\n",
       "    </tr>\n",
       "    <tr>\n",
       "      <th>2278303</th>\n",
       "      <td>160997</td>\n",
       "      <td>NC_052566.1</td>\n",
       "      <td>154380</td>\n",
       "      <td>154741</td>\n",
       "      <td>+</td>\n",
       "      <td>431524</td>\n",
       "      <td>VH26L1</td>\n",
       "      <td>&lt;NA&gt;</td>\n",
       "      <td>Ig mu chain C region-like isoform X3</td>\n",
       "      <td>554126</td>\n",
       "      <td>35</td>\n",
       "      <td>Chicken</td>\n",
       "      <td>VH</td>\n",
       "      <td>VH26L</td>\n",
       "      <td>GCF_016699485</td>\n",
       "    </tr>\n",
       "    <tr>\n",
       "      <th>2278304</th>\n",
       "      <td>160998</td>\n",
       "      <td>NC_052566.1</td>\n",
       "      <td>155480</td>\n",
       "      <td>155512</td>\n",
       "      <td>+</td>\n",
       "      <td>431524</td>\n",
       "      <td>VH26L1</td>\n",
       "      <td>&lt;NA&gt;</td>\n",
       "      <td>Ig mu chain C region-like isoform X3</td>\n",
       "      <td>554126</td>\n",
       "      <td>35</td>\n",
       "      <td>Chicken</td>\n",
       "      <td>VH</td>\n",
       "      <td>VH26L</td>\n",
       "      <td>GCF_016699485</td>\n",
       "    </tr>\n",
       "  </tbody>\n",
       "</table>\n",
       "<p>1530 rows × 15 columns</p>\n",
       "</div>"
      ],
      "text/plain": [
       "          index replicon_accession     start      stop strand gene_id   locus  \\\n",
       "27349     27349       NC_000002.12  88857361  88857683      -    3514    IGKC   \n",
       "27350     27350       NC_000002.12  88860568  88860605      -   28946   IGKJ5   \n",
       "27351     27351       NC_000002.12  88860886  88860923      -   28947   IGKJ4   \n",
       "27352     27352       NC_000002.12  88861221  88861258      -   28948   IGKJ3   \n",
       "27353     27353       NC_000002.12  88861525  88861563      -   28949   IGKJ2   \n",
       "...         ...                ...       ...       ...    ...     ...     ...   \n",
       "2278300  160994        NC_052566.1    138778    139080      +  431524  VH26L1   \n",
       "2278301  160995        NC_052566.1    144497    144805      +  431524  VH26L1   \n",
       "2278302  160996        NC_052566.1    151876    152202      +  431524  VH26L1   \n",
       "2278303  160997        NC_052566.1    154380    154741      +  431524  VH26L1   \n",
       "2278304  160998        NC_052566.1    155480    155512      +  431524  VH26L1   \n",
       "\n",
       "        protein_product                          protein_name  \\\n",
       "27349              <NA>                                  <NA>   \n",
       "27350              <NA>                                  <NA>   \n",
       "27351              <NA>                                  <NA>   \n",
       "27352              <NA>                                  <NA>   \n",
       "27353              <NA>                                  <NA>   \n",
       "...                 ...                                   ...   \n",
       "2278300            <NA>  Ig mu chain C region-like isoform X3   \n",
       "2278301            <NA>  Ig mu chain C region-like isoform X3   \n",
       "2278302            <NA>  Ig mu chain C region-like isoform X3   \n",
       "2278303            <NA>  Ig mu chain C region-like isoform X3   \n",
       "2278304            <NA>  Ig mu chain C region-like isoform X3   \n",
       "\n",
       "         replicon_length replicon_name  species strict_locus relaxed_locus  \\\n",
       "27349          242193529             2    Human         IGKC          IGKC   \n",
       "27350          242193529             2    Human         IGKJ          IGKJ   \n",
       "27351          242193529             2    Human         IGKJ          IGKJ   \n",
       "27352          242193529             2    Human         IGKJ          IGKJ   \n",
       "27353          242193529             2    Human         IGKJ          IGKJ   \n",
       "...                  ...           ...      ...          ...           ...   \n",
       "2278300           554126            35  Chicken           VH         VH26L   \n",
       "2278301           554126            35  Chicken           VH         VH26L   \n",
       "2278302           554126            35  Chicken           VH         VH26L   \n",
       "2278303           554126            35  Chicken           VH         VH26L   \n",
       "2278304           554126            35  Chicken           VH         VH26L   \n",
       "\n",
       "        species_gcf_id  \n",
       "27349    GCF_000001405  \n",
       "27350    GCF_000001405  \n",
       "27351    GCF_000001405  \n",
       "27352    GCF_000001405  \n",
       "27353    GCF_000001405  \n",
       "...                ...  \n",
       "2278300  GCF_016699485  \n",
       "2278301  GCF_016699485  \n",
       "2278302  GCF_016699485  \n",
       "2278303  GCF_016699485  \n",
       "2278304  GCF_016699485  \n",
       "\n",
       "[1530 rows x 15 columns]"
      ]
     },
     "execution_count": 7,
     "metadata": {},
     "output_type": "execute_result"
    }
   ],
   "source": [
    "# Check if there is any NaN in gene_id or protein_product fields\n",
    "df_annotations[df_annotations['protein_product'].isna()]"
   ]
  },
  {
   "cell_type": "code",
   "execution_count": 3,
   "metadata": {},
   "outputs": [
    {
     "data": {
      "text/plain": [
       "5595"
      ]
     },
     "execution_count": 3,
     "metadata": {},
     "output_type": "execute_result"
    }
   ],
   "source": [
    "df_annotations.replicon_accession.nunique()"
   ]
  },
  {
   "cell_type": "code",
   "execution_count": 14,
   "metadata": {},
   "outputs": [],
   "source": [
    "df_annotations.loc[df_annotations['species'] == 'Golden spiny mouse'].to_csv('../Data/Intermediate/golden_spiny_mouse_annotations.csv', index=False)"
   ]
  },
  {
   "cell_type": "code",
   "execution_count": 4,
   "metadata": {},
   "outputs": [],
   "source": [
    "# Read the length of each scaffold for all the species\n",
    "\n",
    "# If we need to create/update the length files\n",
    "# annotation_length.get_length(df_annotations, 'replicon_accession')\n",
    "\n",
    "# If we already have the length files\n",
    "df_replicon_accession_length = annotation_length.read_length('replicon_accession')"
   ]
  },
  {
   "cell_type": "code",
   "execution_count": 5,
   "metadata": {},
   "outputs": [
    {
     "name": "stdout",
     "output_type": "stream",
     "text": [
      "<class 'pandas.core.frame.DataFrame'>\n",
      "RangeIndex: 5595 entries, 0 to 5594\n",
      "Data columns (total 4 columns):\n",
      " #   Column              Non-Null Count  Dtype \n",
      "---  ------              --------------  ----- \n",
      " 0   replicon_accession  5595 non-null   string\n",
      " 1   length              5595 non-null   int64 \n",
      " 2   start               5595 non-null   int64 \n",
      " 3   stop                5595 non-null   int64 \n",
      "dtypes: int64(3), string(1)\n",
      "memory usage: 175.0 KB\n"
     ]
    }
   ],
   "source": [
    "df_replicon_accession_length.info()"
   ]
  },
  {
   "cell_type": "code",
   "execution_count": 6,
   "metadata": {},
   "outputs": [
    {
     "data": {
      "text/plain": [
       "count     5595.000000\n",
       "mean       754.608043\n",
       "std       2662.841903\n",
       "min          1.000000\n",
       "25%         12.000000\n",
       "50%         37.000000\n",
       "75%        129.000000\n",
       "max      40050.000000\n",
       "Name: length, dtype: float64"
      ]
     },
     "execution_count": 6,
     "metadata": {},
     "output_type": "execute_result"
    }
   ],
   "source": [
    "# Take a look at the length of the replicons\n",
    "df_replicon_accession_length['length'].describe()"
   ]
  },
  {
   "attachments": {},
   "cell_type": "markdown",
   "metadata": {},
   "source": [
    "Observe there are a lot of replicon accession with small amount of genes. Do not makes sense to keep them. We will remove them.\n",
    "Let us define a function which includes a threshold to remove replicons with small amount of genes."
   ]
  },
  {
   "cell_type": "code",
   "execution_count": 7,
   "metadata": {},
   "outputs": [],
   "source": [
    "# Ivan suggest to make the threshold equal to 10\n",
    "df_annotations = annotation_length.remove_short_replicons(df_annotations, df_replicon_accession_length, 10)"
   ]
  },
  {
   "cell_type": "code",
   "execution_count": 8,
   "metadata": {},
   "outputs": [
    {
     "name": "stdout",
     "output_type": "stream",
     "text": [
      "<class 'pandas.core.frame.DataFrame'>\n",
      "Int64Index: 4215465 entries, 0 to 4222031\n",
      "Data columns (total 15 columns):\n",
      " #   Column              Dtype \n",
      "---  ------              ----- \n",
      " 0   index               int64 \n",
      " 1   replicon_accession  string\n",
      " 2   start               int64 \n",
      " 3   stop                int64 \n",
      " 4   strand              string\n",
      " 5   gene_id             string\n",
      " 6   locus               string\n",
      " 7   protein_product     string\n",
      " 8   protein_name        string\n",
      " 9   replicon_length     int64 \n",
      " 10  replicon_name       string\n",
      " 11  species             object\n",
      " 12  strict_locus        string\n",
      " 13  relaxed_locus       string\n",
      " 14  species_gcf_id      object\n",
      "dtypes: int64(4), object(2), string(9)\n",
      "memory usage: 514.6+ MB\n"
     ]
    }
   ],
   "source": [
    "df_annotations.info()"
   ]
  },
  {
   "cell_type": "code",
   "execution_count": 9,
   "metadata": {},
   "outputs": [],
   "source": [
    "# Read the k-mers of all the species\n",
    "\n",
    "# To update them (if needed)\n",
    "# I want to update them once I run generate_k_mers rule from Snakemake\n",
    "#rkm.update_k_mers('../Data/Intermediate/k_mers/processed/', mode='strict')\n",
    "\n",
    "# To read them\n",
    "df_k_mers = pd.read_feather('../Data/Intermediate/k_mers/processed/df_k_mers_relaxed.feather')"
   ]
  },
  {
   "cell_type": "code",
   "execution_count": 10,
   "metadata": {},
   "outputs": [
    {
     "data": {
      "text/plain": [
       "3950"
      ]
     },
     "execution_count": 10,
     "metadata": {},
     "output_type": "execute_result"
    }
   ],
   "source": [
    "df_k_mers.replicon_accession.nunique()"
   ]
  },
  {
   "cell_type": "code",
   "execution_count": 11,
   "metadata": {},
   "outputs": [],
   "source": [
    "# Read the number of k-mers per scaffold\n",
    "\n",
    "# To update them (if needed)\n",
    "# I want to update them once I run generate_k_mers rule from Snakemake\n",
    "#ckm.count_k_mers(df_k_mers)\n",
    "\n",
    "# Read them\n",
    "k_mers_counter = pd.read_feather('../Data/Intermediate/k_mers/strict_count_k_mers_replicon_accession.feather')\n"
   ]
  },
  {
   "cell_type": "code",
   "execution_count": 12,
   "metadata": {},
   "outputs": [
    {
     "name": "stdout",
     "output_type": "stream",
     "text": [
      "<class 'pandas.core.frame.DataFrame'>\n",
      "RangeIndex: 28594 entries, 0 to 28593\n",
      "Data columns (total 4 columns):\n",
      " #   Column              Non-Null Count  Dtype \n",
      "---  ------              --------------  ----- \n",
      " 0   species             28594 non-null  object\n",
      " 1   replicon_accession  28594 non-null  object\n",
      " 2   k                   28594 non-null  object\n",
      " 3   total_k_mers        28594 non-null  int64 \n",
      "dtypes: int64(1), object(3)\n",
      "memory usage: 893.7+ KB\n"
     ]
    }
   ],
   "source": [
    "k_mers_counter.info()"
   ]
  },
  {
   "cell_type": "code",
   "execution_count": 13,
   "metadata": {},
   "outputs": [
    {
     "data": {
      "text/plain": [
       "4347"
      ]
     },
     "execution_count": 13,
     "metadata": {},
     "output_type": "execute_result"
    }
   ],
   "source": [
    "df_annotations.replicon_accession.nunique()"
   ]
  },
  {
   "cell_type": "code",
   "execution_count": 14,
   "metadata": {},
   "outputs": [
    {
     "data": {
      "text/plain": [
       "3950"
      ]
     },
     "execution_count": 14,
     "metadata": {},
     "output_type": "execute_result"
    }
   ],
   "source": [
    "df_k_mers.replicon_accession.nunique()"
   ]
  },
  {
   "cell_type": "code",
   "execution_count": 15,
   "metadata": {},
   "outputs": [
    {
     "data": {
      "text/plain": [
       "3819"
      ]
     },
     "execution_count": 15,
     "metadata": {},
     "output_type": "execute_result"
    }
   ],
   "source": [
    "k_mers_counter.replicon_accession.nunique()"
   ]
  },
  {
   "cell_type": "code",
   "execution_count": 16,
   "metadata": {},
   "outputs": [],
   "source": [
    "identify_no_k_mers = df_annotations.loc[~df_annotations.replicon_accession.isin(df_k_mers.replicon_accession), ['species', 'replicon_accession']]"
   ]
  },
  {
   "cell_type": "code",
   "execution_count": 17,
   "metadata": {},
   "outputs": [],
   "source": [
    "identify_no_k_mers_species = identify_no_k_mers.drop_duplicates()"
   ]
  },
  {
   "cell_type": "code",
   "execution_count": 18,
   "metadata": {},
   "outputs": [],
   "source": [
    "identify_no_k_mers_length = identify_no_k_mers_species.merge(df_replicon_accession_length, on='replicon_accession')"
   ]
  },
  {
   "cell_type": "code",
   "execution_count": 2,
   "metadata": {},
   "outputs": [
    {
     "ename": "NameError",
     "evalue": "name 'df_k_mers' is not defined",
     "output_type": "error",
     "traceback": [
      "\u001b[1;31m---------------------------------------------------------------------------\u001b[0m",
      "\u001b[1;31mNameError\u001b[0m                                 Traceback (most recent call last)",
      "Cell \u001b[1;32mIn[2], line 9\u001b[0m\n\u001b[0;32m      1\u001b[0m \u001b[39m# Alignment\u001b[39;00m\n\u001b[0;32m      2\u001b[0m \n\u001b[0;32m      3\u001b[0m \n\u001b[1;32m   (...)\u001b[0m\n\u001b[0;32m      6\u001b[0m \u001b[39m# We will use the Smith-Waterman algorithm\u001b[39;00m\n\u001b[0;32m      7\u001b[0m \u001b[39m# If those variables are empty, we will align all the species/scaffolds vs. all the species/scaffolds given in the dataframe\u001b[39;00m\n\u001b[1;32m----> 9\u001b[0m \u001b[39mdef\u001b[39;00m \u001b[39malignment\u001b[39m(mode, target_species\u001b[39m=\u001b[39m[], target_scaffold\u001b[39m=\u001b[39m[], query_species\u001b[39m=\u001b[39m[], query_scaffold\u001b[39m=\u001b[39m[], output_path\u001b[39m=\u001b[39m\u001b[39m'\u001b[39m\u001b[39m../Data/Intermediate/alignment/\u001b[39m\u001b[39m'\u001b[39m, df_k_mers\u001b[39m=\u001b[39mdf_k_mers, k_mers_counter\u001b[39m=\u001b[39mk_mers_counter, df_replicon_accession_length\u001b[39m=\u001b[39mdf_replicon_accession_length, df_annotations\u001b[39m=\u001b[39mdf_annotations):\n\u001b[0;32m     10\u001b[0m \n\u001b[0;32m     11\u001b[0m     \u001b[39m# Create the output_folder where the alignment results and plots will be stored\u001b[39;00m\n\u001b[0;32m     12\u001b[0m     output_path \u001b[39m=\u001b[39m al\u001b[39m.\u001b[39mcreate_output_folder(output_path)\n\u001b[0;32m     14\u001b[0m    \u001b[39m# If the target_species is empty, we will align all the species vs. all the species\u001b[39;00m\n",
      "\u001b[1;31mNameError\u001b[0m: name 'df_k_mers' is not defined"
     ]
    }
   ],
   "source": [
    "# Alignment\n",
    "\n",
    "\n",
    "# We will align the target species or scaffold vs. all the query species or scaffold\n",
    "# Always in this direction: target vs. query\n",
    "# We will use the Smith-Waterman algorithm\n",
    "# If those variables are empty, we will align all the species/scaffolds vs. all the species/scaffolds given in the dataframe\n",
    "\n",
    "def alignment(mode, target_species=[], target_scaffold=[], query_species=[], query_scaffold=[], output_path='../Data/Intermediate/alignment/', df_k_mers=df_k_mers, k_mers_counter=k_mers_counter, df_replicon_accession_length=df_replicon_accession_length, df_annotations=df_annotations):\n",
    "\n",
    "    # Create the output_folder where the alignment results and plots will be stored\n",
    "    output_path = al.create_output_folder(output_path)\n",
    "\n",
    "   # If the target_species is empty, we will align all the species vs. all the species\n",
    "    if not target_species:\n",
    "        target_species = df_annotations['species'].unique()\n",
    "\n",
    "    # If the target_scaffold is empty, we will align all the scaffolds of the target_species vs. all the scaffolds of the query_species\n",
    "    if not target_scaffold:\n",
    "        target_scaffold = df_annotations.loc[df_annotations['species'].isin(target_species), 'replicon_accession'].unique()\n",
    "    else:\n",
    "        # Check if the target scaffold belongs to the target species\n",
    "        if not df_annotations.loc[df_annotations['replicon_accession'].isin(target_scaffold), 'species'].isin(target_species).all():\n",
    "            raise Exception('The target scaffolds introduced do not belong to one of the target species')\n",
    "\n",
    "    # For visualization purposes, initialise some variables\n",
    "    blocks = []\n",
    "    align_counter = 0\n",
    "\n",
    "    # Smith-Waterman algorithm has some parameters\n",
    "    # Let's store them to write them in the output file\n",
    "    # The parameters can be modified in the swco.py script\n",
    "    params = pd.DataFrame({\n",
    "        'Description': ['', 'Parameters', 'Match', 'Mismatch', 'First gap', 'Consecutive gap'], \n",
    "        'Value': ['', '', swco.Score.MATCH, swco.Score.MISMATCH, swco.Score.FIRST_GAP, swco.Score.CONS_GAP]})\n",
    "\n",
    "    # When we do the alignment, we would like to keep the position of the genes in the table\n",
    "    # So, we will create a new column with the index of the row\n",
    "    df_annotations['index'] = df_annotations.index\n",
    "\n",
    "    for target_sp in target_species:\n",
    "\n",
    "        # Define the query_species\n",
    "        if not query_species:\n",
    "            query_species = df_annotations.loc[df_annotations['species'] != target_sp, 'species'].unique()\n",
    "        # Check that target_sp is not in query_species\n",
    "        elif target_sp in query_species:\n",
    "            query_species.remove(target_sp)\n",
    "        \n",
    "        # Define the query_scaffold\n",
    "        if not query_scaffold:\n",
    "            query_scaffold = df_annotations.loc[df_annotations['species'].isin(query_species), 'replicon_accession'].unique()\n",
    "        else:\n",
    "            # Sanity check: verify that the query_scaffold belong to the query_species\n",
    "            query_scaffold = df_annotations.loc[df_annotations['species'].isin(query_species) & df_annotations['replicon_accession'].isin(query_scaffold), 'replicon_accession'].unique()\n",
    "\n",
    "        # For each target_scaffold\n",
    "        for target_sc in target_scaffold:\n",
    "            \n",
    "            logging.info(f'Aligning {target_sp} {target_sc}')\n",
    "\n",
    "            # Define target as the annotations of this target scaffold\n",
    "            df_target = df_annotations.loc[(df_annotations['species'] == target_sp) & (df_annotations['replicon_accession'] == target_sc)]\n",
    "\n",
    "            # Now, we want to order the query scaffolds per species by similarity to the target scaffold\n",
    "            # So, we will first compare the target scaffold with the most similar query scaffolds\n",
    "            # Then, we will compare the target scaffold non-matching part with the second most similar query scaffolds and so on\n",
    "            # We have implemented a metric in order to compare them based in the k-mers\n",
    "            # This is implemented in the k_mers_metric.py script\n",
    "            \n",
    "            # Filter to keep only the relevant query scaffolds for this alignment\n",
    "            k_mers_counter_query = k_mers_counter.loc[k_mers_counter['replicon_accession'].isin(query_scaffold), ['species', 'replicon_accession', 'k', 'total_k_mers']]\n",
    "\n",
    "            # Return the similar scaffolds ordered by species and similarity descending\n",
    "            df_scaffold_cand = pd.DataFrame()\n",
    "            df_scaffold_cand = kmm.k_mers_to_metric(target_sc, level='replicon_accession', k_mers_counter=k_mers_counter_query, df_length=df_replicon_accession_length, df_k_mers=df_k_mers)\n",
    "\n",
    "            if df_scaffold_cand.empty:\n",
    "                logging.warning(f'No similar scaffolds for {target_sp} {target_sc}')\n",
    "                continue\n",
    "\n",
    "            # Target scaffold is compared versus the similarest scaffold of one specie\n",
    "            # Then, the non-matching part of the target scaffold is compared versus the second similarest scaffold of the same specie\n",
    "            # So, our df_target is going to be updated after each alignment, if we compare to the same species\n",
    "            # Then, we need a variable to keep the original df_target and to check if we change of query species\n",
    "            df_target_original = df_target.copy()\n",
    "            query_sp_old = ''\n",
    "\n",
    "            # Create an excel file to store the alignment results per each target scaffold\n",
    "            writer = pd.ExcelWriter(f'{output_path}/{target_sp}_{target_sc}.xlsx', engine='xlsxwriter')\n",
    "\n",
    "            # Write the results and the align species variables are needed\n",
    "            results = pd.DataFrame()\n",
    "            align_species = pd.DataFrame()\n",
    "\n",
    "            # Go through the list of similar scaffolds to apply Smith-Waterman algorithm\n",
    "            for query_sp, query_sc in zip(df_scaffold_cand['species'], df_scaffold_cand['replicon_accession']):\n",
    "                \n",
    "                # Keep the similarity ratio with us\n",
    "                sim_ratio = df_scaffold_cand.loc[(df_scaffold_cand['species'] == query_sp) & (df_scaffold_cand['replicon_accession'] == query_sc), 'metric'].values[0]\n",
    "                logging.info(f'Aligning {target_sp} {target_sc} vs. {query_sp} {query_sc} with similarity ratio: {sim_ratio:0.4f}')\n",
    "                # I do not get why this is not printing correctly sim_ratio. If I tried appart, it works.\n",
    "                \n",
    "                # If we change of query species, we need to update the df_target\n",
    "                if query_sp != query_sp_old:\n",
    "                    df_target = df_target_original.copy()\n",
    "                    query_sp_old = query_sp\n",
    "\n",
    "                    # Write the alignment results of the previous species\n",
    "                    if not align_species.empty:\n",
    "                        swco.write_alignment(align_species, query_sp, query_sc, writer)\n",
    "\n",
    "                # Define query as the annotations of this query scaffold\n",
    "                df_query = df_annotations.loc[(df_annotations['species'] == query_sp) & (df_annotations['replicon_accession'] == query_sc)]\n",
    "                \n",
    "                # Increase the align counter\n",
    "                align_counter += 1\n",
    "\n",
    "                # Initialise variables for the alignment\n",
    "                aligned_query = []\n",
    "                aligned_target = []\n",
    "                index_query = []\n",
    "                index_target = []\n",
    "                matrix = [[]]\n",
    "\n",
    "                ## Apply Smith-Waterman algorithm\n",
    "                # The results are stored in a dataframe\n",
    "                tic = time.perf_counter()\n",
    "                aligned_target, aligned_query, index_target, index_query, max_score, max_index, max_i, max_j, matrix = swco.smith_waterman(df_target, df_query, mode=mode)\n",
    "                toc = time.perf_counter()\n",
    "\n",
    "                # Time\n",
    "                logging.info(f'Alignment done in {toc - tic:0.4f} seconds')\n",
    "\n",
    "                tic = time.perf_counter()\n",
    "\n",
    "                ## Post processing\n",
    "                # From here on, we will process the results of the alignment, transforming them into some format to report the main information.\n",
    "                # That said, everything can be changed, except the blocks csv file which is used afterwards for the alignment visualization.\n",
    "\n",
    "                # If the alignment is empty, we will not store the results\n",
    "                if not aligned_target:\n",
    "                    logging.info(f'No alignment found for {target_sp} {target_sc} vs. {query_sp} {query_sc}')\n",
    "                    continue\n",
    "                \n",
    "                # Smith Waterman algorithm returns a target and a query aligned sequences, getting back the index and the locus. \n",
    "                # Merge this sequences to be able to represent them in a table\n",
    "                # Moreover, merge the aligned sequences with the master information from the original sequences, such as, replicon_accession, start, end, strand, etc.\n",
    "                align = pd.DataFrame()\n",
    "                align = swco.merge(df_target, df_query, aligned_target, index_target, aligned_query, index_query)\n",
    "\n",
    "                # | target locus | Result | query locus |\n",
    "                # |--------------|--------|-------------|\n",
    "                # | ABBB         |  Match | ABBB        |\n",
    "                # | ABBB        |  Gap    | -           |\n",
    "                # \n",
    "                # Scenarios like this should be tagged as a Duplicate genes, instead of a Gap\n",
    "                # There is a function to do this\n",
    "                # Look for the genes which have been duplicated and tag them as so, instead of tagging it as a Gap\n",
    "                align = swco.duplicate(align)\n",
    "\n",
    "                # Keep the results of the alignement per species\n",
    "                align_species = pd.concat([align_species, align])\n",
    "\n",
    "                toc = time.perf_counter()\n",
    "\n",
    "                d = toc-tic\n",
    "                logging.info(f'Postprocessed in {d:0.4f} seconds')\n",
    "\n",
    "                ## Write the alignment results\n",
    "                tic = time.perf_counter()\n",
    "\n",
    "                # Create an aggregation of the results information and write it in the excel workbook\n",
    "                # For this, we need all the information regarding the alignment and the two aligned sequences\n",
    "                # Gives us back the index information for later usage\n",
    "                # Also, another dataframe called blocks for doing the alignment visualization\n",
    "                len_target = len(df_target)\n",
    "                len_query = len(df_query)\n",
    "                index_target_no_gaps, actual_results, blocks = swco.summary_results(writer, aligned_query, aligned_target, index_query, index_target, align, target_sp, target_sc, query_sp, query_sc, len_target, len_query, sim_ratio, params, blocks, align_counter)\n",
    "                \n",
    "                # Keep track of the results per target_scaffold\n",
    "                # Aim is to have a table with some summarizing KPIs for all the alignments done\n",
    "                results = pd.concat([results, actual_results])\n",
    "\n",
    "                # Create a heatmap with the matrix information to represent which part of the sequences are more similar\n",
    "                swco.heatmap(writer, matrix, target_sp, target_sc, query_sp, query_sc, output_path)\n",
    "                \n",
    "                toc = time.perf_counter()\n",
    "\n",
    "                d = toc-tic\n",
    "                logging.info(f'Written in {d:0.4f} seconds')\n",
    "\n",
    "                # Remove the already aligned parts for the target scaffold\n",
    "                # For doing so, we need the index of the target scaffold already mapped\n",
    "                df_target = swco.remove_match_parts(df_target, index_target_no_gaps)\n",
    "\n",
    "                # Clean variables\n",
    "                del aligned_query, aligned_target, index_query, index_target, matrix, align\n",
    "\n",
    "            # Write the last alignment results\n",
    "            swco.write_alignment(align_species, query_sp, query_sc, writer)\n",
    "\n",
    "            # Write the results dataframe\n",
    "            results.to_excel(writer, sheet_name = 'Results', index = False)\n",
    "            writer.sheets['Results'].activate()\n",
    "            writer.close()   \n",
    "\n",
    "    # Before saving blocks, let's add column names to the list\n",
    "    blocks = pd.DataFrame(blocks)\n",
    "    blocks.columns = ['species', 'replicon_accession', 'target_replicon_accession', 'comparing_species', 'alignment_id', 'start', 'stop', 'match_perc']\n",
    "    blocks.to_csv(path + timestamp + '/blocks.csv', index = False)"
   ]
  },
  {
   "cell_type": "code",
   "execution_count": 1,
   "metadata": {},
   "outputs": [
    {
     "ename": "NameError",
     "evalue": "name 'alignment' is not defined",
     "output_type": "error",
     "traceback": [
      "\u001b[1;31m---------------------------------------------------------------------------\u001b[0m",
      "\u001b[1;31mNameError\u001b[0m                                 Traceback (most recent call last)",
      "Cell \u001b[1;32mIn[1], line 1\u001b[0m\n\u001b[1;32m----> 1\u001b[0m alignment(target_species\u001b[39m=\u001b[39m[\u001b[39m\"\u001b[39m\u001b[39mHuman\u001b[39m\u001b[39m\"\u001b[39m, \u001b[39m'\u001b[39m\u001b[39mRhesus Macaque\u001b[39m\u001b[39m'\u001b[39m], query_species\u001b[39m=\u001b[39m[\u001b[39m'\u001b[39m\u001b[39mRhesus Macaque\u001b[39m\u001b[39m'\u001b[39m, \u001b[39m'\u001b[39m\u001b[39mMonito del monte\u001b[39m\u001b[39m'\u001b[39m, \u001b[39m'\u001b[39m\u001b[39mChicken\u001b[39m\u001b[39m'\u001b[39m], mode\u001b[39m=\u001b[39m\u001b[39m'\u001b[39m\u001b[39mstrict\u001b[39m\u001b[39m'\u001b[39m)\n",
      "\u001b[1;31mNameError\u001b[0m: name 'alignment' is not defined"
     ]
    }
   ],
   "source": [
    "alignment(target_species=[\"Human\", 'Rhesus Macaque'], query_species=['Rhesus Macaque', 'Monito del monte', 'Chicken'], mode='strict')"
   ]
  },
  {
   "cell_type": "code",
   "execution_count": 22,
   "metadata": {},
   "outputs": [],
   "source": [
    "# Save to csv\n",
    "df_replicon_accession_length.to_csv('../Data/Intermediate/replicon_accession_length.csv', index = False)"
   ]
  },
  {
   "cell_type": "code",
   "execution_count": 132,
   "metadata": {},
   "outputs": [],
   "source": [
    "target_species=[]\n",
    "target_scaffold=[]\n",
    "query_species=[]\n",
    "query_scaffold=[]\n",
    "target_species=['Human']\n",
    "mode='strict'\n",
    "output_path='../Data/Intermediate/alignment/'"
   ]
  },
  {
   "cell_type": "code",
   "execution_count": 88,
   "metadata": {},
   "outputs": [],
   "source": [
    "target_sp=['Human']\n",
    "query_species=['Rhesus Macaque']"
   ]
  },
  {
   "cell_type": "code",
   "execution_count": 90,
   "metadata": {},
   "outputs": [
    {
     "name": "stdout",
     "output_type": "stream",
     "text": [
      "<class 'pandas.core.frame.DataFrame'>\n",
      "RangeIndex: 4347 entries, 0 to 4346\n",
      "Data columns (total 2 columns):\n",
      " #   Column              Non-Null Count  Dtype \n",
      "---  ------              --------------  ----- \n",
      " 0   replicon_accession  4347 non-null   string\n",
      " 1   length              4347 non-null   int64 \n",
      "dtypes: int64(1), string(1)\n",
      "memory usage: 68.0 KB\n"
     ]
    }
   ],
   "source": [
    "df_replicon_accession_length.info()"
   ]
  },
  {
   "cell_type": "code",
   "execution_count": 94,
   "metadata": {},
   "outputs": [
    {
     "data": {
      "text/plain": [
       "901"
      ]
     },
     "execution_count": 94,
     "metadata": {},
     "output_type": "execute_result"
    }
   ],
   "source": [
    "k_mers_counter['replicon_accession'].nunique()"
   ]
  },
  {
   "cell_type": "code",
   "execution_count": 34,
   "metadata": {},
   "outputs": [
    {
     "name": "stderr",
     "output_type": "stream",
     "text": [
      "2023-04-16 10:47:08 - Computing shared k-mers for: NC_000001.11 replicon_accession\n",
      "2023-04-16 10:47:27 - Computing the metric for each replicon_accession\n"
     ]
    },
    {
     "data": {
      "text/html": [
       "<div>\n",
       "<style scoped>\n",
       "    .dataframe tbody tr th:only-of-type {\n",
       "        vertical-align: middle;\n",
       "    }\n",
       "\n",
       "    .dataframe tbody tr th {\n",
       "        vertical-align: top;\n",
       "    }\n",
       "\n",
       "    .dataframe thead th {\n",
       "        text-align: right;\n",
       "    }\n",
       "</style>\n",
       "<table border=\"1\" class=\"dataframe\">\n",
       "  <thead>\n",
       "    <tr style=\"text-align: right;\">\n",
       "      <th></th>\n",
       "      <th>species</th>\n",
       "      <th>replicon_accession</th>\n",
       "      <th>metric</th>\n",
       "    </tr>\n",
       "  </thead>\n",
       "  <tbody>\n",
       "  </tbody>\n",
       "</table>\n",
       "</div>"
      ],
      "text/plain": [
       "Empty DataFrame\n",
       "Columns: [species, replicon_accession, metric]\n",
       "Index: []"
      ]
     },
     "execution_count": 34,
     "metadata": {},
     "output_type": "execute_result"
    }
   ],
   "source": [
    "kmm.k_mers_to_metric(target_sc, level='replicon_accession', k_mers_counter=k_mers_counter_query, df_length=df_replicon_accession_length, df_k_mers=df_k_mers)"
   ]
  },
  {
   "cell_type": "code",
   "execution_count": 60,
   "metadata": {},
   "outputs": [],
   "source": [
    "level='replicon_accession'\n",
    "origin = 'NC_000024.10'\n",
    "#k_mers_counter = pd.read_feather('../Data/Intermediate/k_mers/strict_count_k_mers_replicon_accession.feather')"
   ]
  },
  {
   "cell_type": "code",
   "execution_count": 22,
   "metadata": {},
   "outputs": [],
   "source": [
    "query_sp = 'Zebra Finch'\n",
    "query_sc = 'NC_044224.2'\n",
    "target_sp = 'Human'\n",
    "target_sc = 'NC_000001.11'"
   ]
  },
  {
   "cell_type": "code",
   "execution_count": 61,
   "metadata": {},
   "outputs": [
    {
     "name": "stderr",
     "output_type": "stream",
     "text": [
      "2023-04-20 17:53:44 - Computing shared k-mers for NC_000024.10 replicon_accession\n",
      "2023-04-20 17:53:59 - Computing generated k-mers for NC_000024.10 replicon_accession\n",
      "2023-04-20 17:53:59 - Computing metric for NC_000024.10 replicon_accession\n"
     ]
    }
   ],
   "source": [
    "df_scaffold_cand = kmm.k_mers_to_metric(origin, level='replicon_accession', k_mers_counter=k_mers_counter, df_length=df_replicon_accession_length, df_k_mers=df_k_mers)"
   ]
  },
  {
   "cell_type": "code",
   "execution_count": 75,
   "metadata": {},
   "outputs": [],
   "source": [
    "query_sp = 'Aardvark'\n",
    "query_sc = 'NW_006922250.1'\n",
    "target_sp = 'Human'\n",
    "target_sc = 'NC_000001.11'"
   ]
  },
  {
   "cell_type": "code",
   "execution_count": 77,
   "metadata": {},
   "outputs": [
    {
     "name": "stderr",
     "output_type": "stream",
     "text": [
      "2023-04-20 17:58:37 - Aligning Human NC_000001.11 vs. Aardvark NW_006922250.1 with similarity ratio: 0.7538\n"
     ]
    }
   ],
   "source": [
    "sim_ratio = df_scaffold_cand.loc[(df_scaffold_cand['species'] == query_sp) & (df_scaffold_cand['replicon_accession'] == query_sc), 'metric'].values[0]\n",
    "logging.info(f'Aligning {target_sp} {target_sc} vs. {query_sp} {query_sc} with similarity ratio: {sim_ratio:0.4f}')"
   ]
  },
  {
   "cell_type": "code",
   "execution_count": 65,
   "metadata": {},
   "outputs": [
    {
     "data": {
      "text/plain": [
       "0.7538004810394989"
      ]
     },
     "execution_count": 65,
     "metadata": {},
     "output_type": "execute_result"
    }
   ],
   "source": [
    "sim_ratio"
   ]
  },
  {
   "cell_type": "code",
   "execution_count": 71,
   "metadata": {},
   "outputs": [
    {
     "name": "stderr",
     "output_type": "stream",
     "text": [
      "2023-04-20 17:56:31 - Hello NW_006922250.1 0.7538\n"
     ]
    }
   ],
   "source": [
    "logging.info(f'Hello {query_sc} {sim_ratio:0.4f}')"
   ]
  },
  {
   "cell_type": "code",
   "execution_count": 76,
   "metadata": {},
   "outputs": [
    {
     "name": "stderr",
     "output_type": "stream",
     "text": [
      "2023-04-20 17:57:31 - Aligning Human NC_000001.11 vs. Aardvark NW_006922250.1 with similarity ratio: 0.7538\n"
     ]
    }
   ],
   "source": [
    "logging.info(f'Aligning {target_sp} {target_sc} vs. {query_sp} {query_sc} with similarity ratio: {sim_ratio:0.4f}')"
   ]
  },
  {
   "cell_type": "code",
   "execution_count": 62,
   "metadata": {},
   "outputs": [
    {
     "data": {
      "text/html": [
       "<div>\n",
       "<style scoped>\n",
       "    .dataframe tbody tr th:only-of-type {\n",
       "        vertical-align: middle;\n",
       "    }\n",
       "\n",
       "    .dataframe tbody tr th {\n",
       "        vertical-align: top;\n",
       "    }\n",
       "\n",
       "    .dataframe thead th {\n",
       "        text-align: right;\n",
       "    }\n",
       "</style>\n",
       "<table border=\"1\" class=\"dataframe\">\n",
       "  <thead>\n",
       "    <tr style=\"text-align: right;\">\n",
       "      <th></th>\n",
       "      <th>species</th>\n",
       "      <th>replicon_accession</th>\n",
       "      <th>metric</th>\n",
       "    </tr>\n",
       "  </thead>\n",
       "  <tbody>\n",
       "    <tr>\n",
       "      <th>0</th>\n",
       "      <td>Aardvark</td>\n",
       "      <td>NW_006922250.1</td>\n",
       "      <td>0.753800</td>\n",
       "    </tr>\n",
       "    <tr>\n",
       "      <th>1</th>\n",
       "      <td>African clawed frog</td>\n",
       "      <td>NC_054374.1</td>\n",
       "      <td>0.981315</td>\n",
       "    </tr>\n",
       "    <tr>\n",
       "      <th>2</th>\n",
       "      <td>Agile Gracile Mouse Opossum</td>\n",
       "      <td>NC_058132.1</td>\n",
       "      <td>0.994229</td>\n",
       "    </tr>\n",
       "    <tr>\n",
       "      <th>3</th>\n",
       "      <td>Asiatic toad</td>\n",
       "      <td>NC_058082.1</td>\n",
       "      <td>0.982779</td>\n",
       "    </tr>\n",
       "    <tr>\n",
       "      <th>4</th>\n",
       "      <td>Asiatic toad</td>\n",
       "      <td>NC_058088.1</td>\n",
       "      <td>0.979735</td>\n",
       "    </tr>\n",
       "    <tr>\n",
       "      <th>5</th>\n",
       "      <td>Australian saltwater crocodile</td>\n",
       "      <td>NW_017728906.1</td>\n",
       "      <td>0.973412</td>\n",
       "    </tr>\n",
       "    <tr>\n",
       "      <th>6</th>\n",
       "      <td>Australian saltwater crocodile</td>\n",
       "      <td>NW_017728924.1</td>\n",
       "      <td>0.857700</td>\n",
       "    </tr>\n",
       "    <tr>\n",
       "      <th>7</th>\n",
       "      <td>Chicken</td>\n",
       "      <td>NC_052532.1</td>\n",
       "      <td>0.988938</td>\n",
       "    </tr>\n",
       "    <tr>\n",
       "      <th>9</th>\n",
       "      <td>Coelacanth</td>\n",
       "      <td>NW_005819565.1</td>\n",
       "      <td>0.968139</td>\n",
       "    </tr>\n",
       "    <tr>\n",
       "      <th>8</th>\n",
       "      <td>Coelacanth</td>\n",
       "      <td>NW_005819502.1</td>\n",
       "      <td>0.899555</td>\n",
       "    </tr>\n",
       "    <tr>\n",
       "      <th>10</th>\n",
       "      <td>Dingo</td>\n",
       "      <td>NC_064281.1</td>\n",
       "      <td>0.904356</td>\n",
       "    </tr>\n",
       "    <tr>\n",
       "      <th>11</th>\n",
       "      <td>Domestic cat</td>\n",
       "      <td>NC_058386.1</td>\n",
       "      <td>0.914989</td>\n",
       "    </tr>\n",
       "    <tr>\n",
       "      <th>12</th>\n",
       "      <td>Fence lizard</td>\n",
       "      <td>NC_056528.1</td>\n",
       "      <td>0.984068</td>\n",
       "    </tr>\n",
       "    <tr>\n",
       "      <th>13</th>\n",
       "      <td>Lion</td>\n",
       "      <td>NC_056697.1</td>\n",
       "      <td>0.280876</td>\n",
       "    </tr>\n",
       "    <tr>\n",
       "      <th>14</th>\n",
       "      <td>Loggerhead turtle</td>\n",
       "      <td>NC_064473.1</td>\n",
       "      <td>0.980958</td>\n",
       "    </tr>\n",
       "    <tr>\n",
       "      <th>15</th>\n",
       "      <td>Loggerhead turtle</td>\n",
       "      <td>NC_064481.1</td>\n",
       "      <td>0.978741</td>\n",
       "    </tr>\n",
       "    <tr>\n",
       "      <th>16</th>\n",
       "      <td>Mexican tetra</td>\n",
       "      <td>NC_064412.1</td>\n",
       "      <td>0.983129</td>\n",
       "    </tr>\n",
       "    <tr>\n",
       "      <th>17</th>\n",
       "      <td>Mexican tetra</td>\n",
       "      <td>NC_064418.1</td>\n",
       "      <td>0.963999</td>\n",
       "    </tr>\n",
       "    <tr>\n",
       "      <th>18</th>\n",
       "      <td>Monito del monte</td>\n",
       "      <td>NC_057863.1</td>\n",
       "      <td>0.992170</td>\n",
       "    </tr>\n",
       "    <tr>\n",
       "      <th>19</th>\n",
       "      <td>Platypus</td>\n",
       "      <td>NC_041733.1</td>\n",
       "      <td>0.964237</td>\n",
       "    </tr>\n",
       "    <tr>\n",
       "      <th>20</th>\n",
       "      <td>Platypus</td>\n",
       "      <td>NC_041742.1</td>\n",
       "      <td>0.915344</td>\n",
       "    </tr>\n",
       "    <tr>\n",
       "      <th>22</th>\n",
       "      <td>Rhesus Macaque</td>\n",
       "      <td>NC_041774.1</td>\n",
       "      <td>0.930966</td>\n",
       "    </tr>\n",
       "    <tr>\n",
       "      <th>21</th>\n",
       "      <td>Rhesus Macaque</td>\n",
       "      <td>NC_027914.1</td>\n",
       "      <td>0.721755</td>\n",
       "    </tr>\n",
       "    <tr>\n",
       "      <th>23</th>\n",
       "      <td>Sheep</td>\n",
       "      <td>NC_056080.1</td>\n",
       "      <td>0.958763</td>\n",
       "    </tr>\n",
       "    <tr>\n",
       "      <th>24</th>\n",
       "      <td>Thorny Skate</td>\n",
       "      <td>NC_045961.1</td>\n",
       "      <td>0.925031</td>\n",
       "    </tr>\n",
       "    <tr>\n",
       "      <th>25</th>\n",
       "      <td>Townsend's dwarf sphaero</td>\n",
       "      <td>NC_059428.1</td>\n",
       "      <td>0.987607</td>\n",
       "    </tr>\n",
       "    <tr>\n",
       "      <th>26</th>\n",
       "      <td>West African lungfish</td>\n",
       "      <td>NC_056735.1</td>\n",
       "      <td>0.975696</td>\n",
       "    </tr>\n",
       "    <tr>\n",
       "      <th>27</th>\n",
       "      <td>Western painted turtle</td>\n",
       "      <td>NW_024885748.1</td>\n",
       "      <td>0.836242</td>\n",
       "    </tr>\n",
       "    <tr>\n",
       "      <th>28</th>\n",
       "      <td>Western painted turtle</td>\n",
       "      <td>NW_024885819.1</td>\n",
       "      <td>0.691513</td>\n",
       "    </tr>\n",
       "    <tr>\n",
       "      <th>29</th>\n",
       "      <td>Whitespotted Bambooshark</td>\n",
       "      <td>NC_057715.1</td>\n",
       "      <td>0.935964</td>\n",
       "    </tr>\n",
       "    <tr>\n",
       "      <th>30</th>\n",
       "      <td>Zebra Finch</td>\n",
       "      <td>NC_044211.2</td>\n",
       "      <td>0.977931</td>\n",
       "    </tr>\n",
       "    <tr>\n",
       "      <th>31</th>\n",
       "      <td>Zebra Finch</td>\n",
       "      <td>NC_044216.2</td>\n",
       "      <td>0.942061</td>\n",
       "    </tr>\n",
       "  </tbody>\n",
       "</table>\n",
       "</div>"
      ],
      "text/plain": [
       "                           species replicon_accession    metric\n",
       "0                         Aardvark     NW_006922250.1  0.753800\n",
       "1              African clawed frog        NC_054374.1  0.981315\n",
       "2      Agile Gracile Mouse Opossum        NC_058132.1  0.994229\n",
       "3                     Asiatic toad        NC_058082.1  0.982779\n",
       "4                     Asiatic toad        NC_058088.1  0.979735\n",
       "5   Australian saltwater crocodile     NW_017728906.1  0.973412\n",
       "6   Australian saltwater crocodile     NW_017728924.1  0.857700\n",
       "7                          Chicken        NC_052532.1  0.988938\n",
       "9                       Coelacanth     NW_005819565.1  0.968139\n",
       "8                       Coelacanth     NW_005819502.1  0.899555\n",
       "10                           Dingo        NC_064281.1  0.904356\n",
       "11                    Domestic cat        NC_058386.1  0.914989\n",
       "12                    Fence lizard        NC_056528.1  0.984068\n",
       "13                            Lion        NC_056697.1  0.280876\n",
       "14               Loggerhead turtle        NC_064473.1  0.980958\n",
       "15               Loggerhead turtle        NC_064481.1  0.978741\n",
       "16                   Mexican tetra        NC_064412.1  0.983129\n",
       "17                   Mexican tetra        NC_064418.1  0.963999\n",
       "18                Monito del monte        NC_057863.1  0.992170\n",
       "19                        Platypus        NC_041733.1  0.964237\n",
       "20                        Platypus        NC_041742.1  0.915344\n",
       "22                  Rhesus Macaque        NC_041774.1  0.930966\n",
       "21                  Rhesus Macaque        NC_027914.1  0.721755\n",
       "23                           Sheep        NC_056080.1  0.958763\n",
       "24                    Thorny Skate        NC_045961.1  0.925031\n",
       "25        Townsend's dwarf sphaero        NC_059428.1  0.987607\n",
       "26           West African lungfish        NC_056735.1  0.975696\n",
       "27          Western painted turtle     NW_024885748.1  0.836242\n",
       "28          Western painted turtle     NW_024885819.1  0.691513\n",
       "29        Whitespotted Bambooshark        NC_057715.1  0.935964\n",
       "30                     Zebra Finch        NC_044211.2  0.977931\n",
       "31                     Zebra Finch        NC_044216.2  0.942061"
      ]
     },
     "execution_count": 62,
     "metadata": {},
     "output_type": "execute_result"
    }
   ],
   "source": [
    "df_scaffold_cand"
   ]
  },
  {
   "cell_type": "code",
   "execution_count": 53,
   "metadata": {},
   "outputs": [
    {
     "data": {
      "text/html": [
       "<div>\n",
       "<style scoped>\n",
       "    .dataframe tbody tr th:only-of-type {\n",
       "        vertical-align: middle;\n",
       "    }\n",
       "\n",
       "    .dataframe tbody tr th {\n",
       "        vertical-align: top;\n",
       "    }\n",
       "\n",
       "    .dataframe thead th {\n",
       "        text-align: right;\n",
       "    }\n",
       "</style>\n",
       "<table border=\"1\" class=\"dataframe\">\n",
       "  <thead>\n",
       "    <tr style=\"text-align: right;\">\n",
       "      <th></th>\n",
       "      <th>species</th>\n",
       "      <th>replicon_accession</th>\n",
       "      <th>k</th>\n",
       "      <th>total_k_mers</th>\n",
       "    </tr>\n",
       "  </thead>\n",
       "  <tbody>\n",
       "    <tr>\n",
       "      <th>0</th>\n",
       "      <td>Aardvark</td>\n",
       "      <td>NW_006921588.1</td>\n",
       "      <td>11</td>\n",
       "      <td>105</td>\n",
       "    </tr>\n",
       "    <tr>\n",
       "      <th>1</th>\n",
       "      <td>Aardvark</td>\n",
       "      <td>NW_006921588.1</td>\n",
       "      <td>13</td>\n",
       "      <td>103</td>\n",
       "    </tr>\n",
       "    <tr>\n",
       "      <th>2</th>\n",
       "      <td>Aardvark</td>\n",
       "      <td>NW_006921588.1</td>\n",
       "      <td>17</td>\n",
       "      <td>99</td>\n",
       "    </tr>\n",
       "    <tr>\n",
       "      <th>3</th>\n",
       "      <td>Aardvark</td>\n",
       "      <td>NW_006921588.1</td>\n",
       "      <td>19</td>\n",
       "      <td>97</td>\n",
       "    </tr>\n",
       "    <tr>\n",
       "      <th>4</th>\n",
       "      <td>Aardvark</td>\n",
       "      <td>NW_006921588.1</td>\n",
       "      <td>2</td>\n",
       "      <td>114</td>\n",
       "    </tr>\n",
       "    <tr>\n",
       "      <th>...</th>\n",
       "      <td>...</td>\n",
       "      <td>...</td>\n",
       "      <td>...</td>\n",
       "      <td>...</td>\n",
       "    </tr>\n",
       "    <tr>\n",
       "      <th>28589</th>\n",
       "      <td>Zebra Finch</td>\n",
       "      <td>NC_054769.1</td>\n",
       "      <td>7</td>\n",
       "      <td>50</td>\n",
       "    </tr>\n",
       "    <tr>\n",
       "      <th>28590</th>\n",
       "      <td>Zebra Finch</td>\n",
       "      <td>NW_024545399.1</td>\n",
       "      <td>2</td>\n",
       "      <td>2</td>\n",
       "    </tr>\n",
       "    <tr>\n",
       "      <th>28591</th>\n",
       "      <td>Zebra Finch</td>\n",
       "      <td>NW_024545399.1</td>\n",
       "      <td>3</td>\n",
       "      <td>1</td>\n",
       "    </tr>\n",
       "    <tr>\n",
       "      <th>28592</th>\n",
       "      <td>Zebra Finch</td>\n",
       "      <td>NW_024545436.1</td>\n",
       "      <td>2</td>\n",
       "      <td>2</td>\n",
       "    </tr>\n",
       "    <tr>\n",
       "      <th>28593</th>\n",
       "      <td>Zebra Finch</td>\n",
       "      <td>NW_024545436.1</td>\n",
       "      <td>3</td>\n",
       "      <td>1</td>\n",
       "    </tr>\n",
       "  </tbody>\n",
       "</table>\n",
       "<p>28594 rows × 4 columns</p>\n",
       "</div>"
      ],
      "text/plain": [
       "           species replicon_accession   k  total_k_mers\n",
       "0         Aardvark     NW_006921588.1  11           105\n",
       "1         Aardvark     NW_006921588.1  13           103\n",
       "2         Aardvark     NW_006921588.1  17            99\n",
       "3         Aardvark     NW_006921588.1  19            97\n",
       "4         Aardvark     NW_006921588.1   2           114\n",
       "...            ...                ...  ..           ...\n",
       "28589  Zebra Finch        NC_054769.1   7            50\n",
       "28590  Zebra Finch     NW_024545399.1   2             2\n",
       "28591  Zebra Finch     NW_024545399.1   3             1\n",
       "28592  Zebra Finch     NW_024545436.1   2             2\n",
       "28593  Zebra Finch     NW_024545436.1   3             1\n",
       "\n",
       "[28594 rows x 4 columns]"
      ]
     },
     "execution_count": 53,
     "metadata": {},
     "output_type": "execute_result"
    }
   ],
   "source": [
    "k_mers_counter"
   ]
  },
  {
   "cell_type": "code",
   "execution_count": 62,
   "metadata": {},
   "outputs": [
    {
     "name": "stdout",
     "output_type": "stream",
     "text": [
      "<class 'pandas.core.frame.DataFrame'>\n",
      "RangeIndex: 5595 entries, 0 to 5594\n",
      "Data columns (total 4 columns):\n",
      " #   Column              Non-Null Count  Dtype \n",
      "---  ------              --------------  ----- \n",
      " 0   replicon_accession  5595 non-null   string\n",
      " 1   length              5595 non-null   int64 \n",
      " 2   start               5595 non-null   int64 \n",
      " 3   stop                5595 non-null   int64 \n",
      "dtypes: int64(3), string(1)\n",
      "memory usage: 175.0 KB\n"
     ]
    }
   ],
   "source": [
    "df_replicon_accession_length.info()"
   ]
  },
  {
   "cell_type": "code",
   "execution_count": 54,
   "metadata": {},
   "outputs": [],
   "source": [
    "# Add the length of the scaffold or species to the dataframe\n",
    "k_mers_counter = k_mers_counter.merge(df_replicon_accession_length[[level, 'length']], on = level, how = 'left')"
   ]
  },
  {
   "cell_type": "code",
   "execution_count": 24,
   "metadata": {},
   "outputs": [
    {
     "name": "stdout",
     "output_type": "stream",
     "text": [
      "<class 'pandas.core.frame.DataFrame'>\n",
      "Int64Index: 28594 entries, 0 to 28593\n",
      "Data columns (total 5 columns):\n",
      " #   Column              Non-Null Count  Dtype \n",
      "---  ------              --------------  ----- \n",
      " 0   species             28594 non-null  object\n",
      " 1   replicon_accession  28594 non-null  object\n",
      " 2   k                   28594 non-null  object\n",
      " 3   total_k_mers        28594 non-null  int64 \n",
      " 4   length              28594 non-null  int64 \n",
      "dtypes: int64(2), object(3)\n",
      "memory usage: 1.3+ MB\n"
     ]
    }
   ],
   "source": [
    "k_mers_counter.info()"
   ]
  },
  {
   "cell_type": "code",
   "execution_count": 25,
   "metadata": {},
   "outputs": [
    {
     "name": "stderr",
     "output_type": "stream",
     "text": [
      "2023-04-19 12:46:55 - Computing shared k-mers for: NC_000001.11 replicon_accession\n"
     ]
    }
   ],
   "source": [
    "\n",
    "# Now, we need to compute the number of k-mers shared from the origin with the rest of elements\n",
    "logging.info('Computing shared k-mers for: ' + origin + ' ' + level)\n",
    "df_common_k_mers = kmm.shared_k_mers(origin, level, df_k_mers)\n"
   ]
  },
  {
   "cell_type": "code",
   "execution_count": 26,
   "metadata": {},
   "outputs": [
    {
     "data": {
      "text/html": [
       "<div>\n",
       "<style scoped>\n",
       "    .dataframe tbody tr th:only-of-type {\n",
       "        vertical-align: middle;\n",
       "    }\n",
       "\n",
       "    .dataframe tbody tr th {\n",
       "        vertical-align: top;\n",
       "    }\n",
       "\n",
       "    .dataframe thead th {\n",
       "        text-align: right;\n",
       "    }\n",
       "</style>\n",
       "<table border=\"1\" class=\"dataframe\">\n",
       "  <thead>\n",
       "    <tr style=\"text-align: right;\">\n",
       "      <th></th>\n",
       "      <th>k</th>\n",
       "      <th>replicon_accession</th>\n",
       "      <th>common_k_mers</th>\n",
       "    </tr>\n",
       "  </thead>\n",
       "  <tbody>\n",
       "    <tr>\n",
       "      <th>0</th>\n",
       "      <td>11</td>\n",
       "      <td>NC_024220.2</td>\n",
       "      <td>4</td>\n",
       "    </tr>\n",
       "    <tr>\n",
       "      <th>1</th>\n",
       "      <td>11</td>\n",
       "      <td>NC_024225.2</td>\n",
       "      <td>13</td>\n",
       "    </tr>\n",
       "    <tr>\n",
       "      <th>2</th>\n",
       "      <td>11</td>\n",
       "      <td>NC_024234.2</td>\n",
       "      <td>1</td>\n",
       "    </tr>\n",
       "    <tr>\n",
       "      <th>3</th>\n",
       "      <td>11</td>\n",
       "      <td>NC_041732.1</td>\n",
       "      <td>3</td>\n",
       "    </tr>\n",
       "    <tr>\n",
       "      <th>4</th>\n",
       "      <td>11</td>\n",
       "      <td>NC_041734.1</td>\n",
       "      <td>19</td>\n",
       "    </tr>\n",
       "    <tr>\n",
       "      <th>...</th>\n",
       "      <td>...</td>\n",
       "      <td>...</td>\n",
       "      <td>...</td>\n",
       "    </tr>\n",
       "    <tr>\n",
       "      <th>1392</th>\n",
       "      <td>7</td>\n",
       "      <td>NW_024885816.1</td>\n",
       "      <td>31</td>\n",
       "    </tr>\n",
       "    <tr>\n",
       "      <th>1393</th>\n",
       "      <td>7</td>\n",
       "      <td>NW_024885850.1</td>\n",
       "      <td>11</td>\n",
       "    </tr>\n",
       "    <tr>\n",
       "      <th>1394</th>\n",
       "      <td>7</td>\n",
       "      <td>NW_024885897.1</td>\n",
       "      <td>1</td>\n",
       "    </tr>\n",
       "    <tr>\n",
       "      <th>1395</th>\n",
       "      <td>71</td>\n",
       "      <td>NC_041754.1</td>\n",
       "      <td>6</td>\n",
       "    </tr>\n",
       "    <tr>\n",
       "      <th>1396</th>\n",
       "      <td>73</td>\n",
       "      <td>NC_041754.1</td>\n",
       "      <td>4</td>\n",
       "    </tr>\n",
       "  </tbody>\n",
       "</table>\n",
       "<p>1397 rows × 3 columns</p>\n",
       "</div>"
      ],
      "text/plain": [
       "       k replicon_accession  common_k_mers\n",
       "0     11        NC_024220.2              4\n",
       "1     11        NC_024225.2             13\n",
       "2     11        NC_024234.2              1\n",
       "3     11        NC_041732.1              3\n",
       "4     11        NC_041734.1             19\n",
       "...   ..                ...            ...\n",
       "1392   7     NW_024885816.1             31\n",
       "1393   7     NW_024885850.1             11\n",
       "1394   7     NW_024885897.1              1\n",
       "1395  71        NC_041754.1              6\n",
       "1396  73        NC_041754.1              4\n",
       "\n",
       "[1397 rows x 3 columns]"
      ]
     },
     "execution_count": 26,
     "metadata": {},
     "output_type": "execute_result"
    }
   ],
   "source": [
    "df_common_k_mers"
   ]
  },
  {
   "cell_type": "code",
   "execution_count": 56,
   "metadata": {},
   "outputs": [],
   "source": [
    "k_mers_counter_origin = k_mers_counter.loc[k_mers_counter[level] == origin, ['k', 'total_k_mers', 'length']]"
   ]
  },
  {
   "cell_type": "code",
   "execution_count": 57,
   "metadata": {},
   "outputs": [],
   "source": [
    "k_mers_counter = k_mers_counter.join(df_common_k_mers.set_index(['k', level]), on=['k', level], how='left')"
   ]
  },
  {
   "cell_type": "code",
   "execution_count": 38,
   "metadata": {},
   "outputs": [
    {
     "name": "stdout",
     "output_type": "stream",
     "text": [
      "<class 'pandas.core.frame.DataFrame'>\n",
      "Int64Index: 28594 entries, 0 to 28593\n",
      "Data columns (total 6 columns):\n",
      " #   Column              Non-Null Count  Dtype  \n",
      "---  ------              --------------  -----  \n",
      " 0   species             28594 non-null  object \n",
      " 1   replicon_accession  28594 non-null  object \n",
      " 2   k                   28594 non-null  object \n",
      " 3   total_k_mers        28594 non-null  int64  \n",
      " 4   length              28594 non-null  int64  \n",
      " 5   common_k_mers       1396 non-null   float64\n",
      "dtypes: float64(1), int64(2), object(3)\n",
      "memory usage: 1.5+ MB\n"
     ]
    }
   ],
   "source": [
    "k_mers_counter.info()"
   ]
  },
  {
   "cell_type": "code",
   "execution_count": 58,
   "metadata": {},
   "outputs": [],
   "source": [
    "k_mers_counter_origin = k_mers_counter.loc[k_mers_counter[level] == origin, ['k', 'total_k_mers', 'length']]\n",
    "\n",
    "# Remove the rows with NaN values\n",
    "k_mers_counter_common = k_mers_counter.loc[k_mers_counter['common_k_mers'].notnull()]\n",
    "\n",
    "# Merge the two dataframes, creating a new column containing the number of k-mers generated by the original scaffold\n",
    "k_mers_counter_common = k_mers_counter_common.merge(k_mers_counter_origin[['k', 'total_k_mers', 'length']], on = ['k'], how = 'left', suffixes = ('', '_origin'))\n",
    "\n"
   ]
  },
  {
   "cell_type": "code",
   "execution_count": 60,
   "metadata": {},
   "outputs": [],
   "source": [
    "# Compute the number of k-mers generated by the two scaffolds\n",
    "k_mers_counter_common['generated_k_mers'] = k_mers_counter_common['total_k_mers'] + k_mers_counter_common['total_k_mers_origin'] - k_mers_counter_common['common_k_mers']\n"
   ]
  },
  {
   "cell_type": "code",
   "execution_count": 61,
   "metadata": {},
   "outputs": [
    {
     "name": "stdout",
     "output_type": "stream",
     "text": [
      "<class 'pandas.core.frame.DataFrame'>\n",
      "Int64Index: 1396 entries, 0 to 1395\n",
      "Data columns (total 9 columns):\n",
      " #   Column               Non-Null Count  Dtype  \n",
      "---  ------               --------------  -----  \n",
      " 0   species              1396 non-null   object \n",
      " 1   replicon_accession   1396 non-null   object \n",
      " 2   k                    1396 non-null   object \n",
      " 3   total_k_mers         1396 non-null   int64  \n",
      " 4   length               1396 non-null   int64  \n",
      " 5   common_k_mers        1396 non-null   float64\n",
      " 6   total_k_mers_origin  1396 non-null   int64  \n",
      " 7   length_origin        1396 non-null   int64  \n",
      " 8   generated_k_mers     1396 non-null   float64\n",
      "dtypes: float64(2), int64(4), object(3)\n",
      "memory usage: 109.1+ KB\n"
     ]
    }
   ],
   "source": [
    "k_mers_counter_common.info()"
   ]
  },
  {
   "cell_type": "code",
   "execution_count": 30,
   "metadata": {},
   "outputs": [
    {
     "name": "stdout",
     "output_type": "stream",
     "text": [
      "<class 'pandas.core.frame.DataFrame'>\n",
      "Int64Index: 25 entries, 15731 to 15755\n",
      "Data columns (total 3 columns):\n",
      " #   Column        Non-Null Count  Dtype \n",
      "---  ------        --------------  ----- \n",
      " 0   k             25 non-null     object\n",
      " 1   total_k_mers  25 non-null     int64 \n",
      " 2   length        25 non-null     int64 \n",
      "dtypes: int64(2), object(1)\n",
      "memory usage: 800.0+ bytes\n"
     ]
    }
   ],
   "source": [
    "k_mers_counter_origin.info()"
   ]
  },
  {
   "cell_type": "code",
   "execution_count": 39,
   "metadata": {},
   "outputs": [],
   "source": [
    "k_mers_counter = k_mers_counter.loc[k_mers_counter['common_k_mers'].notnull()]"
   ]
  },
  {
   "cell_type": "code",
   "execution_count": 32,
   "metadata": {},
   "outputs": [
    {
     "name": "stdout",
     "output_type": "stream",
     "text": [
      "<class 'pandas.core.frame.DataFrame'>\n",
      "Int64Index: 1396 entries, 132 to 28412\n",
      "Data columns (total 6 columns):\n",
      " #   Column              Non-Null Count  Dtype  \n",
      "---  ------              --------------  -----  \n",
      " 0   species             1396 non-null   object \n",
      " 1   replicon_accession  1396 non-null   object \n",
      " 2   k                   1396 non-null   object \n",
      " 3   total_k_mers        1396 non-null   int64  \n",
      " 4   length              1396 non-null   int64  \n",
      " 5   common_k_mers       1396 non-null   float64\n",
      "dtypes: float64(1), int64(2), object(3)\n",
      "memory usage: 76.3+ KB\n"
     ]
    }
   ],
   "source": [
    "k_mers_counter.info()"
   ]
  },
  {
   "cell_type": "code",
   "execution_count": 50,
   "metadata": {},
   "outputs": [],
   "source": [
    "# Now, we have the total k-mers per scaffols and the number of k-mers shared with the rest of scaffolds, i.e., \n",
    "# the intersection between the two groups.\n",
    "# We want to compute the number of k-mers generated by the two scaffolds\n",
    "# We can do this by computing the number of k-mers generated by the two scaffolds and subtracting the number \n",
    "# of k-mers shared with the rest of scaffolds. Done under generated_k_mers function\n",
    "\n",
    "k_mers_counter = kmm.generated_k_mers(origin, level, k_mers_counter)"
   ]
  },
  {
   "cell_type": "code",
   "execution_count": 51,
   "metadata": {},
   "outputs": [
    {
     "name": "stdout",
     "output_type": "stream",
     "text": [
      "<class 'pandas.core.frame.DataFrame'>\n",
      "Int64Index: 1396 entries, 0 to 1395\n",
      "Data columns (total 9 columns):\n",
      " #   Column               Non-Null Count  Dtype  \n",
      "---  ------               --------------  -----  \n",
      " 0   species              1396 non-null   object \n",
      " 1   replicon_accession   1396 non-null   object \n",
      " 2   k                    1396 non-null   object \n",
      " 3   total_k_mers         1396 non-null   int64  \n",
      " 4   length               1396 non-null   int64  \n",
      " 5   common_k_mers        1396 non-null   float64\n",
      " 6   total_k_mers_origin  0 non-null      float64\n",
      " 7   length_origin        0 non-null      float64\n",
      " 8   generated_k_mers     0 non-null      float64\n",
      "dtypes: float64(4), int64(2), object(3)\n",
      "memory usage: 109.1+ KB\n"
     ]
    }
   ],
   "source": [
    "k_mers_counter.info()"
   ]
  },
  {
   "cell_type": "code",
   "execution_count": 45,
   "metadata": {},
   "outputs": [],
   "source": [
    "k_mers_counter_common = k_mers_counter.loc[k_mers_counter['common_k_mers'].notnull()]"
   ]
  },
  {
   "cell_type": "code",
   "execution_count": 49,
   "metadata": {},
   "outputs": [
    {
     "name": "stdout",
     "output_type": "stream",
     "text": [
      "<class 'pandas.core.frame.DataFrame'>\n",
      "Int64Index: 1396 entries, 0 to 1395\n",
      "Data columns (total 8 columns):\n",
      " #   Column               Non-Null Count  Dtype  \n",
      "---  ------               --------------  -----  \n",
      " 0   species              1396 non-null   object \n",
      " 1   replicon_accession   1396 non-null   object \n",
      " 2   k                    1396 non-null   object \n",
      " 3   total_k_mers         1396 non-null   int64  \n",
      " 4   length               1396 non-null   int64  \n",
      " 5   common_k_mers        1396 non-null   float64\n",
      " 6   total_k_mers_origin  1396 non-null   int64  \n",
      " 7   length_origin        1396 non-null   int64  \n",
      "dtypes: float64(1), int64(4), object(3)\n",
      "memory usage: 98.2+ KB\n"
     ]
    }
   ],
   "source": [
    "k_mers_counter_common.info()"
   ]
  },
  {
   "cell_type": "code",
   "execution_count": 47,
   "metadata": {},
   "outputs": [
    {
     "name": "stdout",
     "output_type": "stream",
     "text": [
      "<class 'pandas.core.frame.DataFrame'>\n",
      "Int64Index: 25 entries, 15731 to 15755\n",
      "Data columns (total 3 columns):\n",
      " #   Column        Non-Null Count  Dtype \n",
      "---  ------        --------------  ----- \n",
      " 0   k             25 non-null     object\n",
      " 1   total_k_mers  25 non-null     int64 \n",
      " 2   length        25 non-null     int64 \n",
      "dtypes: int64(2), object(1)\n",
      "memory usage: 800.0+ bytes\n"
     ]
    }
   ],
   "source": [
    "k_mers_counter_origin.info()"
   ]
  },
  {
   "cell_type": "code",
   "execution_count": 48,
   "metadata": {},
   "outputs": [],
   "source": [
    "# Merge the two dataframes, creating a new column containing the number of k-mers generated by the original scaffold\n",
    "k_mers_counter_common = k_mers_counter_common.merge(k_mers_counter_origin[['k', 'total_k_mers', 'length']], on = ['k'], how = 'left', suffixes = ('', '_origin'))\n"
   ]
  },
  {
   "cell_type": "code",
   "execution_count": 43,
   "metadata": {},
   "outputs": [
    {
     "name": "stdout",
     "output_type": "stream",
     "text": [
      "<class 'pandas.core.frame.DataFrame'>\n",
      "Int64Index: 1396 entries, 0 to 1395\n",
      "Data columns (total 8 columns):\n",
      " #   Column               Non-Null Count  Dtype  \n",
      "---  ------               --------------  -----  \n",
      " 0   species              1396 non-null   object \n",
      " 1   replicon_accession   1396 non-null   object \n",
      " 2   k                    1396 non-null   object \n",
      " 3   total_k_mers         1396 non-null   int64  \n",
      " 4   length               1396 non-null   int64  \n",
      " 5   common_k_mers        1396 non-null   float64\n",
      " 6   total_k_mers_origin  1396 non-null   int64  \n",
      " 7   length_origin        1396 non-null   int64  \n",
      "dtypes: float64(1), int64(4), object(3)\n",
      "memory usage: 98.2+ KB\n"
     ]
    }
   ],
   "source": [
    "k_mers_counter_common.info()"
   ]
  },
  {
   "cell_type": "code",
   "execution_count": 46,
   "metadata": {},
   "outputs": [],
   "source": [
    "k_mers_counter = k_mers_counter[k_mers_counter.notna().all(axis=1)]\n",
    "\n",
    "# Compute the probability of finding a common k-mer\n",
    "k_mers_counter['probability'] = k_mers_counter['common_k_mers'] / k_mers_counter['generated_k_mers']\n",
    "\n",
    "# First, we want to apply the desired formula:\n",
    "# (1 - probability) * (1 - (m / (n*k^2)))\n",
    "# Where: m, n are the length of the two scaffolds/species with m being the shortest represented in length and length_origin columns\n",
    "shortest_length = k_mers_counter[['length', 'length_origin']].min(axis=1)\n",
    "longest_length = k_mers_counter[['length', 'length_origin']].max(axis=1)\n",
    "k_mers_counter['k'] = k_mers_counter['k'].astype(int)\n",
    "k_mers_counter['metric'] = ((1 - k_mers_counter['probability']) * (1 - (shortest_length / (longest_length * pow(k_mers_counter['k'], 2))))).astype(float)\n",
    "#k_mers_counter['metric'] = (1 - k_mers_counter['probability']) * (1 - (k_mers_counter[['length', 'length_origin']].apply(min, axis=1) / (k_mers_counter[['length', 'length_origin']].apply(max, axis=1) * k_mers_counter['k']**2)))\n",
    "\n"
   ]
  },
  {
   "cell_type": "code",
   "execution_count": 48,
   "metadata": {},
   "outputs": [
    {
     "name": "stderr",
     "output_type": "stream",
     "text": [
      "2023-04-16 10:55:19 - Computing the metric for each replicon_accession\n"
     ]
    }
   ],
   "source": [
    "# Do the product of the metric for each scaffold/species among all the k values\n",
    "if level == 'replicon_accession':\n",
    "    logging.info('Computing the metric for each replicon_accession')\n",
    "    metric = (k_mers_counter[['species', 'replicon_accession', 'metric']]\n",
    "            .groupby(['species', 'replicon_accession'], as_index=False)\n",
    "            .prod()\n",
    "            .sort_values(by=['species', 'metric'], ascending=False))\n",
    "elif level == 'species':\n",
    "    logging.info('Computing the metric for each species')\n",
    "    metric = (k_mers_counter[['species', 'metric']]\n",
    "            .groupby('species', as_index=False)\n",
    "            .prod()\n",
    "            .sort_values(by=['species', 'metric'], ascending=False))\n"
   ]
  },
  {
   "cell_type": "code",
   "execution_count": 106,
   "metadata": {},
   "outputs": [
    {
     "data": {
      "text/html": [
       "<div>\n",
       "<style scoped>\n",
       "    .dataframe tbody tr th:only-of-type {\n",
       "        vertical-align: middle;\n",
       "    }\n",
       "\n",
       "    .dataframe tbody tr th {\n",
       "        vertical-align: top;\n",
       "    }\n",
       "\n",
       "    .dataframe thead th {\n",
       "        text-align: right;\n",
       "    }\n",
       "</style>\n",
       "<table border=\"1\" class=\"dataframe\">\n",
       "  <thead>\n",
       "    <tr style=\"text-align: right;\">\n",
       "      <th></th>\n",
       "      <th>species</th>\n",
       "      <th>replicon_accession</th>\n",
       "      <th>metric</th>\n",
       "    </tr>\n",
       "  </thead>\n",
       "  <tbody>\n",
       "    <tr>\n",
       "      <th>38</th>\n",
       "      <td>Mexican tetra</td>\n",
       "      <td>NC_064428.1</td>\n",
       "      <td>0.948264</td>\n",
       "    </tr>\n",
       "    <tr>\n",
       "      <th>40</th>\n",
       "      <td>Mexican tetra</td>\n",
       "      <td>NC_064430.1</td>\n",
       "      <td>0.948007</td>\n",
       "    </tr>\n",
       "    <tr>\n",
       "      <th>42</th>\n",
       "      <td>Mexican tetra</td>\n",
       "      <td>NC_064432.1</td>\n",
       "      <td>0.942066</td>\n",
       "    </tr>\n",
       "    <tr>\n",
       "      <th>39</th>\n",
       "      <td>Mexican tetra</td>\n",
       "      <td>NC_064429.1</td>\n",
       "      <td>0.929241</td>\n",
       "    </tr>\n",
       "    <tr>\n",
       "      <th>36</th>\n",
       "      <td>Mexican tetra</td>\n",
       "      <td>NC_064426.1</td>\n",
       "      <td>0.928543</td>\n",
       "    </tr>\n",
       "    <tr>\n",
       "      <th>26</th>\n",
       "      <td>Mexican tetra</td>\n",
       "      <td>NC_064416.1</td>\n",
       "      <td>0.926792</td>\n",
       "    </tr>\n",
       "    <tr>\n",
       "      <th>35</th>\n",
       "      <td>Mexican tetra</td>\n",
       "      <td>NC_064425.1</td>\n",
       "      <td>0.922499</td>\n",
       "    </tr>\n",
       "    <tr>\n",
       "      <th>37</th>\n",
       "      <td>Mexican tetra</td>\n",
       "      <td>NC_064427.1</td>\n",
       "      <td>0.920533</td>\n",
       "    </tr>\n",
       "    <tr>\n",
       "      <th>27</th>\n",
       "      <td>Mexican tetra</td>\n",
       "      <td>NC_064417.1</td>\n",
       "      <td>0.918638</td>\n",
       "    </tr>\n",
       "    <tr>\n",
       "      <th>34</th>\n",
       "      <td>Mexican tetra</td>\n",
       "      <td>NC_064424.1</td>\n",
       "      <td>0.914867</td>\n",
       "    </tr>\n",
       "    <tr>\n",
       "      <th>32</th>\n",
       "      <td>Mexican tetra</td>\n",
       "      <td>NC_064422.1</td>\n",
       "      <td>0.914258</td>\n",
       "    </tr>\n",
       "    <tr>\n",
       "      <th>41</th>\n",
       "      <td>Mexican tetra</td>\n",
       "      <td>NC_064431.1</td>\n",
       "      <td>0.901261</td>\n",
       "    </tr>\n",
       "    <tr>\n",
       "      <th>21</th>\n",
       "      <td>Mexican tetra</td>\n",
       "      <td>NC_064411.1</td>\n",
       "      <td>0.894042</td>\n",
       "    </tr>\n",
       "    <tr>\n",
       "      <th>19</th>\n",
       "      <td>Mexican tetra</td>\n",
       "      <td>NC_064409.1</td>\n",
       "      <td>0.870874</td>\n",
       "    </tr>\n",
       "    <tr>\n",
       "      <th>31</th>\n",
       "      <td>Mexican tetra</td>\n",
       "      <td>NC_064421.1</td>\n",
       "      <td>0.866310</td>\n",
       "    </tr>\n",
       "    <tr>\n",
       "      <th>28</th>\n",
       "      <td>Mexican tetra</td>\n",
       "      <td>NC_064418.1</td>\n",
       "      <td>0.862627</td>\n",
       "    </tr>\n",
       "    <tr>\n",
       "      <th>24</th>\n",
       "      <td>Mexican tetra</td>\n",
       "      <td>NC_064414.1</td>\n",
       "      <td>0.858808</td>\n",
       "    </tr>\n",
       "    <tr>\n",
       "      <th>33</th>\n",
       "      <td>Mexican tetra</td>\n",
       "      <td>NC_064423.1</td>\n",
       "      <td>0.852913</td>\n",
       "    </tr>\n",
       "    <tr>\n",
       "      <th>25</th>\n",
       "      <td>Mexican tetra</td>\n",
       "      <td>NC_064415.1</td>\n",
       "      <td>0.851788</td>\n",
       "    </tr>\n",
       "    <tr>\n",
       "      <th>20</th>\n",
       "      <td>Mexican tetra</td>\n",
       "      <td>NC_064410.1</td>\n",
       "      <td>0.848917</td>\n",
       "    </tr>\n",
       "    <tr>\n",
       "      <th>23</th>\n",
       "      <td>Mexican tetra</td>\n",
       "      <td>NC_064413.1</td>\n",
       "      <td>0.848176</td>\n",
       "    </tr>\n",
       "    <tr>\n",
       "      <th>30</th>\n",
       "      <td>Mexican tetra</td>\n",
       "      <td>NC_064420.1</td>\n",
       "      <td>0.846238</td>\n",
       "    </tr>\n",
       "    <tr>\n",
       "      <th>29</th>\n",
       "      <td>Mexican tetra</td>\n",
       "      <td>NC_064419.1</td>\n",
       "      <td>0.817094</td>\n",
       "    </tr>\n",
       "    <tr>\n",
       "      <th>22</th>\n",
       "      <td>Mexican tetra</td>\n",
       "      <td>NC_064412.1</td>\n",
       "      <td>0.800270</td>\n",
       "    </tr>\n",
       "    <tr>\n",
       "      <th>18</th>\n",
       "      <td>Mexican tetra</td>\n",
       "      <td>NC_064408.1</td>\n",
       "      <td>0.702258</td>\n",
       "    </tr>\n",
       "    <tr>\n",
       "      <th>11</th>\n",
       "      <td>African clawed frog</td>\n",
       "      <td>NC_054382.1</td>\n",
       "      <td>0.908084</td>\n",
       "    </tr>\n",
       "    <tr>\n",
       "      <th>5</th>\n",
       "      <td>African clawed frog</td>\n",
       "      <td>NC_054376.1</td>\n",
       "      <td>0.852514</td>\n",
       "    </tr>\n",
       "    <tr>\n",
       "      <th>17</th>\n",
       "      <td>African clawed frog</td>\n",
       "      <td>NC_054388.1</td>\n",
       "      <td>0.851936</td>\n",
       "    </tr>\n",
       "    <tr>\n",
       "      <th>9</th>\n",
       "      <td>African clawed frog</td>\n",
       "      <td>NC_054380.1</td>\n",
       "      <td>0.849043</td>\n",
       "    </tr>\n",
       "    <tr>\n",
       "      <th>13</th>\n",
       "      <td>African clawed frog</td>\n",
       "      <td>NC_054384.1</td>\n",
       "      <td>0.846948</td>\n",
       "    </tr>\n",
       "    <tr>\n",
       "      <th>15</th>\n",
       "      <td>African clawed frog</td>\n",
       "      <td>NC_054386.1</td>\n",
       "      <td>0.805397</td>\n",
       "    </tr>\n",
       "    <tr>\n",
       "      <th>16</th>\n",
       "      <td>African clawed frog</td>\n",
       "      <td>NC_054387.1</td>\n",
       "      <td>0.796660</td>\n",
       "    </tr>\n",
       "    <tr>\n",
       "      <th>10</th>\n",
       "      <td>African clawed frog</td>\n",
       "      <td>NC_054381.1</td>\n",
       "      <td>0.795369</td>\n",
       "    </tr>\n",
       "    <tr>\n",
       "      <th>12</th>\n",
       "      <td>African clawed frog</td>\n",
       "      <td>NC_054383.1</td>\n",
       "      <td>0.780079</td>\n",
       "    </tr>\n",
       "    <tr>\n",
       "      <th>1</th>\n",
       "      <td>African clawed frog</td>\n",
       "      <td>NC_054372.1</td>\n",
       "      <td>0.767781</td>\n",
       "    </tr>\n",
       "    <tr>\n",
       "      <th>7</th>\n",
       "      <td>African clawed frog</td>\n",
       "      <td>NC_054378.1</td>\n",
       "      <td>0.762609</td>\n",
       "    </tr>\n",
       "    <tr>\n",
       "      <th>0</th>\n",
       "      <td>African clawed frog</td>\n",
       "      <td>NC_054371.1</td>\n",
       "      <td>0.759599</td>\n",
       "    </tr>\n",
       "    <tr>\n",
       "      <th>3</th>\n",
       "      <td>African clawed frog</td>\n",
       "      <td>NC_054374.1</td>\n",
       "      <td>0.739518</td>\n",
       "    </tr>\n",
       "    <tr>\n",
       "      <th>2</th>\n",
       "      <td>African clawed frog</td>\n",
       "      <td>NC_054373.1</td>\n",
       "      <td>0.730850</td>\n",
       "    </tr>\n",
       "    <tr>\n",
       "      <th>8</th>\n",
       "      <td>African clawed frog</td>\n",
       "      <td>NC_054379.1</td>\n",
       "      <td>0.728139</td>\n",
       "    </tr>\n",
       "    <tr>\n",
       "      <th>14</th>\n",
       "      <td>African clawed frog</td>\n",
       "      <td>NC_054385.1</td>\n",
       "      <td>0.717839</td>\n",
       "    </tr>\n",
       "    <tr>\n",
       "      <th>4</th>\n",
       "      <td>African clawed frog</td>\n",
       "      <td>NC_054375.1</td>\n",
       "      <td>0.716987</td>\n",
       "    </tr>\n",
       "    <tr>\n",
       "      <th>6</th>\n",
       "      <td>African clawed frog</td>\n",
       "      <td>NC_054377.1</td>\n",
       "      <td>0.686851</td>\n",
       "    </tr>\n",
       "  </tbody>\n",
       "</table>\n",
       "</div>"
      ],
      "text/plain": [
       "                species replicon_accession    metric\n",
       "38        Mexican tetra        NC_064428.1  0.948264\n",
       "40        Mexican tetra        NC_064430.1  0.948007\n",
       "42        Mexican tetra        NC_064432.1  0.942066\n",
       "39        Mexican tetra        NC_064429.1  0.929241\n",
       "36        Mexican tetra        NC_064426.1  0.928543\n",
       "26        Mexican tetra        NC_064416.1  0.926792\n",
       "35        Mexican tetra        NC_064425.1  0.922499\n",
       "37        Mexican tetra        NC_064427.1  0.920533\n",
       "27        Mexican tetra        NC_064417.1  0.918638\n",
       "34        Mexican tetra        NC_064424.1  0.914867\n",
       "32        Mexican tetra        NC_064422.1  0.914258\n",
       "41        Mexican tetra        NC_064431.1  0.901261\n",
       "21        Mexican tetra        NC_064411.1  0.894042\n",
       "19        Mexican tetra        NC_064409.1  0.870874\n",
       "31        Mexican tetra        NC_064421.1  0.866310\n",
       "28        Mexican tetra        NC_064418.1  0.862627\n",
       "24        Mexican tetra        NC_064414.1  0.858808\n",
       "33        Mexican tetra        NC_064423.1  0.852913\n",
       "25        Mexican tetra        NC_064415.1  0.851788\n",
       "20        Mexican tetra        NC_064410.1  0.848917\n",
       "23        Mexican tetra        NC_064413.1  0.848176\n",
       "30        Mexican tetra        NC_064420.1  0.846238\n",
       "29        Mexican tetra        NC_064419.1  0.817094\n",
       "22        Mexican tetra        NC_064412.1  0.800270\n",
       "18        Mexican tetra        NC_064408.1  0.702258\n",
       "11  African clawed frog        NC_054382.1  0.908084\n",
       "5   African clawed frog        NC_054376.1  0.852514\n",
       "17  African clawed frog        NC_054388.1  0.851936\n",
       "9   African clawed frog        NC_054380.1  0.849043\n",
       "13  African clawed frog        NC_054384.1  0.846948\n",
       "15  African clawed frog        NC_054386.1  0.805397\n",
       "16  African clawed frog        NC_054387.1  0.796660\n",
       "10  African clawed frog        NC_054381.1  0.795369\n",
       "12  African clawed frog        NC_054383.1  0.780079\n",
       "1   African clawed frog        NC_054372.1  0.767781\n",
       "7   African clawed frog        NC_054378.1  0.762609\n",
       "0   African clawed frog        NC_054371.1  0.759599\n",
       "3   African clawed frog        NC_054374.1  0.739518\n",
       "2   African clawed frog        NC_054373.1  0.730850\n",
       "8   African clawed frog        NC_054379.1  0.728139\n",
       "14  African clawed frog        NC_054385.1  0.717839\n",
       "4   African clawed frog        NC_054375.1  0.716987\n",
       "6   African clawed frog        NC_054377.1  0.686851"
      ]
     },
     "execution_count": 106,
     "metadata": {},
     "output_type": "execute_result"
    }
   ],
   "source": [
    "metric"
   ]
  }
 ],
 "metadata": {
  "kernelspec": {
   "display_name": "thesis",
   "language": "python",
   "name": "python3"
  },
  "language_info": {
   "codemirror_mode": {
    "name": "ipython",
    "version": 3
   },
   "file_extension": ".py",
   "mimetype": "text/x-python",
   "name": "python",
   "nbconvert_exporter": "python",
   "pygments_lexer": "ipython3",
   "version": "3.9.15"
  },
  "orig_nbformat": 4
 },
 "nbformat": 4,
 "nbformat_minor": 2
}
