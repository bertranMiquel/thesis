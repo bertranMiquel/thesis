{
 "cells": [
  {
   "cell_type": "markdown",
   "metadata": {},
   "source": [
    "Dummy Smith Waterman"
   ]
  },
  {
   "cell_type": "code",
   "execution_count": 2,
   "metadata": {},
   "outputs": [],
   "source": [
    "import pandas as pd\n",
    "import time\n",
    "import numpy as np\n",
    "from datetime import datetime as dt"
   ]
  },
  {
   "cell_type": "code",
   "execution_count": 5,
   "metadata": {},
   "outputs": [],
   "source": [
    "# -*- coding: utf-8 -*-\n",
    "\n",
    "\"\"\"\n",
    "\n",
    "LIFE97011 - Computing\n",
    "Python Programming - Assessed Exercise No. 3\n",
    "Task: Smith Waterman local alignment\n",
    "@Author: Slaviana Pavlovich\n",
    "\n",
    "\"\"\"\n",
    "\n",
    "# Importing Python packages\n",
    "from enum import IntEnum\n",
    "import numpy as np\n",
    "\n",
    "# Assigning the constants for the scores\n",
    "class Score(IntEnum):\n",
    "    MATCH = 15\n",
    "    CONS_GAP = -1  # Want to penalize worst a first gap than a secong gap\n",
    "    FIRST_GAP = -4\n",
    "    MISMATCH = -3\n",
    "    DUP = 0\n",
    "\n",
    "# Assigning the constant values for the traceback\n",
    "class Trace(IntEnum):\n",
    "    STOP = 0\n",
    "    LEFT = 1 \n",
    "    UP = 2\n",
    "    DIAGONAL = 3\n",
    "\n",
    "# Reading the fasta file and keeping the formatted sequence's name and sequence\n",
    "'''\n",
    "def fasta_reader(sequence_file):\n",
    "    lines = open(sequence_file).readlines()\n",
    "    sequence_name_row = lines[0][1:]\n",
    "    sequence = lines[1]\n",
    "    return sequence_name_row.replace(\" \", \"\").strip(), sequence.strip()\n",
    "'''\n",
    "\n",
    "# Implementing the Smith Waterman local alignment\n",
    "def smith_waterman(seq1, seq2):\n",
    "    # Generating the empty matrices for storing scores and tracing\n",
    "    row = len(seq1) + 1\n",
    "    col = len(seq2) + 1\n",
    "\n",
    "    matrix = [[]]\n",
    "    tracing_matrix = [[]]\n",
    "\n",
    "    matrix = np.zeros(shape=(row, col), dtype=np.int64)  \n",
    "    tracing_matrix = np.zeros(shape=(row, col), dtype=np.int64) \n",
    "    \n",
    "    # Initialising the variables to find the highest scoring cell\n",
    "    max_score = -1\n",
    "    max_index = (-1, -1)\n",
    "    \n",
    "    # Calculating the scores for all cells in the matrix\n",
    "    diagonal_score = 0  \n",
    "    vertical_score = 0\n",
    "    horizontal_score = 0\n",
    "    \n",
    "    for i in range(1, row):\n",
    "        for j in range(1, col):\n",
    "            # Calculating the diagonal score (match score)\n",
    "            match_value = Score.MATCH if seq1[i - 1] == seq2[j - 1] else Score.MISMATCH\n",
    "            diagonal_score = matrix[i - 1, j - 1] + match_value\n",
    "            \n",
    "            if seq2[j-1] == seq2[j-2]:\n",
    "                vertical_score = matrix[i - 1, j] + Score.DUP\n",
    "            elif matrix[i - 1, j] == vertical_score:\n",
    "                vertical_score = matrix[i - 1, j] + Score.CONS_GAP\n",
    "            else: \n",
    "                vertical_score = matrix[i - 1, j] + Score.FIRST_GAP\n",
    "            \n",
    "            # Calculating the vertical gap score, penalizing consecutive gaps\n",
    "            if seq1[i-1] == seq1[i-2]:\n",
    "                horizontal_score = matrix[i, j - 1] + Score.DUP\n",
    "            elif matrix[i, j - 1] == horizontal_score:\n",
    "                horizontal_score = matrix[i, j - 1] + Score.CONS_GAP\n",
    "            else: \n",
    "                horizontal_score = matrix[i, j - 1] + Score.FIRST_GAP\n",
    "\n",
    "            \n",
    "            # Taking the highest score \n",
    "            matrix[i, j] = max(0, diagonal_score, vertical_score, horizontal_score)\n",
    "            \n",
    "            # Tracking where the cell's value is coming from    \n",
    "            if matrix[i, j] == 0: \n",
    "                tracing_matrix[i, j] = Trace.STOP\n",
    "                \n",
    "            elif matrix[i, j] == horizontal_score: \n",
    "                tracing_matrix[i, j] = Trace.LEFT\n",
    "                \n",
    "            elif matrix[i, j] == vertical_score: \n",
    "                tracing_matrix[i, j] = Trace.UP\n",
    "                \n",
    "            elif matrix[i, j] == diagonal_score: \n",
    "                tracing_matrix[i, j] = Trace.DIAGONAL \n",
    "                \n",
    "            # Tracking the cell with the maximum score\n",
    "            if matrix[i, j] >= max_score:\n",
    "                max_index = (i,j)\n",
    "                max_score = matrix[i, j]\n",
    "    \n",
    "    # Initialising the variables for tracing\n",
    "    aligned_seq1 = [ ] #\"\"\n",
    "    aligned_seq2 = [ ] #\"\"   \n",
    "    current_aligned_seq1 = [ ] #\"\"   \n",
    "    current_aligned_seq2 = [ ] #\"\"  \n",
    "    (max_i, max_j) = max_index\n",
    "    \n",
    "    # Tracing and computing the pathway with the local alignment\n",
    "    while tracing_matrix[max_i, max_j] != Trace.STOP:\n",
    "        if tracing_matrix[max_i, max_j] == Trace.DIAGONAL:\n",
    "            current_aligned_seq1.append(seq1[max_i - 1])\n",
    "            current_aligned_seq2.append(seq2[max_j - 1])\n",
    "            max_i = max_i - 1\n",
    "            max_j = max_j - 1\n",
    "            \n",
    "        elif tracing_matrix[max_i, max_j] == Trace.UP:\n",
    "            current_aligned_seq1.append(seq1[max_i - 1])\n",
    "            current_aligned_seq2.append('-')\n",
    "            max_i = max_i - 1    \n",
    "            \n",
    "        elif tracing_matrix[max_i, max_j] == Trace.LEFT:\n",
    "            current_aligned_seq1.append('-')\n",
    "            current_aligned_seq2.append(seq2[max_j - 1])\n",
    "            max_j = max_j - 1\n",
    "            \n",
    "        #aligned_seq1 = aligned_seq1 + current_aligned_seq1\n",
    "        #aligned_seq2 = aligned_seq2 + current_aligned_seq2\n",
    "    \n",
    "    # Reversing the order of the sequences\n",
    "    current_aligned_seq1 = current_aligned_seq1[::-1]\n",
    "    current_aligned_seq2 = current_aligned_seq2[::-1]\n",
    "    \n",
    "    return current_aligned_seq1, current_aligned_seq2, max_score, max_index, max_i, max_j, matrix, tracing_matrix, diagonal_score"
   ]
  },
  {
   "cell_type": "code",
   "execution_count": 9,
   "metadata": {},
   "outputs": [],
   "source": [
    "seq_1 = ['A', 'B', 'E', 'C', 'D', 'A', 'B', 'C']  #['A', 'C', 'G', 'G', 'G', 'C', 'T', 'C']   #['A', 'B', 'E', 'C', 'D', 'A', 'B', 'C'] #['A', 'B', 'C', 'D', 'E', 'F', 'G', 'Z', 'Y', 'H', 'I', 'J']  #.array\n",
    "file_1_name = 'start'\n",
    "seq_2 = ['A', 'B', 'A', 'D', 'C', 'E', 'B', 'C']  #['A', 'T', 'G', 'C', 'C', 'T', 'C']     #['A', 'B', 'A', 'D', 'C', 'E', 'B', 'C']#['Z', 'Y', 'X', 'F', 'E', 'D', 'A', 'F', 'H', 'I', 'T']    #.array\n",
    "file_2_name = 'end'\n",
    "\n",
    "aligned_seq_1 = []\n",
    "aligned_seq_2 = []\n",
    "index_seq1 = []\n",
    "index_seq2 = []\n",
    "matrix = [[]]\n",
    "tracing_matrix = [[]]\n",
    "diagonal_score = [[]]\n",
    "\n",
    "# Executing the Smith Waterman local alignment algorithm\n",
    "aligned_seq_1, aligned_seq_2, max_score, max_index, max_i, max_j, matrix, tracing_matrix, diagonal_score = smith_waterman(seq_1, seq_2)\n",
    "\n",
    "\n",
    "trans_aligned_seq_1 = []\n",
    "trans_aligned_seq_2 = []\n",
    "trans_index_seq1 = []\n",
    "trans_index_seq2 = []\n",
    "trans_matrix = [[]]\n",
    "trans_tracing_matrix = [[]]\n",
    "\n",
    "trans_aligned_seq_1, trans_aligned_seq_2, trans_max_score, trans_max_index, trans_max_i, trans_max_j, trans_matrix, trans_tracing_matrix, trans_diagonal_score = smith_waterman(file_1[::-1], file_2)\n"
   ]
  },
  {
   "cell_type": "code",
   "execution_count": 10,
   "metadata": {},
   "outputs": [
    {
     "name": "stdout",
     "output_type": "stream",
     "text": [
      "['A', 'B', 'E', 'C', 'D', 'A', 'B', 'C'] \n",
      " ['A', 'B', 'A', 'D', 'C', 'E', 'B', 'C']\n"
     ]
    }
   ],
   "source": [
    "# Original sequences\n",
    "print(seq_1, \"\\n\",\n",
    "      seq_2)"
   ]
  },
  {
   "cell_type": "code",
   "execution_count": 11,
   "metadata": {},
   "outputs": [
    {
     "name": "stdout",
     "output_type": "stream",
     "text": [
      "['A', 'B', '-', '-', 'E', 'C', 'D', 'A', 'B', 'C'] \n",
      " ['A', 'B', 'A', 'D', '-', 'C', 'E', '-', 'B', 'C']\n"
     ]
    }
   ],
   "source": [
    "# Aligned sequences\n",
    "print(aligned_seq_1, \"\\n\",\n",
    " aligned_seq_2)"
   ]
  },
  {
   "cell_type": "code",
   "execution_count": 16,
   "metadata": {},
   "outputs": [
    {
     "data": {
      "text/plain": [
       "['C', 'T', 'C', 'G', 'G', 'G', 'C', 'A']"
      ]
     },
     "execution_count": 16,
     "metadata": {},
     "output_type": "execute_result"
    }
   ],
   "source": [
    "file_1[::-1]"
   ]
  },
  {
   "cell_type": "code",
   "execution_count": 17,
   "metadata": {},
   "outputs": [
    {
     "name": "stdout",
     "output_type": "stream",
     "text": [
      "['C', 'T', 'C'] \n",
      " ['C', 'T', 'C']\n"
     ]
    }
   ],
   "source": [
    "print(trans_aligned_seq_1, \"\\n\"\n",
    ", trans_aligned_seq_2)"
   ]
  },
  {
   "cell_type": "markdown",
   "metadata": {},
   "source": [
    "Ivan: \n",
    "Do we want to consider transposition with gaps? \n",
    "1st identical and then look at transpositions without identical parts? -> No parallelize\n",
    "Pioritize between matches, gaps, transpositions,..."
   ]
  },
  {
   "cell_type": "markdown",
   "metadata": {},
   "source": [
    "Next step: how we merge both results?"
   ]
  },
  {
   "cell_type": "code",
   "execution_count": 18,
   "metadata": {},
   "outputs": [
    {
     "data": {
      "text/plain": [
       "array([[ 0,  0,  0,  0,  0,  0,  0,  0],\n",
       "       [ 0, 15, 11, 10,  9,  8,  7,  6],\n",
       "       [ 0, 11, 12,  9, 25, 24, 20, 22],\n",
       "       [ 0,  7,  8, 27, 23, 24, 21, 18],\n",
       "       [ 0,  3,  4, 23, 24, 24, 24, 24],\n",
       "       [ 0,  0,  0, 19, 20, 24, 24, 24],\n",
       "       [ 0,  0,  0, 15, 34, 35, 31, 39],\n",
       "       [ 0,  0, 15, 11, 30, 35, 50, 46],\n",
       "       [ 0,  0, 11, 12, 26, 45, 46, 65]], dtype=int64)"
      ]
     },
     "execution_count": 18,
     "metadata": {},
     "output_type": "execute_result"
    }
   ],
   "source": [
    "matrix"
   ]
  },
  {
   "cell_type": "code",
   "execution_count": 19,
   "metadata": {},
   "outputs": [
    {
     "data": {
      "text/plain": [
       "array([[0, 0, 0, 0, 0, 0, 0, 0],\n",
       "       [0, 3, 1, 1, 1, 1, 1, 1],\n",
       "       [0, 2, 3, 2, 3, 3, 1, 3],\n",
       "       [0, 2, 2, 3, 1, 2, 3, 2],\n",
       "       [0, 2, 2, 2, 3, 1, 1, 1],\n",
       "       [0, 0, 0, 2, 2, 2, 1, 1],\n",
       "       [0, 0, 0, 2, 3, 3, 1, 3],\n",
       "       [0, 0, 3, 1, 2, 2, 3, 1],\n",
       "       [0, 0, 2, 3, 2, 3, 2, 3]], dtype=int64)"
      ]
     },
     "execution_count": 19,
     "metadata": {},
     "output_type": "execute_result"
    }
   ],
   "source": [
    "tracing_matrix"
   ]
  },
  {
   "cell_type": "markdown",
   "metadata": {},
   "source": [
    "max-pooling: sometimes returns not local-max, we would have to detect them, once applied"
   ]
  },
  {
   "cell_type": "code",
   "execution_count": 20,
   "metadata": {},
   "outputs": [
    {
     "data": {
      "text/plain": [
       "tensor([[[ 0.,  0.,  0.,  0.,  0.,  0.,  0.,  0.],\n",
       "         [ 0., 15.,  0.,  0.,  0.,  0.,  0.,  0.],\n",
       "         [ 0.,  0.,  0.,  0., 25.,  0.,  0.,  0.],\n",
       "         [ 0.,  0.,  8., 27.,  0.,  0.,  0.,  0.],\n",
       "         [ 0.,  0.,  0.,  0.,  0.,  0.,  0.,  0.],\n",
       "         [ 0.,  0.,  0.,  0.,  0.,  0.,  0.,  0.],\n",
       "         [ 0.,  0.,  0.,  0.,  0.,  0.,  0.,  0.],\n",
       "         [ 0.,  0., 15.,  0.,  0.,  0.,  0.,  0.],\n",
       "         [ 0.,  0.,  0.,  0.,  0., 45.,  0.,  0.]]], dtype=torch.float64)"
      ]
     },
     "execution_count": 20,
     "metadata": {},
     "output_type": "execute_result"
    }
   ],
   "source": [
    "import torch\n",
    "\n",
    "filter = torch.nn.MaxPool2d(kernel_size=3, stride=3, return_indices=True)\n",
    "unpool = torch.nn.MaxUnpool2d(3, stride=3)\n",
    "input = torch.tensor(matrix.astype(float)).unsqueeze(0)\n",
    "output, indices = filter(input)\n",
    "unpool(output, indices, output_size = np.shape(matrix))"
   ]
  },
  {
   "cell_type": "markdown",
   "metadata": {},
   "source": [
    "Check the greatest values than the Score.MATCH, so we can check if they belong to the already alingment sequence or not"
   ]
  },
  {
   "cell_type": "code",
   "execution_count": 21,
   "metadata": {},
   "outputs": [
    {
     "data": {
      "text/plain": [
       "array([[0, 0, 0, 0, 0, 0, 0, 0],\n",
       "       [0, 3, 1, 1, 1, 1, 1, 1],\n",
       "       [0, 2, 3, 2, 3, 3, 1, 3],\n",
       "       [0, 2, 2, 3, 1, 2, 3, 2],\n",
       "       [0, 2, 2, 2, 3, 1, 1, 1],\n",
       "       [0, 0, 0, 2, 2, 2, 1, 1],\n",
       "       [0, 0, 0, 2, 3, 3, 1, 3],\n",
       "       [0, 0, 3, 1, 2, 2, 3, 1],\n",
       "       [0, 0, 2, 3, 2, 3, 2, 3]], dtype=int64)"
      ]
     },
     "execution_count": 21,
     "metadata": {},
     "output_type": "execute_result"
    }
   ],
   "source": [
    "tracing_matrix"
   ]
  },
  {
   "cell_type": "code",
   "execution_count": 22,
   "metadata": {},
   "outputs": [
    {
     "data": {
      "text/plain": [
       "<AxesSubplot:>"
      ]
     },
     "execution_count": 22,
     "metadata": {},
     "output_type": "execute_result"
    },
    {
     "data": {
      "image/png": "[encoded data removed]",
      "text/plain": [
       "<Figure size 640x480 with 2 Axes>"
      ]
     },
     "metadata": {},
     "output_type": "display_data"
    }
   ],
   "source": [
    "import seaborn as sns\n",
    "sns.heatmap(matrix)"
   ]
  },
  {
   "cell_type": "code",
   "execution_count": 23,
   "metadata": {},
   "outputs": [
    {
     "data": {
      "text/plain": [
       "array([[ 0,  0,  0,  0,  0,  0,  0,  0],\n",
       "       [ 0, 15, 11, 10,  9,  8,  7,  6],\n",
       "       [ 0, 11, 12,  9, 25, 24, 20, 22],\n",
       "       [ 0,  7,  8, 27, 23, 24, 21, 18],\n",
       "       [ 0,  3,  4, 23, 24, 24, 24, 24],\n",
       "       [ 0,  0,  0, 19, 20, 24, 24, 24],\n",
       "       [ 0,  0,  0, 15, 34, 35, 31, 39],\n",
       "       [ 0,  0, 15, 11, 30, 35, 50, 46],\n",
       "       [ 0,  0, 11, 12, 26, 45, 46, 65]], dtype=int64)"
      ]
     },
     "execution_count": 23,
     "metadata": {},
     "output_type": "execute_result"
    }
   ],
   "source": [
    "matrix"
   ]
  },
  {
   "cell_type": "code",
   "execution_count": 24,
   "metadata": {},
   "outputs": [
    {
     "data": {
      "text/plain": [
       "array([[0, 0, 0, 0, 0, 0, 0, 0],\n",
       "       [0, 3, 1, 1, 1, 1, 1, 1],\n",
       "       [0, 2, 3, 2, 3, 3, 1, 3],\n",
       "       [0, 2, 2, 3, 1, 2, 3, 2],\n",
       "       [0, 2, 2, 2, 3, 1, 1, 1],\n",
       "       [0, 0, 0, 2, 2, 2, 1, 1],\n",
       "       [0, 0, 0, 2, 3, 3, 1, 3],\n",
       "       [0, 0, 3, 1, 2, 2, 3, 1],\n",
       "       [0, 0, 2, 3, 2, 3, 2, 3]], dtype=int64)"
      ]
     },
     "execution_count": 24,
     "metadata": {},
     "output_type": "execute_result"
    }
   ],
   "source": [
    "tracing_matrix"
   ]
  },
  {
   "cell_type": "code",
   "execution_count": 25,
   "metadata": {},
   "outputs": [
    {
     "name": "stdout",
     "output_type": "stream",
     "text": [
      "(array([1, 2, 3, 4, 4, 4, 6, 7, 7, 8, 8], dtype=int64), array([1, 7, 3, 5, 6, 7, 0, 0, 2, 0, 7], dtype=int64))\n"
     ]
    }
   ],
   "source": [
    "from scipy.ndimage import maximum_filter\n",
    "\n",
    "'''maximum_filter(matrix, \n",
    "                 size = None, \n",
    "                 footprint = None, \n",
    "                 output = None, \n",
    "                 mode = 'reflect', \n",
    "                 cval = 0.0, \n",
    "                 origin = 0)'''\n",
    "\n",
    "max = (matrix == maximum_filter(matrix, 3, mode = 'constant', cval = 0))\n",
    "\n",
    "res = np.where(1== max)\n",
    "print(res)"
   ]
  },
  {
   "cell_type": "code",
   "execution_count": 26,
   "metadata": {},
   "outputs": [
    {
     "data": {
      "text/plain": [
       "(9, 8)"
      ]
     },
     "execution_count": 26,
     "metadata": {},
     "output_type": "execute_result"
    }
   ],
   "source": [
    "np.shape(matrix)"
   ]
  },
  {
   "cell_type": "code",
   "execution_count": 27,
   "metadata": {},
   "outputs": [
    {
     "name": "stdout",
     "output_type": "stream",
     "text": [
      "(array([0, 1], dtype=int64), array([3, 0], dtype=int64))\n"
     ]
    }
   ],
   "source": [
    "import numpy as np\n",
    "from scipy.ndimage import minimum_filter\n",
    "\n",
    "\n",
    "data = np.array([[2, 100, 1000, -5],\n",
    "        [-10, 9, 1800, 0],\n",
    "        [112, 10, 111, 100],\n",
    "        [50, 110, 50, 140]])\n",
    "\n",
    "\n",
    "minima = (data == minimum_filter(data, 3, mode='constant', cval=0.0))\n",
    "# print(data)\n",
    "# print(minima)\n",
    "\n",
    "\n",
    "res = np.where(1 == minima)\n",
    "print(res)"
   ]
  },
  {
   "cell_type": "code",
   "execution_count": 28,
   "metadata": {},
   "outputs": [],
   "source": [
    "import pandas as pd\n",
    "\n",
    "def excel_reader(specie):\n",
    "    data = pd.read_excel('../Data/Raw/Tables_Filtered_IK.xlsx', specie)\n",
    "    \n",
    "    data['Gene'] = data['Locus'].str.split('(\\d+)').str[0] + data['Strand']\n",
    "    data['Gene_non_or'] = data['Locus'].str.split('(\\d+)').str[0]\n",
    "    data.reset_index(inplace= True)\n",
    "\n",
    "    data = data[data['Gene'].str.contains('LOC') == False]  \n",
    "\n",
    "    return data"
   ]
  },
  {
   "cell_type": "code",
   "execution_count": 29,
   "metadata": {},
   "outputs": [],
   "source": [
    "human = excel_reader('Human')"
   ]
  }
 ],
 "metadata": {
  "kernelspec": {
   "display_name": "thesis",
   "language": "python",
   "name": "python3"
  },
  "language_info": {
   "codemirror_mode": {
    "name": "ipython",
    "version": 3
   },
   "file_extension": ".py",
   "mimetype": "text/x-python",
   "name": "python",
   "nbconvert_exporter": "python",
   "pygments_lexer": "ipython3",
   "version": "3.9.15"
  },
  "orig_nbformat": 4,
  "vscode": {
   "interpreter": {
    "hash": "c7ab25521b35298f0c482908cd2836fcd803c6b8449977de01eb4d32cc96d8dc"
   }
  }
 },
 "nbformat": 4,
 "nbformat_minor": 2
}
