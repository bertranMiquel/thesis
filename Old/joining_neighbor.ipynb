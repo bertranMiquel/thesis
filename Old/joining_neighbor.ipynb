{
 "cells": [
  {
   "cell_type": "code",
   "execution_count": 2,
   "metadata": {},
   "outputs": [
    {
     "ename": "TypeError",
     "evalue": "list indices must be integers or slices, not tuple",
     "output_type": "error",
     "traceback": [
      "\u001b[1;31m---------------------------------------------------------------------------\u001b[0m",
      "\u001b[1;31mTypeError\u001b[0m                                 Traceback (most recent call last)",
      "Cell \u001b[1;32mIn[2], line 33\u001b[0m\n\u001b[0;32m     30\u001b[0m i, j \u001b[39m=\u001b[39m np\u001b[39m.\u001b[39munravel_index(np\u001b[39m.\u001b[39margmin(Qmat), Qmat\u001b[39m.\u001b[39mshape)\n\u001b[0;32m     32\u001b[0m \u001b[39m# Calculate the distance between the new node and the other nodes\u001b[39;00m\n\u001b[1;32m---> 33\u001b[0m dij \u001b[39m=\u001b[39m (matrix[i, n\u001b[39m-\u001b[39;49m\u001b[39m2\u001b[39;49m] \u001b[39m+\u001b[39m matrix[j, n\u001b[39m-\u001b[39m\u001b[39m2\u001b[39m] \u001b[39m-\u001b[39m matrix[i, j]) \u001b[39m/\u001b[39m \u001b[39m2\u001b[39m\n\u001b[0;32m     35\u001b[0m \u001b[39m# Append the new node to the newick list\u001b[39;00m\n\u001b[0;32m     36\u001b[0m newick\u001b[39m.\u001b[39mappend([species[i], species[j], dij])\n",
      "\u001b[1;31mTypeError\u001b[0m: list indices must be integers or slices, not tuple"
     ]
    }
   ],
   "source": [
    "import numpy as np\n",
    "\n",
    "# Create the distance matrix\n",
    "matrix = [[0, 3, 4, 7],\n",
    "          [3, 0, 5, 8],\n",
    "          [4, 5, 0, 6],\n",
    "          [7, 8, 6, 0]]\n",
    "\n",
    "# Initialize the number of species\n",
    "n = len(matrix)\n",
    "\n",
    "# Create a list to store the names of the species\n",
    "species = ['A', 'B', 'C', 'D']\n",
    "\n",
    "# Create a list to store the nodes\n",
    "nodes = range(n)\n",
    "\n",
    "# Create a list to store the newick format\n",
    "newick = []\n",
    "\n",
    "# Create a function to calculate Q\n",
    "def Q(D, n):\n",
    "    return (n-2) * D - np.sum(D, axis=0)\n",
    "\n",
    "while len(nodes) > 2:\n",
    "    # Calculate Q for the current distance matrix\n",
    "    Qmat = Q(matrix, len(nodes))\n",
    "    \n",
    "    # Find the minimum value and its indices in Qmat\n",
    "    i, j = np.unravel_index(np.argmin(Qmat), Qmat.shape)\n",
    "    \n",
    "    # Calculate the distance between the new node and the other nodes\n",
    "    dij = (matrix[i, n-2] + matrix[j, n-2] - matrix[i, j]) / 2\n",
    "    \n",
    "    # Append the new node to the newick list\n",
    "    newick.append([species[i], species[j], dij])\n",
    "    \n",
    "    # Update the distance matrix\n",
    "    matrix = np.delete(matrix, j, axis=0)\n",
    "    matrix = np.delete(matrix, j, axis=1)\n",
    "    matrix = np.delete(matrix, i, axis=0)\n",
    "    matrix = np.delete(matrix, i, axis=1)\n",
    "    newrow = (matrix[:, i] + matrix[:, j] - matrix[i, j]) / 2\n",
    "    matrix = np.append(matrix, [newrow], axis=0)\n",
    "    matrix = np.append(matrix, np.transpose([newrow]), axis=1)\n",
    "    \n",
    "    # Update the species and nodes lists\n",
    "    species.append(species[i] + species[j])\n",
    "    del species[j]\n",
    "    del species[i]\n",
    "    del nodes[j]\n",
    "    del nodes[i]\n",
    "\n",
    "# Append the last two nodes to the newick list\n",
    "newick.append([species[0], species[1], matrix[0,1]])\n",
    "\n",
    "# Print the newick format\n",
    "print(newick)\n"
   ]
  },
  {
   "cell_type": "code",
   "execution_count": 56,
   "metadata": {},
   "outputs": [],
   "source": [
    "# Assume the input matrix is a distance matrix\n",
    "\n",
    "def neighbor_joining(matrix, species):\n",
    "\n",
    "    n = len(species)\n",
    "\n",
    "    if n == 1:\n",
    "        return species[0]\n",
    "\n",
    "    newick = []\n",
    "\n",
    "    while n > 2:\n",
    "        #Qmat = (n-2) * matrix - np.sum(matrix, axis=0)[np.newaxis].T - np.sum(matrix, axis=1)[np.newaxis]\n",
    "        Qmat = (n-2) * matrix - np.sum(matrix, axis=0) - np.sum(matrix, axis=1)\n",
    "        i, j = np.where(Qmat == np.min(Qmat))[0][0], np.where(Qmat == np.min(Qmat))[1][0]\n",
    "        dij = (matrix[i][n-2] + matrix[j][n-2] - matrix[i][j]) / 2\n",
    "\n",
    "\n",
    "        # update the distance matrix\n",
    "        matrix[i][:] = (matrix[i][:] + matrix[j][:] - dij) / 2\n",
    "        matrix[:][i] = matrix[i][:]\n",
    "        matrix = np.delete(matrix, j, 0)\n",
    "        matrix = np.delete(matrix, j, 1)\n",
    "\n",
    "        # update the species list\n",
    "        species.append((species[i] + species[j], dij))\n",
    "        del species[i]\n",
    "        del species[j]\n",
    "        \n",
    "        # update the newick string\n",
    "        newick.append((species[-1], dij))\n",
    "        newick.append((species[-2], dij))\n",
    "\n",
    "        n -= 1\n",
    "    newick.append(species)\n",
    "    newick_string = \":\".join([str(x[1]) for x in newick[::-1]]) + \";\"\n",
    "    return newick_string\n"
   ]
  },
  {
   "cell_type": "code",
   "execution_count": 62,
   "metadata": {},
   "outputs": [],
   "source": [
    "from scipy.spatial.distance import squareform\n",
    "import pandas as pd\n",
    "\n",
    "# names of the leaves\n",
    "species = ['Aadvark', 'Alligator M', 'Alligator S', 'Anolis', 'Chelonia', 'Chrysemys', 'Croco', 'Danio', 'Devil', 'Dog', 'Fugu', 'Gecko', 'Gorilla', 'Human', 'KCobra', 'Koala', 'Monodelphis', 'Mouse', 'Orca', 'Ostrich', 'Papio', 'Pelodiscus', 'Pigeon', 'Platypus', 'Pogona', 'Python', 'Thamnophis', 'Xenopus', 'Xlaevis', 'Xtropicalis']\n",
    "\n",
    "matrix = np.nan_to_num(pd.read_excel('..\\Data\\Results\\Metric\\metric_50_m_n.xlsx', index_col=0).to_numpy(), nan=0)\n",
    "#matrix = squareform(matrix)"
   ]
  },
  {
   "cell_type": "code",
   "execution_count": 63,
   "metadata": {},
   "outputs": [
    {
     "data": {
      "text/plain": [
       "\"(('Orca', 0.08664094828533186, 'Orca'), node30, 0.08664094828533186)\""
      ]
     },
     "execution_count": 63,
     "metadata": {},
     "output_type": "execute_result"
    }
   ],
   "source": [
    "neighbor_joining(matrix, species)"
   ]
  },
  {
   "cell_type": "code",
   "execution_count": 61,
   "metadata": {},
   "outputs": [],
   "source": [
    "def neighbor_joining(matrix, species):\n",
    "    n = len(matrix)\n",
    "    newick = []\n",
    "    while n > 2:\n",
    "        Qmat = (n-2) * matrix - np.sum(matrix, axis=0) - np.sum(matrix, axis=1)\n",
    "        i, j = np.where(Qmat == np.min(Qmat))\n",
    "        i, j = i[0], j[0]\n",
    "        dij = (matrix[i][n-2] + matrix[j][n-2] - matrix[i][j]) / 2\n",
    "        \n",
    "        # create new internal node name\n",
    "        internal_node = f\"node{n}\"\n",
    "        \n",
    "        # update the newick string\n",
    "        if len(newick) == 0:\n",
    "            newick.append((species[i], dij, species[j]))\n",
    "        else:\n",
    "            newick[-1] = (newick[-1], dij, internal_node)\n",
    "            newick.append((species[i], dij, species[j]))\n",
    "        \n",
    "        # update the distance matrix\n",
    "        matrix[i][:] = (matrix[i][:] + matrix[j][:] - dij) / 2\n",
    "        matrix[:,i] = matrix[i][:]\n",
    "        matrix = np.delete(matrix, j, axis=0)\n",
    "        matrix = np.delete(matrix, j, axis=1)\n",
    "        \n",
    "        # update the species list\n",
    "        del species[j]\n",
    "        \n",
    "        # update the newick string\n",
    "        newick[-1] = (newick[-1], dij, internal_node)\n",
    "        newick.append(internal_node)\n",
    "        n -= 1\n",
    "    newick = f\"({newick[0][0]}, {newick[0][2]}, {newick[0][1]})\"\n",
    "    return newick\n"
   ]
  }
 ],
 "metadata": {
  "kernelspec": {
   "display_name": "thesis",
   "language": "python",
   "name": "thesis"
  },
  "language_info": {
   "codemirror_mode": {
    "name": "ipython",
    "version": 3
   },
   "file_extension": ".py",
   "mimetype": "text/x-python",
   "name": "python",
   "nbconvert_exporter": "python",
   "pygments_lexer": "ipython3",
   "version": "3.9.15 | packaged by conda-forge | (main, Nov 22 2022, 08:41:22) [MSC v.1929 64 bit (AMD64)]"
  },
  "orig_nbformat": 4,
  "vscode": {
   "interpreter": {
    "hash": "5109d816b82be14675a6b11f8e0f0d2e80f029176ed3710d54e125caa8520dfd"
   }
  }
 },
 "nbformat": 4,
 "nbformat_minor": 2
}
