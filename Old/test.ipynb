{
 "cells": [
  {
   "cell_type": "code",
   "execution_count": 13,
   "metadata": {},
   "outputs": [
    {
     "name": "stdout",
     "output_type": "stream",
     "text": [
      "The autoreload extension is already loaded. To reload it, use:\n",
      "  %reload_ext autoreload\n"
     ]
    }
   ],
   "source": [
    "import alignment_visualization as av\n",
    "import pandas as pd\n",
    "import phylogenetic_tree as pt\n",
    "from pathlib import Path\n",
    "import k_mers_metric as kmm\n",
    "import annotation_length\n",
    "\n",
    "%load_ext autoreload\n",
    "%autoreload 2"
   ]
  },
  {
   "cell_type": "code",
   "execution_count": 15,
   "metadata": {},
   "outputs": [
    {
     "name": "stdout",
     "output_type": "stream",
     "text": [
      "Organism: golden_spiny_mouse, org_df: 33, relaxed_k: 24\n",
      "Organism: elephant, org_df: 27, relaxed_k: 12\n",
      "Organism: aardvark, org_df: 848, relaxed_k: 689\n",
      "Organism: human, org_df: 396, relaxed_k: 297\n",
      "Organism: rhesus_macaque, org_df: 40, relaxed_k: 26\n",
      "Organism: platypus, org_df: 60, relaxed_k: 34\n",
      "Organism: mardo, org_df: 7, relaxed_k: 6\n",
      "Organism: agile_gracile_mouse_opossum, org_df: 10, relaxed_k: 7\n",
      "Organism: monito_del_monte, org_df: 7, relaxed_k: 7\n",
      "Organism: chicken, org_df: 79, relaxed_k: 57\n",
      "Organism: zebra_finch, org_df: 48, relaxed_k: 43\n",
      "Organism: townsends_dwarf_sphaero, org_df: 37, relaxed_k: 30\n",
      "Organism: fence_lizard, org_df: 13, relaxed_k: 11\n",
      "Organism: aeolian_wall_lizard, org_df: 19, relaxed_k: 18\n",
      "Organism: western_painted_turtle, org_df: 481, relaxed_k: 334\n",
      "Organism: mexican_gopher_tortoise, org_df: 25, relaxed_k: 15\n",
      "Organism: loggerhead_turtle, org_df: 38, relaxed_k: 37\n",
      "Organism: cat, org_df: 23, relaxed_k: 20\n",
      "Organism: lion, org_df: 21, relaxed_k: 19\n",
      "Organism: dingo, org_df: 41, relaxed_k: 39\n",
      "Organism: african_clawed_frog, org_df: 18, relaxed_k: 18\n",
      "Organism: plains_spadefoot_toad, org_df: 13, relaxed_k: 13\n",
      "Organism: asiatic_toad, org_df: 218, relaxed_k: 113\n",
      "Organism: west_african_lungfish, org_df: 28, relaxed_k: 27\n",
      "Organism: reedfish, org_df: 19, relaxed_k: 18\n",
      "Organism: mexican_tetra, org_df: 40, relaxed_k: 37\n",
      "Organism: whitespotted_bambooshark, org_df: 147, relaxed_k: 49\n",
      "Organism: thorny_skate, org_df: 117, relaxed_k: 62\n",
      "Organism: great_white_shark, org_df: 133, relaxed_k: 74\n",
      "Organism: coelacanth, org_df: 2508, relaxed_k: 1716\n",
      "Organism: australian_saltwater_crocodile, org_df: 69, relaxed_k: 68\n",
      "Organism: sheep, org_df: 32, relaxed_k: 30\n"
     ]
    }
   ],
   "source": [
    "import pandas as pd\n",
    "import numpy as np\n",
    "from pathlib import Path\n",
    "\n",
    "import yaml\n",
    "config_path = Path('./k_mers_generation/gff_to_k_mer_pipeline/config/config.yaml')\n",
    "with open(config_path) as yaml_file:\n",
    "    config = yaml.safe_load(yaml_file)\n",
    "\n",
    "faulty_replicon_species = {}\n",
    "for organism_name, organism in config['organisms'].items():\n",
    "    organism_df = pd.read_feather(Path(f'../Data/Intermediate/interim/feature_enriched/{organism[\"filename\"]}.features.feather'))\n",
    "    #strict_k_mer_df = pd.read_feather(Path(f'../Data/Intermediate/k_mers/processed/{organism[\"filename\"]}/2.strict_locus.feather'))\n",
    "    relaxed_k_mer_df = pd.read_feather(Path(f'../Data/Intermediate/k_mers/processed/{organism[\"filename\"]}/2.relaxed_locus.feather'))\n",
    "    \n",
    "    organism_df_replicon_number = organism_df.replicon_accession.nunique()\n",
    "    #strict_k_mer_df_replicon_number = strict_k_mer_df.replicon_accession.nunique()\n",
    "    relaxed_k_mer_df_replicon_number = relaxed_k_mer_df.replicon_accession.nunique()\n",
    "    \n",
    "    print(f'Organism: {organism_name}, org_df: {organism_df_replicon_number}, relaxed_k: {relaxed_k_mer_df_replicon_number}')\n",
    "    \n",
    "    if not (organism_df_replicon_number == strict_k_mer_df_replicon_number == relaxed_k_mer_df_replicon_number):\n",
    "        faulty_replicon_species[organism_name] = {'org_df': organism_df_replicon_number, 'relaxed_k': relaxed_k_mer_df_replicon_number}        "
   ]
  },
  {
   "cell_type": "code",
   "execution_count": 16,
   "metadata": {},
   "outputs": [
    {
     "data": {
      "text/plain": [
       "{'golden_spiny_mouse': {'org_df': 33, 'relaxed_k': 24},\n",
       " 'elephant': {'org_df': 27, 'relaxed_k': 12},\n",
       " 'aardvark': {'org_df': 848, 'relaxed_k': 689},\n",
       " 'human': {'org_df': 396, 'relaxed_k': 297},\n",
       " 'rhesus_macaque': {'org_df': 40, 'relaxed_k': 26},\n",
       " 'platypus': {'org_df': 60, 'relaxed_k': 34},\n",
       " 'mardo': {'org_df': 7, 'relaxed_k': 6},\n",
       " 'agile_gracile_mouse_opossum': {'org_df': 10, 'relaxed_k': 7},\n",
       " 'monito_del_monte': {'org_df': 7, 'relaxed_k': 7},\n",
       " 'chicken': {'org_df': 79, 'relaxed_k': 57},\n",
       " 'zebra_finch': {'org_df': 48, 'relaxed_k': 43},\n",
       " 'townsends_dwarf_sphaero': {'org_df': 37, 'relaxed_k': 30},\n",
       " 'fence_lizard': {'org_df': 13, 'relaxed_k': 11},\n",
       " 'aeolian_wall_lizard': {'org_df': 19, 'relaxed_k': 18},\n",
       " 'western_painted_turtle': {'org_df': 481, 'relaxed_k': 334},\n",
       " 'mexican_gopher_tortoise': {'org_df': 25, 'relaxed_k': 15},\n",
       " 'loggerhead_turtle': {'org_df': 38, 'relaxed_k': 37},\n",
       " 'cat': {'org_df': 23, 'relaxed_k': 20},\n",
       " 'lion': {'org_df': 21, 'relaxed_k': 19},\n",
       " 'dingo': {'org_df': 41, 'relaxed_k': 39},\n",
       " 'african_clawed_frog': {'org_df': 18, 'relaxed_k': 18},\n",
       " 'plains_spadefoot_toad': {'org_df': 13, 'relaxed_k': 13},\n",
       " 'asiatic_toad': {'org_df': 218, 'relaxed_k': 113},\n",
       " 'west_african_lungfish': {'org_df': 28, 'relaxed_k': 27},\n",
       " 'reedfish': {'org_df': 19, 'relaxed_k': 18},\n",
       " 'mexican_tetra': {'org_df': 40, 'relaxed_k': 37},\n",
       " 'whitespotted_bambooshark': {'org_df': 147, 'relaxed_k': 49},\n",
       " 'thorny_skate': {'org_df': 117, 'relaxed_k': 62},\n",
       " 'great_white_shark': {'org_df': 133, 'relaxed_k': 74},\n",
       " 'coelacanth': {'org_df': 2508, 'relaxed_k': 1716},\n",
       " 'australian_saltwater_crocodile': {'org_df': 69, 'relaxed_k': 68},\n",
       " 'sheep': {'org_df': 32, 'relaxed_k': 30}}"
      ]
     },
     "execution_count": 16,
     "metadata": {},
     "output_type": "execute_result"
    }
   ],
   "source": [
    "faulty_replicon_species"
   ]
  },
  {
   "cell_type": "code",
   "execution_count": 25,
   "metadata": {},
   "outputs": [],
   "source": [
    "import pandas as pd\n",
    "import numpy as np\n",
    "from pathlib import Path\n",
    "\n",
    "import yaml\n",
    "config_path = Path('./k_mers_generation/gff_to_k_mer_pipeline/config/config.yaml')\n",
    "with open(config_path) as yaml_file:\n",
    "    config = yaml.safe_load(yaml_file)\n",
    "\n",
    "# Check how many annotations have replicon accession with less than 2 different genes\n",
    "faulty_replicon_species = {}\n",
    "for organism_name, organism in config['organisms'].items():\n",
    "    organism_df = pd.read_feather(Path(f'../Data/Intermediate/interim/feature_enriched/{organism[\"filename\"]}.features.feather'))\n",
    "    organism_df_less_2 = organism_df[['replicon_accession', 'locus']].groupby(['replicon_accession'], as_index=False).nunique().loc[lambda x: x['locus'] < 2]\n",
    "\n",
    "    if len(organism_df_less_2) > 0:\n",
    "        faulty_replicon_species[organism_name] = organism_df_less_2.replicon_accession.count()\n",
    "    \n",
    "faulty_replicon_species"
   ]
  },
  {
   "cell_type": "code",
   "execution_count": 23,
   "metadata": {},
   "outputs": [
    {
     "data": {
      "text/html": [
       "<div>\n",
       "<style scoped>\n",
       "    .dataframe tbody tr th:only-of-type {\n",
       "        vertical-align: middle;\n",
       "    }\n",
       "\n",
       "    .dataframe tbody tr th {\n",
       "        vertical-align: top;\n",
       "    }\n",
       "\n",
       "    .dataframe thead th {\n",
       "        text-align: right;\n",
       "    }\n",
       "</style>\n",
       "<table border=\"1\" class=\"dataframe\">\n",
       "  <thead>\n",
       "    <tr style=\"text-align: right;\">\n",
       "      <th></th>\n",
       "      <th>locus</th>\n",
       "    </tr>\n",
       "    <tr>\n",
       "      <th>replicon_accession</th>\n",
       "      <th></th>\n",
       "    </tr>\n",
       "  </thead>\n",
       "  <tbody>\n",
       "    <tr>\n",
       "      <th>NW_024599809.1</th>\n",
       "      <td>1</td>\n",
       "    </tr>\n",
       "    <tr>\n",
       "      <th>NW_024599828.1</th>\n",
       "      <td>1</td>\n",
       "    </tr>\n",
       "  </tbody>\n",
       "</table>\n",
       "</div>"
      ],
      "text/plain": [
       "                    locus\n",
       "replicon_accession       \n",
       "NW_024599809.1          1\n",
       "NW_024599828.1          1"
      ]
     },
     "execution_count": 23,
     "metadata": {},
     "output_type": "execute_result"
    }
   ],
   "source": [
    "organism_df_less_2.head()"
   ]
  },
  {
   "cell_type": "code",
   "execution_count": 26,
   "metadata": {},
   "outputs": [
    {
     "data": {
      "text/plain": [
       "{'golden_spiny_mouse': 2,\n",
       " 'elephant': 1,\n",
       " 'aardvark': 156,\n",
       " 'human': 77,\n",
       " 'rhesus_macaque': 14,\n",
       " 'platypus': 19,\n",
       " 'mardo': 1,\n",
       " 'agile_gracile_mouse_opossum': 3,\n",
       " 'chicken': 20,\n",
       " 'zebra_finch': 5,\n",
       " 'townsends_dwarf_sphaero': 7,\n",
       " 'fence_lizard': 2,\n",
       " 'western_painted_turtle': 146,\n",
       " 'mexican_gopher_tortoise': 3,\n",
       " 'loggerhead_turtle': 1,\n",
       " 'cat': 3,\n",
       " 'lion': 2,\n",
       " 'dingo': 2,\n",
       " 'asiatic_toad': 105,\n",
       " 'west_african_lungfish': 1,\n",
       " 'reedfish': 1,\n",
       " 'mexican_tetra': 3,\n",
       " 'whitespotted_bambooshark': 98,\n",
       " 'thorny_skate': 54,\n",
       " 'great_white_shark': 59,\n",
       " 'coelacanth': 784,\n",
       " 'sheep': 2}"
      ]
     },
     "execution_count": 26,
     "metadata": {},
     "output_type": "execute_result"
    }
   ],
   "source": [
    "faulty_replicon_species"
   ]
  },
  {
   "cell_type": "code",
   "execution_count": 16,
   "metadata": {},
   "outputs": [
    {
     "name": "stdout",
     "output_type": "stream",
     "text": [
      "Unexpected exception formatting exception. Falling back to standard exception\n"
     ]
    },
    {
     "name": "stderr",
     "output_type": "stream",
     "text": [
      "Traceback (most recent call last):\n",
      "  File \"c:\\Users\\bertr\\miniconda3\\envs\\thesis\\lib\\site-packages\\IPython\\core\\interactiveshell.py\", line 3442, in run_code\n",
      "    exec(code_obj, self.user_global_ns, self.user_ns)\n",
      "  File \"C:\\Users\\bertr\\AppData\\Local\\Temp\\ipykernel_11664\\4135374952.py\", line 1, in <module>\n",
      "    av.alignment_vis(path='../Data/S_W_Intermediate/Scaffold/Human_Gorilla/', timestamp='20230306_093245')\n",
      "  File \"c:\\Users\\bertr\\LRZ Sync+Share\\Thesis\\Code\\alignment_visualization.py\", line 226, in alignment_vis\n",
      "    blocks = merge_length('../Data/Intermediate/replicon_accession_length.feather', blocks)\n",
      "  File \"c:\\Users\\bertr\\LRZ Sync+Share\\Thesis\\Code\\alignment_visualization.py\", line 35, in merge_length\n",
      "    blocks = blocks.merge(length, how='left', left_on='replicon_accession')\n",
      "  File \"c:\\Users\\bertr\\miniconda3\\envs\\thesis\\lib\\site-packages\\pandas\\core\\frame.py\", line 10093, in merge\n",
      "    return merge(\n",
      "  File \"c:\\Users\\bertr\\miniconda3\\envs\\thesis\\lib\\site-packages\\pandas\\core\\reshape\\merge.py\", line 110, in merge\n",
      "    op = _MergeOperation(\n",
      "  File \"c:\\Users\\bertr\\miniconda3\\envs\\thesis\\lib\\site-packages\\pandas\\core\\reshape\\merge.py\", line 685, in __init__\n",
      "    self.left_on, self.right_on = self._validate_left_right_on(left_on, right_on)\n",
      "  File \"c:\\Users\\bertr\\miniconda3\\envs\\thesis\\lib\\site-packages\\pandas\\core\\reshape\\merge.py\", line 1465, in _validate_left_right_on\n",
      "    raise MergeError('Must pass \"right_on\" OR \"right_index\".')\n",
      "pandas.errors.MergeError: Must pass \"right_on\" OR \"right_index\".\n",
      "\n",
      "During handling of the above exception, another exception occurred:\n",
      "\n",
      "Traceback (most recent call last):\n",
      "  File \"c:\\Users\\bertr\\miniconda3\\envs\\thesis\\lib\\site-packages\\IPython\\core\\interactiveshell.py\", line 2057, in showtraceback\n",
      "    stb = self.InteractiveTB.structured_traceback(\n",
      "  File \"c:\\Users\\bertr\\miniconda3\\envs\\thesis\\lib\\site-packages\\IPython\\core\\ultratb.py\", line 1118, in structured_traceback\n",
      "    return FormattedTB.structured_traceback(\n",
      "  File \"c:\\Users\\bertr\\miniconda3\\envs\\thesis\\lib\\site-packages\\IPython\\core\\ultratb.py\", line 1012, in structured_traceback\n",
      "    return VerboseTB.structured_traceback(\n",
      "  File \"c:\\Users\\bertr\\miniconda3\\envs\\thesis\\lib\\site-packages\\IPython\\core\\ultratb.py\", line 865, in structured_traceback\n",
      "    formatted_exception = self.format_exception_as_a_whole(etype, evalue, etb, number_of_lines_of_context,\n",
      "  File \"c:\\Users\\bertr\\miniconda3\\envs\\thesis\\lib\\site-packages\\IPython\\core\\ultratb.py\", line 818, in format_exception_as_a_whole\n",
      "    frames.append(self.format_record(r))\n",
      "  File \"c:\\Users\\bertr\\miniconda3\\envs\\thesis\\lib\\site-packages\\IPython\\core\\ultratb.py\", line 736, in format_record\n",
      "    result += ''.join(_format_traceback_lines(frame_info.lines, Colors, self.has_colors, lvals))\n",
      "  File \"c:\\Users\\bertr\\miniconda3\\envs\\thesis\\lib\\site-packages\\stack_data\\utils.py\", line 145, in cached_property_wrapper\n",
      "    value = obj.__dict__[self.func.__name__] = self.func(obj)\n",
      "  File \"c:\\Users\\bertr\\miniconda3\\envs\\thesis\\lib\\site-packages\\stack_data\\core.py\", line 698, in lines\n",
      "    pieces = self.included_pieces\n",
      "  File \"c:\\Users\\bertr\\miniconda3\\envs\\thesis\\lib\\site-packages\\stack_data\\utils.py\", line 145, in cached_property_wrapper\n",
      "    value = obj.__dict__[self.func.__name__] = self.func(obj)\n",
      "  File \"c:\\Users\\bertr\\miniconda3\\envs\\thesis\\lib\\site-packages\\stack_data\\core.py\", line 649, in included_pieces\n",
      "    pos = scope_pieces.index(self.executing_piece)\n",
      "  File \"c:\\Users\\bertr\\miniconda3\\envs\\thesis\\lib\\site-packages\\stack_data\\utils.py\", line 145, in cached_property_wrapper\n",
      "    value = obj.__dict__[self.func.__name__] = self.func(obj)\n",
      "  File \"c:\\Users\\bertr\\miniconda3\\envs\\thesis\\lib\\site-packages\\stack_data\\core.py\", line 628, in executing_piece\n",
      "    return only(\n",
      "  File \"c:\\Users\\bertr\\miniconda3\\envs\\thesis\\lib\\site-packages\\executing\\executing.py\", line 164, in only\n",
      "    raise NotOneValueFound('Expected one value, found 0')\n",
      "executing.executing.NotOneValueFound: Expected one value, found 0\n"
     ]
    }
   ],
   "source": [
    "\n",
    "av.alignment_vis(path='../Data/S_W_Intermediate/Scaffold/Human_Gorilla/', timestamp='20230306_093245')"
   ]
  },
  {
   "cell_type": "markdown",
   "metadata": {},
   "source": []
  },
  {
   "cell_type": "code",
   "execution_count": 1,
   "metadata": {},
   "outputs": [
    {
     "ename": "ArrowMemoryError",
     "evalue": "realloc of size 2147483648 failed",
     "output_type": "error",
     "traceback": [
      "\u001b[1;31m---------------------------------------------------------------------------\u001b[0m",
      "\u001b[1;31mArrowMemoryError\u001b[0m                          Traceback (most recent call last)",
      "Cell \u001b[1;32mIn[1], line 21\u001b[0m\n\u001b[0;32m     18\u001b[0m logging\u001b[39m.\u001b[39minfo(\u001b[39m'\u001b[39m\u001b[39mLength files updated\u001b[39m\u001b[39m'\u001b[39m)\n\u001b[0;32m     20\u001b[0m \u001b[39m# Update k-mers feather file\u001b[39;00m\n\u001b[1;32m---> 21\u001b[0m rkm\u001b[39m.\u001b[39;49mupdate_k_mers(\u001b[39m'\u001b[39;49m\u001b[39m../Data/Intermediate/k_mers/processed/\u001b[39;49m\u001b[39m'\u001b[39;49m, mode\u001b[39m=\u001b[39;49m\u001b[39m'\u001b[39;49m\u001b[39mstrict\u001b[39;49m\u001b[39m'\u001b[39;49m)\n\u001b[0;32m     22\u001b[0m rkm\u001b[39m.\u001b[39mupdate_k_mers(\u001b[39m'\u001b[39m\u001b[39m../Data/Intermediate/k_mers/processed/\u001b[39m\u001b[39m'\u001b[39m, mode\u001b[39m=\u001b[39m\u001b[39m'\u001b[39m\u001b[39mrelaxed\u001b[39m\u001b[39m'\u001b[39m)\n\u001b[0;32m     23\u001b[0m logging\u001b[39m.\u001b[39minfo(\u001b[39m'\u001b[39m\u001b[39mK-mers files updated\u001b[39m\u001b[39m'\u001b[39m)\n",
      "File \u001b[1;32mc:\\Users\\bertr\\LRZ Sync+Share\\Thesis\\Code\\read_k_mers.py:83\u001b[0m, in \u001b[0;36mupdate_k_mers\u001b[1;34m(input_file_path, mode)\u001b[0m\n\u001b[0;32m     80\u001b[0m df_list[\u001b[39m'\u001b[39m\u001b[39mspecies\u001b[39m\u001b[39m'\u001b[39m] \u001b[39m=\u001b[39m df_list[\u001b[39m'\u001b[39m\u001b[39mspecies_gcf_id\u001b[39m\u001b[39m'\u001b[39m]\u001b[39m.\u001b[39mmap(file_species)\n\u001b[0;32m     82\u001b[0m \u001b[39m# Save the dataframe as a feather file\u001b[39;00m\n\u001b[1;32m---> 83\u001b[0m df_list\u001b[39m.\u001b[39;49mto_feather(\u001b[39m'\u001b[39;49m\u001b[39m../Data/Intermediate/k_mers/processed/df_k_mers_\u001b[39;49m\u001b[39m'\u001b[39;49m \u001b[39m+\u001b[39;49m mode \u001b[39m+\u001b[39;49m \u001b[39m'\u001b[39;49m\u001b[39m.feather\u001b[39;49m\u001b[39m'\u001b[39;49m)\n",
      "File \u001b[1;32mc:\\Users\\bertr\\miniconda3\\envs\\thesis\\lib\\site-packages\\pandas\\util\\_decorators.py:211\u001b[0m, in \u001b[0;36mdeprecate_kwarg.<locals>._deprecate_kwarg.<locals>.wrapper\u001b[1;34m(*args, **kwargs)\u001b[0m\n\u001b[0;32m    209\u001b[0m     \u001b[39melse\u001b[39;00m:\n\u001b[0;32m    210\u001b[0m         kwargs[new_arg_name] \u001b[39m=\u001b[39m new_arg_value\n\u001b[1;32m--> 211\u001b[0m \u001b[39mreturn\u001b[39;00m func(\u001b[39m*\u001b[39margs, \u001b[39m*\u001b[39m\u001b[39m*\u001b[39mkwargs)\n",
      "File \u001b[1;32mc:\\Users\\bertr\\miniconda3\\envs\\thesis\\lib\\site-packages\\pandas\\core\\frame.py:2795\u001b[0m, in \u001b[0;36mDataFrame.to_feather\u001b[1;34m(self, path, **kwargs)\u001b[0m\n\u001b[0;32m   2770\u001b[0m \u001b[39m\"\"\"\u001b[39;00m\n\u001b[0;32m   2771\u001b[0m \u001b[39mWrite a DataFrame to the binary Feather format.\u001b[39;00m\n\u001b[0;32m   2772\u001b[0m \n\u001b[1;32m   (...)\u001b[0m\n\u001b[0;32m   2791\u001b[0m \u001b[39msupports custom indices e.g. `to_parquet`.\u001b[39;00m\n\u001b[0;32m   2792\u001b[0m \u001b[39m\"\"\"\u001b[39;00m\n\u001b[0;32m   2793\u001b[0m \u001b[39mfrom\u001b[39;00m \u001b[39mpandas\u001b[39;00m\u001b[39m.\u001b[39;00m\u001b[39mio\u001b[39;00m\u001b[39m.\u001b[39;00m\u001b[39mfeather_format\u001b[39;00m \u001b[39mimport\u001b[39;00m to_feather\n\u001b[1;32m-> 2795\u001b[0m to_feather(\u001b[39mself\u001b[39m, path, \u001b[39m*\u001b[39m\u001b[39m*\u001b[39mkwargs)\n",
      "File \u001b[1;32mc:\\Users\\bertr\\miniconda3\\envs\\thesis\\lib\\site-packages\\pandas\\io\\feather_format.py:93\u001b[0m, in \u001b[0;36mto_feather\u001b[1;34m(df, path, storage_options, **kwargs)\u001b[0m\n\u001b[0;32m     88\u001b[0m     \u001b[39mraise\u001b[39;00m \u001b[39mValueError\u001b[39;00m(\u001b[39m\"\u001b[39m\u001b[39mfeather must have string column names\u001b[39m\u001b[39m\"\u001b[39m)\n\u001b[0;32m     90\u001b[0m \u001b[39mwith\u001b[39;00m get_handle(\n\u001b[0;32m     91\u001b[0m     path, \u001b[39m\"\u001b[39m\u001b[39mwb\u001b[39m\u001b[39m\"\u001b[39m, storage_options\u001b[39m=\u001b[39mstorage_options, is_text\u001b[39m=\u001b[39m\u001b[39mFalse\u001b[39;00m\n\u001b[0;32m     92\u001b[0m ) \u001b[39mas\u001b[39;00m handles:\n\u001b[1;32m---> 93\u001b[0m     feather\u001b[39m.\u001b[39mwrite_feather(df, handles\u001b[39m.\u001b[39mhandle, \u001b[39m*\u001b[39m\u001b[39m*\u001b[39mkwargs)\n",
      "File \u001b[1;32mc:\\Users\\bertr\\miniconda3\\envs\\thesis\\lib\\site-packages\\pyarrow\\feather.py:156\u001b[0m, in \u001b[0;36mwrite_feather\u001b[1;34m(df, dest, compression, compression_level, chunksize, version)\u001b[0m\n\u001b[0;32m    153\u001b[0m \u001b[39melse\u001b[39;00m:\n\u001b[0;32m    154\u001b[0m     \u001b[39mraise\u001b[39;00m \u001b[39mValueError\u001b[39;00m(\u001b[39m\"\u001b[39m\u001b[39mVersion value should either be 1 or 2\u001b[39m\u001b[39m\"\u001b[39m)\n\u001b[1;32m--> 156\u001b[0m table \u001b[39m=\u001b[39m Table\u001b[39m.\u001b[39;49mfrom_pandas(df, preserve_index\u001b[39m=\u001b[39;49mpreserve_index)\n\u001b[0;32m    158\u001b[0m \u001b[39mif\u001b[39;00m version \u001b[39m==\u001b[39m \u001b[39m1\u001b[39m:\n\u001b[0;32m    159\u001b[0m     \u001b[39m# Version 1 does not chunking\u001b[39;00m\n\u001b[0;32m    160\u001b[0m     \u001b[39mfor\u001b[39;00m i, name \u001b[39min\u001b[39;00m \u001b[39menumerate\u001b[39m(table\u001b[39m.\u001b[39mschema\u001b[39m.\u001b[39mnames):\n",
      "File \u001b[1;32mc:\\Users\\bertr\\miniconda3\\envs\\thesis\\lib\\site-packages\\pyarrow\\table.pxi:3557\u001b[0m, in \u001b[0;36mpyarrow.lib.Table.from_pandas\u001b[1;34m()\u001b[0m\n",
      "File \u001b[1;32mc:\\Users\\bertr\\miniconda3\\envs\\thesis\\lib\\site-packages\\pyarrow\\pandas_compat.py:624\u001b[0m, in \u001b[0;36mdataframe_to_arrays\u001b[1;34m(df, schema, preserve_index, nthreads, columns, safe)\u001b[0m\n\u001b[0;32m    622\u001b[0m     \u001b[39mfor\u001b[39;00m i, maybe_fut \u001b[39min\u001b[39;00m \u001b[39menumerate\u001b[39m(arrays):\n\u001b[0;32m    623\u001b[0m         \u001b[39mif\u001b[39;00m \u001b[39misinstance\u001b[39m(maybe_fut, futures\u001b[39m.\u001b[39mFuture):\n\u001b[1;32m--> 624\u001b[0m             arrays[i] \u001b[39m=\u001b[39m maybe_fut\u001b[39m.\u001b[39;49mresult()\n\u001b[0;32m    626\u001b[0m types \u001b[39m=\u001b[39m [x\u001b[39m.\u001b[39mtype \u001b[39mfor\u001b[39;00m x \u001b[39min\u001b[39;00m arrays]\n\u001b[0;32m    628\u001b[0m \u001b[39mif\u001b[39;00m schema \u001b[39mis\u001b[39;00m \u001b[39mNone\u001b[39;00m:\n",
      "File \u001b[1;32mc:\\Users\\bertr\\miniconda3\\envs\\thesis\\lib\\concurrent\\futures\\_base.py:439\u001b[0m, in \u001b[0;36mFuture.result\u001b[1;34m(self, timeout)\u001b[0m\n\u001b[0;32m    437\u001b[0m     \u001b[39mraise\u001b[39;00m CancelledError()\n\u001b[0;32m    438\u001b[0m \u001b[39melif\u001b[39;00m \u001b[39mself\u001b[39m\u001b[39m.\u001b[39m_state \u001b[39m==\u001b[39m FINISHED:\n\u001b[1;32m--> 439\u001b[0m     \u001b[39mreturn\u001b[39;00m \u001b[39mself\u001b[39;49m\u001b[39m.\u001b[39;49m__get_result()\n\u001b[0;32m    441\u001b[0m \u001b[39mself\u001b[39m\u001b[39m.\u001b[39m_condition\u001b[39m.\u001b[39mwait(timeout)\n\u001b[0;32m    443\u001b[0m \u001b[39mif\u001b[39;00m \u001b[39mself\u001b[39m\u001b[39m.\u001b[39m_state \u001b[39min\u001b[39;00m [CANCELLED, CANCELLED_AND_NOTIFIED]:\n",
      "File \u001b[1;32mc:\\Users\\bertr\\miniconda3\\envs\\thesis\\lib\\concurrent\\futures\\_base.py:391\u001b[0m, in \u001b[0;36mFuture.__get_result\u001b[1;34m(self)\u001b[0m\n\u001b[0;32m    389\u001b[0m \u001b[39mif\u001b[39;00m \u001b[39mself\u001b[39m\u001b[39m.\u001b[39m_exception:\n\u001b[0;32m    390\u001b[0m     \u001b[39mtry\u001b[39;00m:\n\u001b[1;32m--> 391\u001b[0m         \u001b[39mraise\u001b[39;00m \u001b[39mself\u001b[39m\u001b[39m.\u001b[39m_exception\n\u001b[0;32m    392\u001b[0m     \u001b[39mfinally\u001b[39;00m:\n\u001b[0;32m    393\u001b[0m         \u001b[39m# Break a reference cycle with the exception in self._exception\u001b[39;00m\n\u001b[0;32m    394\u001b[0m         \u001b[39mself\u001b[39m \u001b[39m=\u001b[39m \u001b[39mNone\u001b[39;00m\n",
      "File \u001b[1;32mc:\\Users\\bertr\\miniconda3\\envs\\thesis\\lib\\concurrent\\futures\\thread.py:58\u001b[0m, in \u001b[0;36m_WorkItem.run\u001b[1;34m(self)\u001b[0m\n\u001b[0;32m     55\u001b[0m     \u001b[39mreturn\u001b[39;00m\n\u001b[0;32m     57\u001b[0m \u001b[39mtry\u001b[39;00m:\n\u001b[1;32m---> 58\u001b[0m     result \u001b[39m=\u001b[39m \u001b[39mself\u001b[39m\u001b[39m.\u001b[39mfn(\u001b[39m*\u001b[39m\u001b[39mself\u001b[39m\u001b[39m.\u001b[39margs, \u001b[39m*\u001b[39m\u001b[39m*\u001b[39m\u001b[39mself\u001b[39m\u001b[39m.\u001b[39mkwargs)\n\u001b[0;32m     59\u001b[0m \u001b[39mexcept\u001b[39;00m \u001b[39mBaseException\u001b[39;00m \u001b[39mas\u001b[39;00m exc:\n\u001b[0;32m     60\u001b[0m     \u001b[39mself\u001b[39m\u001b[39m.\u001b[39mfuture\u001b[39m.\u001b[39mset_exception(exc)\n",
      "File \u001b[1;32mc:\\Users\\bertr\\miniconda3\\envs\\thesis\\lib\\site-packages\\pyarrow\\pandas_compat.py:592\u001b[0m, in \u001b[0;36mdataframe_to_arrays.<locals>.convert_column\u001b[1;34m(col, field)\u001b[0m\n\u001b[0;32m    589\u001b[0m     type_ \u001b[39m=\u001b[39m field\u001b[39m.\u001b[39mtype\n\u001b[0;32m    591\u001b[0m \u001b[39mtry\u001b[39;00m:\n\u001b[1;32m--> 592\u001b[0m     result \u001b[39m=\u001b[39m pa\u001b[39m.\u001b[39;49marray(col, \u001b[39mtype\u001b[39;49m\u001b[39m=\u001b[39;49mtype_, from_pandas\u001b[39m=\u001b[39;49m\u001b[39mTrue\u001b[39;49;00m, safe\u001b[39m=\u001b[39;49msafe)\n\u001b[0;32m    593\u001b[0m \u001b[39mexcept\u001b[39;00m (pa\u001b[39m.\u001b[39mArrowInvalid,\n\u001b[0;32m    594\u001b[0m         pa\u001b[39m.\u001b[39mArrowNotImplementedError,\n\u001b[0;32m    595\u001b[0m         pa\u001b[39m.\u001b[39mArrowTypeError) \u001b[39mas\u001b[39;00m e:\n\u001b[0;32m    596\u001b[0m     e\u001b[39m.\u001b[39margs \u001b[39m+\u001b[39m\u001b[39m=\u001b[39m (\u001b[39m\"\u001b[39m\u001b[39mConversion failed for column \u001b[39m\u001b[39m{!s}\u001b[39;00m\u001b[39m with type \u001b[39m\u001b[39m{!s}\u001b[39;00m\u001b[39m\"\u001b[39m\n\u001b[0;32m    597\u001b[0m                \u001b[39m.\u001b[39mformat(col\u001b[39m.\u001b[39mname, col\u001b[39m.\u001b[39mdtype),)\n",
      "File \u001b[1;32mc:\\Users\\bertr\\miniconda3\\envs\\thesis\\lib\\site-packages\\pyarrow\\array.pxi:316\u001b[0m, in \u001b[0;36mpyarrow.lib.array\u001b[1;34m()\u001b[0m\n",
      "File \u001b[1;32mc:\\Users\\bertr\\miniconda3\\envs\\thesis\\lib\\site-packages\\pyarrow\\array.pxi:83\u001b[0m, in \u001b[0;36mpyarrow.lib._ndarray_to_array\u001b[1;34m()\u001b[0m\n",
      "File \u001b[1;32mc:\\Users\\bertr\\miniconda3\\envs\\thesis\\lib\\site-packages\\pyarrow\\error.pxi:117\u001b[0m, in \u001b[0;36mpyarrow.lib.check_status\u001b[1;34m()\u001b[0m\n",
      "\u001b[1;31mArrowMemoryError\u001b[0m: realloc of size 2147483648 failed"
     ]
    }
   ],
   "source": [
    "# This script will update all the files depending on:\n",
    "# - annotations (after feature_enriched step)\n",
    "# - k-mers (after k_mers step)\n",
    "\n",
    "\n",
    "import pandas as pd\n",
    "import logging\n",
    "\n",
    "import annotation_length\n",
    "import read_k_mers as rkm\n",
    "import count_k_mers as ckm\n",
    "import read_annotations as ra\n",
    "\n",
    "df_annotations = ra.read_annotations('../Data/Intermediate/Dmitrii/interim/feature_enriched/')\n",
    "\n",
    "# Update length file\n",
    "annotation_length.both_length(df_annotations)\n",
    "logging.info('Length files updated')\n",
    "\n",
    "# Update k-mers feather file\n",
    "rkm.update_k_mers('../Data/Intermediate/k_mers/processed/', mode='strict')\n",
    "rkm.update_k_mers('../Data/Intermediate/k_mers/processed/', mode='relaxed')\n",
    "logging.info('K-mers files updated')\n",
    "\n",
    "# Now, read the k-mers, as they are now updated\n",
    "df_k_mers = pd.read_feather('../Data/Intermediate/k_mers/processed/df_k_mers.feather')\n",
    "\n",
    "# Update k-mers counter feather file\n",
    "ckm.count_k_mers(df_k_mers)\n",
    "logging.info('K-mers counter files updated')\n",
    "logging.info('All files updated')"
   ]
  },
  {
   "cell_type": "code",
   "execution_count": null,
   "metadata": {},
   "outputs": [],
   "source": [
    "# Update k-mers feather file\n",
    "rkm.update_k_mers('../Data/Intermediate/k_mers/processed/', mode='strict')"
   ]
  },
  {
   "cell_type": "code",
   "execution_count": 2,
   "metadata": {},
   "outputs": [],
   "source": [
    "input_file_path = '../Data/Intermediate/k_mers/processed/'\n",
    "mode='strict'"
   ]
  },
  {
   "cell_type": "code",
   "execution_count": 7,
   "metadata": {},
   "outputs": [],
   "source": [
    "import read_k_mers as rkm\n",
    "import pandas as pd"
   ]
  },
  {
   "cell_type": "code",
   "execution_count": 8,
   "metadata": {},
   "outputs": [],
   "source": [
    "data_list = rkm.process_folder(input_file_path, mode=mode)\n",
    "print('Process finished')\n",
    "\n",
    "# Convert the list of dictionaries into a single DataFrame, including the species and k columns\n",
    "df_list = pd.concat([d['df'].assign(species_gcf_id=d['species_gcf_id'], k=d['k']) for d in data_list], ignore_index=True)\n",
    "df_list = df_list[['species_gcf_id', 'k', 'k_mer', 'replicon_accession']]           #.rename(columns={'replicon_accession': 'scaffold'})\n",
    "print('Concat finished')\n",
    "\n",
    "# Create a column in the dataframe with the species name\n",
    "file_species = rkm.map_species_to_file()\n",
    "df_list['species'] = df_list['species_gcf_id'].map(file_species)\n",
    "\n",
    "# Save the dataframe as a feather file\n",
    "#df_list.to_feather('../Data/Intermediate/k_mers/processed/df_k_mers_' + mode + '.feather')\n"
   ]
  },
  {
   "cell_type": "code",
   "execution_count": 10,
   "metadata": {},
   "outputs": [],
   "source": [
    "df_list.to_feather('../Data/Intermediate/k_mers/processed/df_k_mers_' + mode + '.feather')\n"
   ]
  },
  {
   "cell_type": "code",
   "execution_count": 9,
   "metadata": {},
   "outputs": [
    {
     "name": "stdout",
     "output_type": "stream",
     "text": [
      "<class 'pandas.core.frame.DataFrame'>\n",
      "RangeIndex: 7692395 entries, 0 to 7692394\n",
      "Data columns (total 5 columns):\n",
      " #   Column              Dtype \n",
      "---  ------              ----- \n",
      " 0   species_gcf_id      object\n",
      " 1   k                   object\n",
      " 2   k_mer               object\n",
      " 3   replicon_accession  object\n",
      " 4   species             object\n",
      "dtypes: object(5)\n",
      "memory usage: 293.4+ MB\n"
     ]
    }
   ],
   "source": [
    "df_list.info()"
   ]
  }
 ],
 "metadata": {
  "kernelspec": {
   "display_name": "thesis",
   "language": "python",
   "name": "python3"
  },
  "language_info": {
   "codemirror_mode": {
    "name": "ipython",
    "version": 3
   },
   "file_extension": ".py",
   "mimetype": "text/x-python",
   "name": "python",
   "nbconvert_exporter": "python",
   "pygments_lexer": "ipython3",
   "version": "3.9.15"
  },
  "orig_nbformat": 4
 },
 "nbformat": 4,
 "nbformat_minor": 2
}
