{
 "cells": [
  {
   "cell_type": "code",
   "execution_count": 1,
   "metadata": {},
   "outputs": [],
   "source": [
    "import pandas as pd\n",
    "import numpy as np"
   ]
  },
  {
   "cell_type": "markdown",
   "metadata": {},
   "source": [
    "## K-mers\n",
    "\n",
    "A k-mer is a part of a string of longitude k. This substrings are created consequently. So, all the k-mers of a string are all the consecutive substrings contained in a string.\n",
    "The aim of this script is to generate a dictionary with all the possible k-mers we found among all the species. The dictionary have the possible k-mers as keys and the values will be the Specie and the Scaffold where this k-mers have been found in the Specieal string."
   ]
  },
  {
   "cell_type": "code",
   "execution_count": 2,
   "metadata": {},
   "outputs": [
    {
     "ename": "KeyboardInterrupt",
     "evalue": "",
     "output_type": "error",
     "traceback": [
      "\u001b[1;31m---------------------------------------------------------------------------\u001b[0m",
      "\u001b[1;31mKeyboardInterrupt\u001b[0m                         Traceback (most recent call last)",
      "Cell \u001b[1;32mIn[2], line 7\u001b[0m\n\u001b[0;32m      4\u001b[0m filepath \u001b[39m=\u001b[39m \u001b[39m'\u001b[39m\u001b[39m../Data/Raw/Tables_Filtered_IK_format.xlsx\u001b[39m\u001b[39m'\u001b[39m\n\u001b[0;32m      6\u001b[0m \u001b[39m# Load Excel file using Pandas with `sheet_name=None`\u001b[39;00m\n\u001b[1;32m----> 7\u001b[0m df_dict \u001b[39m=\u001b[39m pd\u001b[39m.\u001b[39;49mread_excel(filepath, sheet_name\u001b[39m=\u001b[39;49m\u001b[39mNone\u001b[39;49;00m)\n\u001b[0;32m      9\u001b[0m \u001b[39m# Preview\u001b[39;00m\n\u001b[0;32m     10\u001b[0m \u001b[39m#df_dict\u001b[39;00m\n\u001b[0;32m     11\u001b[0m \n\u001b[1;32m   (...)\u001b[0m\n\u001b[0;32m     14\u001b[0m \n\u001b[0;32m     15\u001b[0m \u001b[39m# aprox 3 min 40 secs\u001b[39;00m\n",
      "File \u001b[1;32mc:\\Users\\bertr\\miniconda3\\envs\\thesis\\lib\\site-packages\\pandas\\util\\_decorators.py:211\u001b[0m, in \u001b[0;36mdeprecate_kwarg.<locals>._deprecate_kwarg.<locals>.wrapper\u001b[1;34m(*args, **kwargs)\u001b[0m\n\u001b[0;32m    209\u001b[0m     \u001b[39melse\u001b[39;00m:\n\u001b[0;32m    210\u001b[0m         kwargs[new_arg_name] \u001b[39m=\u001b[39m new_arg_value\n\u001b[1;32m--> 211\u001b[0m \u001b[39mreturn\u001b[39;00m func(\u001b[39m*\u001b[39margs, \u001b[39m*\u001b[39m\u001b[39m*\u001b[39mkwargs)\n",
      "File \u001b[1;32mc:\\Users\\bertr\\miniconda3\\envs\\thesis\\lib\\site-packages\\pandas\\util\\_decorators.py:331\u001b[0m, in \u001b[0;36mdeprecate_nonkeyword_arguments.<locals>.decorate.<locals>.wrapper\u001b[1;34m(*args, **kwargs)\u001b[0m\n\u001b[0;32m    325\u001b[0m \u001b[39mif\u001b[39;00m \u001b[39mlen\u001b[39m(args) \u001b[39m>\u001b[39m num_allow_args:\n\u001b[0;32m    326\u001b[0m     warnings\u001b[39m.\u001b[39mwarn(\n\u001b[0;32m    327\u001b[0m         msg\u001b[39m.\u001b[39mformat(arguments\u001b[39m=\u001b[39m_format_argument_list(allow_args)),\n\u001b[0;32m    328\u001b[0m         \u001b[39mFutureWarning\u001b[39;00m,\n\u001b[0;32m    329\u001b[0m         stacklevel\u001b[39m=\u001b[39mfind_stack_level(),\n\u001b[0;32m    330\u001b[0m     )\n\u001b[1;32m--> 331\u001b[0m \u001b[39mreturn\u001b[39;00m func(\u001b[39m*\u001b[39margs, \u001b[39m*\u001b[39m\u001b[39m*\u001b[39mkwargs)\n",
      "File \u001b[1;32mc:\\Users\\bertr\\miniconda3\\envs\\thesis\\lib\\site-packages\\pandas\\io\\excel\\_base.py:482\u001b[0m, in \u001b[0;36mread_excel\u001b[1;34m(io, sheet_name, header, names, index_col, usecols, squeeze, dtype, engine, converters, true_values, false_values, skiprows, nrows, na_values, keep_default_na, na_filter, verbose, parse_dates, date_parser, thousands, decimal, comment, skipfooter, convert_float, mangle_dupe_cols, storage_options)\u001b[0m\n\u001b[0;32m    480\u001b[0m \u001b[39mif\u001b[39;00m \u001b[39mnot\u001b[39;00m \u001b[39misinstance\u001b[39m(io, ExcelFile):\n\u001b[0;32m    481\u001b[0m     should_close \u001b[39m=\u001b[39m \u001b[39mTrue\u001b[39;00m\n\u001b[1;32m--> 482\u001b[0m     io \u001b[39m=\u001b[39m ExcelFile(io, storage_options\u001b[39m=\u001b[39;49mstorage_options, engine\u001b[39m=\u001b[39;49mengine)\n\u001b[0;32m    483\u001b[0m \u001b[39melif\u001b[39;00m engine \u001b[39mand\u001b[39;00m engine \u001b[39m!=\u001b[39m io\u001b[39m.\u001b[39mengine:\n\u001b[0;32m    484\u001b[0m     \u001b[39mraise\u001b[39;00m \u001b[39mValueError\u001b[39;00m(\n\u001b[0;32m    485\u001b[0m         \u001b[39m\"\u001b[39m\u001b[39mEngine should not be specified when passing \u001b[39m\u001b[39m\"\u001b[39m\n\u001b[0;32m    486\u001b[0m         \u001b[39m\"\u001b[39m\u001b[39man ExcelFile - ExcelFile already has the engine set\u001b[39m\u001b[39m\"\u001b[39m\n\u001b[0;32m    487\u001b[0m     )\n",
      "File \u001b[1;32mc:\\Users\\bertr\\miniconda3\\envs\\thesis\\lib\\site-packages\\pandas\\io\\excel\\_base.py:1695\u001b[0m, in \u001b[0;36mExcelFile.__init__\u001b[1;34m(self, path_or_buffer, engine, storage_options)\u001b[0m\n\u001b[0;32m   1692\u001b[0m \u001b[39mself\u001b[39m\u001b[39m.\u001b[39mengine \u001b[39m=\u001b[39m engine\n\u001b[0;32m   1693\u001b[0m \u001b[39mself\u001b[39m\u001b[39m.\u001b[39mstorage_options \u001b[39m=\u001b[39m storage_options\n\u001b[1;32m-> 1695\u001b[0m \u001b[39mself\u001b[39m\u001b[39m.\u001b[39m_reader \u001b[39m=\u001b[39m \u001b[39mself\u001b[39;49m\u001b[39m.\u001b[39;49m_engines[engine](\u001b[39mself\u001b[39;49m\u001b[39m.\u001b[39;49m_io, storage_options\u001b[39m=\u001b[39;49mstorage_options)\n",
      "File \u001b[1;32mc:\\Users\\bertr\\miniconda3\\envs\\thesis\\lib\\site-packages\\pandas\\io\\excel\\_openpyxl.py:557\u001b[0m, in \u001b[0;36mOpenpyxlReader.__init__\u001b[1;34m(self, filepath_or_buffer, storage_options)\u001b[0m\n\u001b[0;32m    547\u001b[0m \u001b[39m\u001b[39m\u001b[39m\"\"\"\u001b[39;00m\n\u001b[0;32m    548\u001b[0m \u001b[39mReader using openpyxl engine.\u001b[39;00m\n\u001b[0;32m    549\u001b[0m \n\u001b[1;32m   (...)\u001b[0m\n\u001b[0;32m    554\u001b[0m \u001b[39m{storage_options}\u001b[39;00m\n\u001b[0;32m    555\u001b[0m \u001b[39m\"\"\"\u001b[39;00m\n\u001b[0;32m    556\u001b[0m import_optional_dependency(\u001b[39m\"\u001b[39m\u001b[39mopenpyxl\u001b[39m\u001b[39m\"\u001b[39m)\n\u001b[1;32m--> 557\u001b[0m \u001b[39msuper\u001b[39;49m()\u001b[39m.\u001b[39;49m\u001b[39m__init__\u001b[39;49m(filepath_or_buffer, storage_options\u001b[39m=\u001b[39;49mstorage_options)\n",
      "File \u001b[1;32mc:\\Users\\bertr\\miniconda3\\envs\\thesis\\lib\\site-packages\\pandas\\io\\excel\\_base.py:545\u001b[0m, in \u001b[0;36mBaseExcelReader.__init__\u001b[1;34m(self, filepath_or_buffer, storage_options)\u001b[0m\n\u001b[0;32m    543\u001b[0m \u001b[39mself\u001b[39m\u001b[39m.\u001b[39mhandles\u001b[39m.\u001b[39mhandle\u001b[39m.\u001b[39mseek(\u001b[39m0\u001b[39m)\n\u001b[0;32m    544\u001b[0m \u001b[39mtry\u001b[39;00m:\n\u001b[1;32m--> 545\u001b[0m     \u001b[39mself\u001b[39m\u001b[39m.\u001b[39mbook \u001b[39m=\u001b[39m \u001b[39mself\u001b[39;49m\u001b[39m.\u001b[39;49mload_workbook(\u001b[39mself\u001b[39;49m\u001b[39m.\u001b[39;49mhandles\u001b[39m.\u001b[39;49mhandle)\n\u001b[0;32m    546\u001b[0m \u001b[39mexcept\u001b[39;00m \u001b[39mException\u001b[39;00m:\n\u001b[0;32m    547\u001b[0m     \u001b[39mself\u001b[39m\u001b[39m.\u001b[39mclose()\n",
      "File \u001b[1;32mc:\\Users\\bertr\\miniconda3\\envs\\thesis\\lib\\site-packages\\pandas\\io\\excel\\_openpyxl.py:568\u001b[0m, in \u001b[0;36mOpenpyxlReader.load_workbook\u001b[1;34m(self, filepath_or_buffer)\u001b[0m\n\u001b[0;32m    565\u001b[0m \u001b[39mdef\u001b[39;00m \u001b[39mload_workbook\u001b[39m(\u001b[39mself\u001b[39m, filepath_or_buffer: FilePath \u001b[39m|\u001b[39m ReadBuffer[\u001b[39mbytes\u001b[39m]):\n\u001b[0;32m    566\u001b[0m     \u001b[39mfrom\u001b[39;00m \u001b[39mopenpyxl\u001b[39;00m \u001b[39mimport\u001b[39;00m load_workbook\n\u001b[1;32m--> 568\u001b[0m     \u001b[39mreturn\u001b[39;00m load_workbook(\n\u001b[0;32m    569\u001b[0m         filepath_or_buffer, read_only\u001b[39m=\u001b[39;49m\u001b[39mTrue\u001b[39;49;00m, data_only\u001b[39m=\u001b[39;49m\u001b[39mTrue\u001b[39;49;00m, keep_links\u001b[39m=\u001b[39;49m\u001b[39mFalse\u001b[39;49;00m\n\u001b[0;32m    570\u001b[0m     )\n",
      "File \u001b[1;32mc:\\Users\\bertr\\miniconda3\\envs\\thesis\\lib\\site-packages\\openpyxl\\reader\\excel.py:317\u001b[0m, in \u001b[0;36mload_workbook\u001b[1;34m(filename, read_only, keep_vba, data_only, keep_links)\u001b[0m\n\u001b[0;32m    290\u001b[0m \u001b[39m\u001b[39m\u001b[39m\"\"\"Open the given filename and return the workbook\u001b[39;00m\n\u001b[0;32m    291\u001b[0m \n\u001b[0;32m    292\u001b[0m \u001b[39m:param filename: the path to open or a file-like object\u001b[39;00m\n\u001b[1;32m   (...)\u001b[0m\n\u001b[0;32m    313\u001b[0m \n\u001b[0;32m    314\u001b[0m \u001b[39m\"\"\"\u001b[39;00m\n\u001b[0;32m    315\u001b[0m reader \u001b[39m=\u001b[39m ExcelReader(filename, read_only, keep_vba,\n\u001b[0;32m    316\u001b[0m                     data_only, keep_links)\n\u001b[1;32m--> 317\u001b[0m reader\u001b[39m.\u001b[39;49mread()\n\u001b[0;32m    318\u001b[0m \u001b[39mreturn\u001b[39;00m reader\u001b[39m.\u001b[39mwb\n",
      "File \u001b[1;32mc:\\Users\\bertr\\miniconda3\\envs\\thesis\\lib\\site-packages\\openpyxl\\reader\\excel.py:277\u001b[0m, in \u001b[0;36mExcelReader.read\u001b[1;34m(self)\u001b[0m\n\u001b[0;32m    275\u001b[0m \u001b[39mdef\u001b[39;00m \u001b[39mread\u001b[39m(\u001b[39mself\u001b[39m):\n\u001b[0;32m    276\u001b[0m     \u001b[39mself\u001b[39m\u001b[39m.\u001b[39mread_manifest()\n\u001b[1;32m--> 277\u001b[0m     \u001b[39mself\u001b[39;49m\u001b[39m.\u001b[39;49mread_strings()\n\u001b[0;32m    278\u001b[0m     \u001b[39mself\u001b[39m\u001b[39m.\u001b[39mread_workbook()\n\u001b[0;32m    279\u001b[0m     \u001b[39mself\u001b[39m\u001b[39m.\u001b[39mread_properties()\n",
      "File \u001b[1;32mc:\\Users\\bertr\\miniconda3\\envs\\thesis\\lib\\site-packages\\openpyxl\\reader\\excel.py:144\u001b[0m, in \u001b[0;36mExcelReader.read_strings\u001b[1;34m(self)\u001b[0m\n\u001b[0;32m    142\u001b[0m strings_path \u001b[39m=\u001b[39m ct\u001b[39m.\u001b[39mPartName[\u001b[39m1\u001b[39m:]\n\u001b[0;32m    143\u001b[0m \u001b[39mwith\u001b[39;00m \u001b[39mself\u001b[39m\u001b[39m.\u001b[39marchive\u001b[39m.\u001b[39mopen(strings_path,) \u001b[39mas\u001b[39;00m src:\n\u001b[1;32m--> 144\u001b[0m     \u001b[39mself\u001b[39m\u001b[39m.\u001b[39mshared_strings \u001b[39m=\u001b[39m read_string_table(src)\n",
      "File \u001b[1;32mc:\\Users\\bertr\\miniconda3\\envs\\thesis\\lib\\site-packages\\openpyxl\\reader\\strings.py:15\u001b[0m, in \u001b[0;36mread_string_table\u001b[1;34m(xml_source)\u001b[0m\n\u001b[0;32m     12\u001b[0m strings \u001b[39m=\u001b[39m []\n\u001b[0;32m     13\u001b[0m STRING_TAG \u001b[39m=\u001b[39m \u001b[39m'\u001b[39m\u001b[39m{\u001b[39m\u001b[39m%s\u001b[39;00m\u001b[39m}si\u001b[39m\u001b[39m'\u001b[39m \u001b[39m%\u001b[39m SHEET_MAIN_NS\n\u001b[1;32m---> 15\u001b[0m \u001b[39mfor\u001b[39;00m _, node \u001b[39min\u001b[39;00m iterparse(xml_source):\n\u001b[0;32m     16\u001b[0m     \u001b[39mif\u001b[39;00m node\u001b[39m.\u001b[39mtag \u001b[39m==\u001b[39m STRING_TAG:\n\u001b[0;32m     17\u001b[0m         text \u001b[39m=\u001b[39m Text\u001b[39m.\u001b[39mfrom_tree(node)\u001b[39m.\u001b[39mcontent\n",
      "File \u001b[1;32mc:\\Users\\bertr\\miniconda3\\envs\\thesis\\lib\\xml\\etree\\ElementTree.py:1255\u001b[0m, in \u001b[0;36miterparse.<locals>.iterator\u001b[1;34m(source)\u001b[0m\n\u001b[0;32m   1253\u001b[0m \u001b[39myield from\u001b[39;00m pullparser\u001b[39m.\u001b[39mread_events()\n\u001b[0;32m   1254\u001b[0m \u001b[39m# load event buffer\u001b[39;00m\n\u001b[1;32m-> 1255\u001b[0m data \u001b[39m=\u001b[39m source\u001b[39m.\u001b[39;49mread(\u001b[39m16\u001b[39;49m \u001b[39m*\u001b[39;49m \u001b[39m1024\u001b[39;49m)\n\u001b[0;32m   1256\u001b[0m \u001b[39mif\u001b[39;00m \u001b[39mnot\u001b[39;00m data:\n\u001b[0;32m   1257\u001b[0m     \u001b[39mbreak\u001b[39;00m\n",
      "File \u001b[1;32mc:\\Users\\bertr\\miniconda3\\envs\\thesis\\lib\\zipfile.py:924\u001b[0m, in \u001b[0;36mZipExtFile.read\u001b[1;34m(self, n)\u001b[0m\n\u001b[0;32m    922\u001b[0m \u001b[39mself\u001b[39m\u001b[39m.\u001b[39m_offset \u001b[39m=\u001b[39m \u001b[39m0\u001b[39m\n\u001b[0;32m    923\u001b[0m \u001b[39mwhile\u001b[39;00m n \u001b[39m>\u001b[39m \u001b[39m0\u001b[39m \u001b[39mand\u001b[39;00m \u001b[39mnot\u001b[39;00m \u001b[39mself\u001b[39m\u001b[39m.\u001b[39m_eof:\n\u001b[1;32m--> 924\u001b[0m     data \u001b[39m=\u001b[39m \u001b[39mself\u001b[39;49m\u001b[39m.\u001b[39;49m_read1(n)\n\u001b[0;32m    925\u001b[0m     \u001b[39mif\u001b[39;00m n \u001b[39m<\u001b[39m \u001b[39mlen\u001b[39m(data):\n\u001b[0;32m    926\u001b[0m         \u001b[39mself\u001b[39m\u001b[39m.\u001b[39m_readbuffer \u001b[39m=\u001b[39m data\n",
      "File \u001b[1;32mc:\\Users\\bertr\\miniconda3\\envs\\thesis\\lib\\zipfile.py:1000\u001b[0m, in \u001b[0;36mZipExtFile._read1\u001b[1;34m(self, n)\u001b[0m\n\u001b[0;32m    998\u001b[0m \u001b[39melif\u001b[39;00m \u001b[39mself\u001b[39m\u001b[39m.\u001b[39m_compress_type \u001b[39m==\u001b[39m ZIP_DEFLATED:\n\u001b[0;32m    999\u001b[0m     n \u001b[39m=\u001b[39m \u001b[39mmax\u001b[39m(n, \u001b[39mself\u001b[39m\u001b[39m.\u001b[39mMIN_READ_SIZE)\n\u001b[1;32m-> 1000\u001b[0m     data \u001b[39m=\u001b[39m \u001b[39mself\u001b[39;49m\u001b[39m.\u001b[39;49m_decompressor\u001b[39m.\u001b[39;49mdecompress(data, n)\n\u001b[0;32m   1001\u001b[0m     \u001b[39mself\u001b[39m\u001b[39m.\u001b[39m_eof \u001b[39m=\u001b[39m (\u001b[39mself\u001b[39m\u001b[39m.\u001b[39m_decompressor\u001b[39m.\u001b[39meof \u001b[39mor\u001b[39;00m\n\u001b[0;32m   1002\u001b[0m                  \u001b[39mself\u001b[39m\u001b[39m.\u001b[39m_compress_left \u001b[39m<\u001b[39m\u001b[39m=\u001b[39m \u001b[39m0\u001b[39m \u001b[39mand\u001b[39;00m\n\u001b[0;32m   1003\u001b[0m                  \u001b[39mnot\u001b[39;00m \u001b[39mself\u001b[39m\u001b[39m.\u001b[39m_decompressor\u001b[39m.\u001b[39munconsumed_tail)\n\u001b[0;32m   1004\u001b[0m     \u001b[39mif\u001b[39;00m \u001b[39mself\u001b[39m\u001b[39m.\u001b[39m_eof:\n",
      "\u001b[1;31mKeyboardInterrupt\u001b[0m: "
     ]
    }
   ],
   "source": [
    "# To load all of them at once and afterwards accessing one by one, this might be an option.\n",
    "#https://towardsdatascience.com/a-simple-trick-to-load-multiple-excel-worksheets-in-pandas-3fae4124345b\n",
    "# Define filepath\n",
    "filepath = '../Data/Raw/Tables_Filtered_IK_format.xlsx'\n",
    "\n",
    "# Load Excel file using Pandas with `sheet_name=None`\n",
    "df_dict = pd.read_excel(filepath, sheet_name=None)\n",
    "\n",
    "# Preview\n",
    "#df_dict\n",
    "\n",
    "# Get a specific one\n",
    "#human = df_dict.get('Human')\n",
    "\n",
    "# aprox 3 min 40 secs"
   ]
  },
  {
   "cell_type": "code",
   "execution_count": null,
   "metadata": {},
   "outputs": [],
   "source": [
    "# Removing consecutive duplicates without considering orientation\n",
    "def cons_duplicates(data):\n",
    "    data = data.sort_values(by=['Specie_Scaffold', 'Gene_non_or'])\n",
    "    data['New'] = np.where((data['#Replicon Name'].shift() == data['#Replicon Name']) & (data['Replicon Accession'].shift() == data['Replicon Accession']) & (data['Gene_non_or'].shift() == data['Gene_non_or']), 0, 1)\n",
    "    data['Change'] = data['New'].cumsum()\n",
    "    data = data.reset_index()\n",
    "    return data.groupby('Change').first()\n",
    "\n",
    "def preprocessing(specie):\n",
    "    \n",
    "    specie['Gene_non_or'] = specie['Locus'].str.split('(\\d+)').str[0]\n",
    "    specie['Gene'] = specie['Gene_non_or'] + specie['Strand']\n",
    "    specie['Specie_Scaffold'] = specie['Specie'] + '_' + specie['Replicon Accession']\n",
    "    #specie.reset_index(inplace= True)\n",
    "\n",
    "    specie = specie[(specie['Gene_non_or'].str.contains('LOC') == False) & (specie['Gene_non_or'].str.isspace() == False) & (specie['Gene_non_or'] != '-') ]  \n",
    "\n",
    "    # Remove consecutive duplicates here to merge in to one gene\n",
    "    specie = cons_duplicates(specie)\n",
    "\n",
    "    specie = specie.reset_index()\n",
    "        \n",
    "    return specie"
   ]
  },
  {
   "cell_type": "code",
   "execution_count": null,
   "metadata": {},
   "outputs": [
    {
     "data": {
      "text/plain": [
       "['Aadvark',\n",
       " 'Alligator M',\n",
       " 'Alligator S',\n",
       " 'Anolis',\n",
       " 'Chelonia',\n",
       " 'Chrysemys',\n",
       " 'Croco',\n",
       " 'Danio',\n",
       " 'Devil',\n",
       " 'Dog',\n",
       " 'Fugu',\n",
       " 'Gecko',\n",
       " 'Gorilla',\n",
       " 'Human',\n",
       " 'KCobra',\n",
       " 'Koala',\n",
       " 'Monodelphis',\n",
       " 'Mouse',\n",
       " 'Orca',\n",
       " 'Ostrich',\n",
       " 'Papio',\n",
       " 'Pelodiscus',\n",
       " 'Pigeon',\n",
       " 'Platypus',\n",
       " 'Pogona',\n",
       " 'Python',\n",
       " 'Thamnophis',\n",
       " 'Xlaevis',\n",
       " 'Xtropicalis']"
      ]
     },
     "execution_count": 20,
     "metadata": {},
     "output_type": "execute_result"
    }
   ],
   "source": [
    "sorted(species)"
   ]
  },
  {
   "cell_type": "code",
   "execution_count": null,
   "metadata": {},
   "outputs": [],
   "source": [
    "# Data cleaning for each specie\n",
    "df_species = pd.DataFrame()\n",
    "\n",
    "species = df_dict.keys()\n",
    "\n",
    "for s in species:\n",
    "    aux = df_dict.get(s)\n",
    "    aux['Specie'] = s\n",
    "    df_species = pd.concat([df_species, aux])"
   ]
  },
  {
   "cell_type": "code",
   "execution_count": null,
   "metadata": {},
   "outputs": [],
   "source": [
    "df_species = preprocessing(df_species)"
   ]
  },
  {
   "cell_type": "code",
   "execution_count": null,
   "metadata": {},
   "outputs": [
    {
     "data": {
      "text/html": [
       "<div>\n",
       "<style scoped>\n",
       "    .dataframe tbody tr th:only-of-type {\n",
       "        vertical-align: middle;\n",
       "    }\n",
       "\n",
       "    .dataframe tbody tr th {\n",
       "        vertical-align: top;\n",
       "    }\n",
       "\n",
       "    .dataframe thead th {\n",
       "        text-align: right;\n",
       "    }\n",
       "</style>\n",
       "<table border=\"1\" class=\"dataframe\">\n",
       "  <thead>\n",
       "    <tr style=\"text-align: right;\">\n",
       "      <th></th>\n",
       "      <th>Change</th>\n",
       "      <th>index</th>\n",
       "      <th>#Replicon Name</th>\n",
       "      <th>Replicon Accession</th>\n",
       "      <th>Start</th>\n",
       "      <th>Stop</th>\n",
       "      <th>Strand</th>\n",
       "      <th>GeneID</th>\n",
       "      <th>Locus</th>\n",
       "      <th>Protein product</th>\n",
       "      <th>Length</th>\n",
       "      <th>Protein name</th>\n",
       "      <th>Specie</th>\n",
       "      <th>Unnamed: 10</th>\n",
       "      <th>Locus tag</th>\n",
       "      <th>Gene_non_or</th>\n",
       "      <th>Gene</th>\n",
       "      <th>Specie_Scaffold</th>\n",
       "      <th>New</th>\n",
       "    </tr>\n",
       "  </thead>\n",
       "  <tbody>\n",
       "    <tr>\n",
       "      <th>0</th>\n",
       "      <td>1</td>\n",
       "      <td>19621</td>\n",
       "      <td>MT</td>\n",
       "      <td>NC_002078.1</td>\n",
       "      <td>7788</td>\n",
       "      <td>7991</td>\n",
       "      <td>+</td>\n",
       "      <td>808413</td>\n",
       "      <td>ATP8</td>\n",
       "      <td>NP_008579.1</td>\n",
       "      <td>67</td>\n",
       "      <td>ATP synthase F0 subunit 8 (mitochondrion)</td>\n",
       "      <td>Aadvark</td>\n",
       "      <td>None</td>\n",
       "      <td>None</td>\n",
       "      <td>ATP</td>\n",
       "      <td>ATP+</td>\n",
       "      <td>Aadvark_NC_002078.1</td>\n",
       "      <td>1</td>\n",
       "    </tr>\n",
       "    <tr>\n",
       "      <th>1</th>\n",
       "      <td>2</td>\n",
       "      <td>19619</td>\n",
       "      <td>MT</td>\n",
       "      <td>NC_002078.1</td>\n",
       "      <td>5332</td>\n",
       "      <td>6879</td>\n",
       "      <td>+</td>\n",
       "      <td>808415</td>\n",
       "      <td>COX1</td>\n",
       "      <td>NP_008577.1</td>\n",
       "      <td>515</td>\n",
       "      <td>cytochrome c oxidase subunit I (mitochondrion)</td>\n",
       "      <td>Aadvark</td>\n",
       "      <td>None</td>\n",
       "      <td>None</td>\n",
       "      <td>COX</td>\n",
       "      <td>COX+</td>\n",
       "      <td>Aadvark_NC_002078.1</td>\n",
       "      <td>1</td>\n",
       "    </tr>\n",
       "    <tr>\n",
       "      <th>2</th>\n",
       "      <td>3</td>\n",
       "      <td>19629</td>\n",
       "      <td>MT</td>\n",
       "      <td>NC_002078.1</td>\n",
       "      <td>14171</td>\n",
       "      <td>15310</td>\n",
       "      <td>+</td>\n",
       "      <td>808409</td>\n",
       "      <td>CYTB</td>\n",
       "      <td>NP_008587.1</td>\n",
       "      <td>379</td>\n",
       "      <td>cytochrome b (mitochondrion)</td>\n",
       "      <td>Aadvark</td>\n",
       "      <td>None</td>\n",
       "      <td>None</td>\n",
       "      <td>CYTB</td>\n",
       "      <td>CYTB+</td>\n",
       "      <td>Aadvark_NC_002078.1</td>\n",
       "      <td>1</td>\n",
       "    </tr>\n",
       "    <tr>\n",
       "      <th>3</th>\n",
       "      <td>4</td>\n",
       "      <td>19617</td>\n",
       "      <td>MT</td>\n",
       "      <td>NC_002078.1</td>\n",
       "      <td>2744</td>\n",
       "      <td>3697</td>\n",
       "      <td>+</td>\n",
       "      <td>808404</td>\n",
       "      <td>ND1</td>\n",
       "      <td>NP_008575.1</td>\n",
       "      <td>317</td>\n",
       "      <td>NADH dehydrogenase subunit 1 (mitochondrion)</td>\n",
       "      <td>Aadvark</td>\n",
       "      <td>None</td>\n",
       "      <td>None</td>\n",
       "      <td>ND</td>\n",
       "      <td>ND+</td>\n",
       "      <td>Aadvark_NC_002078.1</td>\n",
       "      <td>1</td>\n",
       "    </tr>\n",
       "    <tr>\n",
       "      <th>4</th>\n",
       "      <td>5</td>\n",
       "      <td>118</td>\n",
       "      <td>Un</td>\n",
       "      <td>NW_006921588.1</td>\n",
       "      <td>32266820</td>\n",
       "      <td>32366215</td>\n",
       "      <td>+</td>\n",
       "      <td>103201168</td>\n",
       "      <td>ABCB11</td>\n",
       "      <td>XP_007944027.1</td>\n",
       "      <td>1325</td>\n",
       "      <td>PREDICTED: bile salt export pump isoform X1</td>\n",
       "      <td>Aadvark</td>\n",
       "      <td>None</td>\n",
       "      <td>None</td>\n",
       "      <td>ABCB</td>\n",
       "      <td>ABCB+</td>\n",
       "      <td>Aadvark_NW_006921588.1</td>\n",
       "      <td>1</td>\n",
       "    </tr>\n",
       "    <tr>\n",
       "      <th>...</th>\n",
       "      <td>...</td>\n",
       "      <td>...</td>\n",
       "      <td>...</td>\n",
       "      <td>...</td>\n",
       "      <td>...</td>\n",
       "      <td>...</td>\n",
       "      <td>...</td>\n",
       "      <td>...</td>\n",
       "      <td>...</td>\n",
       "      <td>...</td>\n",
       "      <td>...</td>\n",
       "      <td>...</td>\n",
       "      <td>...</td>\n",
       "      <td>...</td>\n",
       "      <td>...</td>\n",
       "      <td>...</td>\n",
       "      <td>...</td>\n",
       "      <td>...</td>\n",
       "      <td>...</td>\n",
       "    </tr>\n",
       "    <tr>\n",
       "      <th>321932</th>\n",
       "      <td>321933</td>\n",
       "      <td>3478</td>\n",
       "      <td>Un</td>\n",
       "      <td>NW_016689751.1</td>\n",
       "      <td>557</td>\n",
       "      <td>1575</td>\n",
       "      <td>+</td>\n",
       "      <td>780193</td>\n",
       "      <td>acp6</td>\n",
       "      <td>NP_001072736.1</td>\n",
       "      <td>418</td>\n",
       "      <td>lysophosphatidic acid phosphatase type 6</td>\n",
       "      <td>Xtropicalis</td>\n",
       "      <td>None</td>\n",
       "      <td>None</td>\n",
       "      <td>acp</td>\n",
       "      <td>acp+</td>\n",
       "      <td>Xtropicalis_NW_016689751.1</td>\n",
       "      <td>1</td>\n",
       "    </tr>\n",
       "    <tr>\n",
       "      <th>321933</th>\n",
       "      <td>321934</td>\n",
       "      <td>3480</td>\n",
       "      <td>Un</td>\n",
       "      <td>NW_016689781.1</td>\n",
       "      <td>1617</td>\n",
       "      <td>2094</td>\n",
       "      <td>+</td>\n",
       "      <td>549260</td>\n",
       "      <td>tcf15</td>\n",
       "      <td>NP_001016506.1</td>\n",
       "      <td>183</td>\n",
       "      <td>transcription factor 15 (basic helix-loop-helix)</td>\n",
       "      <td>Xtropicalis</td>\n",
       "      <td>None</td>\n",
       "      <td>None</td>\n",
       "      <td>tcf</td>\n",
       "      <td>tcf+</td>\n",
       "      <td>Xtropicalis_NW_016689781.1</td>\n",
       "      <td>1</td>\n",
       "    </tr>\n",
       "    <tr>\n",
       "      <th>321934</th>\n",
       "      <td>321935</td>\n",
       "      <td>3481</td>\n",
       "      <td>Un</td>\n",
       "      <td>NW_016689786.1</td>\n",
       "      <td>888</td>\n",
       "      <td>1010</td>\n",
       "      <td>+</td>\n",
       "      <td>448134</td>\n",
       "      <td>otud5</td>\n",
       "      <td>NP_001004849.1</td>\n",
       "      <td>518</td>\n",
       "      <td>OTU domain-containing protein 5</td>\n",
       "      <td>Xtropicalis</td>\n",
       "      <td>None</td>\n",
       "      <td>None</td>\n",
       "      <td>otud</td>\n",
       "      <td>otud+</td>\n",
       "      <td>Xtropicalis_NW_016689786.1</td>\n",
       "      <td>1</td>\n",
       "    </tr>\n",
       "    <tr>\n",
       "      <th>321935</th>\n",
       "      <td>321936</td>\n",
       "      <td>3486</td>\n",
       "      <td>Un</td>\n",
       "      <td>NW_016689912.1</td>\n",
       "      <td>326</td>\n",
       "      <td>410</td>\n",
       "      <td>-</td>\n",
       "      <td>779964</td>\n",
       "      <td>tubg1</td>\n",
       "      <td>NP_001072509.1</td>\n",
       "      <td>451</td>\n",
       "      <td>tubulin gamma 1</td>\n",
       "      <td>Xtropicalis</td>\n",
       "      <td>None</td>\n",
       "      <td>None</td>\n",
       "      <td>tubg</td>\n",
       "      <td>tubg-</td>\n",
       "      <td>Xtropicalis_NW_016689912.1</td>\n",
       "      <td>1</td>\n",
       "    </tr>\n",
       "    <tr>\n",
       "      <th>321936</th>\n",
       "      <td>321937</td>\n",
       "      <td>3492</td>\n",
       "      <td>Un</td>\n",
       "      <td>NW_016690069.1</td>\n",
       "      <td>760</td>\n",
       "      <td>990</td>\n",
       "      <td>-</td>\n",
       "      <td>100124916</td>\n",
       "      <td>ldlrad3</td>\n",
       "      <td>NP_001096330.1</td>\n",
       "      <td>337</td>\n",
       "      <td>low-density lipoprotein receptor class A domai...</td>\n",
       "      <td>Xtropicalis</td>\n",
       "      <td>None</td>\n",
       "      <td>None</td>\n",
       "      <td>ldlrad</td>\n",
       "      <td>ldlrad-</td>\n",
       "      <td>Xtropicalis_NW_016690069.1</td>\n",
       "      <td>1</td>\n",
       "    </tr>\n",
       "  </tbody>\n",
       "</table>\n",
       "<p>321937 rows × 19 columns</p>\n",
       "</div>"
      ],
      "text/plain": [
       "        Change  index #Replicon Name Replicon Accession     Start      Stop  \\\n",
       "0            1  19621             MT        NC_002078.1      7788      7991   \n",
       "1            2  19619             MT        NC_002078.1      5332      6879   \n",
       "2            3  19629             MT        NC_002078.1     14171     15310   \n",
       "3            4  19617             MT        NC_002078.1      2744      3697   \n",
       "4            5    118             Un     NW_006921588.1  32266820  32366215   \n",
       "...        ...    ...            ...                ...       ...       ...   \n",
       "321932  321933   3478             Un     NW_016689751.1       557      1575   \n",
       "321933  321934   3480             Un     NW_016689781.1      1617      2094   \n",
       "321934  321935   3481             Un     NW_016689786.1       888      1010   \n",
       "321935  321936   3486             Un     NW_016689912.1       326       410   \n",
       "321936  321937   3492             Un     NW_016690069.1       760       990   \n",
       "\n",
       "       Strand     GeneID    Locus Protein product  Length  \\\n",
       "0           +     808413     ATP8     NP_008579.1      67   \n",
       "1           +     808415     COX1     NP_008577.1     515   \n",
       "2           +     808409     CYTB     NP_008587.1     379   \n",
       "3           +     808404      ND1     NP_008575.1     317   \n",
       "4           +  103201168   ABCB11  XP_007944027.1    1325   \n",
       "...       ...        ...      ...             ...     ...   \n",
       "321932      +     780193     acp6  NP_001072736.1     418   \n",
       "321933      +     549260    tcf15  NP_001016506.1     183   \n",
       "321934      +     448134    otud5  NP_001004849.1     518   \n",
       "321935      -     779964    tubg1  NP_001072509.1     451   \n",
       "321936      -  100124916  ldlrad3  NP_001096330.1     337   \n",
       "\n",
       "                                             Protein name       Specie  \\\n",
       "0               ATP synthase F0 subunit 8 (mitochondrion)      Aadvark   \n",
       "1          cytochrome c oxidase subunit I (mitochondrion)      Aadvark   \n",
       "2                            cytochrome b (mitochondrion)      Aadvark   \n",
       "3            NADH dehydrogenase subunit 1 (mitochondrion)      Aadvark   \n",
       "4             PREDICTED: bile salt export pump isoform X1      Aadvark   \n",
       "...                                                   ...          ...   \n",
       "321932           lysophosphatidic acid phosphatase type 6  Xtropicalis   \n",
       "321933   transcription factor 15 (basic helix-loop-helix)  Xtropicalis   \n",
       "321934                    OTU domain-containing protein 5  Xtropicalis   \n",
       "321935                                    tubulin gamma 1  Xtropicalis   \n",
       "321936  low-density lipoprotein receptor class A domai...  Xtropicalis   \n",
       "\n",
       "       Unnamed: 10 Locus tag Gene_non_or     Gene             Specie_Scaffold  \\\n",
       "0             None      None         ATP     ATP+         Aadvark_NC_002078.1   \n",
       "1             None      None         COX     COX+         Aadvark_NC_002078.1   \n",
       "2             None      None        CYTB    CYTB+         Aadvark_NC_002078.1   \n",
       "3             None      None          ND      ND+         Aadvark_NC_002078.1   \n",
       "4             None      None        ABCB    ABCB+      Aadvark_NW_006921588.1   \n",
       "...            ...       ...         ...      ...                         ...   \n",
       "321932        None      None         acp     acp+  Xtropicalis_NW_016689751.1   \n",
       "321933        None      None         tcf     tcf+  Xtropicalis_NW_016689781.1   \n",
       "321934        None      None        otud    otud+  Xtropicalis_NW_016689786.1   \n",
       "321935        None      None        tubg    tubg-  Xtropicalis_NW_016689912.1   \n",
       "321936        None      None      ldlrad  ldlrad-  Xtropicalis_NW_016690069.1   \n",
       "\n",
       "        New  \n",
       "0         1  \n",
       "1         1  \n",
       "2         1  \n",
       "3         1  \n",
       "4         1  \n",
       "...     ...  \n",
       "321932    1  \n",
       "321933    1  \n",
       "321934    1  \n",
       "321935    1  \n",
       "321936    1  \n",
       "\n",
       "[321937 rows x 19 columns]"
      ]
     },
     "execution_count": 8,
     "metadata": {},
     "output_type": "execute_result"
    }
   ],
   "source": [
    "df_species"
   ]
  },
  {
   "cell_type": "code",
   "execution_count": null,
   "metadata": {},
   "outputs": [
    {
     "data": {
      "text/plain": [
       "Specie\n",
       "Aadvark        14077\n",
       "Alligator M    12670\n",
       "Alligator S    12873\n",
       "Anolis         10632\n",
       "Chelonia       11955\n",
       "Chrysemys      10773\n",
       "Croco          10183\n",
       "Danio          18749\n",
       "Devil          13787\n",
       "Dog               58\n",
       "Fugu            1720\n",
       "Gecko          12599\n",
       "Gorilla        12052\n",
       "Human          14138\n",
       "KCobra         13760\n",
       "Koala          13782\n",
       "Monodelphis     9587\n",
       "Mouse          13351\n",
       "Orca           13778\n",
       "Ostrich        11112\n",
       "Papio          12027\n",
       "Pelodiscus     12230\n",
       "Pigeon           539\n",
       "Platypus       10216\n",
       "Pogona         13223\n",
       "Python         12303\n",
       "Thamnophis     10512\n",
       "Xlaevis         8624\n",
       "Xtropicalis    10627\n",
       "Name: New, dtype: int32"
      ]
     },
     "execution_count": 9,
     "metadata": {},
     "output_type": "execute_result"
    }
   ],
   "source": [
    "df_species.groupby('Specie')['New'].sum()"
   ]
  },
  {
   "cell_type": "code",
   "execution_count": null,
   "metadata": {},
   "outputs": [],
   "source": [
    "df_genes = df_species[['Gene_non_or', 'Specie_Scaffold', 'index']]\n",
    "\n",
    "#sca = df_genes['Specie_Scaffold'].unique()\n",
    "#sca = pd.DataFrame(sca)\n",
    "#sca.rename(columns={0:'Scaffold'}, inplace=True)"
   ]
  },
  {
   "cell_type": "code",
   "execution_count": null,
   "metadata": {},
   "outputs": [
    {
     "name": "stderr",
     "output_type": "stream",
     "text": [
      "C:\\Users\\bertr\\AppData\\Local\\Temp\\ipykernel_40400\\661108879.py:1: SettingWithCopyWarning: \n",
      "A value is trying to be set on a copy of a slice from a DataFrame.\n",
      "Try using .loc[row_indexer,col_indexer] = value instead\n",
      "\n",
      "See the caveats in the documentation: https://pandas.pydata.org/pandas-docs/stable/user_guide/indexing.html#returning-a-view-versus-a-copy\n",
      "  df_genes['Next Gene'] = df_genes['Gene_non_or'].shift(-1)\n",
      "C:\\Users\\bertr\\AppData\\Local\\Temp\\ipykernel_40400\\661108879.py:2: SettingWithCopyWarning: \n",
      "A value is trying to be set on a copy of a slice from a DataFrame.\n",
      "Try using .loc[row_indexer,col_indexer] = value instead\n",
      "\n",
      "See the caveats in the documentation: https://pandas.pydata.org/pandas-docs/stable/user_guide/indexing.html#returning-a-view-versus-a-copy\n",
      "  df_genes['2 Next Gene'] = df_genes['Gene_non_or'].shift(-2)\n",
      "C:\\Users\\bertr\\AppData\\Local\\Temp\\ipykernel_40400\\661108879.py:3: SettingWithCopyWarning: \n",
      "A value is trying to be set on a copy of a slice from a DataFrame.\n",
      "Try using .loc[row_indexer,col_indexer] = value instead\n",
      "\n",
      "See the caveats in the documentation: https://pandas.pydata.org/pandas-docs/stable/user_guide/indexing.html#returning-a-view-versus-a-copy\n",
      "  df_genes['3 Next Gene'] = df_genes['Gene_non_or'].shift(-3)\n",
      "C:\\Users\\bertr\\AppData\\Local\\Temp\\ipykernel_40400\\661108879.py:4: SettingWithCopyWarning: \n",
      "A value is trying to be set on a copy of a slice from a DataFrame.\n",
      "Try using .loc[row_indexer,col_indexer] = value instead\n",
      "\n",
      "See the caveats in the documentation: https://pandas.pydata.org/pandas-docs/stable/user_guide/indexing.html#returning-a-view-versus-a-copy\n",
      "  df_genes['4 Next Gene'] = df_genes['Gene_non_or'].shift(-4)\n",
      "C:\\Users\\bertr\\AppData\\Local\\Temp\\ipykernel_40400\\661108879.py:5: SettingWithCopyWarning: \n",
      "A value is trying to be set on a copy of a slice from a DataFrame.\n",
      "Try using .loc[row_indexer,col_indexer] = value instead\n",
      "\n",
      "See the caveats in the documentation: https://pandas.pydata.org/pandas-docs/stable/user_guide/indexing.html#returning-a-view-versus-a-copy\n",
      "  df_genes['5 Next Gene'] = df_genes['Gene_non_or'].shift(-5)\n",
      "C:\\Users\\bertr\\AppData\\Local\\Temp\\ipykernel_40400\\661108879.py:6: SettingWithCopyWarning: \n",
      "A value is trying to be set on a copy of a slice from a DataFrame.\n",
      "Try using .loc[row_indexer,col_indexer] = value instead\n",
      "\n",
      "See the caveats in the documentation: https://pandas.pydata.org/pandas-docs/stable/user_guide/indexing.html#returning-a-view-versus-a-copy\n",
      "  df_genes['6 Next Gene'] = df_genes['Gene_non_or'].shift(-6)\n",
      "C:\\Users\\bertr\\AppData\\Local\\Temp\\ipykernel_40400\\661108879.py:7: SettingWithCopyWarning: \n",
      "A value is trying to be set on a copy of a slice from a DataFrame.\n",
      "Try using .loc[row_indexer,col_indexer] = value instead\n",
      "\n",
      "See the caveats in the documentation: https://pandas.pydata.org/pandas-docs/stable/user_guide/indexing.html#returning-a-view-versus-a-copy\n",
      "  df_genes['7 Next Gene'] = df_genes['Gene_non_or'].shift(-7)\n"
     ]
    }
   ],
   "source": [
    "df_genes['Next Gene'] = df_genes['Gene_non_or'].shift(-1)\n",
    "df_genes['2 Next Gene'] = df_genes['Gene_non_or'].shift(-2)\n",
    "df_genes['3 Next Gene'] = df_genes['Gene_non_or'].shift(-3)\n",
    "df_genes['4 Next Gene'] = df_genes['Gene_non_or'].shift(-4)\n",
    "df_genes['5 Next Gene'] = df_genes['Gene_non_or'].shift(-5)\n",
    "df_genes['6 Next Gene'] = df_genes['Gene_non_or'].shift(-6)\n",
    "df_genes['7 Next Gene'] = df_genes['Gene_non_or'].shift(-7)"
   ]
  },
  {
   "cell_type": "code",
   "execution_count": null,
   "metadata": {
    "vscode": {
     "languageId": "ruby"
    }
   },
   "outputs": [
    {
     "name": "stderr",
     "output_type": "stream",
     "text": [
      "C:\\Users\\bertr\\AppData\\Local\\Temp\\ipykernel_40400\\4160390706.py:1: SettingWithCopyWarning: \n",
      "A value is trying to be set on a copy of a slice from a DataFrame.\n",
      "Try using .loc[row_indexer,col_indexer] = value instead\n",
      "\n",
      "See the caveats in the documentation: https://pandas.pydata.org/pandas-docs/stable/user_guide/indexing.html#returning-a-view-versus-a-copy\n",
      "  df_genes['3_mers'] = np.where((df_genes['Specie_Scaffold'].shift(-2) == df_genes['Specie_Scaffold']), df_genes['Gene_non_or'] + '_' + df_genes['Next Gene'] + '_' + df_genes['2 Next Gene'], np.nan)\n",
      "C:\\Users\\bertr\\AppData\\Local\\Temp\\ipykernel_40400\\4160390706.py:2: SettingWithCopyWarning: \n",
      "A value is trying to be set on a copy of a slice from a DataFrame.\n",
      "Try using .loc[row_indexer,col_indexer] = value instead\n",
      "\n",
      "See the caveats in the documentation: https://pandas.pydata.org/pandas-docs/stable/user_guide/indexing.html#returning-a-view-versus-a-copy\n",
      "  df_genes['4_mers']= np.where((df_genes['Specie_Scaffold'].shift(-3) == df_genes['Specie_Scaffold']), df_genes['Gene_non_or'] + '_' + df_genes['Next Gene'] + '_' + df_genes['2 Next Gene'] + '_' + df_genes['3 Next Gene'], np.nan)\n",
      "C:\\Users\\bertr\\AppData\\Local\\Temp\\ipykernel_40400\\4160390706.py:3: SettingWithCopyWarning: \n",
      "A value is trying to be set on a copy of a slice from a DataFrame.\n",
      "Try using .loc[row_indexer,col_indexer] = value instead\n",
      "\n",
      "See the caveats in the documentation: https://pandas.pydata.org/pandas-docs/stable/user_guide/indexing.html#returning-a-view-versus-a-copy\n",
      "  df_genes['5_mers']= np.where((df_genes['Specie_Scaffold'].shift(-4) == df_genes['Specie_Scaffold']), df_genes['Gene_non_or'] + '_' + df_genes['Next Gene'] + '_' + df_genes['2 Next Gene'] + '_' + df_genes['3 Next Gene'] + '_' + df_genes['4 Next Gene'], np.nan)\n",
      "C:\\Users\\bertr\\AppData\\Local\\Temp\\ipykernel_40400\\4160390706.py:4: SettingWithCopyWarning: \n",
      "A value is trying to be set on a copy of a slice from a DataFrame.\n",
      "Try using .loc[row_indexer,col_indexer] = value instead\n",
      "\n",
      "See the caveats in the documentation: https://pandas.pydata.org/pandas-docs/stable/user_guide/indexing.html#returning-a-view-versus-a-copy\n",
      "  df_genes['6_mers']= np.where((df_genes['Specie_Scaffold'].shift(-5) == df_genes['Specie_Scaffold']), df_genes['Gene_non_or'] + '_' + df_genes['Next Gene'] + '_' + df_genes['2 Next Gene'] + '_' + df_genes['3 Next Gene'] + '_' + df_genes['4 Next Gene'] + '_' + df_genes['5 Next Gene'], np.nan)\n",
      "C:\\Users\\bertr\\AppData\\Local\\Temp\\ipykernel_40400\\4160390706.py:5: SettingWithCopyWarning: \n",
      "A value is trying to be set on a copy of a slice from a DataFrame.\n",
      "Try using .loc[row_indexer,col_indexer] = value instead\n",
      "\n",
      "See the caveats in the documentation: https://pandas.pydata.org/pandas-docs/stable/user_guide/indexing.html#returning-a-view-versus-a-copy\n",
      "  df_genes['7_mers']= np.where((df_genes['Specie_Scaffold'].shift(-6) == df_genes['Specie_Scaffold']), df_genes['Gene_non_or'] + '_' + df_genes['Next Gene'] + '_' + df_genes['2 Next Gene'] + '_' + df_genes['3 Next Gene'] + '_' + df_genes['4 Next Gene'] + '_' + df_genes['5 Next Gene'] + '_' + df_genes['6 Next Gene'], np.nan)\n",
      "C:\\Users\\bertr\\AppData\\Local\\Temp\\ipykernel_40400\\4160390706.py:6: SettingWithCopyWarning: \n",
      "A value is trying to be set on a copy of a slice from a DataFrame.\n",
      "Try using .loc[row_indexer,col_indexer] = value instead\n",
      "\n",
      "See the caveats in the documentation: https://pandas.pydata.org/pandas-docs/stable/user_guide/indexing.html#returning-a-view-versus-a-copy\n",
      "  df_genes['8_mers']= np.where((df_genes['Specie_Scaffold'].shift(-7) == df_genes['Specie_Scaffold']), df_genes['Gene_non_or'] + '_' + df_genes['Next Gene'] + '_' + df_genes['2 Next Gene'] + '_' + df_genes['3 Next Gene'] + '_' + df_genes['4 Next Gene'] + '_' + df_genes['5 Next Gene'] + '_' + df_genes['6 Next Gene'] + '_' + df_genes['7 Next Gene'], np.nan)\n"
     ]
    }
   ],
   "source": [
    "df_genes['3_mers'] = np.where((df_genes['Specie_Scaffold'].shift(-2) == df_genes['Specie_Scaffold']), df_genes['Gene_non_or'] + '_' + df_genes['Next Gene'] + '_' + df_genes['2 Next Gene'], np.nan)\n",
    "df_genes['4_mers']= np.where((df_genes['Specie_Scaffold'].shift(-3) == df_genes['Specie_Scaffold']), df_genes['Gene_non_or'] + '_' + df_genes['Next Gene'] + '_' + df_genes['2 Next Gene'] + '_' + df_genes['3 Next Gene'], np.nan)\n",
    "df_genes['5_mers']= np.where((df_genes['Specie_Scaffold'].shift(-4) == df_genes['Specie_Scaffold']), df_genes['Gene_non_or'] + '_' + df_genes['Next Gene'] + '_' + df_genes['2 Next Gene'] + '_' + df_genes['3 Next Gene'] + '_' + df_genes['4 Next Gene'], np.nan)\n",
    "df_genes['6_mers']= np.where((df_genes['Specie_Scaffold'].shift(-5) == df_genes['Specie_Scaffold']), df_genes['Gene_non_or'] + '_' + df_genes['Next Gene'] + '_' + df_genes['2 Next Gene'] + '_' + df_genes['3 Next Gene'] + '_' + df_genes['4 Next Gene'] + '_' + df_genes['5 Next Gene'], np.nan)\n",
    "df_genes['7_mers']= np.where((df_genes['Specie_Scaffold'].shift(-6) == df_genes['Specie_Scaffold']), df_genes['Gene_non_or'] + '_' + df_genes['Next Gene'] + '_' + df_genes['2 Next Gene'] + '_' + df_genes['3 Next Gene'] + '_' + df_genes['4 Next Gene'] + '_' + df_genes['5 Next Gene'] + '_' + df_genes['6 Next Gene'], np.nan)\n",
    "df_genes['8_mers']= np.where((df_genes['Specie_Scaffold'].shift(-7) == df_genes['Specie_Scaffold']), df_genes['Gene_non_or'] + '_' + df_genes['Next Gene'] + '_' + df_genes['2 Next Gene'] + '_' + df_genes['3 Next Gene'] + '_' + df_genes['4 Next Gene'] + '_' + df_genes['5 Next Gene'] + '_' + df_genes['6 Next Gene'] + '_' + df_genes['7 Next Gene'], np.nan)"
   ]
  },
  {
   "cell_type": "code",
   "execution_count": null,
   "metadata": {},
   "outputs": [
    {
     "name": "stderr",
     "output_type": "stream",
     "text": [
      "C:\\Users\\bertr\\AppData\\Local\\Temp\\ipykernel_40400\\3813296886.py:1: SettingWithCopyWarning: \n",
      "A value is trying to be set on a copy of a slice from a DataFrame.\n",
      "Try using .loc[row_indexer,col_indexer] = value instead\n",
      "\n",
      "See the caveats in the documentation: https://pandas.pydata.org/pandas-docs/stable/user_guide/indexing.html#returning-a-view-versus-a-copy\n",
      "  df_genes['Next Index'] = df_genes['index'].shift(-1).astype(str)\n",
      "C:\\Users\\bertr\\AppData\\Local\\Temp\\ipykernel_40400\\3813296886.py:2: SettingWithCopyWarning: \n",
      "A value is trying to be set on a copy of a slice from a DataFrame.\n",
      "Try using .loc[row_indexer,col_indexer] = value instead\n",
      "\n",
      "See the caveats in the documentation: https://pandas.pydata.org/pandas-docs/stable/user_guide/indexing.html#returning-a-view-versus-a-copy\n",
      "  df_genes['2 Next Index'] = df_genes['index'].shift(-2).astype(str)\n"
     ]
    }
   ],
   "source": [
    "df_genes['Next Index'] = df_genes['index'].shift(-1).astype(str)\n",
    "df_genes['2 Next Index'] = df_genes['index'].shift(-2).astype(str)\n",
    "df_genes['3 Next Index'] = df_genes['index'].shift(-3).astype(str)\n",
    "df_genes['4 Next Index'] = df_genes['index'].shift(-4).astype(str)\n",
    "df_genes['5 Next Index'] = df_genes['index'].shift(-5).astype(str)\n",
    "df_genes['6 Next Index'] = df_genes['index'].shift(-6).astype(str)\n",
    "df_genes['7 Next Index'] = df_genes['index'].shift(-7).astype(str)"
   ]
  },
  {
   "cell_type": "code",
   "execution_count": null,
   "metadata": {},
   "outputs": [
    {
     "data": {
      "text/plain": [
       "0                Aadvark_NC_002078.1\n",
       "1                Aadvark_NC_002078.1\n",
       "2                Aadvark_NC_002078.1\n",
       "3                Aadvark_NC_002078.1\n",
       "4             Aadvark_NW_006921588.1\n",
       "                     ...            \n",
       "321932    Xtropicalis_NW_016689751.1\n",
       "321933    Xtropicalis_NW_016689781.1\n",
       "321934    Xtropicalis_NW_016689786.1\n",
       "321935    Xtropicalis_NW_016689912.1\n",
       "321936    Xtropicalis_NW_016690069.1\n",
       "Name: Specie_Scaffold, Length: 321937, dtype: object"
      ]
     },
     "execution_count": 14,
     "metadata": {},
     "output_type": "execute_result"
    }
   ],
   "source": [
    "df_genes['Specie_Scaffold']"
   ]
  },
  {
   "cell_type": "code",
   "execution_count": null,
   "metadata": {},
   "outputs": [],
   "source": [
    "df_genes['3_mers_index']= np.where((df_genes['Specie_Scaffold'].shift(-2) == df_genes['Specie_Scaffold']), df_genes['Specie_Scaffold'] + '_' + df_genes['index'].astype(str) + '_' + df_genes['2 Next Index'].astype(str), np.nan)\n",
    "df_genes['4_mers_index']= np.where((df_genes['Specie_Scaffold'].shift(-3) == df_genes['Specie_Scaffold']), df_genes['Specie_Scaffold'] + '_' + df_genes['index'].astype(str) + '_' + df_genes['3 Next Index'].astype(str), np.nan)\n",
    "df_genes['5_mers_index']= np.where((df_genes['Specie_Scaffold'].shift(-4) == df_genes['Specie_Scaffold']), df_genes['Specie_Scaffold'] + '_' + df_genes['index'].astype(str) + '_' + df_genes['4 Next Index'].astype(str), np.nan)\n",
    "df_genes['6_mers_index']= np.where((df_genes['Specie_Scaffold'].shift(-5) == df_genes['Specie_Scaffold']), df_genes['Specie_Scaffold'] + '_' + df_genes['index'].astype(str) + '_' + df_genes['5 Next Index'].astype(str), np.nan)\n",
    "df_genes['7_mers_index']= np.where((df_genes['Specie_Scaffold'].shift(-6) == df_genes['Specie_Scaffold']), df_genes['Specie_Scaffold'] + '_' + df_genes['index'].astype(str) + '_' + df_genes['6 Next Index'].astype(str), np.nan)\n",
    "df_genes['8_mers_index']= np.where((df_genes['Specie_Scaffold'].shift(-7) == df_genes['Specie_Scaffold']), df_genes['Specie_Scaffold'] + '_' + df_genes['index'].astype(str) + '_' + df_genes['7 Next Index'].astype(str), np.nan)\n"
   ]
  },
  {
   "cell_type": "code",
   "execution_count": null,
   "metadata": {
    "vscode": {
     "languageId": "ruby"
    }
   },
   "outputs": [
    {
     "name": "stdout",
     "output_type": "stream",
     "text": [
      "<class 'pandas.core.frame.DataFrame'>\n",
      "RangeIndex: 321937 entries, 0 to 321936\n",
      "Data columns (total 29 columns):\n",
      " #   Column           Non-Null Count   Dtype \n",
      "---  ------           --------------   ----- \n",
      " 0   Gene_non_or      321937 non-null  object\n",
      " 1   Specie_Scaffold  321937 non-null  object\n",
      " 2   index            321937 non-null  int64 \n",
      " 3   Next Gene        321936 non-null  object\n",
      " 4   2 Next Gene      321935 non-null  object\n",
      " 5   3 Next Gene      321934 non-null  object\n",
      " 6   4 Next Gene      321933 non-null  object\n",
      " 7   5 Next Gene      321932 non-null  object\n",
      " 8   6 Next Gene      321931 non-null  object\n",
      " 9   7 Next Gene      321930 non-null  object\n",
      " 10  3_mers           265760 non-null  object\n",
      " 11  4_mers           249787 non-null  object\n",
      " 12  5_mers           236910 non-null  object\n",
      " 13  6_mers           226193 non-null  object\n",
      " 14  7_mers           217116 non-null  object\n",
      " 15  8_mers           209270 non-null  object\n",
      " 16  Next Index       321937 non-null  object\n",
      " 17  2 Next Index     321937 non-null  object\n",
      " 18  3 Next Index     321937 non-null  object\n",
      " 19  4 Next Index     321937 non-null  object\n",
      " 20  5 Next Index     321937 non-null  object\n",
      " 21  6 Next Index     321937 non-null  object\n",
      " 22  7 Next Index     321937 non-null  object\n",
      " 23  3_mers_index     265760 non-null  object\n",
      " 24  4_mers_index     249787 non-null  object\n",
      " 25  5_mers_index     236910 non-null  object\n",
      " 26  6_mers_index     226193 non-null  object\n",
      " 27  7_mers_index     217116 non-null  object\n",
      " 28  8_mers_index     209270 non-null  object\n",
      "dtypes: int64(1), object(28)\n",
      "memory usage: 71.2+ MB\n"
     ]
    }
   ],
   "source": [
    "df_genes.info()"
   ]
  },
  {
   "cell_type": "code",
   "execution_count": null,
   "metadata": {
    "vscode": {
     "languageId": "ruby"
    }
   },
   "outputs": [
    {
     "ename": "NameError",
     "evalue": "name 'df_3_mers' is not defined",
     "output_type": "error",
     "traceback": [
      "\u001b[1;31m---------------------------------------------------------------------------\u001b[0m",
      "\u001b[1;31mNameError\u001b[0m                                 Traceback (most recent call last)",
      "Cell \u001b[1;32mIn [17], line 1\u001b[0m\n\u001b[1;32m----> 1\u001b[0m df_3_mers\u001b[39m.\u001b[39mhead()\n",
      "\u001b[1;31mNameError\u001b[0m: name 'df_3_mers' is not defined"
     ]
    }
   ],
   "source": [
    "df_3_mers.head()"
   ]
  },
  {
   "cell_type": "code",
   "execution_count": null,
   "metadata": {
    "vscode": {
     "languageId": "ruby"
    }
   },
   "outputs": [],
   "source": [
    "df_3_mers = df_genes[['3_mers_index', '3_mers']].rename(columns={'3_mers_index' : 'index'})\n",
    "df_4_mers = df_genes[['4_mers_index', '4_mers']].rename(columns={'4_mers_index' : 'index'})\n",
    "df_5_mers = df_genes[['5_mers_index', '5_mers']].rename(columns={'5_mers_index' : 'index'})\n",
    "df_6_mers = df_genes[['6_mers_index', '6_mers']].rename(columns={'6_mers_index' : 'index'})\n",
    "df_7_mers = df_genes[['7_mers_index', '7_mers']].rename(columns={'7_mers_index' : 'index'})\n",
    "df_8_mers = df_genes[['8_mers_index', '8_mers']].rename(columns={'8_mers_index' : 'index'})"
   ]
  },
  {
   "cell_type": "code",
   "execution_count": null,
   "metadata": {
    "vscode": {
     "languageId": "ruby"
    }
   },
   "outputs": [],
   "source": [
    "df_3_mers = df_3_mers.groupby('3_mers', as_index = False).agg(list) \n",
    "df_4_mers = df_4_mers.groupby('4_mers', as_index = False).agg(list) \n",
    "df_5_mers = df_5_mers.groupby('5_mers', as_index = False).agg(list) \n",
    "df_6_mers = df_6_mers.groupby('6_mers', as_index = False).agg(list) \n",
    "df_7_mers = df_7_mers.groupby('7_mers', as_index = False).agg(list) \n",
    "df_8_mers = df_8_mers.groupby('8_mers', as_index = False).agg(list) "
   ]
  },
  {
   "cell_type": "code",
   "execution_count": null,
   "metadata": {
    "vscode": {
     "languageId": "ruby"
    }
   },
   "outputs": [
    {
     "data": {
      "text/html": [
       "<div>\n",
       "<style scoped>\n",
       "    .dataframe tbody tr th:only-of-type {\n",
       "        vertical-align: middle;\n",
       "    }\n",
       "\n",
       "    .dataframe tbody tr th {\n",
       "        vertical-align: top;\n",
       "    }\n",
       "\n",
       "    .dataframe thead th {\n",
       "        text-align: right;\n",
       "    }\n",
       "</style>\n",
       "<table border=\"1\" class=\"dataframe\">\n",
       "  <thead>\n",
       "    <tr style=\"text-align: right;\">\n",
       "      <th></th>\n",
       "      <th>3_mers</th>\n",
       "      <th>index</th>\n",
       "    </tr>\n",
       "  </thead>\n",
       "  <tbody>\n",
       "    <tr>\n",
       "      <th>0</th>\n",
       "      <td>AAAS_AACS_ABCB</td>\n",
       "      <td>[Gorilla_NC_018436.2_14203_14822.0, Human_NC_0...</td>\n",
       "    </tr>\n",
       "    <tr>\n",
       "      <th>1</th>\n",
       "      <td>AAAS_ACVR_ACVRL</td>\n",
       "      <td>[Aadvark_NW_006921834.1_12460_12510.0, Koala_N...</td>\n",
       "    </tr>\n",
       "    <tr>\n",
       "      <th>2</th>\n",
       "      <td>AAAS_ADAMTSL_DHRS</td>\n",
       "      <td>[Thamnophis_NW_013657961.1_7057_7076.0]</td>\n",
       "    </tr>\n",
       "    <tr>\n",
       "      <th>3</th>\n",
       "      <td>AAAS_AGAP_AMHR</td>\n",
       "      <td>[Gecko_NW_015173137.1_14651_14654.0, Pogona_NW...</td>\n",
       "    </tr>\n",
       "    <tr>\n",
       "      <th>4</th>\n",
       "      <td>AAAS_AMHR_ASB</td>\n",
       "      <td>[Alligator M_NW_017708309.1_2957_2965.0, Allig...</td>\n",
       "    </tr>\n",
       "  </tbody>\n",
       "</table>\n",
       "</div>"
      ],
      "text/plain": [
       "              3_mers                                              index\n",
       "0     AAAS_AACS_ABCB  [Gorilla_NC_018436.2_14203_14822.0, Human_NC_0...\n",
       "1    AAAS_ACVR_ACVRL  [Aadvark_NW_006921834.1_12460_12510.0, Koala_N...\n",
       "2  AAAS_ADAMTSL_DHRS            [Thamnophis_NW_013657961.1_7057_7076.0]\n",
       "3     AAAS_AGAP_AMHR  [Gecko_NW_015173137.1_14651_14654.0, Pogona_NW...\n",
       "4      AAAS_AMHR_ASB  [Alligator M_NW_017708309.1_2957_2965.0, Allig..."
      ]
     },
     "execution_count": 89,
     "metadata": {},
     "output_type": "execute_result"
    }
   ],
   "source": [
    "df_3_mers.head()"
   ]
  },
  {
   "cell_type": "code",
   "execution_count": null,
   "metadata": {
    "vscode": {
     "languageId": "ruby"
    }
   },
   "outputs": [],
   "source": [
    "df_3_mers.to_csv('../Data/Intermediate/Index/3_mers_index.csv', index=False)\n",
    "df_4_mers.to_csv('../Data/Intermediate/Index/4_mers_index.csv', index=False)\n",
    "df_5_mers.to_csv('../Data/Intermediate/Index/5_mers_index.csv', index=False)\n",
    "df_6_mers.to_csv('../Data/Intermediate/Index/6_mers_index.csv', index=False)\n",
    "df_7_mers.to_csv('../Data/Intermediate/Index/7_mers_index.csv', index=False)\n",
    "df_8_mers.to_csv('../Data/Intermediate/Index/8_mers_index.csv', index=False)"
   ]
  },
  {
   "cell_type": "code",
   "execution_count": null,
   "metadata": {
    "vscode": {
     "languageId": "ruby"
    }
   },
   "outputs": [],
   "source": [
    "df_query = df_8_mers"
   ]
  },
  {
   "cell_type": "code",
   "execution_count": null,
   "metadata": {
    "vscode": {
     "languageId": "ruby"
    }
   },
   "outputs": [],
   "source": [
    "df_query['# Coincidences'] = df_query."
   ]
  },
  {
   "cell_type": "code",
   "execution_count": null,
   "metadata": {
    "vscode": {
     "languageId": "ruby"
    }
   },
   "outputs": [
    {
     "data": {
      "text/html": [
       "<div>\n",
       "<style scoped>\n",
       "    .dataframe tbody tr th:only-of-type {\n",
       "        vertical-align: middle;\n",
       "    }\n",
       "\n",
       "    .dataframe tbody tr th {\n",
       "        vertical-align: top;\n",
       "    }\n",
       "\n",
       "    .dataframe thead th {\n",
       "        text-align: right;\n",
       "    }\n",
       "</style>\n",
       "<table border=\"1\" class=\"dataframe\">\n",
       "  <thead>\n",
       "    <tr style=\"text-align: right;\">\n",
       "      <th></th>\n",
       "      <th>8_mers</th>\n",
       "      <th>index</th>\n",
       "      <th># Coincidences</th>\n",
       "    </tr>\n",
       "  </thead>\n",
       "  <tbody>\n",
       "    <tr>\n",
       "      <th>0</th>\n",
       "      <td>AAAS_AACS_ABCB_ABCC_ABCD_ABTB_ACACB_ACAD</td>\n",
       "      <td>[Papio_NC_018162.1_13050_13347.0]</td>\n",
       "      <td>191915</td>\n",
       "    </tr>\n",
       "    <tr>\n",
       "      <th>1</th>\n",
       "      <td>AAAS_AACS_ABCB_ABCC_ABCD_ACACB_ACAD_ACADS</td>\n",
       "      <td>[Gorilla_NC_018436.2_14203_14786.0, Human_NC_0...</td>\n",
       "      <td>191915</td>\n",
       "    </tr>\n",
       "    <tr>\n",
       "      <th>2</th>\n",
       "      <td>AAAS_ACVR_ACVRL_ADAMTS_ADCY_AMHR_AMIGO_ANKRD</td>\n",
       "      <td>[Orca_NW_004438475.1_8912_8845.0]</td>\n",
       "      <td>191915</td>\n",
       "    </tr>\n",
       "    <tr>\n",
       "      <th>3</th>\n",
       "      <td>AAAS_ACVR_ACVRL_AMHR_ANKRD_AQP_ARF_ASIC</td>\n",
       "      <td>[Koala_NW_018344117.1_14650_14571.0]</td>\n",
       "      <td>191915</td>\n",
       "    </tr>\n",
       "    <tr>\n",
       "      <th>4</th>\n",
       "      <td>AAAS_ACVR_ACVRL_AMHR_ANKRD_ATF_ATG_ATP</td>\n",
       "      <td>[Aadvark_NW_006921834.1_12460_12450.0]</td>\n",
       "      <td>191915</td>\n",
       "    </tr>\n",
       "    <tr>\n",
       "      <th>...</th>\n",
       "      <td>...</td>\n",
       "      <td>...</td>\n",
       "      <td>...</td>\n",
       "    </tr>\n",
       "    <tr>\n",
       "      <th>191910</th>\n",
       "      <td>zmpste_zmym_znf_znhit_zp_zpld_zrsr_zswim</td>\n",
       "      <td>[Xtropicalis_NC_030678.1_7163_6419.0]</td>\n",
       "      <td>191915</td>\n",
       "    </tr>\n",
       "    <tr>\n",
       "      <th>191911</th>\n",
       "      <td>zmym_znf_znhit_zp_zpld_zrsr_zswim_zzef</td>\n",
       "      <td>[Xtropicalis_NC_030678.1_6803_7338.0]</td>\n",
       "      <td>191915</td>\n",
       "    </tr>\n",
       "    <tr>\n",
       "      <th>191912</th>\n",
       "      <td>zmynd_znf_znhit_znrf_zpd_zranb_zswim_zxdc</td>\n",
       "      <td>[Xtropicalis_NC_030680.1_12273_12387.0]</td>\n",
       "      <td>191915</td>\n",
       "    </tr>\n",
       "    <tr>\n",
       "      <th>191913</th>\n",
       "      <td>znf_znhit_znrf_zpd_zranb_zswim_zxdc_zyg</td>\n",
       "      <td>[Xtropicalis_NC_030680.1_10526_11746.0]</td>\n",
       "      <td>191915</td>\n",
       "    </tr>\n",
       "    <tr>\n",
       "      <th>191914</th>\n",
       "      <td>znhit_znrf_zpd_zranb_zswim_zxdc_zyg_zzz</td>\n",
       "      <td>[Xtropicalis_NC_030680.1_10971_11543.0]</td>\n",
       "      <td>191915</td>\n",
       "    </tr>\n",
       "  </tbody>\n",
       "</table>\n",
       "<p>191915 rows × 3 columns</p>\n",
       "</div>"
      ],
      "text/plain": [
       "                                              8_mers  \\\n",
       "0           AAAS_AACS_ABCB_ABCC_ABCD_ABTB_ACACB_ACAD   \n",
       "1          AAAS_AACS_ABCB_ABCC_ABCD_ACACB_ACAD_ACADS   \n",
       "2       AAAS_ACVR_ACVRL_ADAMTS_ADCY_AMHR_AMIGO_ANKRD   \n",
       "3            AAAS_ACVR_ACVRL_AMHR_ANKRD_AQP_ARF_ASIC   \n",
       "4             AAAS_ACVR_ACVRL_AMHR_ANKRD_ATF_ATG_ATP   \n",
       "...                                              ...   \n",
       "191910      zmpste_zmym_znf_znhit_zp_zpld_zrsr_zswim   \n",
       "191911        zmym_znf_znhit_zp_zpld_zrsr_zswim_zzef   \n",
       "191912     zmynd_znf_znhit_znrf_zpd_zranb_zswim_zxdc   \n",
       "191913       znf_znhit_znrf_zpd_zranb_zswim_zxdc_zyg   \n",
       "191914       znhit_znrf_zpd_zranb_zswim_zxdc_zyg_zzz   \n",
       "\n",
       "                                                    index  # Coincidences  \n",
       "0                       [Papio_NC_018162.1_13050_13347.0]          191915  \n",
       "1       [Gorilla_NC_018436.2_14203_14786.0, Human_NC_0...          191915  \n",
       "2                       [Orca_NW_004438475.1_8912_8845.0]          191915  \n",
       "3                    [Koala_NW_018344117.1_14650_14571.0]          191915  \n",
       "4                  [Aadvark_NW_006921834.1_12460_12450.0]          191915  \n",
       "...                                                   ...             ...  \n",
       "191910              [Xtropicalis_NC_030678.1_7163_6419.0]          191915  \n",
       "191911              [Xtropicalis_NC_030678.1_6803_7338.0]          191915  \n",
       "191912            [Xtropicalis_NC_030680.1_12273_12387.0]          191915  \n",
       "191913            [Xtropicalis_NC_030680.1_10526_11746.0]          191915  \n",
       "191914            [Xtropicalis_NC_030680.1_10971_11543.0]          191915  \n",
       "\n",
       "[191915 rows x 3 columns]"
      ]
     },
     "execution_count": 142,
     "metadata": {},
     "output_type": "execute_result"
    }
   ],
   "source": [
    "df_query"
   ]
  },
  {
   "cell_type": "code",
   "execution_count": null,
   "metadata": {},
   "outputs": [
    {
     "name": "stderr",
     "output_type": "stream",
     "text": [
      "C:\\Users\\bertr\\AppData\\Local\\Temp\\ipykernel_25792\\1792384247.py:1: FutureWarning: The default value of regex will change from True to False in a future version.\n",
      "  df_query['index'] = df_query['index'].astype(str).str.replace(\"\\[\", \"\")\n",
      "C:\\Users\\bertr\\AppData\\Local\\Temp\\ipykernel_25792\\1792384247.py:2: FutureWarning: The default value of regex will change from True to False in a future version.\n",
      "  df_query['index'] = df_query['index'].astype(str).str.replace(\"\\]\", \"\")\n"
     ]
    },
    {
     "ename": "KeyError",
     "evalue": "'3_mers'",
     "output_type": "error",
     "traceback": [
      "\u001b[1;31m---------------------------------------------------------------------------\u001b[0m",
      "\u001b[1;31mKeyError\u001b[0m                                  Traceback (most recent call last)",
      "File \u001b[1;32mc:\\Users\\bertr\\anaconda3\\envs\\thesis\\lib\\site-packages\\pandas\\core\\indexes\\base.py:3629\u001b[0m, in \u001b[0;36mIndex.get_loc\u001b[1;34m(self, key, method, tolerance)\u001b[0m\n\u001b[0;32m   3628\u001b[0m \u001b[39mtry\u001b[39;00m:\n\u001b[1;32m-> 3629\u001b[0m     \u001b[39mreturn\u001b[39;00m \u001b[39mself\u001b[39;49m\u001b[39m.\u001b[39;49m_engine\u001b[39m.\u001b[39;49mget_loc(casted_key)\n\u001b[0;32m   3630\u001b[0m \u001b[39mexcept\u001b[39;00m \u001b[39mKeyError\u001b[39;00m \u001b[39mas\u001b[39;00m err:\n",
      "File \u001b[1;32mc:\\Users\\bertr\\anaconda3\\envs\\thesis\\lib\\site-packages\\pandas\\_libs\\index.pyx:136\u001b[0m, in \u001b[0;36mpandas._libs.index.IndexEngine.get_loc\u001b[1;34m()\u001b[0m\n",
      "File \u001b[1;32mc:\\Users\\bertr\\anaconda3\\envs\\thesis\\lib\\site-packages\\pandas\\_libs\\index.pyx:163\u001b[0m, in \u001b[0;36mpandas._libs.index.IndexEngine.get_loc\u001b[1;34m()\u001b[0m\n",
      "File \u001b[1;32mpandas\\_libs\\hashtable_class_helper.pxi:5198\u001b[0m, in \u001b[0;36mpandas._libs.hashtable.PyObjectHashTable.get_item\u001b[1;34m()\u001b[0m\n",
      "File \u001b[1;32mpandas\\_libs\\hashtable_class_helper.pxi:5206\u001b[0m, in \u001b[0;36mpandas._libs.hashtable.PyObjectHashTable.get_item\u001b[1;34m()\u001b[0m\n",
      "\u001b[1;31mKeyError\u001b[0m: '3_mers'",
      "\nThe above exception was the direct cause of the following exception:\n",
      "\u001b[1;31mKeyError\u001b[0m                                  Traceback (most recent call last)",
      "Cell \u001b[1;32mIn [143], line 5\u001b[0m\n\u001b[0;32m      2\u001b[0m df_query[\u001b[39m'\u001b[39m\u001b[39mindex\u001b[39m\u001b[39m'\u001b[39m] \u001b[39m=\u001b[39m df_query[\u001b[39m'\u001b[39m\u001b[39mindex\u001b[39m\u001b[39m'\u001b[39m]\u001b[39m.\u001b[39mastype(\u001b[39mstr\u001b[39m)\u001b[39m.\u001b[39mstr\u001b[39m.\u001b[39mreplace(\u001b[39m\"\u001b[39m\u001b[39m\\\u001b[39m\u001b[39m]\u001b[39m\u001b[39m\"\u001b[39m, \u001b[39m\"\u001b[39m\u001b[39m\"\u001b[39m)\n\u001b[0;32m      4\u001b[0m sep \u001b[39m=\u001b[39m df_query[\u001b[39m'\u001b[39m\u001b[39mindex\u001b[39m\u001b[39m'\u001b[39m]\u001b[39m.\u001b[39mastype(\u001b[39mstr\u001b[39m)\u001b[39m.\u001b[39mstr\u001b[39m.\u001b[39msplit(\u001b[39m\"\u001b[39m\u001b[39m, \u001b[39m\u001b[39m\"\u001b[39m, expand\u001b[39m=\u001b[39m\u001b[39mTrue\u001b[39;00m)\n\u001b[1;32m----> 5\u001b[0m df_query \u001b[39m=\u001b[39m sep\u001b[39m.\u001b[39mmerge(df_query[\u001b[39m'\u001b[39;49m\u001b[39m3_mers\u001b[39;49m\u001b[39m'\u001b[39;49m], left_index\u001b[39m=\u001b[39m\u001b[39mTrue\u001b[39;00m, right_index\u001b[39m=\u001b[39m\u001b[39mTrue\u001b[39;00m, how\u001b[39m=\u001b[39m\u001b[39m'\u001b[39m\u001b[39mright\u001b[39m\u001b[39m'\u001b[39m)\n\u001b[0;32m      6\u001b[0m melt \u001b[39m=\u001b[39m pd\u001b[39m.\u001b[39mmelt(df_query, id_vars\u001b[39m=\u001b[39m[\u001b[39m'\u001b[39m\u001b[39m3_mers\u001b[39m\u001b[39m'\u001b[39m])\u001b[39m.\u001b[39mdropna()\u001b[39m.\u001b[39mdrop(\u001b[39m'\u001b[39m\u001b[39mvariable\u001b[39m\u001b[39m'\u001b[39m,\u001b[39m1\u001b[39m)\u001b[39m.\u001b[39mrename(columns \u001b[39m=\u001b[39m {\u001b[39m'\u001b[39m\u001b[39mvalue\u001b[39m\u001b[39m'\u001b[39m: \u001b[39m'\u001b[39m\u001b[39mOrigin\u001b[39m\u001b[39m'\u001b[39m})\n",
      "File \u001b[1;32mc:\\Users\\bertr\\anaconda3\\envs\\thesis\\lib\\site-packages\\pandas\\core\\frame.py:3505\u001b[0m, in \u001b[0;36mDataFrame.__getitem__\u001b[1;34m(self, key)\u001b[0m\n\u001b[0;32m   3503\u001b[0m \u001b[39mif\u001b[39;00m \u001b[39mself\u001b[39m\u001b[39m.\u001b[39mcolumns\u001b[39m.\u001b[39mnlevels \u001b[39m>\u001b[39m \u001b[39m1\u001b[39m:\n\u001b[0;32m   3504\u001b[0m     \u001b[39mreturn\u001b[39;00m \u001b[39mself\u001b[39m\u001b[39m.\u001b[39m_getitem_multilevel(key)\n\u001b[1;32m-> 3505\u001b[0m indexer \u001b[39m=\u001b[39m \u001b[39mself\u001b[39;49m\u001b[39m.\u001b[39;49mcolumns\u001b[39m.\u001b[39;49mget_loc(key)\n\u001b[0;32m   3506\u001b[0m \u001b[39mif\u001b[39;00m is_integer(indexer):\n\u001b[0;32m   3507\u001b[0m     indexer \u001b[39m=\u001b[39m [indexer]\n",
      "File \u001b[1;32mc:\\Users\\bertr\\anaconda3\\envs\\thesis\\lib\\site-packages\\pandas\\core\\indexes\\base.py:3631\u001b[0m, in \u001b[0;36mIndex.get_loc\u001b[1;34m(self, key, method, tolerance)\u001b[0m\n\u001b[0;32m   3629\u001b[0m     \u001b[39mreturn\u001b[39;00m \u001b[39mself\u001b[39m\u001b[39m.\u001b[39m_engine\u001b[39m.\u001b[39mget_loc(casted_key)\n\u001b[0;32m   3630\u001b[0m \u001b[39mexcept\u001b[39;00m \u001b[39mKeyError\u001b[39;00m \u001b[39mas\u001b[39;00m err:\n\u001b[1;32m-> 3631\u001b[0m     \u001b[39mraise\u001b[39;00m \u001b[39mKeyError\u001b[39;00m(key) \u001b[39mfrom\u001b[39;00m \u001b[39merr\u001b[39;00m\n\u001b[0;32m   3632\u001b[0m \u001b[39mexcept\u001b[39;00m \u001b[39mTypeError\u001b[39;00m:\n\u001b[0;32m   3633\u001b[0m     \u001b[39m# If we have a listlike key, _check_indexing_error will raise\u001b[39;00m\n\u001b[0;32m   3634\u001b[0m     \u001b[39m#  InvalidIndexError. Otherwise we fall through and re-raise\u001b[39;00m\n\u001b[0;32m   3635\u001b[0m     \u001b[39m#  the TypeError.\u001b[39;00m\n\u001b[0;32m   3636\u001b[0m     \u001b[39mself\u001b[39m\u001b[39m.\u001b[39m_check_indexing_error(key)\n",
      "\u001b[1;31mKeyError\u001b[0m: '3_mers'"
     ]
    }
   ],
   "source": [
    "df_query['index'] = df_query['index'].astype(str).str.replace(\"\\[\", \"\")\n",
    "df_query['index'] = df_query['index'].astype(str).str.replace(\"\\]\", \"\")\n",
    "\n",
    "sep = df_query['index'].astype(str).str.split(\", \", expand=True)\n",
    "df_query = sep.merge(df_query['3_mers'], left_index=True, right_index=True, how='right')\n",
    "melt = pd.melt(df_query, id_vars=['3_mers']).dropna().drop('variable',1).rename(columns = {'value': 'Origin'})"
   ]
  },
  {
   "cell_type": "code",
   "execution_count": null,
   "metadata": {
    "vscode": {
     "languageId": "ruby"
    }
   },
   "outputs": [
    {
     "data": {
      "text/html": [
       "<div>\n",
       "<style scoped>\n",
       "    .dataframe tbody tr th:only-of-type {\n",
       "        vertical-align: middle;\n",
       "    }\n",
       "\n",
       "    .dataframe tbody tr th {\n",
       "        vertical-align: top;\n",
       "    }\n",
       "\n",
       "    .dataframe thead th {\n",
       "        text-align: right;\n",
       "    }\n",
       "</style>\n",
       "<table border=\"1\" class=\"dataframe\">\n",
       "  <thead>\n",
       "    <tr style=\"text-align: right;\">\n",
       "      <th></th>\n",
       "      <th>3_mers</th>\n",
       "      <th># Appearances</th>\n",
       "    </tr>\n",
       "  </thead>\n",
       "  <tbody>\n",
       "    <tr>\n",
       "      <th>74224</th>\n",
       "      <td>KDM_KIAA_KIF</td>\n",
       "      <td>37</td>\n",
       "    </tr>\n",
       "    <tr>\n",
       "      <th>55173</th>\n",
       "      <td>GABRA_GABRB_GABRG</td>\n",
       "      <td>37</td>\n",
       "    </tr>\n",
       "    <tr>\n",
       "      <th>74468</th>\n",
       "      <td>KIAA_KIF_KLF</td>\n",
       "      <td>32</td>\n",
       "    </tr>\n",
       "    <tr>\n",
       "      <th>122337</th>\n",
       "      <td>RNF_RPL_RPS</td>\n",
       "      <td>28</td>\n",
       "    </tr>\n",
       "    <tr>\n",
       "      <th>186492</th>\n",
       "      <td>si:ch_si:dkey-_si:dkeyp-</td>\n",
       "      <td>27</td>\n",
       "    </tr>\n",
       "  </tbody>\n",
       "</table>\n",
       "</div>"
      ],
      "text/plain": [
       "                          3_mers  # Appearances\n",
       "74224               KDM_KIAA_KIF             37\n",
       "55173          GABRA_GABRB_GABRG             37\n",
       "74468               KIAA_KIF_KLF             32\n",
       "122337               RNF_RPL_RPS             28\n",
       "186492  si:ch_si:dkey-_si:dkeyp-             27"
      ]
     },
     "execution_count": 136,
     "metadata": {},
     "output_type": "execute_result"
    }
   ],
   "source": [
    "match.head()"
   ]
  },
  {
   "cell_type": "code",
   "execution_count": null,
   "metadata": {
    "vscode": {
     "languageId": "ruby"
    }
   },
   "outputs": [
    {
     "ename": "KeyError",
     "evalue": "'index'",
     "output_type": "error",
     "traceback": [
      "\u001b[1;31m---------------------------------------------------------------------------\u001b[0m",
      "\u001b[1;31mKeyError\u001b[0m                                  Traceback (most recent call last)",
      "File \u001b[1;32mc:\\Users\\bertr\\anaconda3\\envs\\thesis\\lib\\site-packages\\pandas\\core\\indexes\\base.py:3629\u001b[0m, in \u001b[0;36mIndex.get_loc\u001b[1;34m(self, key, method, tolerance)\u001b[0m\n\u001b[0;32m   3628\u001b[0m \u001b[39mtry\u001b[39;00m:\n\u001b[1;32m-> 3629\u001b[0m     \u001b[39mreturn\u001b[39;00m \u001b[39mself\u001b[39;49m\u001b[39m.\u001b[39;49m_engine\u001b[39m.\u001b[39;49mget_loc(casted_key)\n\u001b[0;32m   3630\u001b[0m \u001b[39mexcept\u001b[39;00m \u001b[39mKeyError\u001b[39;00m \u001b[39mas\u001b[39;00m err:\n",
      "File \u001b[1;32mc:\\Users\\bertr\\anaconda3\\envs\\thesis\\lib\\site-packages\\pandas\\_libs\\index.pyx:136\u001b[0m, in \u001b[0;36mpandas._libs.index.IndexEngine.get_loc\u001b[1;34m()\u001b[0m\n",
      "File \u001b[1;32mc:\\Users\\bertr\\anaconda3\\envs\\thesis\\lib\\site-packages\\pandas\\_libs\\index.pyx:163\u001b[0m, in \u001b[0;36mpandas._libs.index.IndexEngine.get_loc\u001b[1;34m()\u001b[0m\n",
      "File \u001b[1;32mpandas\\_libs\\hashtable_class_helper.pxi:5198\u001b[0m, in \u001b[0;36mpandas._libs.hashtable.PyObjectHashTable.get_item\u001b[1;34m()\u001b[0m\n",
      "File \u001b[1;32mpandas\\_libs\\hashtable_class_helper.pxi:5206\u001b[0m, in \u001b[0;36mpandas._libs.hashtable.PyObjectHashTable.get_item\u001b[1;34m()\u001b[0m\n",
      "\u001b[1;31mKeyError\u001b[0m: 'index'",
      "\nThe above exception was the direct cause of the following exception:\n",
      "\u001b[1;31mKeyError\u001b[0m                                  Traceback (most recent call last)",
      "Cell \u001b[1;32mIn [144], line 2\u001b[0m\n\u001b[0;32m      1\u001b[0m match \u001b[39m=\u001b[39m melt\u001b[39m.\u001b[39mgroupby(\u001b[39m'\u001b[39m\u001b[39m3_mers\u001b[39m\u001b[39m'\u001b[39m, as_index\u001b[39m=\u001b[39m\u001b[39mFalse\u001b[39;00m)\u001b[39m.\u001b[39mcount()\u001b[39m.\u001b[39mrename(columns\u001b[39m=\u001b[39m{\u001b[39m'\u001b[39m\u001b[39mOrigin\u001b[39m\u001b[39m'\u001b[39m:\u001b[39m'\u001b[39m\u001b[39m# Appearances\u001b[39m\u001b[39m'\u001b[39m})\u001b[39m.\u001b[39msort_values(\u001b[39m'\u001b[39m\u001b[39m# Appearances\u001b[39m\u001b[39m'\u001b[39m, ascending\u001b[39m=\u001b[39m\u001b[39mFalse\u001b[39;00m)\n\u001b[1;32m----> 2\u001b[0m \u001b[39mmatch\u001b[39;00m[[\u001b[39m'\u001b[39m\u001b[39mSpecie\u001b[39m\u001b[39m'\u001b[39m, \u001b[39m'\u001b[39m\u001b[39mScaffold\u001b[39m\u001b[39m'\u001b[39m, \u001b[39m'\u001b[39m\u001b[39mStart\u001b[39m\u001b[39m'\u001b[39m, \u001b[39m'\u001b[39m\u001b[39mStop\u001b[39m\u001b[39m'\u001b[39m]] \u001b[39m=\u001b[39m match[\u001b[39m'\u001b[39;49m\u001b[39mindex\u001b[39;49m\u001b[39m'\u001b[39;49m]\u001b[39m.\u001b[39mastype(\u001b[39mstr\u001b[39m)\u001b[39m.\u001b[39mstr\u001b[39m.\u001b[39msplit(\u001b[39m\"\u001b[39m\u001b[39m_\u001b[39m\u001b[39m\"\u001b[39m, expand\u001b[39m=\u001b[39m\u001b[39mTrue\u001b[39;00m)\n\u001b[0;32m      3\u001b[0m match \u001b[39m=\u001b[39m match\u001b[39m.\u001b[39mloc[match[\u001b[39m'\u001b[39m\u001b[39m# Appearances\u001b[39m\u001b[39m'\u001b[39m] \u001b[39m>\u001b[39m \u001b[39mmin\u001b[39m, [\u001b[39m'\u001b[39m\u001b[39mSpecie\u001b[39m\u001b[39m'\u001b[39m, \u001b[39m'\u001b[39m\u001b[39mScaffold\u001b[39m\u001b[39m'\u001b[39m, \u001b[39m'\u001b[39m\u001b[39m# Appearances\u001b[39m\u001b[39m'\u001b[39m]]\n",
      "File \u001b[1;32mc:\\Users\\bertr\\anaconda3\\envs\\thesis\\lib\\site-packages\\pandas\\core\\frame.py:3505\u001b[0m, in \u001b[0;36mDataFrame.__getitem__\u001b[1;34m(self, key)\u001b[0m\n\u001b[0;32m   3503\u001b[0m \u001b[39mif\u001b[39;00m \u001b[39mself\u001b[39m\u001b[39m.\u001b[39mcolumns\u001b[39m.\u001b[39mnlevels \u001b[39m>\u001b[39m \u001b[39m1\u001b[39m:\n\u001b[0;32m   3504\u001b[0m     \u001b[39mreturn\u001b[39;00m \u001b[39mself\u001b[39m\u001b[39m.\u001b[39m_getitem_multilevel(key)\n\u001b[1;32m-> 3505\u001b[0m indexer \u001b[39m=\u001b[39m \u001b[39mself\u001b[39;49m\u001b[39m.\u001b[39;49mcolumns\u001b[39m.\u001b[39;49mget_loc(key)\n\u001b[0;32m   3506\u001b[0m \u001b[39mif\u001b[39;00m is_integer(indexer):\n\u001b[0;32m   3507\u001b[0m     indexer \u001b[39m=\u001b[39m [indexer]\n",
      "File \u001b[1;32mc:\\Users\\bertr\\anaconda3\\envs\\thesis\\lib\\site-packages\\pandas\\core\\indexes\\base.py:3631\u001b[0m, in \u001b[0;36mIndex.get_loc\u001b[1;34m(self, key, method, tolerance)\u001b[0m\n\u001b[0;32m   3629\u001b[0m     \u001b[39mreturn\u001b[39;00m \u001b[39mself\u001b[39m\u001b[39m.\u001b[39m_engine\u001b[39m.\u001b[39mget_loc(casted_key)\n\u001b[0;32m   3630\u001b[0m \u001b[39mexcept\u001b[39;00m \u001b[39mKeyError\u001b[39;00m \u001b[39mas\u001b[39;00m err:\n\u001b[1;32m-> 3631\u001b[0m     \u001b[39mraise\u001b[39;00m \u001b[39mKeyError\u001b[39;00m(key) \u001b[39mfrom\u001b[39;00m \u001b[39merr\u001b[39;00m\n\u001b[0;32m   3632\u001b[0m \u001b[39mexcept\u001b[39;00m \u001b[39mTypeError\u001b[39;00m:\n\u001b[0;32m   3633\u001b[0m     \u001b[39m# If we have a listlike key, _check_indexing_error will raise\u001b[39;00m\n\u001b[0;32m   3634\u001b[0m     \u001b[39m#  InvalidIndexError. Otherwise we fall through and re-raise\u001b[39;00m\n\u001b[0;32m   3635\u001b[0m     \u001b[39m#  the TypeError.\u001b[39;00m\n\u001b[0;32m   3636\u001b[0m     \u001b[39mself\u001b[39m\u001b[39m.\u001b[39m_check_indexing_error(key)\n",
      "\u001b[1;31mKeyError\u001b[0m: 'index'"
     ]
    }
   ],
   "source": [
    "match = melt.groupby('3_mers', as_index=False).count().rename(columns={'Origin':'# Appearances'}).sort_values('# Appearances', ascending=False)\n",
    "match[['Specie', 'Scaffold', 'Start', 'Stop']] = match['index'].astype(str).str.split(\"_\", expand=True)\n",
    "match = match.loc[match['# Appearances'] > min, ['Specie', 'Scaffold', '# Appearances']]"
   ]
  },
  {
   "cell_type": "code",
   "execution_count": null,
   "metadata": {
    "vscode": {
     "languageId": "ruby"
    }
   },
   "outputs": [
    {
     "data": {
      "text/html": [
       "<div>\n",
       "<style scoped>\n",
       "    .dataframe tbody tr th:only-of-type {\n",
       "        vertical-align: middle;\n",
       "    }\n",
       "\n",
       "    .dataframe tbody tr th {\n",
       "        vertical-align: top;\n",
       "    }\n",
       "\n",
       "    .dataframe thead th {\n",
       "        text-align: right;\n",
       "    }\n",
       "</style>\n",
       "<table border=\"1\" class=\"dataframe\">\n",
       "  <thead>\n",
       "    <tr style=\"text-align: right;\">\n",
       "      <th></th>\n",
       "      <th>3_mers</th>\n",
       "      <th># Appearances</th>\n",
       "    </tr>\n",
       "  </thead>\n",
       "  <tbody>\n",
       "    <tr>\n",
       "      <th>74224</th>\n",
       "      <td>KDM_KIAA_KIF</td>\n",
       "      <td>37</td>\n",
       "    </tr>\n",
       "    <tr>\n",
       "      <th>55173</th>\n",
       "      <td>GABRA_GABRB_GABRG</td>\n",
       "      <td>37</td>\n",
       "    </tr>\n",
       "    <tr>\n",
       "      <th>74468</th>\n",
       "      <td>KIAA_KIF_KLF</td>\n",
       "      <td>32</td>\n",
       "    </tr>\n",
       "    <tr>\n",
       "      <th>122337</th>\n",
       "      <td>RNF_RPL_RPS</td>\n",
       "      <td>28</td>\n",
       "    </tr>\n",
       "    <tr>\n",
       "      <th>186492</th>\n",
       "      <td>si:ch_si:dkey-_si:dkeyp-</td>\n",
       "      <td>27</td>\n",
       "    </tr>\n",
       "  </tbody>\n",
       "</table>\n",
       "</div>"
      ],
      "text/plain": [
       "                          3_mers  # Appearances\n",
       "74224               KDM_KIAA_KIF             37\n",
       "55173          GABRA_GABRB_GABRG             37\n",
       "74468               KIAA_KIF_KLF             32\n",
       "122337               RNF_RPL_RPS             28\n",
       "186492  si:ch_si:dkey-_si:dkeyp-             27"
      ]
     },
     "execution_count": 113,
     "metadata": {},
     "output_type": "execute_result"
    }
   ],
   "source": [
    "match.head()"
   ]
  }
 ],
 "metadata": {
  "kernelspec": {
   "display_name": "thesis",
   "language": "python",
   "name": "python3"
  },
  "language_info": {
   "codemirror_mode": {
    "name": "ipython",
    "version": 3
   },
   "file_extension": ".py",
   "mimetype": "text/x-python",
   "name": "python",
   "nbconvert_exporter": "python",
   "pygments_lexer": "ipython3",
   "version": "3.9.15 | packaged by conda-forge | (main, Nov 22 2022, 08:41:22) [MSC v.1929 64 bit (AMD64)]"
  },
  "orig_nbformat": 4,
  "vscode": {
   "interpreter": {
    "hash": "c7ab25521b35298f0c482908cd2836fcd803c6b8449977de01eb4d32cc96d8dc"
   }
  }
 },
 "nbformat": 4,
 "nbformat_minor": 2
}
