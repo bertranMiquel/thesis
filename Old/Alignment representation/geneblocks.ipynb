{
 "cells": [
  {
   "cell_type": "code",
   "execution_count": 151,
   "metadata": {},
   "outputs": [],
   "source": [
    "import pandas as pd\n",
    "import matplotlib.pyplot as plt\n",
    "import matplotlib as mpl\n",
    "\n",
    "blocks = pd.read_csv('../../Data\\S_W_Intermediate\\/Scaffold/Human_Gorilla/page_per_alignment/20230227_194638_blocks.csv')"
   ]
  },
  {
   "cell_type": "code",
   "execution_count": 143,
   "metadata": {},
   "outputs": [
    {
     "data": {
      "text/html": [
       "<div>\n",
       "<style scoped>\n",
       "    .dataframe tbody tr th:only-of-type {\n",
       "        vertical-align: middle;\n",
       "    }\n",
       "\n",
       "    .dataframe tbody tr th {\n",
       "        vertical-align: top;\n",
       "    }\n",
       "\n",
       "    .dataframe thead th {\n",
       "        text-align: right;\n",
       "    }\n",
       "</style>\n",
       "<table border=\"1\" class=\"dataframe\">\n",
       "  <thead>\n",
       "    <tr style=\"text-align: right;\">\n",
       "      <th></th>\n",
       "      <th>species_scaffold</th>\n",
       "      <th>alignment_id</th>\n",
       "      <th>initial</th>\n",
       "      <th>final</th>\n",
       "      <th>length</th>\n",
       "      <th>match_perc</th>\n",
       "    </tr>\n",
       "  </thead>\n",
       "  <tbody>\n",
       "    <tr>\n",
       "      <th>0</th>\n",
       "      <td>human_NC_000001.11</td>\n",
       "      <td>1</td>\n",
       "      <td>537107</td>\n",
       "      <td>539448</td>\n",
       "      <td>2341</td>\n",
       "      <td>[0.74379085]</td>\n",
       "    </tr>\n",
       "    <tr>\n",
       "      <th>1</th>\n",
       "      <td>Gorilla_NC_018424.2</td>\n",
       "      <td>1</td>\n",
       "      <td>639015</td>\n",
       "      <td>641200</td>\n",
       "      <td>2185</td>\n",
       "      <td>[0.74379085]</td>\n",
       "    </tr>\n",
       "    <tr>\n",
       "      <th>2</th>\n",
       "      <td>human_NC_000019.10</td>\n",
       "      <td>2</td>\n",
       "      <td>556093</td>\n",
       "      <td>557649</td>\n",
       "      <td>1556</td>\n",
       "      <td>[0.73333333]</td>\n",
       "    </tr>\n",
       "    <tr>\n",
       "      <th>3</th>\n",
       "      <td>Gorilla_NC_018443.2</td>\n",
       "      <td>2</td>\n",
       "      <td>656778</td>\n",
       "      <td>658239</td>\n",
       "      <td>1461</td>\n",
       "      <td>[0.73333333]</td>\n",
       "    </tr>\n",
       "    <tr>\n",
       "      <th>4</th>\n",
       "      <td>human_NC_000002.12</td>\n",
       "      <td>3</td>\n",
       "      <td>540230</td>\n",
       "      <td>540980</td>\n",
       "      <td>750</td>\n",
       "      <td>[0.78337875]</td>\n",
       "    </tr>\n",
       "  </tbody>\n",
       "</table>\n",
       "</div>"
      ],
      "text/plain": [
       "      species_scaffold  alignment_id  initial   final  length    match_perc\n",
       "0   human_NC_000001.11             1   537107  539448    2341  [0.74379085]\n",
       "1  Gorilla_NC_018424.2             1   639015  641200    2185  [0.74379085]\n",
       "2   human_NC_000019.10             2   556093  557649    1556  [0.73333333]\n",
       "3  Gorilla_NC_018443.2             2   656778  658239    1461  [0.73333333]\n",
       "4   human_NC_000002.12             3   540230  540980     750  [0.78337875]"
      ]
     },
     "execution_count": 143,
     "metadata": {},
     "output_type": "execute_result"
    }
   ],
   "source": [
    "blocks.head()"
   ]
  },
  {
   "cell_type": "code",
   "execution_count": 152,
   "metadata": {},
   "outputs": [
    {
     "name": "stderr",
     "output_type": "stream",
     "text": [
      "C:\\Users\\bertr\\AppData\\Local\\Temp\\ipykernel_29840\\560339340.py:2: FutureWarning: In a future version of pandas all arguments of StringMethods.split except for the argument 'pat' will be keyword-only.\n",
      "  blocks[['species', 'scaffold']] = blocks.species_scaffold.str.split('_', 1, expand=True)\n"
     ]
    }
   ],
   "source": [
    "# Split the value in species_scaffold in two columns\n",
    "blocks[['species', 'scaffold']] = blocks.species_scaffold.str.split('_', 1, expand=True)"
   ]
  },
  {
   "cell_type": "code",
   "execution_count": 147,
   "metadata": {},
   "outputs": [
    {
     "data": {
      "text/html": [
       "<div>\n",
       "<style scoped>\n",
       "    .dataframe tbody tr th:only-of-type {\n",
       "        vertical-align: middle;\n",
       "    }\n",
       "\n",
       "    .dataframe tbody tr th {\n",
       "        vertical-align: top;\n",
       "    }\n",
       "\n",
       "    .dataframe thead th {\n",
       "        text-align: right;\n",
       "    }\n",
       "</style>\n",
       "<table border=\"1\" class=\"dataframe\">\n",
       "  <thead>\n",
       "    <tr style=\"text-align: right;\">\n",
       "      <th></th>\n",
       "      <th>species_scaffold</th>\n",
       "      <th>alignment_id</th>\n",
       "      <th>initial</th>\n",
       "      <th>final</th>\n",
       "      <th>length</th>\n",
       "      <th>match_perc</th>\n",
       "      <th>species</th>\n",
       "      <th>scaffold</th>\n",
       "    </tr>\n",
       "  </thead>\n",
       "  <tbody>\n",
       "    <tr>\n",
       "      <th>0</th>\n",
       "      <td>human_NC_000001.11</td>\n",
       "      <td>1</td>\n",
       "      <td>537107</td>\n",
       "      <td>539448</td>\n",
       "      <td>2341</td>\n",
       "      <td>[0.74379085]</td>\n",
       "      <td>human</td>\n",
       "      <td>NC_000001.11</td>\n",
       "    </tr>\n",
       "    <tr>\n",
       "      <th>1</th>\n",
       "      <td>Gorilla_NC_018424.2</td>\n",
       "      <td>1</td>\n",
       "      <td>639015</td>\n",
       "      <td>641200</td>\n",
       "      <td>2185</td>\n",
       "      <td>[0.74379085]</td>\n",
       "      <td>Gorilla</td>\n",
       "      <td>NC_018424.2</td>\n",
       "    </tr>\n",
       "    <tr>\n",
       "      <th>2</th>\n",
       "      <td>human_NC_000019.10</td>\n",
       "      <td>2</td>\n",
       "      <td>556093</td>\n",
       "      <td>557649</td>\n",
       "      <td>1556</td>\n",
       "      <td>[0.73333333]</td>\n",
       "      <td>human</td>\n",
       "      <td>NC_000019.10</td>\n",
       "    </tr>\n",
       "    <tr>\n",
       "      <th>3</th>\n",
       "      <td>Gorilla_NC_018443.2</td>\n",
       "      <td>2</td>\n",
       "      <td>656778</td>\n",
       "      <td>658239</td>\n",
       "      <td>1461</td>\n",
       "      <td>[0.73333333]</td>\n",
       "      <td>Gorilla</td>\n",
       "      <td>NC_018443.2</td>\n",
       "    </tr>\n",
       "    <tr>\n",
       "      <th>4</th>\n",
       "      <td>human_NC_000002.12</td>\n",
       "      <td>3</td>\n",
       "      <td>540230</td>\n",
       "      <td>540980</td>\n",
       "      <td>750</td>\n",
       "      <td>[0.78337875]</td>\n",
       "      <td>human</td>\n",
       "      <td>NC_000002.12</td>\n",
       "    </tr>\n",
       "  </tbody>\n",
       "</table>\n",
       "</div>"
      ],
      "text/plain": [
       "      species_scaffold  alignment_id  initial   final  length    match_perc  \\\n",
       "0   human_NC_000001.11             1   537107  539448    2341  [0.74379085]   \n",
       "1  Gorilla_NC_018424.2             1   639015  641200    2185  [0.74379085]   \n",
       "2   human_NC_000019.10             2   556093  557649    1556  [0.73333333]   \n",
       "3  Gorilla_NC_018443.2             2   656778  658239    1461  [0.73333333]   \n",
       "4   human_NC_000002.12             3   540230  540980     750  [0.78337875]   \n",
       "\n",
       "   species      scaffold  \n",
       "0    human  NC_000001.11  \n",
       "1  Gorilla   NC_018424.2  \n",
       "2    human  NC_000019.10  \n",
       "3  Gorilla   NC_018443.2  \n",
       "4    human  NC_000002.12  "
      ]
     },
     "execution_count": 147,
     "metadata": {},
     "output_type": "execute_result"
    }
   ],
   "source": [
    "blocks.head()"
   ]
  },
  {
   "cell_type": "code",
   "execution_count": 11,
   "metadata": {},
   "outputs": [
    {
     "data": {
      "text/plain": [
       "<matplotlib.colorbar.Colorbar at 0x26f1a3c06a0>"
      ]
     },
     "execution_count": 11,
     "metadata": {},
     "output_type": "execute_result"
    },
    {
     "data": {
      "image/png": "[encoded data removed]",
      "text/plain": [
       "<Figure size 600x100 with 1 Axes>"
      ]
     },
     "metadata": {},
     "output_type": "display_data"
    }
   ],
   "source": [
    "# Map each alignment block to a color\n",
    "\n",
    "fig, ax = plt.subplots(figsize=(6, 1))\n",
    "fig.subplots_adjust(bottom=0.5)\n",
    "\n",
    "cmap = mpl.cm.viridis # There are multiple options\n",
    "\n",
    "bounds = blocks.alignment_id.unique()\n",
    "norm = mpl.colors.BoundaryNorm(bounds, cmap.N)\n",
    "\n",
    "fig.colorbar(\n",
    "    mpl.cm.ScalarMappable(cmap=cmap, norm=norm),\n",
    "    cax=ax,\n",
    "    extend='both',\n",
    "    ticks=bounds,\n",
    "    spacing='proportional',\n",
    "    orientation='horizontal',\n",
    "    label='Discrete intervals, some other units',\n",
    ")"
   ]
  },
  {
   "cell_type": "code",
   "execution_count": 13,
   "metadata": {},
   "outputs": [
    {
     "data": {
      "image/png": "[encoded data removed]",
      "text/plain": [
       "<Figure size 640x480 with 1 Axes>"
      ]
     },
     "metadata": {},
     "output_type": "display_data"
    }
   ],
   "source": [
    "# One possible solution: this creates like a horizontal bar plot with gaps\n",
    "# each small horizontal bar is a block representing an alignment\n",
    "\n",
    "import matplotlib.pyplot as plt\n",
    "\n",
    "# Horizontal bar plot with gaps\n",
    "fig, ax = plt.subplots()\n",
    "ax.broken_barh([(110, 30), (150, 10)],\n",
    "                (10, 9), # represents the y coordinates of this bar, where starts and its height\n",
    "                facecolors='tab:blue')\n",
    "ax.broken_barh([(10, 50), (100, 20), (130, 10)], (20, 9),\n",
    "               facecolors=('tab:orange', 'tab:green', 'tab:red'))\n",
    "ax.set_ylim(5, 35)\n",
    "ax.set_xlim(0, 200)\n",
    "ax.set_xlabel('seconds since start')\n",
    "ax.set_yticks([15, 25], labels=['Bill', 'Jim'])     # Modify y-axis tick labels\n",
    "ax.grid(True)                                       # Make grid lines visible\n",
    "ax.annotate('race interrupted', (61, 25),\n",
    "            xytext=(0.8, 0.9), textcoords='axes fraction',\n",
    "            arrowprops=dict(facecolor='black', shrink=0.05),\n",
    "            fontsize=16,\n",
    "            horizontalalignment='right', verticalalignment='top')\n",
    "\n",
    "plt.show()"
   ]
  },
  {
   "cell_type": "code",
   "execution_count": 153,
   "metadata": {},
   "outputs": [
    {
     "name": "stderr",
     "output_type": "stream",
     "text": [
      "C:\\Users\\bertr\\AppData\\Local\\Temp\\ipykernel_29840\\2871664913.py:14: FutureWarning: Indexing with multiple keys (implicitly converted to a tuple of keys) will be deprecated, use a list instead.\n",
      "  blocks_dict = blocks.groupby('alignment_id')['initial_length', 'species_id'].apply(lambda x: x.values.tolist()).to_dict()\n"
     ]
    },
    {
     "data": {
      "image/png": "[encoded data removed]",
      "text/plain": [
       "<Figure size 640x480 with 1 Axes>"
      ]
     },
     "metadata": {},
     "output_type": "display_data"
    }
   ],
   "source": [
    "# Create a color mapping per each alignment_id\n",
    "# Create a dictionary where the key is the alignment_id and the value is the color\n",
    "# The color should be a tuple of RGB values\n",
    "cmap = mpl.cm.Set1 # There are multiple options\n",
    "color_mapping = {key:cmap(i) for i, key in enumerate(blocks.alignment_id.unique())}\n",
    "\n",
    "# Create identifier values per each species\n",
    "blocks['species_id'] = blocks.groupby('species').ngroup()\n",
    "\n",
    "# Compute the length of the aligned sequence\n",
    "blocks['length'] = blocks['end'] - blocks['start']\n",
    "\n",
    "# Create a tuple of the start and length of each block\n",
    "blocks['start_length'] = blocks.apply(lambda x: (x.start, x.length), axis=1)\n",
    "\n",
    "# Create a dictionary where the key is the alignment_id and the value is the array of tuples, including the species_id\n",
    "blocks_dict = blocks.groupby('alignment_id')['start_length', 'species_id'].apply(lambda x: x.values.tolist()).to_dict()\n",
    "\n",
    "# Start plotting\n",
    "fig, ax = plt.subplots()\n",
    "\n",
    "# Each key is an alignment_id, which determines the color of the bar\n",
    "# Create a mapping for that and implement it in the plot\n",
    "# Each block is represented per species, so we need a y-level per each species\n",
    "# The y-level is determined by the species_id\n",
    "# The x-level is determined by the start and length of the block\n",
    "for key, value in blocks_dict.items():\n",
    "    for i in value:\n",
    "        ax.broken_barh([i[0]],  # start and length x-axis\n",
    "             (i[1], 0.5),         # start and height y-axis\n",
    "             facecolors=color_mapping[key])\n",
    "\n",
    "    # Add a line between the blocks for each alignment_id\n",
    "    # The start positions of each block are connected by a line\n",
    "    ax.plot([value[0][0][0], value[1][0][0]],\n",
    "            [1, 0.5], #[i[1] for i in value], \n",
    "            color='grey', \n",
    "            linestyle='-', \n",
    "            linewidth=1)\n",
    "\n",
    "    # The end positions of each block are connected by a line\n",
    "    ax.plot([value[0][0][1], value[1][0][1]],\n",
    "            [1, 0.5], #[i[1] for i in value], \n",
    "            color='grey', \n",
    "            linestyle='-', \n",
    "            linewidth=1)\n",
    "    \n",
    "    \n",
    "ax.set_ylim(0, blocks.species.nunique())\n",
    "ax.set_xlim(min(blocks.start) - 1000, max(blocks.end) + 1000)\n",
    "ax.set_xlabel('Genomic position')\n",
    "ax.set_yticks([i[1] + 0.25 for i in value], labels=blocks.species.unique())     # Modify y-axis tick labels\n",
    "ax.grid(True, axis='y', linestyle='-', color='black')                                       # Make grid lines visible\n",
    "#ax.annotate <-- add a message"
   ]
  },
  {
   "cell_type": "code",
   "execution_count": 109,
   "metadata": {},
   "outputs": [
    {
     "data": {
      "text/plain": [
       "{1: [[(537107, 2341), 1], [(639015, 2185), 0]],\n",
       " 2: [[(556093, 1556), 1], [(656778, 1461), 0]],\n",
       " 3: [[(540067, 159), 1], [(641255, 132), 0]],\n",
       " 4: [[(540230, 750), 1], [(641895, 687), 0]]}"
      ]
     },
     "execution_count": 109,
     "metadata": {},
     "output_type": "execute_result"
    }
   ],
   "source": [
    "blocks_dict"
   ]
  },
  {
   "cell_type": "code",
   "execution_count": null,
   "metadata": {},
   "outputs": [],
   "source": []
  },
  {
   "cell_type": "code",
   "execution_count": 95,
   "metadata": {},
   "outputs": [
    {
     "data": {
      "text/plain": [
       "(540230, 750)"
      ]
     },
     "execution_count": 95,
     "metadata": {},
     "output_type": "execute_result"
    }
   ],
   "source": [
    "value[0][0]"
   ]
  },
  {
   "cell_type": "code",
   "execution_count": null,
   "metadata": {},
   "outputs": [],
   "source": [
    "color_mapping[]"
   ]
  },
  {
   "cell_type": "code",
   "execution_count": 68,
   "metadata": {},
   "outputs": [
    {
     "data": {
      "text/plain": [
       "dict_items([(1, [[(537107, 2341), 1], [(639015, 2185), 0]]), (2, [[(556093, 1556), 1], [(656778, 1461), 0]]), (3, [[(540067, 159), 1], [(641255, 132), 0]]), (4, [[(540230, 750), 1], [(641895, 687), 0]])])"
      ]
     },
     "execution_count": 68,
     "metadata": {},
     "output_type": "execute_result"
    }
   ],
   "source": [
    "blocks_dict.items()"
   ]
  },
  {
   "cell_type": "code",
   "execution_count": 64,
   "metadata": {},
   "outputs": [
    {
     "data": {
      "text/plain": [
       "540230"
      ]
     },
     "execution_count": 64,
     "metadata": {},
     "output_type": "execute_result"
    }
   ],
   "source": [
    "blocks_dict[key][0][0]"
   ]
  },
  {
   "cell_type": "code",
   "execution_count": 59,
   "metadata": {},
   "outputs": [
    {
     "data": {
      "text/plain": [
       "dict_items([(1, [(537107, 2341), (639015, 2185)]), (2, [(556093, 1556), (656778, 1461)]), (3, [(540067, 159), (641255, 132)]), (4, [(540230, 750), (641895, 687)])])"
      ]
     },
     "execution_count": 59,
     "metadata": {},
     "output_type": "execute_result"
    }
   ],
   "source": [
    "blocks_dict.items()"
   ]
  },
  {
   "cell_type": "code",
   "execution_count": 33,
   "metadata": {},
   "outputs": [
    {
     "data": {
      "image/png": "[encoded data removed]",
      "text/plain": [
       "<Figure size 640x480 with 1 Axes>"
      ]
     },
     "metadata": {},
     "output_type": "display_data"
    }
   ],
   "source": [
    "# Try to adapt to our data\n",
    "\n",
    "import matplotlib.pyplot as plt\n",
    "\n",
    "# Horizontal bar plot with gaps\n",
    "fig, ax = plt.subplots()\n",
    "\n",
    "# human\n",
    "ax.broken_barh(x1,\n",
    "                (10, 9), # represents the y coordinates of this bar, where starts and its height\n",
    "                facecolors='tab:blue')\n",
    "                \n",
    "ax.broken_barh(x2, (20, 9),\n",
    "               facecolors=('tab:orange', 'tab:green', 'tab:red'))\n",
    "ax.set_ylim(5, 35)\n",
    "ax.set_xlim(min(blocks.start), max(blocks.end))\n",
    "'''ax.set_xlabel('seconds since start')\n",
    "ax.set_yticks([15, 25], labels=['Bill', 'Jim'])     # Modify y-axis tick labels\n",
    "ax.grid(True)                                       # Make grid lines visible\n",
    "ax.annotate('race interrupted', (61, 25),\n",
    "            xytext=(0.8, 0.9), textcoords='axes fraction',\n",
    "            arrowprops=dict(facecolor='black', shrink=0.05),\n",
    "            fontsize=16,\n",
    "            horizontalalignment='right', verticalalignment='top')'''\n",
    "\n",
    "plt.show()\n"
   ]
  },
  {
   "cell_type": "code",
   "execution_count": 18,
   "metadata": {},
   "outputs": [
    {
     "data": {
      "text/plain": [
       "array([<AxesSubplot:>, <AxesSubplot:>], dtype=object)"
      ]
     },
     "execution_count": 18,
     "metadata": {},
     "output_type": "execute_result"
    }
   ],
   "source": [
    "axes"
   ]
  },
  {
   "cell_type": "code",
   "execution_count": 19,
   "metadata": {},
   "outputs": [
    {
     "ename": "AttributeError",
     "evalue": "'Line2D' object has no property 'x_lim'",
     "output_type": "error",
     "traceback": [
      "\u001b[1;31m---------------------------------------------------------------------------\u001b[0m",
      "\u001b[1;31mAttributeError\u001b[0m                            Traceback (most recent call last)",
      "Cell \u001b[1;32mIn[19], line 1\u001b[0m\n\u001b[1;32m----> 1\u001b[0m plt\u001b[39m.\u001b[39;49mplot(\n\u001b[0;32m      2\u001b[0m     axes,\n\u001b[0;32m      3\u001b[0m     x_lim\u001b[39m=\u001b[39;49m(\u001b[39m0\u001b[39;49m, \u001b[39m10\u001b[39;49m), \u001b[39m#max([len(rec) for rec in self.records.values()])),\u001b[39;49;00m\n\u001b[0;32m      4\u001b[0m     with_ruler\u001b[39m=\u001b[39;49m(axes \u001b[39m==\u001b[39;49m axes[\u001b[39m-\u001b[39;49m\u001b[39m1\u001b[39;49m]),\n\u001b[0;32m      5\u001b[0m )\n",
      "File \u001b[1;32mc:\\Users\\bertr\\miniconda3\\envs\\thesis\\lib\\site-packages\\matplotlib\\pyplot.py:2767\u001b[0m, in \u001b[0;36mplot\u001b[1;34m(scalex, scaley, data, *args, **kwargs)\u001b[0m\n\u001b[0;32m   2765\u001b[0m \u001b[39m@_copy_docstring_and_deprecators\u001b[39m(Axes\u001b[39m.\u001b[39mplot)\n\u001b[0;32m   2766\u001b[0m \u001b[39mdef\u001b[39;00m \u001b[39mplot\u001b[39m(\u001b[39m*\u001b[39margs, scalex\u001b[39m=\u001b[39m\u001b[39mTrue\u001b[39;00m, scaley\u001b[39m=\u001b[39m\u001b[39mTrue\u001b[39;00m, data\u001b[39m=\u001b[39m\u001b[39mNone\u001b[39;00m, \u001b[39m*\u001b[39m\u001b[39m*\u001b[39mkwargs):\n\u001b[1;32m-> 2767\u001b[0m     \u001b[39mreturn\u001b[39;00m gca()\u001b[39m.\u001b[39mplot(\n\u001b[0;32m   2768\u001b[0m         \u001b[39m*\u001b[39margs, scalex\u001b[39m=\u001b[39mscalex, scaley\u001b[39m=\u001b[39mscaley,\n\u001b[0;32m   2769\u001b[0m         \u001b[39m*\u001b[39m\u001b[39m*\u001b[39m({\u001b[39m\"\u001b[39m\u001b[39mdata\u001b[39m\u001b[39m\"\u001b[39m: data} \u001b[39mif\u001b[39;00m data \u001b[39mis\u001b[39;00m \u001b[39mnot\u001b[39;00m \u001b[39mNone\u001b[39;00m \u001b[39melse\u001b[39;00m {}), \u001b[39m*\u001b[39m\u001b[39m*\u001b[39mkwargs)\n",
      "File \u001b[1;32mc:\\Users\\bertr\\miniconda3\\envs\\thesis\\lib\\site-packages\\matplotlib\\axes\\_axes.py:1635\u001b[0m, in \u001b[0;36mAxes.plot\u001b[1;34m(self, scalex, scaley, data, *args, **kwargs)\u001b[0m\n\u001b[0;32m   1393\u001b[0m \u001b[39m\"\"\"\u001b[39;00m\n\u001b[0;32m   1394\u001b[0m \u001b[39mPlot y versus x as lines and/or markers.\u001b[39;00m\n\u001b[0;32m   1395\u001b[0m \n\u001b[1;32m   (...)\u001b[0m\n\u001b[0;32m   1632\u001b[0m \u001b[39m(``'green'``) or hex strings (``'#008000'``).\u001b[39;00m\n\u001b[0;32m   1633\u001b[0m \u001b[39m\"\"\"\u001b[39;00m\n\u001b[0;32m   1634\u001b[0m kwargs \u001b[39m=\u001b[39m cbook\u001b[39m.\u001b[39mnormalize_kwargs(kwargs, mlines\u001b[39m.\u001b[39mLine2D)\n\u001b[1;32m-> 1635\u001b[0m lines \u001b[39m=\u001b[39m [\u001b[39m*\u001b[39m\u001b[39mself\u001b[39m\u001b[39m.\u001b[39m_get_lines(\u001b[39m*\u001b[39margs, data\u001b[39m=\u001b[39mdata, \u001b[39m*\u001b[39m\u001b[39m*\u001b[39mkwargs)]\n\u001b[0;32m   1636\u001b[0m \u001b[39mfor\u001b[39;00m line \u001b[39min\u001b[39;00m lines:\n\u001b[0;32m   1637\u001b[0m     \u001b[39mself\u001b[39m\u001b[39m.\u001b[39madd_line(line)\n",
      "File \u001b[1;32mc:\\Users\\bertr\\miniconda3\\envs\\thesis\\lib\\site-packages\\matplotlib\\axes\\_base.py:312\u001b[0m, in \u001b[0;36m_process_plot_var_args.__call__\u001b[1;34m(self, data, *args, **kwargs)\u001b[0m\n\u001b[0;32m    310\u001b[0m     this \u001b[39m+\u001b[39m\u001b[39m=\u001b[39m args[\u001b[39m0\u001b[39m],\n\u001b[0;32m    311\u001b[0m     args \u001b[39m=\u001b[39m args[\u001b[39m1\u001b[39m:]\n\u001b[1;32m--> 312\u001b[0m \u001b[39myield from\u001b[39;00m \u001b[39mself\u001b[39;49m\u001b[39m.\u001b[39;49m_plot_args(this, kwargs)\n",
      "File \u001b[1;32mc:\\Users\\bertr\\miniconda3\\envs\\thesis\\lib\\site-packages\\matplotlib\\axes\\_base.py:538\u001b[0m, in \u001b[0;36m_process_plot_var_args._plot_args\u001b[1;34m(self, tup, kwargs, return_kwargs)\u001b[0m\n\u001b[0;32m    536\u001b[0m     \u001b[39mreturn\u001b[39;00m \u001b[39mlist\u001b[39m(result)\n\u001b[0;32m    537\u001b[0m \u001b[39melse\u001b[39;00m:\n\u001b[1;32m--> 538\u001b[0m     \u001b[39mreturn\u001b[39;00m [l[\u001b[39m0\u001b[39m] \u001b[39mfor\u001b[39;00m l \u001b[39min\u001b[39;00m result]\n",
      "File \u001b[1;32mc:\\Users\\bertr\\miniconda3\\envs\\thesis\\lib\\site-packages\\matplotlib\\axes\\_base.py:538\u001b[0m, in \u001b[0;36m<listcomp>\u001b[1;34m(.0)\u001b[0m\n\u001b[0;32m    536\u001b[0m     \u001b[39mreturn\u001b[39;00m \u001b[39mlist\u001b[39m(result)\n\u001b[0;32m    537\u001b[0m \u001b[39melse\u001b[39;00m:\n\u001b[1;32m--> 538\u001b[0m     \u001b[39mreturn\u001b[39;00m [l[\u001b[39m0\u001b[39m] \u001b[39mfor\u001b[39;00m l \u001b[39min\u001b[39;00m result]\n",
      "File \u001b[1;32mc:\\Users\\bertr\\miniconda3\\envs\\thesis\\lib\\site-packages\\matplotlib\\axes\\_base.py:531\u001b[0m, in \u001b[0;36m<genexpr>\u001b[1;34m(.0)\u001b[0m\n\u001b[0;32m    528\u001b[0m \u001b[39melse\u001b[39;00m:\n\u001b[0;32m    529\u001b[0m     labels \u001b[39m=\u001b[39m [label] \u001b[39m*\u001b[39m n_datasets\n\u001b[1;32m--> 531\u001b[0m result \u001b[39m=\u001b[39m (make_artist(x[:, j \u001b[39m%\u001b[39;49m ncx], y[:, j \u001b[39m%\u001b[39;49m ncy], kw,\n\u001b[0;32m    532\u001b[0m                       {\u001b[39m*\u001b[39;49m\u001b[39m*\u001b[39;49mkwargs, \u001b[39m'\u001b[39;49m\u001b[39mlabel\u001b[39;49m\u001b[39m'\u001b[39;49m: label})\n\u001b[0;32m    533\u001b[0m           \u001b[39mfor\u001b[39;00m j, label \u001b[39min\u001b[39;00m \u001b[39menumerate\u001b[39m(labels))\n\u001b[0;32m    535\u001b[0m \u001b[39mif\u001b[39;00m return_kwargs:\n\u001b[0;32m    536\u001b[0m     \u001b[39mreturn\u001b[39;00m \u001b[39mlist\u001b[39m(result)\n",
      "File \u001b[1;32mc:\\Users\\bertr\\miniconda3\\envs\\thesis\\lib\\site-packages\\matplotlib\\axes\\_base.py:351\u001b[0m, in \u001b[0;36m_process_plot_var_args._makeline\u001b[1;34m(self, x, y, kw, kwargs)\u001b[0m\n\u001b[0;32m    349\u001b[0m default_dict \u001b[39m=\u001b[39m \u001b[39mself\u001b[39m\u001b[39m.\u001b[39m_getdefaults(\u001b[39mset\u001b[39m(), kw)\n\u001b[0;32m    350\u001b[0m \u001b[39mself\u001b[39m\u001b[39m.\u001b[39m_setdefaults(default_dict, kw)\n\u001b[1;32m--> 351\u001b[0m seg \u001b[39m=\u001b[39m mlines\u001b[39m.\u001b[39mLine2D(x, y, \u001b[39m*\u001b[39m\u001b[39m*\u001b[39mkw)\n\u001b[0;32m    352\u001b[0m \u001b[39mreturn\u001b[39;00m seg, kw\n",
      "File \u001b[1;32mc:\\Users\\bertr\\miniconda3\\envs\\thesis\\lib\\site-packages\\matplotlib\\lines.py:393\u001b[0m, in \u001b[0;36mLine2D.__init__\u001b[1;34m(self, xdata, ydata, linewidth, linestyle, color, marker, markersize, markeredgewidth, markeredgecolor, markerfacecolor, markerfacecoloralt, fillstyle, antialiased, dash_capstyle, solid_capstyle, dash_joinstyle, solid_joinstyle, pickradius, drawstyle, markevery, **kwargs)\u001b[0m\n\u001b[0;32m    389\u001b[0m \u001b[39mself\u001b[39m\u001b[39m.\u001b[39mset_markeredgewidth(markeredgewidth)\n\u001b[0;32m    391\u001b[0m \u001b[39m# update kwargs before updating data to give the caller a\u001b[39;00m\n\u001b[0;32m    392\u001b[0m \u001b[39m# chance to init axes (and hence unit support)\u001b[39;00m\n\u001b[1;32m--> 393\u001b[0m \u001b[39mself\u001b[39;49m\u001b[39m.\u001b[39;49mupdate(kwargs)\n\u001b[0;32m    394\u001b[0m \u001b[39mself\u001b[39m\u001b[39m.\u001b[39mpickradius \u001b[39m=\u001b[39m pickradius\n\u001b[0;32m    395\u001b[0m \u001b[39mself\u001b[39m\u001b[39m.\u001b[39mind_offset \u001b[39m=\u001b[39m \u001b[39m0\u001b[39m\n",
      "File \u001b[1;32mc:\\Users\\bertr\\miniconda3\\envs\\thesis\\lib\\site-packages\\matplotlib\\artist.py:1067\u001b[0m, in \u001b[0;36mArtist.update\u001b[1;34m(self, props)\u001b[0m\n\u001b[0;32m   1065\u001b[0m             func \u001b[39m=\u001b[39m \u001b[39mgetattr\u001b[39m(\u001b[39mself\u001b[39m, \u001b[39mf\u001b[39m\u001b[39m\"\u001b[39m\u001b[39mset_\u001b[39m\u001b[39m{\u001b[39;00mk\u001b[39m}\u001b[39;00m\u001b[39m\"\u001b[39m, \u001b[39mNone\u001b[39;00m)\n\u001b[0;32m   1066\u001b[0m             \u001b[39mif\u001b[39;00m \u001b[39mnot\u001b[39;00m callable(func):\n\u001b[1;32m-> 1067\u001b[0m                 \u001b[39mraise\u001b[39;00m \u001b[39mAttributeError\u001b[39;00m(\u001b[39mf\u001b[39m\u001b[39m\"\u001b[39m\u001b[39m{\u001b[39;00m\u001b[39mtype\u001b[39m(\u001b[39mself\u001b[39m)\u001b[39m.\u001b[39m\u001b[39m__name__\u001b[39m\u001b[39m!r}\u001b[39;00m\u001b[39m object \u001b[39m\u001b[39m\"\u001b[39m\n\u001b[0;32m   1068\u001b[0m                                      \u001b[39mf\u001b[39m\u001b[39m\"\u001b[39m\u001b[39mhas no property \u001b[39m\u001b[39m{\u001b[39;00mk\u001b[39m!r}\u001b[39;00m\u001b[39m\"\u001b[39m)\n\u001b[0;32m   1069\u001b[0m             ret\u001b[39m.\u001b[39mappend(func(v))\n\u001b[0;32m   1070\u001b[0m \u001b[39mif\u001b[39;00m ret:\n",
      "\u001b[1;31mAttributeError\u001b[0m: 'Line2D' object has no property 'x_lim'"
     ]
    },
    {
     "data": {
      "image/png": "[encoded data removed]",
      "text/plain": [
       "<Figure size 640x480 with 1 Axes>"
      ]
     },
     "metadata": {},
     "output_type": "display_data"
    }
   ],
   "source": [
    "plt.plot(\n",
    "    axes,\n",
    "    x_lim=(0, 10), #max([len(rec) for rec in self.records.values()])),\n",
    "    with_ruler=(axes == axes[-1]),\n",
    ")"
   ]
  }
 ],
 "metadata": {
  "kernelspec": {
   "display_name": "thesis",
   "language": "python",
   "name": "thesis"
  },
  "language_info": {
   "codemirror_mode": {
    "name": "ipython",
    "version": 3
   },
   "file_extension": ".py",
   "mimetype": "text/x-python",
   "name": "python",
   "nbconvert_exporter": "python",
   "pygments_lexer": "ipython3",
   "version": "3.9.15"
  },
  "orig_nbformat": 4
 },
 "nbformat": 4,
 "nbformat_minor": 2
}
