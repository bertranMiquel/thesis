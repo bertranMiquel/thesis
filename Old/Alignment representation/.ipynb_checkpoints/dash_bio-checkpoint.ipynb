{
 "cells": [
  {
   "cell_type": "markdown",
   "metadata": {},
   "source": [
    "# Description\n",
    "In order to represent the gene alignments resulted of applying [Smith-Watermann]('../k_mers_rel_all.ipynb'), *dash-bio* package has a solution for it. Unfortunately, this function is created for nucleotides or aminoacid alignments read from *FASTA* or *Clustal* format files.  \n",
    "\n",
    "In this notebook, we try to adapt or find possible solutions for using this function and representation.\n",
    "\n",
    "*Reference: https://dash.plotly.com/dash-bio/alignmentchart* \n",
    "*Code repo: https://github.com/plotly/dash-bio/blob/master/dash_bio/AlignmentChart.py*"
   ]
  },
  {
   "cell_type": "code",
   "execution_count": 1,
   "metadata": {},
   "outputs": [],
   "source": [
    "import dash\n",
    "import dash_bio as dashbio\n",
    "from dash import html\n",
    "import urllib.request as urlreq\n",
    "from dash.dependencies import Input, Output\n",
    "import pandas as pd\n",
    "\n",
    "import sys\n",
    "# setting path\n",
    "sys.path.append('../') \n",
    "\n",
    "# importing\n",
    "from swco import preprocessing"
   ]
  },
  {
   "cell_type": "code",
   "execution_count": null,
   "metadata": {},
   "outputs": [],
   "source": [
    "human = pd.read_excel('C:/Users/bertr/LRZ Sync+Share/Thesis/Data/Raw/Tables_Filtered_IK.xlsx', 'Human')\n",
    "human['Specie'] = 'Human'\n"
   ]
  },
  {
   "cell_type": "code",
   "execution_count": null,
   "metadata": {},
   "outputs": [],
   "source": [
    "human = preprocessing(human)"
   ]
  },
  {
   "cell_type": "code",
   "execution_count": null,
   "metadata": {},
   "outputs": [],
   "source": [
    "human.info()"
   ]
  },
  {
   "cell_type": "code",
   "execution_count": null,
   "metadata": {},
   "outputs": [],
   "source": [
    "human['Gene_non_or'].astype(str)"
   ]
  },
  {
   "cell_type": "code",
   "execution_count": null,
   "metadata": {},
   "outputs": [],
   "source": [
    "def dataframe_series_to_string(df, series_name):\n",
    "    return df[series_name].astype(str).str.cat(sep='')"
   ]
  },
  {
   "cell_type": "code",
   "execution_count": null,
   "metadata": {},
   "outputs": [],
   "source": [
    "input_data = '>Sequence_1\\n' + dataframe_series_to_string(human.loc[human['Replicon Accession'].str.contains('NC_000001.11')], 'Gene_non_or')"
   ]
  },
  {
   "cell_type": "code",
   "execution_count": null,
   "metadata": {},
   "outputs": [],
   "source": [
    "'''\n",
    "alignment_data_no_quotes = [\n",
    "    [BTG;FMOD;PRELP;OPTC;ATP;-;-;ZC;SNRPE;SOX;ETNK;-;REN;-;GOLT;PLEKHA;PPP;PIK;MDM;LRRN;NFASC;CNTN;-;CNTN;TMEM;RBBP;DSTYK;TMCC;NUAK;KLHDC;LEMD;CDK;MFSD;ELK;SLC;NUCKS;RAB;SLC;PM;SLC;-;-;RAB;CTSE;-;-;AVPR;FAM],\n",
    "    [BTG;FMOD;PRELP;OPTC;ATP;LAX;ZBED;ZC;SNRPE;SOX;ETNK;ETNK;REN;KISS;GOLT;PLEKHA;PPP;PIK;MDM;LRRN;NFASC;NFASC;NFASC;CNTN;TMEM;RBBP;DSTYK;TMCC;NUAK;KLHDC;LEMD;CDK;MFSD;ELK;SLC;NUCKS;RAB;SLC;PM;SLC;SLC;SLC;RAB;CTSE;CTSE;C;AVPR;FAM]\n",
    "]\n",
    "'''\n"
   ]
  },
  {
   "cell_type": "code",
   "execution_count": null,
   "metadata": {},
   "outputs": [],
   "source": [
    "'''\n",
    "alignment_data = [    [        \"BTG\", \"FMOD\", \"PRELP\", \"OPTC\", \"ATP\", \"-\", \"-\", \"ZC\", \"SNRPE\", \"SOX\",        \"ETNK\", \"-\", \"REN\", \"-\", \"GOLT\", \"PLEKHA\", \"PPP\", \"PIK\", \"MDM\", \"LRRN\",        \"NFASC\", \"CNTN\", \"-\", \"CNTN\", \"TMEM\", \"RBBP\", \"DSTYK\", \"TMCC\", \"NUAK\",        \"KLHDC\", \"LEMD\", \"CDK\", \"MFSD\", \"ELK\", \"SLC\", \"NUCKS\", \"RAB\", \"SLC\", \"PM\",        \"SLC\", \"-\", \"-\", \"RAB\", \"CTSE\", \"-\", \"-\", \"AVPR\", \"FAM\"    ],\n",
    "    [        \"BTG\", \"FMOD\", \"PRELP\", \"OPTC\", \"ATP\", \"LAX\", \"ZBED\", \"ZC\", \"SNRPE\",        \"SOX\", \"ETNK\", \"ETNK\", \"REN\", \"KISS\", \"GOLT\", \"PLEKHA\", \"PPP\", \"PIK\",        \"MDM\", \"LRRN\", \"NFASC\", \"NFASC\", \"NFASC\", \"CNTN\", \"TMEM\", \"RBBP\", \"DSTYK\",        \"TMCC\", \"NUAK\", \"KLHDC\", \"LEMD\", \"CDK\", \"MFSD\", \"ELK\", \"SLC\", \"NUCKS\",        \"RAB\", \"SLC\", \"PM\", \"SLC\", \"SLC\", \"SLC\", \"RAB\", \"CTSE\", \"CTSE\", \"C\",        \"AVPR\", \"FAM\"]]\n",
    "'''"
   ]
  },
  {
   "cell_type": "code",
   "execution_count": null,
   "metadata": {},
   "outputs": [],
   "source": [
    "'''\n",
    "import pandas as pd\n",
    "data = pd.read_csv(\"../Data/Raw/alignment_test.csv\")\n",
    "'''"
   ]
  },
  {
   "cell_type": "code",
   "execution_count": null,
   "metadata": {},
   "outputs": [],
   "source": [
    "'''\n",
    "data=[{'id': 'Sequence 1', 'sequence': 'BTGFMODPRELPOPTCATP--ZCSNRPESOXETNK-REN-GOLTPLEKHAPPPPIKMDMLRRNNFASCCNTN-CNTNTMEMRBBPDSTYKTMCCNUAKKLHDCLEMDCDKMFSDELKSLCNUCKSRABSLCPMSLC--RABCTSE--AVPRFAM'},\n",
    "      {'id': 'Sequence 2', 'sequence': 'BTGFMODPRELPOPTCATPLAXZBEDZCSNRPESOXETNKETNKRENKISSGOLTPLEKHAPPPPIKMDMLRRNNFASCNFASCNFASCCNTNTMEMRBBPDSTYKTMCCNUAKKLHDCLEMDCDKMFSDELKSLCNUCKSRABSLCPMSLCSLCSLCRABCTSECTSECAVPRFAM'}]\n",
    "'''"
   ]
  },
  {
   "cell_type": "code",
   "execution_count": null,
   "metadata": {},
   "outputs": [],
   "source": [
    "# The file has to be closed!!\n",
    "\n",
    "data = open(\"C:/Users/bertr/LRZ Sync+Share/Thesis/Data/Raw/test.fasta\", \"r\")\n",
    "record = data.read()\n",
    "data.close()"
   ]
  },
  {
   "cell_type": "code",
   "execution_count": null,
   "metadata": {},
   "outputs": [],
   "source": [
    "record"
   ]
  },
  {
   "cell_type": "code",
   "execution_count": null,
   "metadata": {},
   "outputs": [],
   "source": [
    "input_data"
   ]
  },
  {
   "cell_type": "code",
   "execution_count": null,
   "metadata": {},
   "outputs": [],
   "source": [
    "app = dash.Dash(__name__)\n",
    "\n",
    "app.layout = html.Div([\n",
    "    dashbio.AlignmentChart(\n",
    "        id='my-default-alignment-viewer',\n",
    "        data=record,\n",
    "        height=900,\n",
    "        tilewidth=30,\n",
    "    ),\n",
    "    html.Div(id='default-alignment-viewer-output')\n",
    "])\n",
    "\n",
    "@app.callback(\n",
    "    Output('default-alignment-viewer-output', 'children'),\n",
    "    Input('my-default-alignment-viewer', 'eventDatum')\n",
    ")\n",
    "def update_output(value):\n",
    "    if value is None:\n",
    "        return 'No data.'\n",
    "    return str(value)\n",
    "\n",
    "if __name__ == '__main__':\n",
    "    app.run_server(debug=True)"
   ]
  },
  {
   "cell_type": "code",
   "execution_count": null,
   "metadata": {},
   "outputs": [],
   "source": [
    "%tb"
   ]
  },
  {
   "cell_type": "code",
   "execution_count": null,
   "metadata": {},
   "outputs": [],
   "source": []
  }
 ],
 "metadata": {
  "kernelspec": {
   "display_name": "Python 3 (ipykernel)",
   "language": "python",
   "name": "python3"
  },
  "language_info": {
   "codemirror_mode": {
    "name": "ipython",
    "version": 3
   },
   "file_extension": ".py",
   "mimetype": "text/x-python",
   "name": "python",
   "nbconvert_exporter": "python",
   "pygments_lexer": "ipython3",
   "version": "3.9.15"
  },
  "vscode": {
   "interpreter": {
    "hash": "c7ab25521b35298f0c482908cd2836fcd803c6b8449977de01eb4d32cc96d8dc"
   }
  }
 },
 "nbformat": 4,
 "nbformat_minor": 4
}
